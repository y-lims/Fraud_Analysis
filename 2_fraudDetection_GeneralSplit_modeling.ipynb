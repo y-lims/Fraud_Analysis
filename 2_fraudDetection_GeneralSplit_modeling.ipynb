{
 "cells": [
  {
   "cell_type": "markdown",
   "id": "59a81119",
   "metadata": {},
   "source": [
    "# Prerequisites"
   ]
  },
  {
   "cell_type": "markdown",
   "id": "78e85736",
   "metadata": {},
   "source": [
    "## Install Library"
   ]
  },
  {
   "cell_type": "code",
   "execution_count": 49,
   "id": "f4ba8a10",
   "metadata": {},
   "outputs": [
    {
     "name": "stdout",
     "output_type": "stream",
     "text": [
      "Requirement already satisfied: pandas<2.2.0,>=1.5.3 in /Library/Frameworks/Python.framework/Versions/3.11/lib/python3.11/site-packages (from -r requirements.txt (line 4)) (2.1.4)\n",
      "Requirement already satisfied: numpy<2.3.0,>=1.26.0 in /Library/Frameworks/Python.framework/Versions/3.11/lib/python3.11/site-packages (from -r requirements.txt (line 5)) (1.26.2)\n",
      "Requirement already satisfied: scipy<1.14.0,>=1.12.0 in /Library/Frameworks/Python.framework/Versions/3.11/lib/python3.11/site-packages (from -r requirements.txt (line 6)) (1.13.1)\n",
      "Requirement already satisfied: sqlalchemy<2.1.0,>=2.0.7 in /Library/Frameworks/Python.framework/Versions/3.11/lib/python3.11/site-packages (from -r requirements.txt (line 7)) (2.0.40)\n",
      "Requirement already satisfied: setuptools>=65.0.0 in /Library/Frameworks/Python.framework/Versions/3.11/lib/python3.11/site-packages (from -r requirements.txt (line 8)) (65.5.0)\n",
      "Requirement already satisfied: scikit-learn<1.7.0,>=1.4.0 in /Library/Frameworks/Python.framework/Versions/3.11/lib/python3.11/site-packages (from -r requirements.txt (line 11)) (1.6.1)\n",
      "Requirement already satisfied: joblib<1.4.0,>=1.2.0 in /Library/Frameworks/Python.framework/Versions/3.11/lib/python3.11/site-packages (from -r requirements.txt (line 12)) (1.2.0)\n",
      "Requirement already satisfied: matplotlib<3.8.0,>=3.7.0 in /Library/Frameworks/Python.framework/Versions/3.11/lib/python3.11/site-packages (from -r requirements.txt (line 13)) (3.7.5)\n",
      "Requirement already satisfied: seaborn<0.13.0,>=0.12.0 in /Library/Frameworks/Python.framework/Versions/3.11/lib/python3.11/site-packages (from -r requirements.txt (line 14)) (0.12.2)\n",
      "Requirement already satisfied: h2o<4.0.0,>=3.36.0.1 in /Library/Frameworks/Python.framework/Versions/3.11/lib/python3.11/site-packages (from -r requirements.txt (line 17)) (3.46.0.7)\n",
      "Requirement already satisfied: autogluon in /Library/Frameworks/Python.framework/Versions/3.11/lib/python3.11/site-packages (from -r requirements.txt (line 18)) (1.3.1)\n",
      "Requirement already satisfied: scikit-optimize<0.10.0,>=0.9.0 in /Library/Frameworks/Python.framework/Versions/3.11/lib/python3.11/site-packages (from -r requirements.txt (line 21)) (0.9.0)\n",
      "Requirement already satisfied: optuna<4.0.0,>=3.0.0 in /Library/Frameworks/Python.framework/Versions/3.11/lib/python3.11/site-packages (from -r requirements.txt (line 22)) (3.6.2)\n",
      "Requirement already satisfied: imbalanced-learn>=0.12.0 in /Library/Frameworks/Python.framework/Versions/3.11/lib/python3.11/site-packages (from -r requirements.txt (line 25)) (0.13.0)\n",
      "Requirement already satisfied: python-dateutil==2.8.2 in /Users/thanyalak/Library/Python/3.11/lib/python/site-packages (from -r requirements.txt (line 28)) (2.8.2)\n",
      "Requirement already satisfied: pytz>=2022.7.1 in /Library/Frameworks/Python.framework/Versions/3.11/lib/python3.11/site-packages (from -r requirements.txt (line 29)) (2023.3.post1)\n",
      "Requirement already satisfied: geopy<2.4.0,>=2.3.0 in /Library/Frameworks/Python.framework/Versions/3.11/lib/python3.11/site-packages (from -r requirements.txt (line 32)) (2.3.0)\n",
      "Requirement already satisfied: plotly<5.19.0,>=5.9.0 in /Library/Frameworks/Python.framework/Versions/3.11/lib/python3.11/site-packages (from -r requirements.txt (line 35)) (5.18.0)\n",
      "Requirement already satisfied: virtualenv<21.0.0,>=20.17.1 in /Library/Frameworks/Python.framework/Versions/3.11/lib/python3.11/site-packages (from -r requirements.txt (line 38)) (20.30.0)\n",
      "Requirement already satisfied: six>=1.5 in /Users/thanyalak/Library/Python/3.11/lib/python/site-packages (from python-dateutil==2.8.2->-r requirements.txt (line 28)) (1.16.0)\n",
      "Requirement already satisfied: tzdata>=2022.1 in /Library/Frameworks/Python.framework/Versions/3.11/lib/python3.11/site-packages (from pandas<2.2.0,>=1.5.3->-r requirements.txt (line 4)) (2023.3)\n",
      "Requirement already satisfied: typing-extensions>=4.6.0 in /Library/Frameworks/Python.framework/Versions/3.11/lib/python3.11/site-packages (from sqlalchemy<2.1.0,>=2.0.7->-r requirements.txt (line 7)) (4.12.2)\n",
      "Requirement already satisfied: threadpoolctl>=3.1.0 in /Library/Frameworks/Python.framework/Versions/3.11/lib/python3.11/site-packages (from scikit-learn<1.7.0,>=1.4.0->-r requirements.txt (line 11)) (3.2.0)\n",
      "Requirement already satisfied: contourpy>=1.0.1 in /Library/Frameworks/Python.framework/Versions/3.11/lib/python3.11/site-packages (from matplotlib<3.8.0,>=3.7.0->-r requirements.txt (line 13)) (1.2.0)\n",
      "Requirement already satisfied: cycler>=0.10 in /Library/Frameworks/Python.framework/Versions/3.11/lib/python3.11/site-packages (from matplotlib<3.8.0,>=3.7.0->-r requirements.txt (line 13)) (0.12.1)\n",
      "Requirement already satisfied: fonttools>=4.22.0 in /Library/Frameworks/Python.framework/Versions/3.11/lib/python3.11/site-packages (from matplotlib<3.8.0,>=3.7.0->-r requirements.txt (line 13)) (4.47.0)\n",
      "Requirement already satisfied: kiwisolver>=1.0.1 in /Library/Frameworks/Python.framework/Versions/3.11/lib/python3.11/site-packages (from matplotlib<3.8.0,>=3.7.0->-r requirements.txt (line 13)) (1.4.5)\n",
      "Requirement already satisfied: packaging>=20.0 in /Users/thanyalak/Library/Python/3.11/lib/python/site-packages (from matplotlib<3.8.0,>=3.7.0->-r requirements.txt (line 13)) (23.2)\n",
      "Requirement already satisfied: pillow>=6.2.0 in /Library/Frameworks/Python.framework/Versions/3.11/lib/python3.11/site-packages (from matplotlib<3.8.0,>=3.7.0->-r requirements.txt (line 13)) (10.1.0)\n",
      "Requirement already satisfied: pyparsing>=2.3.1 in /Library/Frameworks/Python.framework/Versions/3.11/lib/python3.11/site-packages (from matplotlib<3.8.0,>=3.7.0->-r requirements.txt (line 13)) (3.1.1)\n",
      "Requirement already satisfied: requests in /Library/Frameworks/Python.framework/Versions/3.11/lib/python3.11/site-packages (from h2o<4.0.0,>=3.36.0.1->-r requirements.txt (line 17)) (2.32.3)\n",
      "Requirement already satisfied: python-dateutil==2.8.2 in /Users/thanyalak/Library/Python/3.11/lib/python/site-packages (from -r requirements.txt (line 28)) (2.8.2)\n",
      "Requirement already satisfied: pytz>=2022.7.1 in /Library/Frameworks/Python.framework/Versions/3.11/lib/python3.11/site-packages (from -r requirements.txt (line 29)) (2023.3.post1)\n",
      "Requirement already satisfied: geopy<2.4.0,>=2.3.0 in /Library/Frameworks/Python.framework/Versions/3.11/lib/python3.11/site-packages (from -r requirements.txt (line 32)) (2.3.0)\n",
      "Requirement already satisfied: plotly<5.19.0,>=5.9.0 in /Library/Frameworks/Python.framework/Versions/3.11/lib/python3.11/site-packages (from -r requirements.txt (line 35)) (5.18.0)\n",
      "Requirement already satisfied: virtualenv<21.0.0,>=20.17.1 in /Library/Frameworks/Python.framework/Versions/3.11/lib/python3.11/site-packages (from -r requirements.txt (line 38)) (20.30.0)\n",
      "Requirement already satisfied: six>=1.5 in /Users/thanyalak/Library/Python/3.11/lib/python/site-packages (from python-dateutil==2.8.2->-r requirements.txt (line 28)) (1.16.0)\n",
      "Requirement already satisfied: tzdata>=2022.1 in /Library/Frameworks/Python.framework/Versions/3.11/lib/python3.11/site-packages (from pandas<2.2.0,>=1.5.3->-r requirements.txt (line 4)) (2023.3)\n",
      "Requirement already satisfied: typing-extensions>=4.6.0 in /Library/Frameworks/Python.framework/Versions/3.11/lib/python3.11/site-packages (from sqlalchemy<2.1.0,>=2.0.7->-r requirements.txt (line 7)) (4.12.2)\n",
      "Requirement already satisfied: threadpoolctl>=3.1.0 in /Library/Frameworks/Python.framework/Versions/3.11/lib/python3.11/site-packages (from scikit-learn<1.7.0,>=1.4.0->-r requirements.txt (line 11)) (3.2.0)\n",
      "Requirement already satisfied: contourpy>=1.0.1 in /Library/Frameworks/Python.framework/Versions/3.11/lib/python3.11/site-packages (from matplotlib<3.8.0,>=3.7.0->-r requirements.txt (line 13)) (1.2.0)\n",
      "Requirement already satisfied: cycler>=0.10 in /Library/Frameworks/Python.framework/Versions/3.11/lib/python3.11/site-packages (from matplotlib<3.8.0,>=3.7.0->-r requirements.txt (line 13)) (0.12.1)\n",
      "Requirement already satisfied: fonttools>=4.22.0 in /Library/Frameworks/Python.framework/Versions/3.11/lib/python3.11/site-packages (from matplotlib<3.8.0,>=3.7.0->-r requirements.txt (line 13)) (4.47.0)\n",
      "Requirement already satisfied: kiwisolver>=1.0.1 in /Library/Frameworks/Python.framework/Versions/3.11/lib/python3.11/site-packages (from matplotlib<3.8.0,>=3.7.0->-r requirements.txt (line 13)) (1.4.5)\n",
      "Requirement already satisfied: packaging>=20.0 in /Users/thanyalak/Library/Python/3.11/lib/python/site-packages (from matplotlib<3.8.0,>=3.7.0->-r requirements.txt (line 13)) (23.2)\n",
      "Requirement already satisfied: pillow>=6.2.0 in /Library/Frameworks/Python.framework/Versions/3.11/lib/python3.11/site-packages (from matplotlib<3.8.0,>=3.7.0->-r requirements.txt (line 13)) (10.1.0)\n",
      "Requirement already satisfied: pyparsing>=2.3.1 in /Library/Frameworks/Python.framework/Versions/3.11/lib/python3.11/site-packages (from matplotlib<3.8.0,>=3.7.0->-r requirements.txt (line 13)) (3.1.1)\n",
      "Requirement already satisfied: requests in /Library/Frameworks/Python.framework/Versions/3.11/lib/python3.11/site-packages (from h2o<4.0.0,>=3.36.0.1->-r requirements.txt (line 17)) (2.32.3)\n",
      "Requirement already satisfied: tabulate in /Library/Frameworks/Python.framework/Versions/3.11/lib/python3.11/site-packages (from h2o<4.0.0,>=3.36.0.1->-r requirements.txt (line 17)) (0.9.0)\n",
      "Requirement already satisfied: autogluon.core==1.3.1 in /Library/Frameworks/Python.framework/Versions/3.11/lib/python3.11/site-packages (from autogluon.core[all]==1.3.1->autogluon->-r requirements.txt (line 18)) (1.3.1)\n",
      "Requirement already satisfied: autogluon.features==1.3.1 in /Library/Frameworks/Python.framework/Versions/3.11/lib/python3.11/site-packages (from autogluon->-r requirements.txt (line 18)) (1.3.1)\n",
      "Requirement already satisfied: autogluon.tabular==1.3.1 in /Library/Frameworks/Python.framework/Versions/3.11/lib/python3.11/site-packages (from autogluon.tabular[all]==1.3.1->autogluon->-r requirements.txt (line 18)) (1.3.1)\n",
      "Requirement already satisfied: autogluon.multimodal==1.3.1 in /Library/Frameworks/Python.framework/Versions/3.11/lib/python3.11/site-packages (from autogluon->-r requirements.txt (line 18)) (1.3.1)\n",
      "Requirement already satisfied: autogluon.timeseries==1.3.1 in /Library/Frameworks/Python.framework/Versions/3.11/lib/python3.11/site-packages (from autogluon.timeseries[all]==1.3.1->autogluon->-r requirements.txt (line 18)) (1.3.1)\n",
      "Requirement already satisfied: networkx<4,>=3.0 in /Library/Frameworks/Python.framework/Versions/3.11/lib/python3.11/site-packages (from autogluon.core==1.3.1->autogluon.core[all]==1.3.1->autogluon->-r requirements.txt (line 18)) (3.4.2)\n",
      "Requirement already satisfied: tqdm<5,>=4.38 in /Library/Frameworks/Python.framework/Versions/3.11/lib/python3.11/site-packages (from autogluon.core==1.3.1->autogluon.core[all]==1.3.1->autogluon->-r requirements.txt (line 18)) (4.67.1)\n",
      "Requirement already satisfied: boto3<2,>=1.10 in /Library/Frameworks/Python.framework/Versions/3.11/lib/python3.11/site-packages (from autogluon.core==1.3.1->autogluon.core[all]==1.3.1->autogluon->-r requirements.txt (line 18)) (1.39.3)\n",
      "Requirement already satisfied: autogluon.common==1.3.1 in /Library/Frameworks/Python.framework/Versions/3.11/lib/python3.11/site-packages (from autogluon.core==1.3.1->autogluon.core[all]==1.3.1->autogluon->-r requirements.txt (line 18)) (1.3.1)\n",
      "Requirement already satisfied: ray<2.45,>=2.10.0 in /Library/Frameworks/Python.framework/Versions/3.11/lib/python3.11/site-packages (from ray[default]<2.45,>=2.10.0; extra == \"all\"->autogluon.core[all]==1.3.1->autogluon->-r requirements.txt (line 18)) (2.44.1)\n",
      "Requirement already satisfied: hyperopt<0.2.8,>=0.2.7 in /Library/Frameworks/Python.framework/Versions/3.11/lib/python3.11/site-packages (from autogluon.core[all]==1.3.1->autogluon->-r requirements.txt (line 18)) (0.2.7)\n",
      "Requirement already satisfied: pyarrow>=15.0.0 in /Library/Frameworks/Python.framework/Versions/3.11/lib/python3.11/site-packages (from autogluon.core[all]==1.3.1->autogluon->-r requirements.txt (line 18)) (18.1.0)\n",
      "Requirement already satisfied: torch<2.7,>=2.2 in /Library/Frameworks/Python.framework/Versions/3.11/lib/python3.11/site-packages (from autogluon.multimodal==1.3.1->autogluon->-r requirements.txt (line 18)) (2.6.0)\n",
      "Requirement already satisfied: lightning<2.7,>=2.2 in /Library/Frameworks/Python.framework/Versions/3.11/lib/python3.11/site-packages (from autogluon.multimodal==1.3.1->autogluon->-r requirements.txt (line 18)) (2.5.2)\n",
      "Requirement already satisfied: transformers<4.50,>=4.38.0 in /Library/Frameworks/Python.framework/Versions/3.11/lib/python3.11/site-packages (from transformers[sentencepiece]<4.50,>=4.38.0->autogluon.multimodal==1.3.1->autogluon->-r requirements.txt (line 18)) (4.46.3)\n",
      "Requirement already satisfied: accelerate<2.0,>=0.34.0 in /Library/Frameworks/Python.framework/Versions/3.11/lib/python3.11/site-packages (from autogluon.multimodal==1.3.1->autogluon->-r requirements.txt (line 18)) (1.8.1)\n",
      "Requirement already satisfied: jsonschema<4.24,>=4.18 in /Library/Frameworks/Python.framework/Versions/3.11/lib/python3.11/site-packages (from autogluon.multimodal==1.3.1->autogluon->-r requirements.txt (line 18)) (4.23.0)\n",
      "Requirement already satisfied: seqeval<1.3.0,>=1.2.2 in /Library/Frameworks/Python.framework/Versions/3.11/lib/python3.11/site-packages (from autogluon.multimodal==1.3.1->autogluon->-r requirements.txt (line 18)) (1.2.2)\n",
      "Requirement already satisfied: evaluate<0.5.0,>=0.4.0 in /Library/Frameworks/Python.framework/Versions/3.11/lib/python3.11/site-packages (from autogluon.multimodal==1.3.1->autogluon->-r requirements.txt (line 18)) (0.4.4)\n",
      "Requirement already satisfied: timm<1.0.7,>=0.9.5 in /Library/Frameworks/Python.framework/Versions/3.11/lib/python3.11/site-packages (from autogluon.multimodal==1.3.1->autogluon->-r requirements.txt (line 18)) (1.0.3)\n",
      "Requirement already satisfied: torchvision<0.22.0,>=0.16.0 in /Library/Frameworks/Python.framework/Versions/3.11/lib/python3.11/site-packages (from autogluon.multimodal==1.3.1->autogluon->-r requirements.txt (line 18)) (0.21.0)\n",
      "Requirement already satisfied: scikit-image<0.26.0,>=0.19.1 in /Library/Frameworks/Python.framework/Versions/3.11/lib/python3.11/site-packages (from autogluon.multimodal==1.3.1->autogluon->-r requirements.txt (line 18)) (0.25.2)\n",
      "Requirement already satisfied: text-unidecode<1.4,>=1.3 in /Library/Frameworks/Python.framework/Versions/3.11/lib/python3.11/site-packages (from autogluon.multimodal==1.3.1->autogluon->-r requirements.txt (line 18)) (1.3)\n",
      "Requirement already satisfied: torchmetrics<1.8,>=1.2.0 in /Library/Frameworks/Python.framework/Versions/3.11/lib/python3.11/site-packages (from autogluon.multimodal==1.3.1->autogluon->-r requirements.txt (line 18)) (1.7.4)\n",
      "Requirement already satisfied: omegaconf<2.4.0,>=2.1.1 in /Library/Frameworks/Python.framework/Versions/3.11/lib/python3.11/site-packages (from autogluon.multimodal==1.3.1->autogluon->-r requirements.txt (line 18)) (2.3.0)\n",
      "Requirement already satisfied: pytorch-metric-learning<2.9,>=1.3.0 in /Library/Frameworks/Python.framework/Versions/3.11/lib/python3.11/site-packages (from autogluon.multimodal==1.3.1->autogluon->-r requirements.txt (line 18)) (2.8.1)\n",
      "Requirement already satisfied: nlpaug<1.2.0,>=1.1.10 in /Library/Frameworks/Python.framework/Versions/3.11/lib/python3.11/site-packages (from autogluon.multimodal==1.3.1->autogluon->-r requirements.txt (line 18)) (1.1.11)\n",
      "Requirement already satisfied: nltk<3.9,>=3.4.5 in /Library/Frameworks/Python.framework/Versions/3.11/lib/python3.11/site-packages (from autogluon.multimodal==1.3.1->autogluon->-r requirements.txt (line 18)) (3.8.1)\n",
      "Requirement already satisfied: openmim<0.4.0,>=0.3.7 in /Library/Frameworks/Python.framework/Versions/3.11/lib/python3.11/site-packages (from autogluon.multimodal==1.3.1->autogluon->-r requirements.txt (line 18)) (0.3.9)\n",
      "Requirement already satisfied: defusedxml<0.7.2,>=0.7.1 in /Library/Frameworks/Python.framework/Versions/3.11/lib/python3.11/site-packages (from autogluon.multimodal==1.3.1->autogluon->-r requirements.txt (line 18)) (0.7.1)\n",
      "Requirement already satisfied: jinja2<3.2,>=3.0.3 in /Library/Frameworks/Python.framework/Versions/3.11/lib/python3.11/site-packages (from autogluon.multimodal==1.3.1->autogluon->-r requirements.txt (line 18)) (3.1.4)\n",
      "Requirement already satisfied: tensorboard<3,>=2.9 in /Library/Frameworks/Python.framework/Versions/3.11/lib/python3.11/site-packages (from autogluon.multimodal==1.3.1->autogluon->-r requirements.txt (line 18)) (2.18.0)\n",
      "Requirement already satisfied: pytesseract<0.4,>=0.3.9 in /Library/Frameworks/Python.framework/Versions/3.11/lib/python3.11/site-packages (from autogluon.multimodal==1.3.1->autogluon->-r requirements.txt (line 18)) (0.3.13)\n",
      "Requirement already satisfied: nvidia-ml-py3<8.0,>=7.352.0 in /Library/Frameworks/Python.framework/Versions/3.11/lib/python3.11/site-packages (from autogluon.multimodal==1.3.1->autogluon->-r requirements.txt (line 18)) (7.352.0)\n",
      "Requirement already satisfied: pdf2image<1.19,>=1.17.0 in /Library/Frameworks/Python.framework/Versions/3.11/lib/python3.11/site-packages (from autogluon.multimodal==1.3.1->autogluon->-r requirements.txt (line 18)) (1.17.0)\n",
      "Requirement already satisfied: catboost<1.3,>=1.2 in /Library/Frameworks/Python.framework/Versions/3.11/lib/python3.11/site-packages (from autogluon.tabular[all]==1.3.1->autogluon->-r requirements.txt (line 18)) (1.2.8)\n",
      "Requirement already satisfied: einops<0.9,>=0.7 in /Library/Frameworks/Python.framework/Versions/3.11/lib/python3.11/site-packages (from autogluon.tabular[all]==1.3.1->autogluon->-r requirements.txt (line 18)) (0.8.1)\n",
      "Requirement already satisfied: xgboost<3.1,>=2.0 in /Library/Frameworks/Python.framework/Versions/3.11/lib/python3.11/site-packages (from autogluon.tabular[all]==1.3.1->autogluon->-r requirements.txt (line 18)) (3.0.2)\n",
      "Requirement already satisfied: fastai<2.9,>=2.3.1 in /Library/Frameworks/Python.framework/Versions/3.11/lib/python3.11/site-packages (from autogluon.tabular[all]==1.3.1->autogluon->-r requirements.txt (line 18)) (2.8.2)\n",
      "Requirement already satisfied: huggingface-hub[torch] in /Library/Frameworks/Python.framework/Versions/3.11/lib/python3.11/site-packages (from autogluon.tabular[all]==1.3.1->autogluon->-r requirements.txt (line 18)) (0.26.3)\n",
      "Requirement already satisfied: lightgbm<4.7,>=4.0 in /Library/Frameworks/Python.framework/Versions/3.11/lib/python3.11/site-packages (from autogluon.tabular[all]==1.3.1->autogluon->-r requirements.txt (line 18)) (4.6.0)\n",
      "Requirement already satisfied: spacy<3.9 in /Library/Frameworks/Python.framework/Versions/3.11/lib/python3.11/site-packages (from autogluon.tabular[all]==1.3.1->autogluon->-r requirements.txt (line 18)) (3.8.7)\n",
      "Requirement already satisfied: pytorch-lightning in /Library/Frameworks/Python.framework/Versions/3.11/lib/python3.11/site-packages (from autogluon.timeseries==1.3.1->autogluon.timeseries[all]==1.3.1->autogluon->-r requirements.txt (line 18)) (2.5.2)\n",
      "Requirement already satisfied: gluonts<0.17,>=0.15.0 in /Library/Frameworks/Python.framework/Versions/3.11/lib/python3.11/site-packages (from autogluon.timeseries==1.3.1->autogluon.timeseries[all]==1.3.1->autogluon->-r requirements.txt (line 18)) (0.16.2)\n",
      "Requirement already satisfied: statsforecast<2.0.2,>=1.7.0 in /Library/Frameworks/Python.framework/Versions/3.11/lib/python3.11/site-packages (from autogluon.timeseries==1.3.1->autogluon.timeseries[all]==1.3.1->autogluon->-r requirements.txt (line 18)) (2.0.1)\n",
      "Requirement already satisfied: mlforecast<0.14,>0.13 in /Library/Frameworks/Python.framework/Versions/3.11/lib/python3.11/site-packages (from autogluon.timeseries==1.3.1->autogluon.timeseries[all]==1.3.1->autogluon->-r requirements.txt (line 18)) (0.13.6)\n",
      "Requirement already satisfied: utilsforecast<0.2.11,>=0.2.3 in /Library/Frameworks/Python.framework/Versions/3.11/lib/python3.11/site-packages (from autogluon.timeseries==1.3.1->autogluon.timeseries[all]==1.3.1->autogluon->-r requirements.txt (line 18)) (0.2.10)\n",
      "Requirement already satisfied: coreforecast<0.0.16,>=0.0.12 in /Library/Frameworks/Python.framework/Versions/3.11/lib/python3.11/site-packages (from autogluon.timeseries==1.3.1->autogluon.timeseries[all]==1.3.1->autogluon->-r requirements.txt (line 18)) (0.0.15)\n",
      "Requirement already satisfied: fugue>=0.9.0 in /Library/Frameworks/Python.framework/Versions/3.11/lib/python3.11/site-packages (from autogluon.timeseries==1.3.1->autogluon.timeseries[all]==1.3.1->autogluon->-r requirements.txt (line 18)) (0.9.1)\n",
      "Requirement already satisfied: orjson~=3.9 in /Library/Frameworks/Python.framework/Versions/3.11/lib/python3.11/site-packages (from autogluon.timeseries==1.3.1->autogluon.timeseries[all]==1.3.1->autogluon->-r requirements.txt (line 18)) (3.10.18)\n",
      "Requirement already satisfied: tabulate in /Library/Frameworks/Python.framework/Versions/3.11/lib/python3.11/site-packages (from h2o<4.0.0,>=3.36.0.1->-r requirements.txt (line 17)) (0.9.0)\n",
      "Requirement already satisfied: autogluon.core==1.3.1 in /Library/Frameworks/Python.framework/Versions/3.11/lib/python3.11/site-packages (from autogluon.core[all]==1.3.1->autogluon->-r requirements.txt (line 18)) (1.3.1)\n",
      "Requirement already satisfied: autogluon.features==1.3.1 in /Library/Frameworks/Python.framework/Versions/3.11/lib/python3.11/site-packages (from autogluon->-r requirements.txt (line 18)) (1.3.1)\n",
      "Requirement already satisfied: autogluon.tabular==1.3.1 in /Library/Frameworks/Python.framework/Versions/3.11/lib/python3.11/site-packages (from autogluon.tabular[all]==1.3.1->autogluon->-r requirements.txt (line 18)) (1.3.1)\n",
      "Requirement already satisfied: autogluon.multimodal==1.3.1 in /Library/Frameworks/Python.framework/Versions/3.11/lib/python3.11/site-packages (from autogluon->-r requirements.txt (line 18)) (1.3.1)\n",
      "Requirement already satisfied: autogluon.timeseries==1.3.1 in /Library/Frameworks/Python.framework/Versions/3.11/lib/python3.11/site-packages (from autogluon.timeseries[all]==1.3.1->autogluon->-r requirements.txt (line 18)) (1.3.1)\n",
      "Requirement already satisfied: networkx<4,>=3.0 in /Library/Frameworks/Python.framework/Versions/3.11/lib/python3.11/site-packages (from autogluon.core==1.3.1->autogluon.core[all]==1.3.1->autogluon->-r requirements.txt (line 18)) (3.4.2)\n",
      "Requirement already satisfied: tqdm<5,>=4.38 in /Library/Frameworks/Python.framework/Versions/3.11/lib/python3.11/site-packages (from autogluon.core==1.3.1->autogluon.core[all]==1.3.1->autogluon->-r requirements.txt (line 18)) (4.67.1)\n",
      "Requirement already satisfied: boto3<2,>=1.10 in /Library/Frameworks/Python.framework/Versions/3.11/lib/python3.11/site-packages (from autogluon.core==1.3.1->autogluon.core[all]==1.3.1->autogluon->-r requirements.txt (line 18)) (1.39.3)\n",
      "Requirement already satisfied: autogluon.common==1.3.1 in /Library/Frameworks/Python.framework/Versions/3.11/lib/python3.11/site-packages (from autogluon.core==1.3.1->autogluon.core[all]==1.3.1->autogluon->-r requirements.txt (line 18)) (1.3.1)\n",
      "Requirement already satisfied: ray<2.45,>=2.10.0 in /Library/Frameworks/Python.framework/Versions/3.11/lib/python3.11/site-packages (from ray[default]<2.45,>=2.10.0; extra == \"all\"->autogluon.core[all]==1.3.1->autogluon->-r requirements.txt (line 18)) (2.44.1)\n",
      "Requirement already satisfied: hyperopt<0.2.8,>=0.2.7 in /Library/Frameworks/Python.framework/Versions/3.11/lib/python3.11/site-packages (from autogluon.core[all]==1.3.1->autogluon->-r requirements.txt (line 18)) (0.2.7)\n",
      "Requirement already satisfied: pyarrow>=15.0.0 in /Library/Frameworks/Python.framework/Versions/3.11/lib/python3.11/site-packages (from autogluon.core[all]==1.3.1->autogluon->-r requirements.txt (line 18)) (18.1.0)\n",
      "Requirement already satisfied: torch<2.7,>=2.2 in /Library/Frameworks/Python.framework/Versions/3.11/lib/python3.11/site-packages (from autogluon.multimodal==1.3.1->autogluon->-r requirements.txt (line 18)) (2.6.0)\n",
      "Requirement already satisfied: lightning<2.7,>=2.2 in /Library/Frameworks/Python.framework/Versions/3.11/lib/python3.11/site-packages (from autogluon.multimodal==1.3.1->autogluon->-r requirements.txt (line 18)) (2.5.2)\n",
      "Requirement already satisfied: transformers<4.50,>=4.38.0 in /Library/Frameworks/Python.framework/Versions/3.11/lib/python3.11/site-packages (from transformers[sentencepiece]<4.50,>=4.38.0->autogluon.multimodal==1.3.1->autogluon->-r requirements.txt (line 18)) (4.46.3)\n",
      "Requirement already satisfied: accelerate<2.0,>=0.34.0 in /Library/Frameworks/Python.framework/Versions/3.11/lib/python3.11/site-packages (from autogluon.multimodal==1.3.1->autogluon->-r requirements.txt (line 18)) (1.8.1)\n",
      "Requirement already satisfied: jsonschema<4.24,>=4.18 in /Library/Frameworks/Python.framework/Versions/3.11/lib/python3.11/site-packages (from autogluon.multimodal==1.3.1->autogluon->-r requirements.txt (line 18)) (4.23.0)\n",
      "Requirement already satisfied: seqeval<1.3.0,>=1.2.2 in /Library/Frameworks/Python.framework/Versions/3.11/lib/python3.11/site-packages (from autogluon.multimodal==1.3.1->autogluon->-r requirements.txt (line 18)) (1.2.2)\n",
      "Requirement already satisfied: evaluate<0.5.0,>=0.4.0 in /Library/Frameworks/Python.framework/Versions/3.11/lib/python3.11/site-packages (from autogluon.multimodal==1.3.1->autogluon->-r requirements.txt (line 18)) (0.4.4)\n",
      "Requirement already satisfied: timm<1.0.7,>=0.9.5 in /Library/Frameworks/Python.framework/Versions/3.11/lib/python3.11/site-packages (from autogluon.multimodal==1.3.1->autogluon->-r requirements.txt (line 18)) (1.0.3)\n",
      "Requirement already satisfied: torchvision<0.22.0,>=0.16.0 in /Library/Frameworks/Python.framework/Versions/3.11/lib/python3.11/site-packages (from autogluon.multimodal==1.3.1->autogluon->-r requirements.txt (line 18)) (0.21.0)\n",
      "Requirement already satisfied: scikit-image<0.26.0,>=0.19.1 in /Library/Frameworks/Python.framework/Versions/3.11/lib/python3.11/site-packages (from autogluon.multimodal==1.3.1->autogluon->-r requirements.txt (line 18)) (0.25.2)\n",
      "Requirement already satisfied: text-unidecode<1.4,>=1.3 in /Library/Frameworks/Python.framework/Versions/3.11/lib/python3.11/site-packages (from autogluon.multimodal==1.3.1->autogluon->-r requirements.txt (line 18)) (1.3)\n",
      "Requirement already satisfied: torchmetrics<1.8,>=1.2.0 in /Library/Frameworks/Python.framework/Versions/3.11/lib/python3.11/site-packages (from autogluon.multimodal==1.3.1->autogluon->-r requirements.txt (line 18)) (1.7.4)\n",
      "Requirement already satisfied: omegaconf<2.4.0,>=2.1.1 in /Library/Frameworks/Python.framework/Versions/3.11/lib/python3.11/site-packages (from autogluon.multimodal==1.3.1->autogluon->-r requirements.txt (line 18)) (2.3.0)\n",
      "Requirement already satisfied: pytorch-metric-learning<2.9,>=1.3.0 in /Library/Frameworks/Python.framework/Versions/3.11/lib/python3.11/site-packages (from autogluon.multimodal==1.3.1->autogluon->-r requirements.txt (line 18)) (2.8.1)\n",
      "Requirement already satisfied: nlpaug<1.2.0,>=1.1.10 in /Library/Frameworks/Python.framework/Versions/3.11/lib/python3.11/site-packages (from autogluon.multimodal==1.3.1->autogluon->-r requirements.txt (line 18)) (1.1.11)\n",
      "Requirement already satisfied: nltk<3.9,>=3.4.5 in /Library/Frameworks/Python.framework/Versions/3.11/lib/python3.11/site-packages (from autogluon.multimodal==1.3.1->autogluon->-r requirements.txt (line 18)) (3.8.1)\n",
      "Requirement already satisfied: openmim<0.4.0,>=0.3.7 in /Library/Frameworks/Python.framework/Versions/3.11/lib/python3.11/site-packages (from autogluon.multimodal==1.3.1->autogluon->-r requirements.txt (line 18)) (0.3.9)\n",
      "Requirement already satisfied: defusedxml<0.7.2,>=0.7.1 in /Library/Frameworks/Python.framework/Versions/3.11/lib/python3.11/site-packages (from autogluon.multimodal==1.3.1->autogluon->-r requirements.txt (line 18)) (0.7.1)\n",
      "Requirement already satisfied: jinja2<3.2,>=3.0.3 in /Library/Frameworks/Python.framework/Versions/3.11/lib/python3.11/site-packages (from autogluon.multimodal==1.3.1->autogluon->-r requirements.txt (line 18)) (3.1.4)\n",
      "Requirement already satisfied: tensorboard<3,>=2.9 in /Library/Frameworks/Python.framework/Versions/3.11/lib/python3.11/site-packages (from autogluon.multimodal==1.3.1->autogluon->-r requirements.txt (line 18)) (2.18.0)\n",
      "Requirement already satisfied: pytesseract<0.4,>=0.3.9 in /Library/Frameworks/Python.framework/Versions/3.11/lib/python3.11/site-packages (from autogluon.multimodal==1.3.1->autogluon->-r requirements.txt (line 18)) (0.3.13)\n",
      "Requirement already satisfied: nvidia-ml-py3<8.0,>=7.352.0 in /Library/Frameworks/Python.framework/Versions/3.11/lib/python3.11/site-packages (from autogluon.multimodal==1.3.1->autogluon->-r requirements.txt (line 18)) (7.352.0)\n",
      "Requirement already satisfied: pdf2image<1.19,>=1.17.0 in /Library/Frameworks/Python.framework/Versions/3.11/lib/python3.11/site-packages (from autogluon.multimodal==1.3.1->autogluon->-r requirements.txt (line 18)) (1.17.0)\n",
      "Requirement already satisfied: catboost<1.3,>=1.2 in /Library/Frameworks/Python.framework/Versions/3.11/lib/python3.11/site-packages (from autogluon.tabular[all]==1.3.1->autogluon->-r requirements.txt (line 18)) (1.2.8)\n",
      "Requirement already satisfied: einops<0.9,>=0.7 in /Library/Frameworks/Python.framework/Versions/3.11/lib/python3.11/site-packages (from autogluon.tabular[all]==1.3.1->autogluon->-r requirements.txt (line 18)) (0.8.1)\n",
      "Requirement already satisfied: xgboost<3.1,>=2.0 in /Library/Frameworks/Python.framework/Versions/3.11/lib/python3.11/site-packages (from autogluon.tabular[all]==1.3.1->autogluon->-r requirements.txt (line 18)) (3.0.2)\n",
      "Requirement already satisfied: fastai<2.9,>=2.3.1 in /Library/Frameworks/Python.framework/Versions/3.11/lib/python3.11/site-packages (from autogluon.tabular[all]==1.3.1->autogluon->-r requirements.txt (line 18)) (2.8.2)\n",
      "Requirement already satisfied: huggingface-hub[torch] in /Library/Frameworks/Python.framework/Versions/3.11/lib/python3.11/site-packages (from autogluon.tabular[all]==1.3.1->autogluon->-r requirements.txt (line 18)) (0.26.3)\n",
      "Requirement already satisfied: lightgbm<4.7,>=4.0 in /Library/Frameworks/Python.framework/Versions/3.11/lib/python3.11/site-packages (from autogluon.tabular[all]==1.3.1->autogluon->-r requirements.txt (line 18)) (4.6.0)\n",
      "Requirement already satisfied: spacy<3.9 in /Library/Frameworks/Python.framework/Versions/3.11/lib/python3.11/site-packages (from autogluon.tabular[all]==1.3.1->autogluon->-r requirements.txt (line 18)) (3.8.7)\n",
      "Requirement already satisfied: pytorch-lightning in /Library/Frameworks/Python.framework/Versions/3.11/lib/python3.11/site-packages (from autogluon.timeseries==1.3.1->autogluon.timeseries[all]==1.3.1->autogluon->-r requirements.txt (line 18)) (2.5.2)\n",
      "Requirement already satisfied: gluonts<0.17,>=0.15.0 in /Library/Frameworks/Python.framework/Versions/3.11/lib/python3.11/site-packages (from autogluon.timeseries==1.3.1->autogluon.timeseries[all]==1.3.1->autogluon->-r requirements.txt (line 18)) (0.16.2)\n",
      "Requirement already satisfied: statsforecast<2.0.2,>=1.7.0 in /Library/Frameworks/Python.framework/Versions/3.11/lib/python3.11/site-packages (from autogluon.timeseries==1.3.1->autogluon.timeseries[all]==1.3.1->autogluon->-r requirements.txt (line 18)) (2.0.1)\n",
      "Requirement already satisfied: mlforecast<0.14,>0.13 in /Library/Frameworks/Python.framework/Versions/3.11/lib/python3.11/site-packages (from autogluon.timeseries==1.3.1->autogluon.timeseries[all]==1.3.1->autogluon->-r requirements.txt (line 18)) (0.13.6)\n",
      "Requirement already satisfied: utilsforecast<0.2.11,>=0.2.3 in /Library/Frameworks/Python.framework/Versions/3.11/lib/python3.11/site-packages (from autogluon.timeseries==1.3.1->autogluon.timeseries[all]==1.3.1->autogluon->-r requirements.txt (line 18)) (0.2.10)\n",
      "Requirement already satisfied: coreforecast<0.0.16,>=0.0.12 in /Library/Frameworks/Python.framework/Versions/3.11/lib/python3.11/site-packages (from autogluon.timeseries==1.3.1->autogluon.timeseries[all]==1.3.1->autogluon->-r requirements.txt (line 18)) (0.0.15)\n",
      "Requirement already satisfied: fugue>=0.9.0 in /Library/Frameworks/Python.framework/Versions/3.11/lib/python3.11/site-packages (from autogluon.timeseries==1.3.1->autogluon.timeseries[all]==1.3.1->autogluon->-r requirements.txt (line 18)) (0.9.1)\n",
      "Requirement already satisfied: orjson~=3.9 in /Library/Frameworks/Python.framework/Versions/3.11/lib/python3.11/site-packages (from autogluon.timeseries==1.3.1->autogluon.timeseries[all]==1.3.1->autogluon->-r requirements.txt (line 18)) (3.10.18)\n",
      "Requirement already satisfied: psutil<7.1.0,>=5.7.3 in /Users/thanyalak/Library/Python/3.11/lib/python/site-packages (from autogluon.common==1.3.1->autogluon.core==1.3.1->autogluon.core[all]==1.3.1->autogluon->-r requirements.txt (line 18)) (5.9.7)\n",
      "Requirement already satisfied: pyaml>=16.9 in /Library/Frameworks/Python.framework/Versions/3.11/lib/python3.11/site-packages (from scikit-optimize<0.10.0,>=0.9.0->-r requirements.txt (line 21)) (25.1.0)\n",
      "Requirement already satisfied: alembic>=1.5.0 in /Library/Frameworks/Python.framework/Versions/3.11/lib/python3.11/site-packages (from optuna<4.0.0,>=3.0.0->-r requirements.txt (line 22)) (1.15.2)\n",
      "Requirement already satisfied: colorlog in /Library/Frameworks/Python.framework/Versions/3.11/lib/python3.11/site-packages (from optuna<4.0.0,>=3.0.0->-r requirements.txt (line 22)) (6.9.0)\n",
      "Requirement already satisfied: PyYAML in /Library/Frameworks/Python.framework/Versions/3.11/lib/python3.11/site-packages (from optuna<4.0.0,>=3.0.0->-r requirements.txt (line 22)) (6.0.2)\n",
      "Requirement already satisfied: sklearn-compat<1,>=0.1 in /Library/Frameworks/Python.framework/Versions/3.11/lib/python3.11/site-packages (from imbalanced-learn>=0.12.0->-r requirements.txt (line 25)) (0.1.3)\n",
      "Requirement already satisfied: geographiclib<3,>=1.52 in /Library/Frameworks/Python.framework/Versions/3.11/lib/python3.11/site-packages (from geopy<2.4.0,>=2.3.0->-r requirements.txt (line 32)) (2.0)\n",
      "Requirement already satisfied: tenacity>=6.2.0 in /Library/Frameworks/Python.framework/Versions/3.11/lib/python3.11/site-packages (from plotly<5.19.0,>=5.9.0->-r requirements.txt (line 35)) (9.0.0)\n",
      "Requirement already satisfied: distlib<1,>=0.3.7 in /Library/Frameworks/Python.framework/Versions/3.11/lib/python3.11/site-packages (from virtualenv<21.0.0,>=20.17.1->-r requirements.txt (line 38)) (0.3.9)\n",
      "Requirement already satisfied: filelock<4,>=3.12.2 in /Library/Frameworks/Python.framework/Versions/3.11/lib/python3.11/site-packages (from virtualenv<21.0.0,>=20.17.1->-r requirements.txt (line 38)) (3.16.1)\n",
      "Requirement already satisfied: platformdirs<5,>=3.9.1 in /Users/thanyalak/Library/Python/3.11/lib/python/site-packages (from virtualenv<21.0.0,>=20.17.1->-r requirements.txt (line 38)) (4.1.0)\n",
      "Requirement already satisfied: Mako in /Library/Frameworks/Python.framework/Versions/3.11/lib/python3.11/site-packages (from alembic>=1.5.0->optuna<4.0.0,>=3.0.0->-r requirements.txt (line 22)) (1.3.10)\n",
      "Requirement already satisfied: psutil<7.1.0,>=5.7.3 in /Users/thanyalak/Library/Python/3.11/lib/python/site-packages (from autogluon.common==1.3.1->autogluon.core==1.3.1->autogluon.core[all]==1.3.1->autogluon->-r requirements.txt (line 18)) (5.9.7)\n",
      "Requirement already satisfied: pyaml>=16.9 in /Library/Frameworks/Python.framework/Versions/3.11/lib/python3.11/site-packages (from scikit-optimize<0.10.0,>=0.9.0->-r requirements.txt (line 21)) (25.1.0)\n",
      "Requirement already satisfied: alembic>=1.5.0 in /Library/Frameworks/Python.framework/Versions/3.11/lib/python3.11/site-packages (from optuna<4.0.0,>=3.0.0->-r requirements.txt (line 22)) (1.15.2)\n",
      "Requirement already satisfied: colorlog in /Library/Frameworks/Python.framework/Versions/3.11/lib/python3.11/site-packages (from optuna<4.0.0,>=3.0.0->-r requirements.txt (line 22)) (6.9.0)\n",
      "Requirement already satisfied: PyYAML in /Library/Frameworks/Python.framework/Versions/3.11/lib/python3.11/site-packages (from optuna<4.0.0,>=3.0.0->-r requirements.txt (line 22)) (6.0.2)\n",
      "Requirement already satisfied: sklearn-compat<1,>=0.1 in /Library/Frameworks/Python.framework/Versions/3.11/lib/python3.11/site-packages (from imbalanced-learn>=0.12.0->-r requirements.txt (line 25)) (0.1.3)\n",
      "Requirement already satisfied: geographiclib<3,>=1.52 in /Library/Frameworks/Python.framework/Versions/3.11/lib/python3.11/site-packages (from geopy<2.4.0,>=2.3.0->-r requirements.txt (line 32)) (2.0)\n",
      "Requirement already satisfied: tenacity>=6.2.0 in /Library/Frameworks/Python.framework/Versions/3.11/lib/python3.11/site-packages (from plotly<5.19.0,>=5.9.0->-r requirements.txt (line 35)) (9.0.0)\n",
      "Requirement already satisfied: distlib<1,>=0.3.7 in /Library/Frameworks/Python.framework/Versions/3.11/lib/python3.11/site-packages (from virtualenv<21.0.0,>=20.17.1->-r requirements.txt (line 38)) (0.3.9)\n",
      "Requirement already satisfied: filelock<4,>=3.12.2 in /Library/Frameworks/Python.framework/Versions/3.11/lib/python3.11/site-packages (from virtualenv<21.0.0,>=20.17.1->-r requirements.txt (line 38)) (3.16.1)\n",
      "Requirement already satisfied: platformdirs<5,>=3.9.1 in /Users/thanyalak/Library/Python/3.11/lib/python/site-packages (from virtualenv<21.0.0,>=20.17.1->-r requirements.txt (line 38)) (4.1.0)\n",
      "Requirement already satisfied: Mako in /Library/Frameworks/Python.framework/Versions/3.11/lib/python3.11/site-packages (from alembic>=1.5.0->optuna<4.0.0,>=3.0.0->-r requirements.txt (line 22)) (1.3.10)\n",
      "Requirement already satisfied: charset-normalizer<4,>=2 in /Library/Frameworks/Python.framework/Versions/3.11/lib/python3.11/site-packages (from requests->h2o<4.0.0,>=3.36.0.1->-r requirements.txt (line 17)) (3.3.2)\n",
      "Requirement already satisfied: idna<4,>=2.5 in /Library/Frameworks/Python.framework/Versions/3.11/lib/python3.11/site-packages (from requests->h2o<4.0.0,>=3.36.0.1->-r requirements.txt (line 17)) (3.6)\n",
      "Requirement already satisfied: urllib3<3,>=1.21.1 in /Library/Frameworks/Python.framework/Versions/3.11/lib/python3.11/site-packages (from requests->h2o<4.0.0,>=3.36.0.1->-r requirements.txt (line 17)) (2.1.0)\n",
      "Requirement already satisfied: certifi>=2017.4.17 in /Library/Frameworks/Python.framework/Versions/3.11/lib/python3.11/site-packages (from requests->h2o<4.0.0,>=3.36.0.1->-r requirements.txt (line 17)) (2023.11.17)\n",
      "Requirement already satisfied: charset-normalizer<4,>=2 in /Library/Frameworks/Python.framework/Versions/3.11/lib/python3.11/site-packages (from requests->h2o<4.0.0,>=3.36.0.1->-r requirements.txt (line 17)) (3.3.2)\n",
      "Requirement already satisfied: idna<4,>=2.5 in /Library/Frameworks/Python.framework/Versions/3.11/lib/python3.11/site-packages (from requests->h2o<4.0.0,>=3.36.0.1->-r requirements.txt (line 17)) (3.6)\n",
      "Requirement already satisfied: urllib3<3,>=1.21.1 in /Library/Frameworks/Python.framework/Versions/3.11/lib/python3.11/site-packages (from requests->h2o<4.0.0,>=3.36.0.1->-r requirements.txt (line 17)) (2.1.0)\n",
      "Requirement already satisfied: certifi>=2017.4.17 in /Library/Frameworks/Python.framework/Versions/3.11/lib/python3.11/site-packages (from requests->h2o<4.0.0,>=3.36.0.1->-r requirements.txt (line 17)) (2023.11.17)\n",
      "Requirement already satisfied: safetensors>=0.4.3 in /Library/Frameworks/Python.framework/Versions/3.11/lib/python3.11/site-packages (from accelerate<2.0,>=0.34.0->autogluon.multimodal==1.3.1->autogluon->-r requirements.txt (line 18)) (0.4.5)\n",
      "Requirement already satisfied: botocore<1.40.0,>=1.39.3 in /Library/Frameworks/Python.framework/Versions/3.11/lib/python3.11/site-packages (from boto3<2,>=1.10->autogluon.core==1.3.1->autogluon.core[all]==1.3.1->autogluon->-r requirements.txt (line 18)) (1.39.3)\n",
      "Requirement already satisfied: jmespath<2.0.0,>=0.7.1 in /Library/Frameworks/Python.framework/Versions/3.11/lib/python3.11/site-packages (from boto3<2,>=1.10->autogluon.core==1.3.1->autogluon.core[all]==1.3.1->autogluon->-r requirements.txt (line 18)) (1.0.1)\n",
      "Requirement already satisfied: s3transfer<0.14.0,>=0.13.0 in /Library/Frameworks/Python.framework/Versions/3.11/lib/python3.11/site-packages (from boto3<2,>=1.10->autogluon.core==1.3.1->autogluon.core[all]==1.3.1->autogluon->-r requirements.txt (line 18)) (0.13.0)\n",
      "Requirement already satisfied: graphviz in /Library/Frameworks/Python.framework/Versions/3.11/lib/python3.11/site-packages (from catboost<1.3,>=1.2->autogluon.tabular[all]==1.3.1->autogluon->-r requirements.txt (line 18)) (0.21)\n",
      "Requirement already satisfied: datasets>=2.0.0 in /Library/Frameworks/Python.framework/Versions/3.11/lib/python3.11/site-packages (from evaluate<0.5.0,>=0.4.0->autogluon.multimodal==1.3.1->autogluon->-r requirements.txt (line 18)) (3.1.0)\n",
      "Requirement already satisfied: dill in /Library/Frameworks/Python.framework/Versions/3.11/lib/python3.11/site-packages (from evaluate<0.5.0,>=0.4.0->autogluon.multimodal==1.3.1->autogluon->-r requirements.txt (line 18)) (0.3.8)\n",
      "Requirement already satisfied: xxhash in /Library/Frameworks/Python.framework/Versions/3.11/lib/python3.11/site-packages (from evaluate<0.5.0,>=0.4.0->autogluon.multimodal==1.3.1->autogluon->-r requirements.txt (line 18)) (3.5.0)\n",
      "Requirement already satisfied: multiprocess in /Library/Frameworks/Python.framework/Versions/3.11/lib/python3.11/site-packages (from evaluate<0.5.0,>=0.4.0->autogluon.multimodal==1.3.1->autogluon->-r requirements.txt (line 18)) (0.70.16)\n",
      "Requirement already satisfied: fsspec>=2021.05.0 in /Library/Frameworks/Python.framework/Versions/3.11/lib/python3.11/site-packages (from fsspec[http]>=2021.05.0->evaluate<0.5.0,>=0.4.0->autogluon.multimodal==1.3.1->autogluon->-r requirements.txt (line 18)) (2024.9.0)\n",
      "Requirement already satisfied: pip in /Library/Frameworks/Python.framework/Versions/3.11/lib/python3.11/site-packages (from fastai<2.9,>=2.3.1->autogluon.tabular[all]==1.3.1->autogluon->-r requirements.txt (line 18)) (25.0.1)\n",
      "Requirement already satisfied: safetensors>=0.4.3 in /Library/Frameworks/Python.framework/Versions/3.11/lib/python3.11/site-packages (from accelerate<2.0,>=0.34.0->autogluon.multimodal==1.3.1->autogluon->-r requirements.txt (line 18)) (0.4.5)\n",
      "Requirement already satisfied: botocore<1.40.0,>=1.39.3 in /Library/Frameworks/Python.framework/Versions/3.11/lib/python3.11/site-packages (from boto3<2,>=1.10->autogluon.core==1.3.1->autogluon.core[all]==1.3.1->autogluon->-r requirements.txt (line 18)) (1.39.3)\n",
      "Requirement already satisfied: jmespath<2.0.0,>=0.7.1 in /Library/Frameworks/Python.framework/Versions/3.11/lib/python3.11/site-packages (from boto3<2,>=1.10->autogluon.core==1.3.1->autogluon.core[all]==1.3.1->autogluon->-r requirements.txt (line 18)) (1.0.1)\n",
      "Requirement already satisfied: s3transfer<0.14.0,>=0.13.0 in /Library/Frameworks/Python.framework/Versions/3.11/lib/python3.11/site-packages (from boto3<2,>=1.10->autogluon.core==1.3.1->autogluon.core[all]==1.3.1->autogluon->-r requirements.txt (line 18)) (0.13.0)\n",
      "Requirement already satisfied: graphviz in /Library/Frameworks/Python.framework/Versions/3.11/lib/python3.11/site-packages (from catboost<1.3,>=1.2->autogluon.tabular[all]==1.3.1->autogluon->-r requirements.txt (line 18)) (0.21)\n",
      "Requirement already satisfied: datasets>=2.0.0 in /Library/Frameworks/Python.framework/Versions/3.11/lib/python3.11/site-packages (from evaluate<0.5.0,>=0.4.0->autogluon.multimodal==1.3.1->autogluon->-r requirements.txt (line 18)) (3.1.0)\n",
      "Requirement already satisfied: dill in /Library/Frameworks/Python.framework/Versions/3.11/lib/python3.11/site-packages (from evaluate<0.5.0,>=0.4.0->autogluon.multimodal==1.3.1->autogluon->-r requirements.txt (line 18)) (0.3.8)\n",
      "Requirement already satisfied: xxhash in /Library/Frameworks/Python.framework/Versions/3.11/lib/python3.11/site-packages (from evaluate<0.5.0,>=0.4.0->autogluon.multimodal==1.3.1->autogluon->-r requirements.txt (line 18)) (3.5.0)\n",
      "Requirement already satisfied: multiprocess in /Library/Frameworks/Python.framework/Versions/3.11/lib/python3.11/site-packages (from evaluate<0.5.0,>=0.4.0->autogluon.multimodal==1.3.1->autogluon->-r requirements.txt (line 18)) (0.70.16)\n",
      "Requirement already satisfied: fsspec>=2021.05.0 in /Library/Frameworks/Python.framework/Versions/3.11/lib/python3.11/site-packages (from fsspec[http]>=2021.05.0->evaluate<0.5.0,>=0.4.0->autogluon.multimodal==1.3.1->autogluon->-r requirements.txt (line 18)) (2024.9.0)\n",
      "Requirement already satisfied: pip in /Library/Frameworks/Python.framework/Versions/3.11/lib/python3.11/site-packages (from fastai<2.9,>=2.3.1->autogluon.tabular[all]==1.3.1->autogluon->-r requirements.txt (line 18)) (25.0.1)\n",
      "Requirement already satisfied: fastdownload<2,>=0.0.5 in /Library/Frameworks/Python.framework/Versions/3.11/lib/python3.11/site-packages (from fastai<2.9,>=2.3.1->autogluon.tabular[all]==1.3.1->autogluon->-r requirements.txt (line 18)) (0.0.7)\n",
      "Requirement already satisfied: fastcore<1.9,>=1.8.0 in /Library/Frameworks/Python.framework/Versions/3.11/lib/python3.11/site-packages (from fastai<2.9,>=2.3.1->autogluon.tabular[all]==1.3.1->autogluon->-r requirements.txt (line 18)) (1.8.4)\n",
      "Requirement already satisfied: fasttransform>=0.0.2 in /Library/Frameworks/Python.framework/Versions/3.11/lib/python3.11/site-packages (from fastai<2.9,>=2.3.1->autogluon.tabular[all]==1.3.1->autogluon->-r requirements.txt (line 18)) (0.0.2)\n",
      "Requirement already satisfied: fastprogress>=0.2.4 in /Library/Frameworks/Python.framework/Versions/3.11/lib/python3.11/site-packages (from fastai<2.9,>=2.3.1->autogluon.tabular[all]==1.3.1->autogluon->-r requirements.txt (line 18)) (1.0.3)\n",
      "Requirement already satisfied: plum-dispatch in /Library/Frameworks/Python.framework/Versions/3.11/lib/python3.11/site-packages (from fastai<2.9,>=2.3.1->autogluon.tabular[all]==1.3.1->autogluon->-r requirements.txt (line 18)) (2.5.7)\n",
      "Requirement already satisfied: cloudpickle in /Library/Frameworks/Python.framework/Versions/3.11/lib/python3.11/site-packages (from fastai<2.9,>=2.3.1->autogluon.tabular[all]==1.3.1->autogluon->-r requirements.txt (line 18)) (3.1.1)\n",
      "Requirement already satisfied: triad>=0.9.7 in /Library/Frameworks/Python.framework/Versions/3.11/lib/python3.11/site-packages (from fugue>=0.9.0->autogluon.timeseries==1.3.1->autogluon.timeseries[all]==1.3.1->autogluon->-r requirements.txt (line 18)) (0.9.8)\n",
      "Requirement already satisfied: adagio>=0.2.4 in /Library/Frameworks/Python.framework/Versions/3.11/lib/python3.11/site-packages (from fugue>=0.9.0->autogluon.timeseries==1.3.1->autogluon.timeseries[all]==1.3.1->autogluon->-r requirements.txt (line 18)) (0.2.6)\n",
      "Requirement already satisfied: pydantic<3,>=1.7 in /Library/Frameworks/Python.framework/Versions/3.11/lib/python3.11/site-packages (from gluonts<0.17,>=0.15.0->autogluon.timeseries==1.3.1->autogluon.timeseries[all]==1.3.1->autogluon->-r requirements.txt (line 18)) (2.11.7)\n",
      "Requirement already satisfied: toolz~=0.10 in /Library/Frameworks/Python.framework/Versions/3.11/lib/python3.11/site-packages (from gluonts<0.17,>=0.15.0->autogluon.timeseries==1.3.1->autogluon.timeseries[all]==1.3.1->autogluon->-r requirements.txt (line 18)) (0.12.1)\n",
      "Requirement already satisfied: future in /Library/Frameworks/Python.framework/Versions/3.11/lib/python3.11/site-packages (from hyperopt<0.2.8,>=0.2.7->autogluon.core[all]==1.3.1->autogluon->-r requirements.txt (line 18)) (1.0.0)\n",
      "Requirement already satisfied: py4j in /Library/Frameworks/Python.framework/Versions/3.11/lib/python3.11/site-packages (from hyperopt<0.2.8,>=0.2.7->autogluon.core[all]==1.3.1->autogluon->-r requirements.txt (line 18)) (0.10.9.9)\n",
      "Requirement already satisfied: MarkupSafe>=2.0 in /Library/Frameworks/Python.framework/Versions/3.11/lib/python3.11/site-packages (from jinja2<3.2,>=3.0.3->autogluon.multimodal==1.3.1->autogluon->-r requirements.txt (line 18)) (3.0.2)\n",
      "Requirement already satisfied: attrs>=22.2.0 in /Library/Frameworks/Python.framework/Versions/3.11/lib/python3.11/site-packages (from jsonschema<4.24,>=4.18->autogluon.multimodal==1.3.1->autogluon->-r requirements.txt (line 18)) (24.2.0)\n",
      "Requirement already satisfied: jsonschema-specifications>=2023.03.6 in /Library/Frameworks/Python.framework/Versions/3.11/lib/python3.11/site-packages (from jsonschema<4.24,>=4.18->autogluon.multimodal==1.3.1->autogluon->-r requirements.txt (line 18)) (2024.10.1)\n",
      "Requirement already satisfied: referencing>=0.28.4 in /Library/Frameworks/Python.framework/Versions/3.11/lib/python3.11/site-packages (from jsonschema<4.24,>=4.18->autogluon.multimodal==1.3.1->autogluon->-r requirements.txt (line 18)) (0.35.1)\n",
      "Requirement already satisfied: rpds-py>=0.7.1 in /Library/Frameworks/Python.framework/Versions/3.11/lib/python3.11/site-packages (from jsonschema<4.24,>=4.18->autogluon.multimodal==1.3.1->autogluon->-r requirements.txt (line 18)) (0.22.0)\n",
      "Requirement already satisfied: fastdownload<2,>=0.0.5 in /Library/Frameworks/Python.framework/Versions/3.11/lib/python3.11/site-packages (from fastai<2.9,>=2.3.1->autogluon.tabular[all]==1.3.1->autogluon->-r requirements.txt (line 18)) (0.0.7)\n",
      "Requirement already satisfied: fastcore<1.9,>=1.8.0 in /Library/Frameworks/Python.framework/Versions/3.11/lib/python3.11/site-packages (from fastai<2.9,>=2.3.1->autogluon.tabular[all]==1.3.1->autogluon->-r requirements.txt (line 18)) (1.8.4)\n",
      "Requirement already satisfied: fasttransform>=0.0.2 in /Library/Frameworks/Python.framework/Versions/3.11/lib/python3.11/site-packages (from fastai<2.9,>=2.3.1->autogluon.tabular[all]==1.3.1->autogluon->-r requirements.txt (line 18)) (0.0.2)\n",
      "Requirement already satisfied: fastprogress>=0.2.4 in /Library/Frameworks/Python.framework/Versions/3.11/lib/python3.11/site-packages (from fastai<2.9,>=2.3.1->autogluon.tabular[all]==1.3.1->autogluon->-r requirements.txt (line 18)) (1.0.3)\n",
      "Requirement already satisfied: plum-dispatch in /Library/Frameworks/Python.framework/Versions/3.11/lib/python3.11/site-packages (from fastai<2.9,>=2.3.1->autogluon.tabular[all]==1.3.1->autogluon->-r requirements.txt (line 18)) (2.5.7)\n",
      "Requirement already satisfied: cloudpickle in /Library/Frameworks/Python.framework/Versions/3.11/lib/python3.11/site-packages (from fastai<2.9,>=2.3.1->autogluon.tabular[all]==1.3.1->autogluon->-r requirements.txt (line 18)) (3.1.1)\n",
      "Requirement already satisfied: triad>=0.9.7 in /Library/Frameworks/Python.framework/Versions/3.11/lib/python3.11/site-packages (from fugue>=0.9.0->autogluon.timeseries==1.3.1->autogluon.timeseries[all]==1.3.1->autogluon->-r requirements.txt (line 18)) (0.9.8)\n",
      "Requirement already satisfied: adagio>=0.2.4 in /Library/Frameworks/Python.framework/Versions/3.11/lib/python3.11/site-packages (from fugue>=0.9.0->autogluon.timeseries==1.3.1->autogluon.timeseries[all]==1.3.1->autogluon->-r requirements.txt (line 18)) (0.2.6)\n",
      "Requirement already satisfied: pydantic<3,>=1.7 in /Library/Frameworks/Python.framework/Versions/3.11/lib/python3.11/site-packages (from gluonts<0.17,>=0.15.0->autogluon.timeseries==1.3.1->autogluon.timeseries[all]==1.3.1->autogluon->-r requirements.txt (line 18)) (2.11.7)\n",
      "Requirement already satisfied: toolz~=0.10 in /Library/Frameworks/Python.framework/Versions/3.11/lib/python3.11/site-packages (from gluonts<0.17,>=0.15.0->autogluon.timeseries==1.3.1->autogluon.timeseries[all]==1.3.1->autogluon->-r requirements.txt (line 18)) (0.12.1)\n",
      "Requirement already satisfied: future in /Library/Frameworks/Python.framework/Versions/3.11/lib/python3.11/site-packages (from hyperopt<0.2.8,>=0.2.7->autogluon.core[all]==1.3.1->autogluon->-r requirements.txt (line 18)) (1.0.0)\n",
      "Requirement already satisfied: py4j in /Library/Frameworks/Python.framework/Versions/3.11/lib/python3.11/site-packages (from hyperopt<0.2.8,>=0.2.7->autogluon.core[all]==1.3.1->autogluon->-r requirements.txt (line 18)) (0.10.9.9)\n",
      "Requirement already satisfied: MarkupSafe>=2.0 in /Library/Frameworks/Python.framework/Versions/3.11/lib/python3.11/site-packages (from jinja2<3.2,>=3.0.3->autogluon.multimodal==1.3.1->autogluon->-r requirements.txt (line 18)) (3.0.2)\n",
      "Requirement already satisfied: attrs>=22.2.0 in /Library/Frameworks/Python.framework/Versions/3.11/lib/python3.11/site-packages (from jsonschema<4.24,>=4.18->autogluon.multimodal==1.3.1->autogluon->-r requirements.txt (line 18)) (24.2.0)\n",
      "Requirement already satisfied: jsonschema-specifications>=2023.03.6 in /Library/Frameworks/Python.framework/Versions/3.11/lib/python3.11/site-packages (from jsonschema<4.24,>=4.18->autogluon.multimodal==1.3.1->autogluon->-r requirements.txt (line 18)) (2024.10.1)\n",
      "Requirement already satisfied: referencing>=0.28.4 in /Library/Frameworks/Python.framework/Versions/3.11/lib/python3.11/site-packages (from jsonschema<4.24,>=4.18->autogluon.multimodal==1.3.1->autogluon->-r requirements.txt (line 18)) (0.35.1)\n",
      "Requirement already satisfied: rpds-py>=0.7.1 in /Library/Frameworks/Python.framework/Versions/3.11/lib/python3.11/site-packages (from jsonschema<4.24,>=4.18->autogluon.multimodal==1.3.1->autogluon->-r requirements.txt (line 18)) (0.22.0)\n",
      "Requirement already satisfied: lightning-utilities<2.0,>=0.10.0 in /Library/Frameworks/Python.framework/Versions/3.11/lib/python3.11/site-packages (from lightning<2.7,>=2.2->autogluon.multimodal==1.3.1->autogluon->-r requirements.txt (line 18)) (0.14.3)\n",
      "Requirement already satisfied: numba in /Library/Frameworks/Python.framework/Versions/3.11/lib/python3.11/site-packages (from mlforecast<0.14,>0.13->autogluon.timeseries==1.3.1->autogluon.timeseries[all]==1.3.1->autogluon->-r requirements.txt (line 18)) (0.61.2)\n",
      "Requirement already satisfied: window-ops in /Library/Frameworks/Python.framework/Versions/3.11/lib/python3.11/site-packages (from mlforecast<0.14,>0.13->autogluon.timeseries==1.3.1->autogluon.timeseries[all]==1.3.1->autogluon->-r requirements.txt (line 18)) (0.0.15)\n",
      "Requirement already satisfied: gdown>=4.0.0 in /Library/Frameworks/Python.framework/Versions/3.11/lib/python3.11/site-packages (from nlpaug<1.2.0,>=1.1.10->autogluon.multimodal==1.3.1->autogluon->-r requirements.txt (line 18)) (5.2.0)\n",
      "Requirement already satisfied: click in /Library/Frameworks/Python.framework/Versions/3.11/lib/python3.11/site-packages (from nltk<3.9,>=3.4.5->autogluon.multimodal==1.3.1->autogluon->-r requirements.txt (line 18)) (8.1.7)\n",
      "Requirement already satisfied: regex>=2021.8.3 in /Library/Frameworks/Python.framework/Versions/3.11/lib/python3.11/site-packages (from nltk<3.9,>=3.4.5->autogluon.multimodal==1.3.1->autogluon->-r requirements.txt (line 18)) (2024.11.6)\n",
      "Requirement already satisfied: antlr4-python3-runtime==4.9.* in /Library/Frameworks/Python.framework/Versions/3.11/lib/python3.11/site-packages (from omegaconf<2.4.0,>=2.1.1->autogluon.multimodal==1.3.1->autogluon->-r requirements.txt (line 18)) (4.9.3)\n",
      "Requirement already satisfied: colorama in /Library/Frameworks/Python.framework/Versions/3.11/lib/python3.11/site-packages (from openmim<0.4.0,>=0.3.7->autogluon.multimodal==1.3.1->autogluon->-r requirements.txt (line 18)) (0.4.6)\n",
      "Requirement already satisfied: model-index in /Library/Frameworks/Python.framework/Versions/3.11/lib/python3.11/site-packages (from openmim<0.4.0,>=0.3.7->autogluon.multimodal==1.3.1->autogluon->-r requirements.txt (line 18)) (0.1.11)\n",
      "Requirement already satisfied: opendatalab in /Library/Frameworks/Python.framework/Versions/3.11/lib/python3.11/site-packages (from openmim<0.4.0,>=0.3.7->autogluon.multimodal==1.3.1->autogluon->-r requirements.txt (line 18)) (0.0.10)\n",
      "Requirement already satisfied: rich in /Library/Frameworks/Python.framework/Versions/3.11/lib/python3.11/site-packages (from openmim<0.4.0,>=0.3.7->autogluon.multimodal==1.3.1->autogluon->-r requirements.txt (line 18)) (13.9.4)\n",
      "Requirement already satisfied: lightning-utilities<2.0,>=0.10.0 in /Library/Frameworks/Python.framework/Versions/3.11/lib/python3.11/site-packages (from lightning<2.7,>=2.2->autogluon.multimodal==1.3.1->autogluon->-r requirements.txt (line 18)) (0.14.3)\n",
      "Requirement already satisfied: numba in /Library/Frameworks/Python.framework/Versions/3.11/lib/python3.11/site-packages (from mlforecast<0.14,>0.13->autogluon.timeseries==1.3.1->autogluon.timeseries[all]==1.3.1->autogluon->-r requirements.txt (line 18)) (0.61.2)\n",
      "Requirement already satisfied: window-ops in /Library/Frameworks/Python.framework/Versions/3.11/lib/python3.11/site-packages (from mlforecast<0.14,>0.13->autogluon.timeseries==1.3.1->autogluon.timeseries[all]==1.3.1->autogluon->-r requirements.txt (line 18)) (0.0.15)\n",
      "Requirement already satisfied: gdown>=4.0.0 in /Library/Frameworks/Python.framework/Versions/3.11/lib/python3.11/site-packages (from nlpaug<1.2.0,>=1.1.10->autogluon.multimodal==1.3.1->autogluon->-r requirements.txt (line 18)) (5.2.0)\n",
      "Requirement already satisfied: click in /Library/Frameworks/Python.framework/Versions/3.11/lib/python3.11/site-packages (from nltk<3.9,>=3.4.5->autogluon.multimodal==1.3.1->autogluon->-r requirements.txt (line 18)) (8.1.7)\n",
      "Requirement already satisfied: regex>=2021.8.3 in /Library/Frameworks/Python.framework/Versions/3.11/lib/python3.11/site-packages (from nltk<3.9,>=3.4.5->autogluon.multimodal==1.3.1->autogluon->-r requirements.txt (line 18)) (2024.11.6)\n",
      "Requirement already satisfied: antlr4-python3-runtime==4.9.* in /Library/Frameworks/Python.framework/Versions/3.11/lib/python3.11/site-packages (from omegaconf<2.4.0,>=2.1.1->autogluon.multimodal==1.3.1->autogluon->-r requirements.txt (line 18)) (4.9.3)\n",
      "Requirement already satisfied: colorama in /Library/Frameworks/Python.framework/Versions/3.11/lib/python3.11/site-packages (from openmim<0.4.0,>=0.3.7->autogluon.multimodal==1.3.1->autogluon->-r requirements.txt (line 18)) (0.4.6)\n",
      "Requirement already satisfied: model-index in /Library/Frameworks/Python.framework/Versions/3.11/lib/python3.11/site-packages (from openmim<0.4.0,>=0.3.7->autogluon.multimodal==1.3.1->autogluon->-r requirements.txt (line 18)) (0.1.11)\n",
      "Requirement already satisfied: opendatalab in /Library/Frameworks/Python.framework/Versions/3.11/lib/python3.11/site-packages (from openmim<0.4.0,>=0.3.7->autogluon.multimodal==1.3.1->autogluon->-r requirements.txt (line 18)) (0.0.10)\n",
      "Requirement already satisfied: rich in /Library/Frameworks/Python.framework/Versions/3.11/lib/python3.11/site-packages (from openmim<0.4.0,>=0.3.7->autogluon.multimodal==1.3.1->autogluon->-r requirements.txt (line 18)) (13.9.4)\n",
      "Requirement already satisfied: msgpack<2.0.0,>=1.0.0 in /Library/Frameworks/Python.framework/Versions/3.11/lib/python3.11/site-packages (from ray<2.45,>=2.10.0->ray[default]<2.45,>=2.10.0; extra == \"all\"->autogluon.core[all]==1.3.1->autogluon->-r requirements.txt (line 18)) (1.1.1)\n",
      "Requirement already satisfied: protobuf!=3.19.5,>=3.15.3 in /Users/thanyalak/Library/Python/3.11/lib/python/site-packages (from ray<2.45,>=2.10.0->ray[default]<2.45,>=2.10.0; extra == \"all\"->autogluon.core[all]==1.3.1->autogluon->-r requirements.txt (line 18)) (4.25.5)\n",
      "Requirement already satisfied: aiosignal in /Library/Frameworks/Python.framework/Versions/3.11/lib/python3.11/site-packages (from ray<2.45,>=2.10.0->ray[default]<2.45,>=2.10.0; extra == \"all\"->autogluon.core[all]==1.3.1->autogluon->-r requirements.txt (line 18)) (1.3.1)\n",
      "Requirement already satisfied: frozenlist in /Library/Frameworks/Python.framework/Versions/3.11/lib/python3.11/site-packages (from ray<2.45,>=2.10.0->ray[default]<2.45,>=2.10.0; extra == \"all\"->autogluon.core[all]==1.3.1->autogluon->-r requirements.txt (line 18)) (1.5.0)\n",
      "Requirement already satisfied: aiohttp>=3.7 in /Library/Frameworks/Python.framework/Versions/3.11/lib/python3.11/site-packages (from ray[default,tune]<2.45,>=2.10.0; extra == \"all\"->autogluon.core[all]==1.3.1->autogluon->-r requirements.txt (line 18)) (3.11.9)\n",
      "Requirement already satisfied: aiohttp-cors in /Library/Frameworks/Python.framework/Versions/3.11/lib/python3.11/site-packages (from ray[default,tune]<2.45,>=2.10.0; extra == \"all\"->autogluon.core[all]==1.3.1->autogluon->-r requirements.txt (line 18)) (0.8.1)\n",
      "Requirement already satisfied: colorful in /Library/Frameworks/Python.framework/Versions/3.11/lib/python3.11/site-packages (from ray[default,tune]<2.45,>=2.10.0; extra == \"all\"->autogluon.core[all]==1.3.1->autogluon->-r requirements.txt (line 18)) (0.5.7)\n",
      "Requirement already satisfied: opencensus in /Library/Frameworks/Python.framework/Versions/3.11/lib/python3.11/site-packages (from ray[default,tune]<2.45,>=2.10.0; extra == \"all\"->autogluon.core[all]==1.3.1->autogluon->-r requirements.txt (line 18)) (0.11.4)\n",
      "Requirement already satisfied: prometheus-client>=0.7.1 in /Library/Frameworks/Python.framework/Versions/3.11/lib/python3.11/site-packages (from ray[default,tune]<2.45,>=2.10.0; extra == \"all\"->autogluon.core[all]==1.3.1->autogluon->-r requirements.txt (line 18)) (0.21.1)\n",
      "Requirement already satisfied: smart-open in /Library/Frameworks/Python.framework/Versions/3.11/lib/python3.11/site-packages (from ray[default,tune]<2.45,>=2.10.0; extra == \"all\"->autogluon.core[all]==1.3.1->autogluon->-r requirements.txt (line 18)) (7.3.0.post1)\n",
      "Requirement already satisfied: py-spy>=0.2.0 in /Library/Frameworks/Python.framework/Versions/3.11/lib/python3.11/site-packages (from ray[default,tune]<2.45,>=2.10.0; extra == \"all\"->autogluon.core[all]==1.3.1->autogluon->-r requirements.txt (line 18)) (0.4.0)\n",
      "Requirement already satisfied: grpcio>=1.42.0 in /Users/thanyalak/Library/Python/3.11/lib/python/site-packages (from ray[default,tune]<2.45,>=2.10.0; extra == \"all\"->autogluon.core[all]==1.3.1->autogluon->-r requirements.txt (line 18)) (1.67.1)\n",
      "Requirement already satisfied: tensorboardX>=1.9 in /Library/Frameworks/Python.framework/Versions/3.11/lib/python3.11/site-packages (from ray[default,tune]<2.45,>=2.10.0; extra == \"all\"->autogluon.core[all]==1.3.1->autogluon->-r requirements.txt (line 18)) (2.6.2.2)\n",
      "Requirement already satisfied: msgpack<2.0.0,>=1.0.0 in /Library/Frameworks/Python.framework/Versions/3.11/lib/python3.11/site-packages (from ray<2.45,>=2.10.0->ray[default]<2.45,>=2.10.0; extra == \"all\"->autogluon.core[all]==1.3.1->autogluon->-r requirements.txt (line 18)) (1.1.1)\n",
      "Requirement already satisfied: protobuf!=3.19.5,>=3.15.3 in /Users/thanyalak/Library/Python/3.11/lib/python/site-packages (from ray<2.45,>=2.10.0->ray[default]<2.45,>=2.10.0; extra == \"all\"->autogluon.core[all]==1.3.1->autogluon->-r requirements.txt (line 18)) (4.25.5)\n",
      "Requirement already satisfied: aiosignal in /Library/Frameworks/Python.framework/Versions/3.11/lib/python3.11/site-packages (from ray<2.45,>=2.10.0->ray[default]<2.45,>=2.10.0; extra == \"all\"->autogluon.core[all]==1.3.1->autogluon->-r requirements.txt (line 18)) (1.3.1)\n",
      "Requirement already satisfied: frozenlist in /Library/Frameworks/Python.framework/Versions/3.11/lib/python3.11/site-packages (from ray<2.45,>=2.10.0->ray[default]<2.45,>=2.10.0; extra == \"all\"->autogluon.core[all]==1.3.1->autogluon->-r requirements.txt (line 18)) (1.5.0)\n",
      "Requirement already satisfied: aiohttp>=3.7 in /Library/Frameworks/Python.framework/Versions/3.11/lib/python3.11/site-packages (from ray[default,tune]<2.45,>=2.10.0; extra == \"all\"->autogluon.core[all]==1.3.1->autogluon->-r requirements.txt (line 18)) (3.11.9)\n",
      "Requirement already satisfied: aiohttp-cors in /Library/Frameworks/Python.framework/Versions/3.11/lib/python3.11/site-packages (from ray[default,tune]<2.45,>=2.10.0; extra == \"all\"->autogluon.core[all]==1.3.1->autogluon->-r requirements.txt (line 18)) (0.8.1)\n",
      "Requirement already satisfied: colorful in /Library/Frameworks/Python.framework/Versions/3.11/lib/python3.11/site-packages (from ray[default,tune]<2.45,>=2.10.0; extra == \"all\"->autogluon.core[all]==1.3.1->autogluon->-r requirements.txt (line 18)) (0.5.7)\n",
      "Requirement already satisfied: opencensus in /Library/Frameworks/Python.framework/Versions/3.11/lib/python3.11/site-packages (from ray[default,tune]<2.45,>=2.10.0; extra == \"all\"->autogluon.core[all]==1.3.1->autogluon->-r requirements.txt (line 18)) (0.11.4)\n",
      "Requirement already satisfied: prometheus-client>=0.7.1 in /Library/Frameworks/Python.framework/Versions/3.11/lib/python3.11/site-packages (from ray[default,tune]<2.45,>=2.10.0; extra == \"all\"->autogluon.core[all]==1.3.1->autogluon->-r requirements.txt (line 18)) (0.21.1)\n",
      "Requirement already satisfied: smart-open in /Library/Frameworks/Python.framework/Versions/3.11/lib/python3.11/site-packages (from ray[default,tune]<2.45,>=2.10.0; extra == \"all\"->autogluon.core[all]==1.3.1->autogluon->-r requirements.txt (line 18)) (7.3.0.post1)\n",
      "Requirement already satisfied: py-spy>=0.2.0 in /Library/Frameworks/Python.framework/Versions/3.11/lib/python3.11/site-packages (from ray[default,tune]<2.45,>=2.10.0; extra == \"all\"->autogluon.core[all]==1.3.1->autogluon->-r requirements.txt (line 18)) (0.4.0)\n",
      "Requirement already satisfied: grpcio>=1.42.0 in /Users/thanyalak/Library/Python/3.11/lib/python/site-packages (from ray[default,tune]<2.45,>=2.10.0; extra == \"all\"->autogluon.core[all]==1.3.1->autogluon->-r requirements.txt (line 18)) (1.67.1)\n",
      "Requirement already satisfied: tensorboardX>=1.9 in /Library/Frameworks/Python.framework/Versions/3.11/lib/python3.11/site-packages (from ray[default,tune]<2.45,>=2.10.0; extra == \"all\"->autogluon.core[all]==1.3.1->autogluon->-r requirements.txt (line 18)) (2.6.2.2)\n",
      "Requirement already satisfied: imageio!=2.35.0,>=2.33 in /Library/Frameworks/Python.framework/Versions/3.11/lib/python3.11/site-packages (from scikit-image<0.26.0,>=0.19.1->autogluon.multimodal==1.3.1->autogluon->-r requirements.txt (line 18)) (2.37.0)\n",
      "Requirement already satisfied: tifffile>=2022.8.12 in /Library/Frameworks/Python.framework/Versions/3.11/lib/python3.11/site-packages (from scikit-image<0.26.0,>=0.19.1->autogluon.multimodal==1.3.1->autogluon->-r requirements.txt (line 18)) (2025.6.11)\n",
      "Requirement already satisfied: lazy-loader>=0.4 in /Library/Frameworks/Python.framework/Versions/3.11/lib/python3.11/site-packages (from scikit-image<0.26.0,>=0.19.1->autogluon.multimodal==1.3.1->autogluon->-r requirements.txt (line 18)) (0.4)\n",
      "Requirement already satisfied: spacy-legacy<3.1.0,>=3.0.11 in /Library/Frameworks/Python.framework/Versions/3.11/lib/python3.11/site-packages (from spacy<3.9->autogluon.tabular[all]==1.3.1->autogluon->-r requirements.txt (line 18)) (3.0.12)\n",
      "Requirement already satisfied: spacy-loggers<2.0.0,>=1.0.0 in /Library/Frameworks/Python.framework/Versions/3.11/lib/python3.11/site-packages (from spacy<3.9->autogluon.tabular[all]==1.3.1->autogluon->-r requirements.txt (line 18)) (1.0.5)\n",
      "Requirement already satisfied: murmurhash<1.1.0,>=0.28.0 in /Library/Frameworks/Python.framework/Versions/3.11/lib/python3.11/site-packages (from spacy<3.9->autogluon.tabular[all]==1.3.1->autogluon->-r requirements.txt (line 18)) (1.0.13)\n",
      "Requirement already satisfied: cymem<2.1.0,>=2.0.2 in /Library/Frameworks/Python.framework/Versions/3.11/lib/python3.11/site-packages (from spacy<3.9->autogluon.tabular[all]==1.3.1->autogluon->-r requirements.txt (line 18)) (2.0.11)\n",
      "Requirement already satisfied: preshed<3.1.0,>=3.0.2 in /Library/Frameworks/Python.framework/Versions/3.11/lib/python3.11/site-packages (from spacy<3.9->autogluon.tabular[all]==1.3.1->autogluon->-r requirements.txt (line 18)) (3.0.10)\n",
      "Requirement already satisfied: thinc<8.4.0,>=8.3.4 in /Library/Frameworks/Python.framework/Versions/3.11/lib/python3.11/site-packages (from spacy<3.9->autogluon.tabular[all]==1.3.1->autogluon->-r requirements.txt (line 18)) (8.3.4)\n",
      "Requirement already satisfied: wasabi<1.2.0,>=0.9.1 in /Library/Frameworks/Python.framework/Versions/3.11/lib/python3.11/site-packages (from spacy<3.9->autogluon.tabular[all]==1.3.1->autogluon->-r requirements.txt (line 18)) (1.1.3)\n",
      "Requirement already satisfied: srsly<3.0.0,>=2.4.3 in /Library/Frameworks/Python.framework/Versions/3.11/lib/python3.11/site-packages (from spacy<3.9->autogluon.tabular[all]==1.3.1->autogluon->-r requirements.txt (line 18)) (2.5.1)\n",
      "Requirement already satisfied: catalogue<2.1.0,>=2.0.6 in /Library/Frameworks/Python.framework/Versions/3.11/lib/python3.11/site-packages (from spacy<3.9->autogluon.tabular[all]==1.3.1->autogluon->-r requirements.txt (line 18)) (2.0.10)\n",
      "Requirement already satisfied: weasel<0.5.0,>=0.1.0 in /Library/Frameworks/Python.framework/Versions/3.11/lib/python3.11/site-packages (from spacy<3.9->autogluon.tabular[all]==1.3.1->autogluon->-r requirements.txt (line 18)) (0.4.1)\n",
      "Requirement already satisfied: typer<1.0.0,>=0.3.0 in /Library/Frameworks/Python.framework/Versions/3.11/lib/python3.11/site-packages (from spacy<3.9->autogluon.tabular[all]==1.3.1->autogluon->-r requirements.txt (line 18)) (0.16.0)\n",
      "Requirement already satisfied: langcodes<4.0.0,>=3.2.0 in /Library/Frameworks/Python.framework/Versions/3.11/lib/python3.11/site-packages (from spacy<3.9->autogluon.tabular[all]==1.3.1->autogluon->-r requirements.txt (line 18)) (3.5.0)\n",
      "Requirement already satisfied: statsmodels>=0.13.2 in /Library/Frameworks/Python.framework/Versions/3.11/lib/python3.11/site-packages (from statsforecast<2.0.2,>=1.7.0->autogluon.timeseries==1.3.1->autogluon.timeseries[all]==1.3.1->autogluon->-r requirements.txt (line 18)) (0.14.4)\n",
      "Requirement already satisfied: absl-py>=0.4 in /Library/Frameworks/Python.framework/Versions/3.11/lib/python3.11/site-packages (from tensorboard<3,>=2.9->autogluon.multimodal==1.3.1->autogluon->-r requirements.txt (line 18)) (2.1.0)\n",
      "Requirement already satisfied: markdown>=2.6.8 in /Library/Frameworks/Python.framework/Versions/3.11/lib/python3.11/site-packages (from tensorboard<3,>=2.9->autogluon.multimodal==1.3.1->autogluon->-r requirements.txt (line 18)) (3.7)\n",
      "Requirement already satisfied: tensorboard-data-server<0.8.0,>=0.7.0 in /Library/Frameworks/Python.framework/Versions/3.11/lib/python3.11/site-packages (from tensorboard<3,>=2.9->autogluon.multimodal==1.3.1->autogluon->-r requirements.txt (line 18)) (0.7.2)\n",
      "Requirement already satisfied: werkzeug>=1.0.1 in /Library/Frameworks/Python.framework/Versions/3.11/lib/python3.11/site-packages (from tensorboard<3,>=2.9->autogluon.multimodal==1.3.1->autogluon->-r requirements.txt (line 18)) (3.1.3)\n",
      "Requirement already satisfied: imageio!=2.35.0,>=2.33 in /Library/Frameworks/Python.framework/Versions/3.11/lib/python3.11/site-packages (from scikit-image<0.26.0,>=0.19.1->autogluon.multimodal==1.3.1->autogluon->-r requirements.txt (line 18)) (2.37.0)\n",
      "Requirement already satisfied: tifffile>=2022.8.12 in /Library/Frameworks/Python.framework/Versions/3.11/lib/python3.11/site-packages (from scikit-image<0.26.0,>=0.19.1->autogluon.multimodal==1.3.1->autogluon->-r requirements.txt (line 18)) (2025.6.11)\n",
      "Requirement already satisfied: lazy-loader>=0.4 in /Library/Frameworks/Python.framework/Versions/3.11/lib/python3.11/site-packages (from scikit-image<0.26.0,>=0.19.1->autogluon.multimodal==1.3.1->autogluon->-r requirements.txt (line 18)) (0.4)\n",
      "Requirement already satisfied: spacy-legacy<3.1.0,>=3.0.11 in /Library/Frameworks/Python.framework/Versions/3.11/lib/python3.11/site-packages (from spacy<3.9->autogluon.tabular[all]==1.3.1->autogluon->-r requirements.txt (line 18)) (3.0.12)\n",
      "Requirement already satisfied: spacy-loggers<2.0.0,>=1.0.0 in /Library/Frameworks/Python.framework/Versions/3.11/lib/python3.11/site-packages (from spacy<3.9->autogluon.tabular[all]==1.3.1->autogluon->-r requirements.txt (line 18)) (1.0.5)\n",
      "Requirement already satisfied: murmurhash<1.1.0,>=0.28.0 in /Library/Frameworks/Python.framework/Versions/3.11/lib/python3.11/site-packages (from spacy<3.9->autogluon.tabular[all]==1.3.1->autogluon->-r requirements.txt (line 18)) (1.0.13)\n",
      "Requirement already satisfied: cymem<2.1.0,>=2.0.2 in /Library/Frameworks/Python.framework/Versions/3.11/lib/python3.11/site-packages (from spacy<3.9->autogluon.tabular[all]==1.3.1->autogluon->-r requirements.txt (line 18)) (2.0.11)\n",
      "Requirement already satisfied: preshed<3.1.0,>=3.0.2 in /Library/Frameworks/Python.framework/Versions/3.11/lib/python3.11/site-packages (from spacy<3.9->autogluon.tabular[all]==1.3.1->autogluon->-r requirements.txt (line 18)) (3.0.10)\n",
      "Requirement already satisfied: thinc<8.4.0,>=8.3.4 in /Library/Frameworks/Python.framework/Versions/3.11/lib/python3.11/site-packages (from spacy<3.9->autogluon.tabular[all]==1.3.1->autogluon->-r requirements.txt (line 18)) (8.3.4)\n",
      "Requirement already satisfied: wasabi<1.2.0,>=0.9.1 in /Library/Frameworks/Python.framework/Versions/3.11/lib/python3.11/site-packages (from spacy<3.9->autogluon.tabular[all]==1.3.1->autogluon->-r requirements.txt (line 18)) (1.1.3)\n",
      "Requirement already satisfied: srsly<3.0.0,>=2.4.3 in /Library/Frameworks/Python.framework/Versions/3.11/lib/python3.11/site-packages (from spacy<3.9->autogluon.tabular[all]==1.3.1->autogluon->-r requirements.txt (line 18)) (2.5.1)\n",
      "Requirement already satisfied: catalogue<2.1.0,>=2.0.6 in /Library/Frameworks/Python.framework/Versions/3.11/lib/python3.11/site-packages (from spacy<3.9->autogluon.tabular[all]==1.3.1->autogluon->-r requirements.txt (line 18)) (2.0.10)\n",
      "Requirement already satisfied: weasel<0.5.0,>=0.1.0 in /Library/Frameworks/Python.framework/Versions/3.11/lib/python3.11/site-packages (from spacy<3.9->autogluon.tabular[all]==1.3.1->autogluon->-r requirements.txt (line 18)) (0.4.1)\n",
      "Requirement already satisfied: typer<1.0.0,>=0.3.0 in /Library/Frameworks/Python.framework/Versions/3.11/lib/python3.11/site-packages (from spacy<3.9->autogluon.tabular[all]==1.3.1->autogluon->-r requirements.txt (line 18)) (0.16.0)\n",
      "Requirement already satisfied: langcodes<4.0.0,>=3.2.0 in /Library/Frameworks/Python.framework/Versions/3.11/lib/python3.11/site-packages (from spacy<3.9->autogluon.tabular[all]==1.3.1->autogluon->-r requirements.txt (line 18)) (3.5.0)\n",
      "Requirement already satisfied: statsmodels>=0.13.2 in /Library/Frameworks/Python.framework/Versions/3.11/lib/python3.11/site-packages (from statsforecast<2.0.2,>=1.7.0->autogluon.timeseries==1.3.1->autogluon.timeseries[all]==1.3.1->autogluon->-r requirements.txt (line 18)) (0.14.4)\n",
      "Requirement already satisfied: absl-py>=0.4 in /Library/Frameworks/Python.framework/Versions/3.11/lib/python3.11/site-packages (from tensorboard<3,>=2.9->autogluon.multimodal==1.3.1->autogluon->-r requirements.txt (line 18)) (2.1.0)\n",
      "Requirement already satisfied: markdown>=2.6.8 in /Library/Frameworks/Python.framework/Versions/3.11/lib/python3.11/site-packages (from tensorboard<3,>=2.9->autogluon.multimodal==1.3.1->autogluon->-r requirements.txt (line 18)) (3.7)\n",
      "Requirement already satisfied: tensorboard-data-server<0.8.0,>=0.7.0 in /Library/Frameworks/Python.framework/Versions/3.11/lib/python3.11/site-packages (from tensorboard<3,>=2.9->autogluon.multimodal==1.3.1->autogluon->-r requirements.txt (line 18)) (0.7.2)\n",
      "Requirement already satisfied: werkzeug>=1.0.1 in /Library/Frameworks/Python.framework/Versions/3.11/lib/python3.11/site-packages (from tensorboard<3,>=2.9->autogluon.multimodal==1.3.1->autogluon->-r requirements.txt (line 18)) (3.1.3)\n",
      "Requirement already satisfied: sympy==1.13.1 in /Library/Frameworks/Python.framework/Versions/3.11/lib/python3.11/site-packages (from torch<2.7,>=2.2->autogluon.multimodal==1.3.1->autogluon->-r requirements.txt (line 18)) (1.13.1)\n",
      "Requirement already satisfied: mpmath<1.4,>=1.1.0 in /Library/Frameworks/Python.framework/Versions/3.11/lib/python3.11/site-packages (from sympy==1.13.1->torch<2.7,>=2.2->autogluon.multimodal==1.3.1->autogluon->-r requirements.txt (line 18)) (1.3.0)\n",
      "Requirement already satisfied: sympy==1.13.1 in /Library/Frameworks/Python.framework/Versions/3.11/lib/python3.11/site-packages (from torch<2.7,>=2.2->autogluon.multimodal==1.3.1->autogluon->-r requirements.txt (line 18)) (1.13.1)\n",
      "Requirement already satisfied: mpmath<1.4,>=1.1.0 in /Library/Frameworks/Python.framework/Versions/3.11/lib/python3.11/site-packages (from sympy==1.13.1->torch<2.7,>=2.2->autogluon.multimodal==1.3.1->autogluon->-r requirements.txt (line 18)) (1.3.0)\n",
      "Requirement already satisfied: tokenizers<0.21,>=0.20 in /Library/Frameworks/Python.framework/Versions/3.11/lib/python3.11/site-packages (from transformers<4.50,>=4.38.0->transformers[sentencepiece]<4.50,>=4.38.0->autogluon.multimodal==1.3.1->autogluon->-r requirements.txt (line 18)) (0.20.3)\n",
      "Requirement already satisfied: sentencepiece!=0.1.92,>=0.1.91 in /Library/Frameworks/Python.framework/Versions/3.11/lib/python3.11/site-packages (from transformers[sentencepiece]<4.50,>=4.38.0->autogluon.multimodal==1.3.1->autogluon->-r requirements.txt (line 18)) (0.2.0)\n",
      "Requirement already satisfied: tokenizers<0.21,>=0.20 in /Library/Frameworks/Python.framework/Versions/3.11/lib/python3.11/site-packages (from transformers<4.50,>=4.38.0->transformers[sentencepiece]<4.50,>=4.38.0->autogluon.multimodal==1.3.1->autogluon->-r requirements.txt (line 18)) (0.20.3)\n",
      "Requirement already satisfied: sentencepiece!=0.1.92,>=0.1.91 in /Library/Frameworks/Python.framework/Versions/3.11/lib/python3.11/site-packages (from transformers[sentencepiece]<4.50,>=4.38.0->autogluon.multimodal==1.3.1->autogluon->-r requirements.txt (line 18)) (0.2.0)\n",
      "Requirement already satisfied: aiohappyeyeballs>=2.3.0 in /Library/Frameworks/Python.framework/Versions/3.11/lib/python3.11/site-packages (from aiohttp>=3.7->ray[default,tune]<2.45,>=2.10.0; extra == \"all\"->autogluon.core[all]==1.3.1->autogluon->-r requirements.txt (line 18)) (2.4.4)\n",
      "Requirement already satisfied: multidict<7.0,>=4.5 in /Library/Frameworks/Python.framework/Versions/3.11/lib/python3.11/site-packages (from aiohttp>=3.7->ray[default,tune]<2.45,>=2.10.0; extra == \"all\"->autogluon.core[all]==1.3.1->autogluon->-r requirements.txt (line 18)) (6.1.0)\n",
      "Requirement already satisfied: propcache>=0.2.0 in /Library/Frameworks/Python.framework/Versions/3.11/lib/python3.11/site-packages (from aiohttp>=3.7->ray[default,tune]<2.45,>=2.10.0; extra == \"all\"->autogluon.core[all]==1.3.1->autogluon->-r requirements.txt (line 18)) (0.2.1)\n",
      "Requirement already satisfied: yarl<2.0,>=1.17.0 in /Library/Frameworks/Python.framework/Versions/3.11/lib/python3.11/site-packages (from aiohttp>=3.7->ray[default,tune]<2.45,>=2.10.0; extra == \"all\"->autogluon.core[all]==1.3.1->autogluon->-r requirements.txt (line 18)) (1.18.3)\n",
      "Requirement already satisfied: aiohappyeyeballs>=2.3.0 in /Library/Frameworks/Python.framework/Versions/3.11/lib/python3.11/site-packages (from aiohttp>=3.7->ray[default,tune]<2.45,>=2.10.0; extra == \"all\"->autogluon.core[all]==1.3.1->autogluon->-r requirements.txt (line 18)) (2.4.4)\n",
      "Requirement already satisfied: multidict<7.0,>=4.5 in /Library/Frameworks/Python.framework/Versions/3.11/lib/python3.11/site-packages (from aiohttp>=3.7->ray[default,tune]<2.45,>=2.10.0; extra == \"all\"->autogluon.core[all]==1.3.1->autogluon->-r requirements.txt (line 18)) (6.1.0)\n",
      "Requirement already satisfied: propcache>=0.2.0 in /Library/Frameworks/Python.framework/Versions/3.11/lib/python3.11/site-packages (from aiohttp>=3.7->ray[default,tune]<2.45,>=2.10.0; extra == \"all\"->autogluon.core[all]==1.3.1->autogluon->-r requirements.txt (line 18)) (0.2.1)\n",
      "Requirement already satisfied: yarl<2.0,>=1.17.0 in /Library/Frameworks/Python.framework/Versions/3.11/lib/python3.11/site-packages (from aiohttp>=3.7->ray[default,tune]<2.45,>=2.10.0; extra == \"all\"->autogluon.core[all]==1.3.1->autogluon->-r requirements.txt (line 18)) (1.18.3)\n",
      "Requirement already satisfied: beautifulsoup4 in /Library/Frameworks/Python.framework/Versions/3.11/lib/python3.11/site-packages (from gdown>=4.0.0->nlpaug<1.2.0,>=1.1.10->autogluon.multimodal==1.3.1->autogluon->-r requirements.txt (line 18)) (4.12.2)\n",
      "Requirement already satisfied: beautifulsoup4 in /Library/Frameworks/Python.framework/Versions/3.11/lib/python3.11/site-packages (from gdown>=4.0.0->nlpaug<1.2.0,>=1.1.10->autogluon.multimodal==1.3.1->autogluon->-r requirements.txt (line 18)) (4.12.2)\n",
      "Requirement already satisfied: language-data>=1.2 in /Library/Frameworks/Python.framework/Versions/3.11/lib/python3.11/site-packages (from langcodes<4.0.0,>=3.2.0->spacy<3.9->autogluon.tabular[all]==1.3.1->autogluon->-r requirements.txt (line 18)) (1.3.0)\n",
      "Requirement already satisfied: llvmlite<0.45,>=0.44.0dev0 in /Library/Frameworks/Python.framework/Versions/3.11/lib/python3.11/site-packages (from numba->mlforecast<0.14,>0.13->autogluon.timeseries==1.3.1->autogluon.timeseries[all]==1.3.1->autogluon->-r requirements.txt (line 18)) (0.44.0)\n",
      "Requirement already satisfied: language-data>=1.2 in /Library/Frameworks/Python.framework/Versions/3.11/lib/python3.11/site-packages (from langcodes<4.0.0,>=3.2.0->spacy<3.9->autogluon.tabular[all]==1.3.1->autogluon->-r requirements.txt (line 18)) (1.3.0)\n",
      "Requirement already satisfied: llvmlite<0.45,>=0.44.0dev0 in /Library/Frameworks/Python.framework/Versions/3.11/lib/python3.11/site-packages (from numba->mlforecast<0.14,>0.13->autogluon.timeseries==1.3.1->autogluon.timeseries[all]==1.3.1->autogluon->-r requirements.txt (line 18)) (0.44.0)\n",
      "Requirement already satisfied: annotated-types>=0.6.0 in /Library/Frameworks/Python.framework/Versions/3.11/lib/python3.11/site-packages (from pydantic<3,>=1.7->gluonts<0.17,>=0.15.0->autogluon.timeseries==1.3.1->autogluon.timeseries[all]==1.3.1->autogluon->-r requirements.txt (line 18)) (0.7.0)\n",
      "Requirement already satisfied: pydantic-core==2.33.2 in /Library/Frameworks/Python.framework/Versions/3.11/lib/python3.11/site-packages (from pydantic<3,>=1.7->gluonts<0.17,>=0.15.0->autogluon.timeseries==1.3.1->autogluon.timeseries[all]==1.3.1->autogluon->-r requirements.txt (line 18)) (2.33.2)\n",
      "Requirement already satisfied: typing-inspection>=0.4.0 in /Library/Frameworks/Python.framework/Versions/3.11/lib/python3.11/site-packages (from pydantic<3,>=1.7->gluonts<0.17,>=0.15.0->autogluon.timeseries==1.3.1->autogluon.timeseries[all]==1.3.1->autogluon->-r requirements.txt (line 18)) (0.4.1)\n",
      "Requirement already satisfied: annotated-types>=0.6.0 in /Library/Frameworks/Python.framework/Versions/3.11/lib/python3.11/site-packages (from pydantic<3,>=1.7->gluonts<0.17,>=0.15.0->autogluon.timeseries==1.3.1->autogluon.timeseries[all]==1.3.1->autogluon->-r requirements.txt (line 18)) (0.7.0)\n",
      "Requirement already satisfied: pydantic-core==2.33.2 in /Library/Frameworks/Python.framework/Versions/3.11/lib/python3.11/site-packages (from pydantic<3,>=1.7->gluonts<0.17,>=0.15.0->autogluon.timeseries==1.3.1->autogluon.timeseries[all]==1.3.1->autogluon->-r requirements.txt (line 18)) (2.33.2)\n",
      "Requirement already satisfied: typing-inspection>=0.4.0 in /Library/Frameworks/Python.framework/Versions/3.11/lib/python3.11/site-packages (from pydantic<3,>=1.7->gluonts<0.17,>=0.15.0->autogluon.timeseries==1.3.1->autogluon.timeseries[all]==1.3.1->autogluon->-r requirements.txt (line 18)) (0.4.1)\n",
      "Requirement already satisfied: patsy>=0.5.6 in /Library/Frameworks/Python.framework/Versions/3.11/lib/python3.11/site-packages (from statsmodels>=0.13.2->statsforecast<2.0.2,>=1.7.0->autogluon.timeseries==1.3.1->autogluon.timeseries[all]==1.3.1->autogluon->-r requirements.txt (line 18)) (1.0.1)\n",
      "Requirement already satisfied: patsy>=0.5.6 in /Library/Frameworks/Python.framework/Versions/3.11/lib/python3.11/site-packages (from statsmodels>=0.13.2->statsforecast<2.0.2,>=1.7.0->autogluon.timeseries==1.3.1->autogluon.timeseries[all]==1.3.1->autogluon->-r requirements.txt (line 18)) (1.0.1)\n",
      "Requirement already satisfied: blis<1.3.0,>=1.2.0 in /Library/Frameworks/Python.framework/Versions/3.11/lib/python3.11/site-packages (from thinc<8.4.0,>=8.3.4->spacy<3.9->autogluon.tabular[all]==1.3.1->autogluon->-r requirements.txt (line 18)) (1.2.1)\n",
      "Requirement already satisfied: confection<1.0.0,>=0.0.1 in /Library/Frameworks/Python.framework/Versions/3.11/lib/python3.11/site-packages (from thinc<8.4.0,>=8.3.4->spacy<3.9->autogluon.tabular[all]==1.3.1->autogluon->-r requirements.txt (line 18)) (0.1.5)\n",
      "Requirement already satisfied: fs in /Library/Frameworks/Python.framework/Versions/3.11/lib/python3.11/site-packages (from triad>=0.9.7->fugue>=0.9.0->autogluon.timeseries==1.3.1->autogluon.timeseries[all]==1.3.1->autogluon->-r requirements.txt (line 18)) (2.4.16)\n",
      "Requirement already satisfied: shellingham>=1.3.0 in /Library/Frameworks/Python.framework/Versions/3.11/lib/python3.11/site-packages (from typer<1.0.0,>=0.3.0->spacy<3.9->autogluon.tabular[all]==1.3.1->autogluon->-r requirements.txt (line 18)) (1.5.4)\n",
      "Requirement already satisfied: markdown-it-py>=2.2.0 in /Library/Frameworks/Python.framework/Versions/3.11/lib/python3.11/site-packages (from rich->openmim<0.4.0,>=0.3.7->autogluon.multimodal==1.3.1->autogluon->-r requirements.txt (line 18)) (3.0.0)\n",
      "Requirement already satisfied: pygments<3.0.0,>=2.13.0 in /Users/thanyalak/Library/Python/3.11/lib/python/site-packages (from rich->openmim<0.4.0,>=0.3.7->autogluon.multimodal==1.3.1->autogluon->-r requirements.txt (line 18)) (2.17.2)\n",
      "Requirement already satisfied: blis<1.3.0,>=1.2.0 in /Library/Frameworks/Python.framework/Versions/3.11/lib/python3.11/site-packages (from thinc<8.4.0,>=8.3.4->spacy<3.9->autogluon.tabular[all]==1.3.1->autogluon->-r requirements.txt (line 18)) (1.2.1)\n",
      "Requirement already satisfied: confection<1.0.0,>=0.0.1 in /Library/Frameworks/Python.framework/Versions/3.11/lib/python3.11/site-packages (from thinc<8.4.0,>=8.3.4->spacy<3.9->autogluon.tabular[all]==1.3.1->autogluon->-r requirements.txt (line 18)) (0.1.5)\n",
      "Requirement already satisfied: fs in /Library/Frameworks/Python.framework/Versions/3.11/lib/python3.11/site-packages (from triad>=0.9.7->fugue>=0.9.0->autogluon.timeseries==1.3.1->autogluon.timeseries[all]==1.3.1->autogluon->-r requirements.txt (line 18)) (2.4.16)\n",
      "Requirement already satisfied: shellingham>=1.3.0 in /Library/Frameworks/Python.framework/Versions/3.11/lib/python3.11/site-packages (from typer<1.0.0,>=0.3.0->spacy<3.9->autogluon.tabular[all]==1.3.1->autogluon->-r requirements.txt (line 18)) (1.5.4)\n",
      "Requirement already satisfied: markdown-it-py>=2.2.0 in /Library/Frameworks/Python.framework/Versions/3.11/lib/python3.11/site-packages (from rich->openmim<0.4.0,>=0.3.7->autogluon.multimodal==1.3.1->autogluon->-r requirements.txt (line 18)) (3.0.0)\n",
      "Requirement already satisfied: pygments<3.0.0,>=2.13.0 in /Users/thanyalak/Library/Python/3.11/lib/python/site-packages (from rich->openmim<0.4.0,>=0.3.7->autogluon.multimodal==1.3.1->autogluon->-r requirements.txt (line 18)) (2.17.2)\n",
      "Requirement already satisfied: cloudpathlib<1.0.0,>=0.7.0 in /Library/Frameworks/Python.framework/Versions/3.11/lib/python3.11/site-packages (from weasel<0.5.0,>=0.1.0->spacy<3.9->autogluon.tabular[all]==1.3.1->autogluon->-r requirements.txt (line 18)) (0.21.1)\n",
      "Requirement already satisfied: wrapt in /Library/Frameworks/Python.framework/Versions/3.11/lib/python3.11/site-packages (from smart-open->ray[default,tune]<2.45,>=2.10.0; extra == \"all\"->autogluon.core[all]==1.3.1->autogluon->-r requirements.txt (line 18)) (1.17.0)\n",
      "Requirement already satisfied: cloudpathlib<1.0.0,>=0.7.0 in /Library/Frameworks/Python.framework/Versions/3.11/lib/python3.11/site-packages (from weasel<0.5.0,>=0.1.0->spacy<3.9->autogluon.tabular[all]==1.3.1->autogluon->-r requirements.txt (line 18)) (0.21.1)\n",
      "Requirement already satisfied: wrapt in /Library/Frameworks/Python.framework/Versions/3.11/lib/python3.11/site-packages (from smart-open->ray[default,tune]<2.45,>=2.10.0; extra == \"all\"->autogluon.core[all]==1.3.1->autogluon->-r requirements.txt (line 18)) (1.17.0)\n",
      "Requirement already satisfied: ordered-set in /Library/Frameworks/Python.framework/Versions/3.11/lib/python3.11/site-packages (from model-index->openmim<0.4.0,>=0.3.7->autogluon.multimodal==1.3.1->autogluon->-r requirements.txt (line 18)) (4.1.0)\n",
      "Requirement already satisfied: opencensus-context>=0.1.3 in /Library/Frameworks/Python.framework/Versions/3.11/lib/python3.11/site-packages (from opencensus->ray[default,tune]<2.45,>=2.10.0; extra == \"all\"->autogluon.core[all]==1.3.1->autogluon->-r requirements.txt (line 18)) (0.1.3)\n",
      "Requirement already satisfied: google-api-core<3.0.0,>=1.0.0 in /Users/thanyalak/Library/Python/3.11/lib/python/site-packages (from opencensus->ray[default,tune]<2.45,>=2.10.0; extra == \"all\"->autogluon.core[all]==1.3.1->autogluon->-r requirements.txt (line 18)) (2.22.0)\n",
      "Requirement already satisfied: pycryptodome in /Library/Frameworks/Python.framework/Versions/3.11/lib/python3.11/site-packages (from opendatalab->openmim<0.4.0,>=0.3.7->autogluon.multimodal==1.3.1->autogluon->-r requirements.txt (line 18)) (3.23.0)\n",
      "Requirement already satisfied: openxlab in /Library/Frameworks/Python.framework/Versions/3.11/lib/python3.11/site-packages (from opendatalab->openmim<0.4.0,>=0.3.7->autogluon.multimodal==1.3.1->autogluon->-r requirements.txt (line 18)) (0.0.11)\n",
      "Requirement already satisfied: beartype>=0.16.2 in /Library/Frameworks/Python.framework/Versions/3.11/lib/python3.11/site-packages (from plum-dispatch->fastai<2.9,>=2.3.1->autogluon.tabular[all]==1.3.1->autogluon->-r requirements.txt (line 18)) (0.21.0)\n",
      "Requirement already satisfied: ordered-set in /Library/Frameworks/Python.framework/Versions/3.11/lib/python3.11/site-packages (from model-index->openmim<0.4.0,>=0.3.7->autogluon.multimodal==1.3.1->autogluon->-r requirements.txt (line 18)) (4.1.0)\n",
      "Requirement already satisfied: opencensus-context>=0.1.3 in /Library/Frameworks/Python.framework/Versions/3.11/lib/python3.11/site-packages (from opencensus->ray[default,tune]<2.45,>=2.10.0; extra == \"all\"->autogluon.core[all]==1.3.1->autogluon->-r requirements.txt (line 18)) (0.1.3)\n",
      "Requirement already satisfied: google-api-core<3.0.0,>=1.0.0 in /Users/thanyalak/Library/Python/3.11/lib/python/site-packages (from opencensus->ray[default,tune]<2.45,>=2.10.0; extra == \"all\"->autogluon.core[all]==1.3.1->autogluon->-r requirements.txt (line 18)) (2.22.0)\n",
      "Requirement already satisfied: pycryptodome in /Library/Frameworks/Python.framework/Versions/3.11/lib/python3.11/site-packages (from opendatalab->openmim<0.4.0,>=0.3.7->autogluon.multimodal==1.3.1->autogluon->-r requirements.txt (line 18)) (3.23.0)\n",
      "Requirement already satisfied: openxlab in /Library/Frameworks/Python.framework/Versions/3.11/lib/python3.11/site-packages (from opendatalab->openmim<0.4.0,>=0.3.7->autogluon.multimodal==1.3.1->autogluon->-r requirements.txt (line 18)) (0.0.11)\n",
      "Requirement already satisfied: beartype>=0.16.2 in /Library/Frameworks/Python.framework/Versions/3.11/lib/python3.11/site-packages (from plum-dispatch->fastai<2.9,>=2.3.1->autogluon.tabular[all]==1.3.1->autogluon->-r requirements.txt (line 18)) (0.21.0)\n",
      "Requirement already satisfied: googleapis-common-protos<2.0.dev0,>=1.56.2 in /Users/thanyalak/Library/Python/3.11/lib/python/site-packages (from google-api-core<3.0.0,>=1.0.0->opencensus->ray[default,tune]<2.45,>=2.10.0; extra == \"all\"->autogluon.core[all]==1.3.1->autogluon->-r requirements.txt (line 18)) (1.65.0)\n",
      "Requirement already satisfied: proto-plus<2.0.0dev,>=1.22.3 in /Users/thanyalak/Library/Python/3.11/lib/python/site-packages (from google-api-core<3.0.0,>=1.0.0->opencensus->ray[default,tune]<2.45,>=2.10.0; extra == \"all\"->autogluon.core[all]==1.3.1->autogluon->-r requirements.txt (line 18)) (1.25.0)\n",
      "Requirement already satisfied: google-auth<3.0.dev0,>=2.14.1 in /Users/thanyalak/Library/Python/3.11/lib/python/site-packages (from google-api-core<3.0.0,>=1.0.0->opencensus->ray[default,tune]<2.45,>=2.10.0; extra == \"all\"->autogluon.core[all]==1.3.1->autogluon->-r requirements.txt (line 18)) (2.36.0)\n",
      "Requirement already satisfied: googleapis-common-protos<2.0.dev0,>=1.56.2 in /Users/thanyalak/Library/Python/3.11/lib/python/site-packages (from google-api-core<3.0.0,>=1.0.0->opencensus->ray[default,tune]<2.45,>=2.10.0; extra == \"all\"->autogluon.core[all]==1.3.1->autogluon->-r requirements.txt (line 18)) (1.65.0)\n",
      "Requirement already satisfied: proto-plus<2.0.0dev,>=1.22.3 in /Users/thanyalak/Library/Python/3.11/lib/python/site-packages (from google-api-core<3.0.0,>=1.0.0->opencensus->ray[default,tune]<2.45,>=2.10.0; extra == \"all\"->autogluon.core[all]==1.3.1->autogluon->-r requirements.txt (line 18)) (1.25.0)\n",
      "Requirement already satisfied: google-auth<3.0.dev0,>=2.14.1 in /Users/thanyalak/Library/Python/3.11/lib/python/site-packages (from google-api-core<3.0.0,>=1.0.0->opencensus->ray[default,tune]<2.45,>=2.10.0; extra == \"all\"->autogluon.core[all]==1.3.1->autogluon->-r requirements.txt (line 18)) (2.36.0)\n",
      "Requirement already satisfied: marisa-trie>=1.1.0 in /Library/Frameworks/Python.framework/Versions/3.11/lib/python3.11/site-packages (from language-data>=1.2->langcodes<4.0.0,>=3.2.0->spacy<3.9->autogluon.tabular[all]==1.3.1->autogluon->-r requirements.txt (line 18)) (1.2.1)\n",
      "Requirement already satisfied: mdurl~=0.1 in /Library/Frameworks/Python.framework/Versions/3.11/lib/python3.11/site-packages (from markdown-it-py>=2.2.0->rich->openmim<0.4.0,>=0.3.7->autogluon.multimodal==1.3.1->autogluon->-r requirements.txt (line 18)) (0.1.2)\n",
      "Requirement already satisfied: marisa-trie>=1.1.0 in /Library/Frameworks/Python.framework/Versions/3.11/lib/python3.11/site-packages (from language-data>=1.2->langcodes<4.0.0,>=3.2.0->spacy<3.9->autogluon.tabular[all]==1.3.1->autogluon->-r requirements.txt (line 18)) (1.2.1)\n",
      "Requirement already satisfied: mdurl~=0.1 in /Library/Frameworks/Python.framework/Versions/3.11/lib/python3.11/site-packages (from markdown-it-py>=2.2.0->rich->openmim<0.4.0,>=0.3.7->autogluon.multimodal==1.3.1->autogluon->-r requirements.txt (line 18)) (0.1.2)\n",
      "Requirement already satisfied: soupsieve>1.2 in /Library/Frameworks/Python.framework/Versions/3.11/lib/python3.11/site-packages (from beautifulsoup4->gdown>=4.0.0->nlpaug<1.2.0,>=1.1.10->autogluon.multimodal==1.3.1->autogluon->-r requirements.txt (line 18)) (2.5)\n",
      "Requirement already satisfied: appdirs~=1.4.3 in /Library/Frameworks/Python.framework/Versions/3.11/lib/python3.11/site-packages (from fs->triad>=0.9.7->fugue>=0.9.0->autogluon.timeseries==1.3.1->autogluon.timeseries[all]==1.3.1->autogluon->-r requirements.txt (line 18)) (1.4.4)\n",
      "Requirement already satisfied: PySocks!=1.5.7,>=1.5.6 in /Library/Frameworks/Python.framework/Versions/3.11/lib/python3.11/site-packages (from requests[socks]->gdown>=4.0.0->nlpaug<1.2.0,>=1.1.10->autogluon.multimodal==1.3.1->autogluon->-r requirements.txt (line 18)) (1.7.1)\n",
      "Requirement already satisfied: soupsieve>1.2 in /Library/Frameworks/Python.framework/Versions/3.11/lib/python3.11/site-packages (from beautifulsoup4->gdown>=4.0.0->nlpaug<1.2.0,>=1.1.10->autogluon.multimodal==1.3.1->autogluon->-r requirements.txt (line 18)) (2.5)\n",
      "Requirement already satisfied: appdirs~=1.4.3 in /Library/Frameworks/Python.framework/Versions/3.11/lib/python3.11/site-packages (from fs->triad>=0.9.7->fugue>=0.9.0->autogluon.timeseries==1.3.1->autogluon.timeseries[all]==1.3.1->autogluon->-r requirements.txt (line 18)) (1.4.4)\n",
      "Requirement already satisfied: PySocks!=1.5.7,>=1.5.6 in /Library/Frameworks/Python.framework/Versions/3.11/lib/python3.11/site-packages (from requests[socks]->gdown>=4.0.0->nlpaug<1.2.0,>=1.1.10->autogluon.multimodal==1.3.1->autogluon->-r requirements.txt (line 18)) (1.7.1)\n",
      "Requirement already satisfied: cachetools<6.0,>=2.0.0 in /Library/Frameworks/Python.framework/Versions/3.11/lib/python3.11/site-packages (from google-auth<3.0.dev0,>=2.14.1->google-api-core<3.0.0,>=1.0.0->opencensus->ray[default,tune]<2.45,>=2.10.0; extra == \"all\"->autogluon.core[all]==1.3.1->autogluon->-r requirements.txt (line 18)) (5.5.0)\n",
      "Requirement already satisfied: pyasn1-modules>=0.2.1 in /Users/thanyalak/Library/Python/3.11/lib/python/site-packages (from google-auth<3.0.dev0,>=2.14.1->google-api-core<3.0.0,>=1.0.0->opencensus->ray[default,tune]<2.45,>=2.10.0; extra == \"all\"->autogluon.core[all]==1.3.1->autogluon->-r requirements.txt (line 18)) (0.4.1)\n",
      "Requirement already satisfied: rsa<5,>=3.1.4 in /Users/thanyalak/Library/Python/3.11/lib/python/site-packages (from google-auth<3.0.dev0,>=2.14.1->google-api-core<3.0.0,>=1.0.0->opencensus->ray[default,tune]<2.45,>=2.10.0; extra == \"all\"->autogluon.core[all]==1.3.1->autogluon->-r requirements.txt (line 18)) (4.9)\n",
      "Requirement already satisfied: cachetools<6.0,>=2.0.0 in /Library/Frameworks/Python.framework/Versions/3.11/lib/python3.11/site-packages (from google-auth<3.0.dev0,>=2.14.1->google-api-core<3.0.0,>=1.0.0->opencensus->ray[default,tune]<2.45,>=2.10.0; extra == \"all\"->autogluon.core[all]==1.3.1->autogluon->-r requirements.txt (line 18)) (5.5.0)\n",
      "Requirement already satisfied: pyasn1-modules>=0.2.1 in /Users/thanyalak/Library/Python/3.11/lib/python/site-packages (from google-auth<3.0.dev0,>=2.14.1->google-api-core<3.0.0,>=1.0.0->opencensus->ray[default,tune]<2.45,>=2.10.0; extra == \"all\"->autogluon.core[all]==1.3.1->autogluon->-r requirements.txt (line 18)) (0.4.1)\n",
      "Requirement already satisfied: rsa<5,>=3.1.4 in /Users/thanyalak/Library/Python/3.11/lib/python/site-packages (from google-auth<3.0.dev0,>=2.14.1->google-api-core<3.0.0,>=1.0.0->opencensus->ray[default,tune]<2.45,>=2.10.0; extra == \"all\"->autogluon.core[all]==1.3.1->autogluon->-r requirements.txt (line 18)) (4.9)\n",
      "Requirement already satisfied: pyasn1<0.7.0,>=0.4.6 in /Users/thanyalak/Library/Python/3.11/lib/python/site-packages (from pyasn1-modules>=0.2.1->google-auth<3.0.dev0,>=2.14.1->google-api-core<3.0.0,>=1.0.0->opencensus->ray[default,tune]<2.45,>=2.10.0; extra == \"all\"->autogluon.core[all]==1.3.1->autogluon->-r requirements.txt (line 18)) (0.6.1)\n",
      "Requirement already satisfied: pyasn1<0.7.0,>=0.4.6 in /Users/thanyalak/Library/Python/3.11/lib/python/site-packages (from pyasn1-modules>=0.2.1->google-auth<3.0.dev0,>=2.14.1->google-api-core<3.0.0,>=1.0.0->opencensus->ray[default,tune]<2.45,>=2.10.0; extra == \"all\"->autogluon.core[all]==1.3.1->autogluon->-r requirements.txt (line 18)) (0.6.1)\n",
      "\n",
      "\u001b[1m[\u001b[0m\u001b[34;49mnotice\u001b[0m\u001b[1;39;49m]\u001b[0m\u001b[39;49m A new release of pip is available: \u001b[0m\u001b[31;49m25.0.1\u001b[0m\u001b[39;49m -> \u001b[0m\u001b[32;49m25.1.1\u001b[0m\n",
      "\u001b[1m[\u001b[0m\u001b[34;49mnotice\u001b[0m\u001b[1;39;49m]\u001b[0m\u001b[39;49m To update, run: \u001b[0m\u001b[32;49mpython3.11 -m pip install --upgrade pip\u001b[0m\n",
      "\n",
      "\u001b[1m[\u001b[0m\u001b[34;49mnotice\u001b[0m\u001b[1;39;49m]\u001b[0m\u001b[39;49m A new release of pip is available: \u001b[0m\u001b[31;49m25.0.1\u001b[0m\u001b[39;49m -> \u001b[0m\u001b[32;49m25.1.1\u001b[0m\n",
      "\u001b[1m[\u001b[0m\u001b[34;49mnotice\u001b[0m\u001b[1;39;49m]\u001b[0m\u001b[39;49m To update, run: \u001b[0m\u001b[32;49mpython3.11 -m pip install --upgrade pip\u001b[0m\n",
      "Note: you may need to restart the kernel to use updated packages.\n",
      "Note: you may need to restart the kernel to use updated packages.\n"
     ]
    }
   ],
   "source": [
    "# for python 3.12.3\n",
    "%pip install -r requirements.txt"
   ]
  },
  {
   "cell_type": "markdown",
   "id": "5efeed67",
   "metadata": {},
   "source": [
    "## Import Library"
   ]
  },
  {
   "cell_type": "code",
   "execution_count": 50,
   "id": "34dccf6e",
   "metadata": {},
   "outputs": [],
   "source": [
    "## Import Library\n",
    "import pandas as pd\n",
    "import numpy as np\n",
    "import matplotlib.pyplot as plt\n",
    "import plotly.graph_objects as go\n",
    "from plotly.subplots import make_subplots\n",
    "import seaborn as sns\n",
    "import datetime as dt\n",
    "from tqdm import tqdm\n",
    "import optuna\n",
    "from scipy.stats import randint, uniform\n",
    "from skopt import BayesSearchCV\n",
    "from scipy.stats import skew, normaltest, zscore\n",
    "from geopy.distance import geodesic\n",
    "from sklearn.pipeline import Pipeline\n",
    "from sklearn.preprocessing import LabelEncoder, StandardScaler\n",
    "from sklearn.feature_selection import SelectKBest, f_classif\n",
    "from sklearn.decomposition import PCA\n",
    "from sklearn.model_selection import ParameterGrid, RandomizedSearchCV, ParameterSampler, GridSearchCV\n",
    "from sklearn.ensemble import IsolationForest\n",
    "from sklearn.metrics import classification_report, make_scorer, f1_score, precision_score, recall_score, roc_auc_score\n",
    "from sklearn.metrics import roc_curve, auc, confusion_matrix, precision_recall_curve, ConfusionMatrixDisplay, average_precision_score, cohen_kappa_score\n",
    "from sklearn.model_selection import train_test_split\n",
    "from sklearn.utils import resample\n",
    "import json\n",
    "import joblib\n",
    "import warnings\n",
    "warnings.filterwarnings(\"ignore\")"
   ]
  },
  {
   "cell_type": "markdown",
   "id": "3b7f0f7e",
   "metadata": {},
   "source": [
    "## Read Data"
   ]
  },
  {
   "cell_type": "code",
   "execution_count": 51,
   "id": "bfa75988",
   "metadata": {},
   "outputs": [],
   "source": [
    "df = pd.read_csv(\"/Users/thanyalak/Desktop/y_lims/DADS4/9000_IS_FraudDetection/repos/Credit_Card_Fraud_Detection/data/fraudTrain_cleaned.csv\", index_col=0)"
   ]
  },
  {
   "cell_type": "code",
   "execution_count": 52,
   "id": "cdd2f7f7",
   "metadata": {},
   "outputs": [],
   "source": [
    "# Convert trans_date_trans_time to datetime\n",
    "df['trans_date_trans_time'] = pd.to_datetime(df['trans_date_trans_time'])"
   ]
  },
  {
   "cell_type": "code",
   "execution_count": 53,
   "id": "703c162d",
   "metadata": {},
   "outputs": [
    {
     "data": {
      "text/html": [
       "<div>\n",
       "<style scoped>\n",
       "    .dataframe tbody tr th:only-of-type {\n",
       "        vertical-align: middle;\n",
       "    }\n",
       "\n",
       "    .dataframe tbody tr th {\n",
       "        vertical-align: top;\n",
       "    }\n",
       "\n",
       "    .dataframe thead th {\n",
       "        text-align: right;\n",
       "    }\n",
       "</style>\n",
       "<table border=\"1\" class=\"dataframe\">\n",
       "  <thead>\n",
       "    <tr style=\"text-align: right;\">\n",
       "      <th></th>\n",
       "      <th>trans_date_trans_time</th>\n",
       "      <th>cc_num</th>\n",
       "      <th>merchant</th>\n",
       "      <th>amt</th>\n",
       "      <th>first</th>\n",
       "      <th>last</th>\n",
       "      <th>gender</th>\n",
       "      <th>street</th>\n",
       "      <th>city</th>\n",
       "      <th>state</th>\n",
       "      <th>...</th>\n",
       "      <th>category_health_fitness</th>\n",
       "      <th>category_home</th>\n",
       "      <th>category_kids_pets</th>\n",
       "      <th>category_misc_net</th>\n",
       "      <th>category_misc_pos</th>\n",
       "      <th>category_personal_care</th>\n",
       "      <th>category_shopping_net</th>\n",
       "      <th>category_shopping_pos</th>\n",
       "      <th>category_travel</th>\n",
       "      <th>distance</th>\n",
       "    </tr>\n",
       "    <tr>\n",
       "      <th>Unnamed: 0</th>\n",
       "      <th></th>\n",
       "      <th></th>\n",
       "      <th></th>\n",
       "      <th></th>\n",
       "      <th></th>\n",
       "      <th></th>\n",
       "      <th></th>\n",
       "      <th></th>\n",
       "      <th></th>\n",
       "      <th></th>\n",
       "      <th></th>\n",
       "      <th></th>\n",
       "      <th></th>\n",
       "      <th></th>\n",
       "      <th></th>\n",
       "      <th></th>\n",
       "      <th></th>\n",
       "      <th></th>\n",
       "      <th></th>\n",
       "      <th></th>\n",
       "      <th></th>\n",
       "    </tr>\n",
       "  </thead>\n",
       "  <tbody>\n",
       "    <tr>\n",
       "      <th>0</th>\n",
       "      <td>2019-01-01 00:00:18</td>\n",
       "      <td>2703186189652095</td>\n",
       "      <td>514</td>\n",
       "      <td>4.97</td>\n",
       "      <td>Jennifer</td>\n",
       "      <td>Banks</td>\n",
       "      <td>0</td>\n",
       "      <td>561 Perry Cove</td>\n",
       "      <td>526</td>\n",
       "      <td>27</td>\n",
       "      <td>...</td>\n",
       "      <td>0</td>\n",
       "      <td>0</td>\n",
       "      <td>0</td>\n",
       "      <td>1</td>\n",
       "      <td>0</td>\n",
       "      <td>0</td>\n",
       "      <td>0</td>\n",
       "      <td>0</td>\n",
       "      <td>0</td>\n",
       "      <td>78.773821</td>\n",
       "    </tr>\n",
       "    <tr>\n",
       "      <th>1</th>\n",
       "      <td>2019-01-01 00:00:44</td>\n",
       "      <td>630423337322</td>\n",
       "      <td>241</td>\n",
       "      <td>107.23</td>\n",
       "      <td>Stephanie</td>\n",
       "      <td>Gill</td>\n",
       "      <td>0</td>\n",
       "      <td>43039 Riley Greens Suite 393</td>\n",
       "      <td>612</td>\n",
       "      <td>47</td>\n",
       "      <td>...</td>\n",
       "      <td>0</td>\n",
       "      <td>0</td>\n",
       "      <td>0</td>\n",
       "      <td>0</td>\n",
       "      <td>0</td>\n",
       "      <td>0</td>\n",
       "      <td>0</td>\n",
       "      <td>0</td>\n",
       "      <td>0</td>\n",
       "      <td>30.216618</td>\n",
       "    </tr>\n",
       "    <tr>\n",
       "      <th>2</th>\n",
       "      <td>2019-01-01 00:00:51</td>\n",
       "      <td>38859492057661</td>\n",
       "      <td>390</td>\n",
       "      <td>220.11</td>\n",
       "      <td>Edward</td>\n",
       "      <td>Sanchez</td>\n",
       "      <td>1</td>\n",
       "      <td>594 White Dale Suite 530</td>\n",
       "      <td>468</td>\n",
       "      <td>13</td>\n",
       "      <td>...</td>\n",
       "      <td>0</td>\n",
       "      <td>0</td>\n",
       "      <td>0</td>\n",
       "      <td>0</td>\n",
       "      <td>0</td>\n",
       "      <td>0</td>\n",
       "      <td>0</td>\n",
       "      <td>0</td>\n",
       "      <td>0</td>\n",
       "      <td>108.102912</td>\n",
       "    </tr>\n",
       "    <tr>\n",
       "      <th>3</th>\n",
       "      <td>2019-01-01 00:01:16</td>\n",
       "      <td>3534093764340240</td>\n",
       "      <td>360</td>\n",
       "      <td>45.00</td>\n",
       "      <td>Jeremy</td>\n",
       "      <td>White</td>\n",
       "      <td>1</td>\n",
       "      <td>9443 Cynthia Court Apt. 038</td>\n",
       "      <td>84</td>\n",
       "      <td>26</td>\n",
       "      <td>...</td>\n",
       "      <td>0</td>\n",
       "      <td>0</td>\n",
       "      <td>0</td>\n",
       "      <td>0</td>\n",
       "      <td>0</td>\n",
       "      <td>0</td>\n",
       "      <td>0</td>\n",
       "      <td>0</td>\n",
       "      <td>0</td>\n",
       "      <td>95.685115</td>\n",
       "    </tr>\n",
       "    <tr>\n",
       "      <th>4</th>\n",
       "      <td>2019-01-01 00:03:06</td>\n",
       "      <td>375534208663984</td>\n",
       "      <td>297</td>\n",
       "      <td>41.96</td>\n",
       "      <td>Tyler</td>\n",
       "      <td>Garcia</td>\n",
       "      <td>1</td>\n",
       "      <td>408 Bradley Rest</td>\n",
       "      <td>216</td>\n",
       "      <td>45</td>\n",
       "      <td>...</td>\n",
       "      <td>0</td>\n",
       "      <td>0</td>\n",
       "      <td>0</td>\n",
       "      <td>0</td>\n",
       "      <td>1</td>\n",
       "      <td>0</td>\n",
       "      <td>0</td>\n",
       "      <td>0</td>\n",
       "      <td>0</td>\n",
       "      <td>77.702395</td>\n",
       "    </tr>\n",
       "  </tbody>\n",
       "</table>\n",
       "<p>5 rows × 48 columns</p>\n",
       "</div>"
      ],
      "text/plain": [
       "           trans_date_trans_time            cc_num  merchant     amt  \\\n",
       "Unnamed: 0                                                             \n",
       "0            2019-01-01 00:00:18  2703186189652095       514    4.97   \n",
       "1            2019-01-01 00:00:44      630423337322       241  107.23   \n",
       "2            2019-01-01 00:00:51    38859492057661       390  220.11   \n",
       "3            2019-01-01 00:01:16  3534093764340240       360   45.00   \n",
       "4            2019-01-01 00:03:06   375534208663984       297   41.96   \n",
       "\n",
       "                first     last  gender                        street  city  \\\n",
       "Unnamed: 0                                                                   \n",
       "0            Jennifer    Banks       0                561 Perry Cove   526   \n",
       "1           Stephanie     Gill       0  43039 Riley Greens Suite 393   612   \n",
       "2              Edward  Sanchez       1      594 White Dale Suite 530   468   \n",
       "3              Jeremy    White       1   9443 Cynthia Court Apt. 038    84   \n",
       "4               Tyler   Garcia       1              408 Bradley Rest   216   \n",
       "\n",
       "            state  ...  category_health_fitness  category_home  \\\n",
       "Unnamed: 0         ...                                           \n",
       "0              27  ...                        0              0   \n",
       "1              47  ...                        0              0   \n",
       "2              13  ...                        0              0   \n",
       "3              26  ...                        0              0   \n",
       "4              45  ...                        0              0   \n",
       "\n",
       "            category_kids_pets  category_misc_net  category_misc_pos  \\\n",
       "Unnamed: 0                                                             \n",
       "0                            0                  1                  0   \n",
       "1                            0                  0                  0   \n",
       "2                            0                  0                  0   \n",
       "3                            0                  0                  0   \n",
       "4                            0                  0                  1   \n",
       "\n",
       "           category_personal_care category_shopping_net  \\\n",
       "Unnamed: 0                                                \n",
       "0                               0                     0   \n",
       "1                               0                     0   \n",
       "2                               0                     0   \n",
       "3                               0                     0   \n",
       "4                               0                     0   \n",
       "\n",
       "            category_shopping_pos  category_travel    distance  \n",
       "Unnamed: 0                                                      \n",
       "0                               0                0   78.773821  \n",
       "1                               0                0   30.216618  \n",
       "2                               0                0  108.102912  \n",
       "3                               0                0   95.685115  \n",
       "4                               0                0   77.702395  \n",
       "\n",
       "[5 rows x 48 columns]"
      ]
     },
     "execution_count": 53,
     "metadata": {},
     "output_type": "execute_result"
    }
   ],
   "source": [
    "df.head()"
   ]
  },
  {
   "cell_type": "code",
   "execution_count": 54,
   "id": "574c959e",
   "metadata": {},
   "outputs": [
    {
     "data": {
      "text/plain": [
       "Index(['trans_date_trans_time', 'cc_num', 'merchant', 'amt', 'first', 'last',\n",
       "       'gender', 'street', 'city', 'state', 'zip', 'lat', 'long', 'city_pop',\n",
       "       'job', 'dob', 'trans_num', 'unix_time', 'merch_lat', 'merch_long',\n",
       "       'is_fraud', 'age', 'hour', 'day', 'month', 'year', 'is_weekend',\n",
       "       'is_weekday', 'time_diff', 'diff_days', 'diff_hours', 'diff_minutes',\n",
       "       'diff_seconds', 'category_entertainment', 'category_food_dining',\n",
       "       'category_gas_transport', 'category_grocery_net',\n",
       "       'category_grocery_pos', 'category_health_fitness', 'category_home',\n",
       "       'category_kids_pets', 'category_misc_net', 'category_misc_pos',\n",
       "       'category_personal_care', 'category_shopping_net',\n",
       "       'category_shopping_pos', 'category_travel', 'distance'],\n",
       "      dtype='object')"
      ]
     },
     "execution_count": 54,
     "metadata": {},
     "output_type": "execute_result"
    }
   ],
   "source": [
    "df.columns"
   ]
  },
  {
   "cell_type": "code",
   "execution_count": 55,
   "id": "74447aac",
   "metadata": {},
   "outputs": [
    {
     "data": {
      "text/plain": [
       "trans_date_trans_time      datetime64[ns]\n",
       "cc_num                              int64\n",
       "merchant                            int64\n",
       "amt                               float64\n",
       "first                              object\n",
       "last                               object\n",
       "gender                              int64\n",
       "street                             object\n",
       "city                                int64\n",
       "state                               int64\n",
       "zip                                 int64\n",
       "lat                               float64\n",
       "long                              float64\n",
       "city_pop                            int64\n",
       "job                                 int64\n",
       "dob                                object\n",
       "trans_num                          object\n",
       "unix_time                           int64\n",
       "merch_lat                         float64\n",
       "merch_long                        float64\n",
       "is_fraud                            int64\n",
       "age                                 int64\n",
       "hour                                int64\n",
       "day                                 int64\n",
       "month                               int64\n",
       "year                                int64\n",
       "is_weekend                          int64\n",
       "is_weekday                          int64\n",
       "time_diff                           int64\n",
       "diff_days                           int64\n",
       "diff_hours                          int64\n",
       "diff_minutes                        int64\n",
       "diff_seconds                        int64\n",
       "category_entertainment              int64\n",
       "category_food_dining                int64\n",
       "category_gas_transport              int64\n",
       "category_grocery_net                int64\n",
       "category_grocery_pos                int64\n",
       "category_health_fitness             int64\n",
       "category_home                       int64\n",
       "category_kids_pets                  int64\n",
       "category_misc_net                   int64\n",
       "category_misc_pos                   int64\n",
       "category_personal_care              int64\n",
       "category_shopping_net               int64\n",
       "category_shopping_pos               int64\n",
       "category_travel                     int64\n",
       "distance                          float64\n",
       "dtype: object"
      ]
     },
     "execution_count": 55,
     "metadata": {},
     "output_type": "execute_result"
    }
   ],
   "source": [
    "df.dtypes"
   ]
  },
  {
   "cell_type": "code",
   "execution_count": 56,
   "id": "93284af9",
   "metadata": {},
   "outputs": [
    {
     "data": {
      "text/plain": [
       "trans_date_trans_time      0\n",
       "cc_num                     0\n",
       "merchant                   0\n",
       "amt                        0\n",
       "first                      0\n",
       "last                       0\n",
       "gender                     0\n",
       "street                     0\n",
       "city                       0\n",
       "state                      0\n",
       "zip                        0\n",
       "lat                        0\n",
       "long                       0\n",
       "city_pop                   0\n",
       "job                        0\n",
       "dob                        0\n",
       "trans_num                  0\n",
       "unix_time                  0\n",
       "merch_lat                  0\n",
       "merch_long                 0\n",
       "is_fraud                   0\n",
       "age                        0\n",
       "hour                       0\n",
       "day                        0\n",
       "month                      0\n",
       "year                       0\n",
       "is_weekend                 0\n",
       "is_weekday                 0\n",
       "time_diff                  0\n",
       "diff_days                  0\n",
       "diff_hours                 0\n",
       "diff_minutes               0\n",
       "diff_seconds               0\n",
       "category_entertainment     0\n",
       "category_food_dining       0\n",
       "category_gas_transport     0\n",
       "category_grocery_net       0\n",
       "category_grocery_pos       0\n",
       "category_health_fitness    0\n",
       "category_home              0\n",
       "category_kids_pets         0\n",
       "category_misc_net          0\n",
       "category_misc_pos          0\n",
       "category_personal_care     0\n",
       "category_shopping_net      0\n",
       "category_shopping_pos      0\n",
       "category_travel            0\n",
       "distance                   0\n",
       "dtype: int64"
      ]
     },
     "execution_count": 56,
     "metadata": {},
     "output_type": "execute_result"
    }
   ],
   "source": [
    "df.isnull().sum()"
   ]
  },
  {
   "cell_type": "code",
   "execution_count": 57,
   "id": "441da6cd",
   "metadata": {},
   "outputs": [],
   "source": [
    "df_all = df.copy()\n",
    "\n",
    "# Standard 70/20/10 train/validation/test split\n",
    "# First split: 70% train, 30% temp (which will be split into 20% val, 10% test)\n",
    "X_temp = df_all.drop(['first', 'last', 'street', 'trans_date_trans_time', 'dob', 'trans_num', 'is_fraud'], axis=1)\n",
    "y_temp = df_all['is_fraud']\n",
    "\n",
    "X_train, X_temp, y_train, y_temp = train_test_split(\n",
    "    X_temp, y_temp, test_size=0.3, random_state=42, stratify=y_temp\n",
    ")\n",
    "\n",
    "# Second split: 20% validation, 10% test (from the 30% temp)\n",
    "# 20/30 = 0.667 for validation, 10/30 = 0.333 for test\n",
    "X_val, X_test, y_val, y_test = train_test_split(\n",
    "    X_temp, y_temp, test_size=0.333, random_state=42, stratify=y_temp\n",
    ")\n",
    "\n",
    "# Get corresponding dataframes for later use\n",
    "train_indices = X_train.index\n",
    "val_indices = X_val.index\n",
    "test_indices = X_test.index\n",
    "\n",
    "df_train_final = df_all.loc[train_indices]\n",
    "df_val = df_all.loc[val_indices]\n",
    "df_test = df_all.loc[test_indices]"
   ]
  },
  {
   "cell_type": "code",
   "execution_count": 58,
   "id": "e5110fff",
   "metadata": {},
   "outputs": [
    {
     "name": "stdout",
     "output_type": "stream",
     "text": [
      "=== Standard 70/20/10 Split Information ===\n",
      "Training set: 907,672 samples (70.0%)\n",
      "Validation set: 259,465 samples (20.0%)\n",
      "Test set: 129,538 samples (10.0%)\n",
      "Total: 1,296,675 samples\n",
      "\n",
      "=== Fraud Distribution by Set ===\n",
      "Training set fraud rate: 0.58%\n",
      "Validation set fraud rate: 0.58%\n",
      "Test set fraud rate: 0.58%\n",
      "Overall fraud rate: 0.58%\n"
     ]
    }
   ],
   "source": [
    "print(\"=== Standard 70/20/10 Split Information ===\")\n",
    "print(f\"Training set: {len(df_train_final):,} samples ({len(df_train_final)/len(df_all)*100:.1f}%)\")\n",
    "print(f\"Validation set: {len(df_val):,} samples ({len(df_val)/len(df_all)*100:.1f}%)\")\n",
    "print(f\"Test set: {len(df_test):,} samples ({len(df_test)/len(df_all)*100:.1f}%)\")\n",
    "print(f\"Total: {len(df_all):,} samples\")\n",
    "\n",
    "print(\"\\n=== Fraud Distribution by Set ===\")\n",
    "print(f\"Training set fraud rate: {df_train_final['is_fraud'].mean()*100:.2f}%\")\n",
    "print(f\"Validation set fraud rate: {df_val['is_fraud'].mean()*100:.2f}%\")\n",
    "print(f\"Test set fraud rate: {df_test['is_fraud'].mean()*100:.2f}%\")\n",
    "print(f\"Overall fraud rate: {df_all['is_fraud'].mean()*100:.2f}%\")"
   ]
  },
  {
   "cell_type": "code",
   "execution_count": 59,
   "id": "7ddac62d",
   "metadata": {},
   "outputs": [
    {
     "data": {
      "text/plain": [
       "((907672, 48), (259465, 48), (129538, 48))"
      ]
     },
     "execution_count": 59,
     "metadata": {},
     "output_type": "execute_result"
    }
   ],
   "source": [
    "df_train_final.shape, df_val.shape, df_test.shape"
   ]
  },
  {
   "cell_type": "markdown",
   "id": "eb717220",
   "metadata": {},
   "source": [
    "# Model Pipeline"
   ]
  },
  {
   "cell_type": "markdown",
   "id": "49e67891",
   "metadata": {},
   "source": [
    "## 1. Features"
   ]
  },
  {
   "cell_type": "markdown",
   "id": "86d83ea1",
   "metadata": {},
   "source": [
    "### 1.1 Split Features and Target"
   ]
  },
  {
   "cell_type": "code",
   "execution_count": 60,
   "id": "d369f376",
   "metadata": {},
   "outputs": [],
   "source": [
    "columns_to_exclude = ['first', 'last', 'street', 'trans_date_trans_time', 'dob', 'trans_num']\n",
    "\n",
    "# Train\n",
    "X_train = df_train_final.drop(columns_to_exclude, axis=1)\n",
    "y_train = df_train_final[\"is_fraud\"]\n",
    "\n",
    "# Validation\n",
    "X_val = df_val.drop(columns_to_exclude, axis=1)\n",
    "y_val = df_val[\"is_fraud\"]\n",
    "\n",
    "# Test\n",
    "X_test = df_test.drop(columns_to_exclude, axis=1)\n",
    "y_test = df_test[\"is_fraud\"]"
   ]
  },
  {
   "cell_type": "markdown",
   "id": "9d21a0c2",
   "metadata": {},
   "source": [
    "### 1.2 Feature Scaling"
   ]
  },
  {
   "cell_type": "code",
   "execution_count": 61,
   "id": "e5cf8f21",
   "metadata": {},
   "outputs": [],
   "source": [
    "# Scaling\n",
    "scaler = StandardScaler()\n",
    "X_train_scaled = scaler.fit_transform(X_train)\n",
    "X_val_scaled = scaler.transform(X_val)\n",
    "X_test_scaled = scaler.transform(X_test)"
   ]
  },
  {
   "cell_type": "markdown",
   "id": "e290415e",
   "metadata": {},
   "source": [
    "### 1.3 Feature Selection"
   ]
  },
  {
   "cell_type": "code",
   "execution_count": 62,
   "id": "2398a1ee",
   "metadata": {},
   "outputs": [],
   "source": [
    "# 1st: Select K Best (Find the 10 best features)\n",
    "# Feature selection\n",
    "selector = SelectKBest(score_func=f_classif, k=10)\n",
    "X_train_selected = selector.fit_transform(X_train_scaled, y_train)\n",
    "X_val_selected = selector.transform(X_val_scaled)\n",
    "X_test_selected = selector.transform(X_test_scaled)"
   ]
  },
  {
   "cell_type": "markdown",
   "id": "b72f0a56",
   "metadata": {},
   "source": [
    "Result from SelectKBest"
   ]
  },
  {
   "cell_type": "code",
   "execution_count": 63,
   "id": "5ea93e90",
   "metadata": {},
   "outputs": [
    {
     "name": "stdout",
     "output_type": "stream",
     "text": [
      "Selected Features: Index(['amt', 'time_diff', 'diff_hours', 'diff_seconds',\n",
      "       'category_food_dining', 'category_grocery_pos', 'category_home',\n",
      "       'category_kids_pets', 'category_misc_net', 'category_shopping_net'],\n",
      "      dtype='object')\n"
     ]
    }
   ],
   "source": [
    "# List the selected features from SelectKBest\n",
    "selected_features = selector.get_support(indices=True)\n",
    "selected_feature_names = X_train.columns[selected_features]\n",
    "print(\"Selected Features:\", selected_feature_names)"
   ]
  },
  {
   "cell_type": "code",
   "execution_count": 64,
   "id": "6c5b3670",
   "metadata": {},
   "outputs": [],
   "source": [
    "# 2nd: PCA (Dimensionality Reduction)\n",
    "pca = PCA(n_components=5)\n",
    "X_train_pca = pca.fit_transform(X_train_selected)\n",
    "X_val_pca = pca.transform(X_val_selected)\n",
    "X_test_pca = pca.transform(X_test_selected)"
   ]
  },
  {
   "cell_type": "code",
   "execution_count": 65,
   "id": "2b9236a2",
   "metadata": {},
   "outputs": [
    {
     "data": {
      "text/html": [
       "<style>#sk-container-id-3 {\n",
       "  /* Definition of color scheme common for light and dark mode */\n",
       "  --sklearn-color-text: #000;\n",
       "  --sklearn-color-text-muted: #666;\n",
       "  --sklearn-color-line: gray;\n",
       "  /* Definition of color scheme for unfitted estimators */\n",
       "  --sklearn-color-unfitted-level-0: #fff5e6;\n",
       "  --sklearn-color-unfitted-level-1: #f6e4d2;\n",
       "  --sklearn-color-unfitted-level-2: #ffe0b3;\n",
       "  --sklearn-color-unfitted-level-3: chocolate;\n",
       "  /* Definition of color scheme for fitted estimators */\n",
       "  --sklearn-color-fitted-level-0: #f0f8ff;\n",
       "  --sklearn-color-fitted-level-1: #d4ebff;\n",
       "  --sklearn-color-fitted-level-2: #b3dbfd;\n",
       "  --sklearn-color-fitted-level-3: cornflowerblue;\n",
       "\n",
       "  /* Specific color for light theme */\n",
       "  --sklearn-color-text-on-default-background: var(--sg-text-color, var(--theme-code-foreground, var(--jp-content-font-color1, black)));\n",
       "  --sklearn-color-background: var(--sg-background-color, var(--theme-background, var(--jp-layout-color0, white)));\n",
       "  --sklearn-color-border-box: var(--sg-text-color, var(--theme-code-foreground, var(--jp-content-font-color1, black)));\n",
       "  --sklearn-color-icon: #696969;\n",
       "\n",
       "  @media (prefers-color-scheme: dark) {\n",
       "    /* Redefinition of color scheme for dark theme */\n",
       "    --sklearn-color-text-on-default-background: var(--sg-text-color, var(--theme-code-foreground, var(--jp-content-font-color1, white)));\n",
       "    --sklearn-color-background: var(--sg-background-color, var(--theme-background, var(--jp-layout-color0, #111)));\n",
       "    --sklearn-color-border-box: var(--sg-text-color, var(--theme-code-foreground, var(--jp-content-font-color1, white)));\n",
       "    --sklearn-color-icon: #878787;\n",
       "  }\n",
       "}\n",
       "\n",
       "#sk-container-id-3 {\n",
       "  color: var(--sklearn-color-text);\n",
       "}\n",
       "\n",
       "#sk-container-id-3 pre {\n",
       "  padding: 0;\n",
       "}\n",
       "\n",
       "#sk-container-id-3 input.sk-hidden--visually {\n",
       "  border: 0;\n",
       "  clip: rect(1px 1px 1px 1px);\n",
       "  clip: rect(1px, 1px, 1px, 1px);\n",
       "  height: 1px;\n",
       "  margin: -1px;\n",
       "  overflow: hidden;\n",
       "  padding: 0;\n",
       "  position: absolute;\n",
       "  width: 1px;\n",
       "}\n",
       "\n",
       "#sk-container-id-3 div.sk-dashed-wrapped {\n",
       "  border: 1px dashed var(--sklearn-color-line);\n",
       "  margin: 0 0.4em 0.5em 0.4em;\n",
       "  box-sizing: border-box;\n",
       "  padding-bottom: 0.4em;\n",
       "  background-color: var(--sklearn-color-background);\n",
       "}\n",
       "\n",
       "#sk-container-id-3 div.sk-container {\n",
       "  /* jupyter's `normalize.less` sets `[hidden] { display: none; }`\n",
       "     but bootstrap.min.css set `[hidden] { display: none !important; }`\n",
       "     so we also need the `!important` here to be able to override the\n",
       "     default hidden behavior on the sphinx rendered scikit-learn.org.\n",
       "     See: https://github.com/scikit-learn/scikit-learn/issues/21755 */\n",
       "  display: inline-block !important;\n",
       "  position: relative;\n",
       "}\n",
       "\n",
       "#sk-container-id-3 div.sk-text-repr-fallback {\n",
       "  display: none;\n",
       "}\n",
       "\n",
       "div.sk-parallel-item,\n",
       "div.sk-serial,\n",
       "div.sk-item {\n",
       "  /* draw centered vertical line to link estimators */\n",
       "  background-image: linear-gradient(var(--sklearn-color-text-on-default-background), var(--sklearn-color-text-on-default-background));\n",
       "  background-size: 2px 100%;\n",
       "  background-repeat: no-repeat;\n",
       "  background-position: center center;\n",
       "}\n",
       "\n",
       "/* Parallel-specific style estimator block */\n",
       "\n",
       "#sk-container-id-3 div.sk-parallel-item::after {\n",
       "  content: \"\";\n",
       "  width: 100%;\n",
       "  border-bottom: 2px solid var(--sklearn-color-text-on-default-background);\n",
       "  flex-grow: 1;\n",
       "}\n",
       "\n",
       "#sk-container-id-3 div.sk-parallel {\n",
       "  display: flex;\n",
       "  align-items: stretch;\n",
       "  justify-content: center;\n",
       "  background-color: var(--sklearn-color-background);\n",
       "  position: relative;\n",
       "}\n",
       "\n",
       "#sk-container-id-3 div.sk-parallel-item {\n",
       "  display: flex;\n",
       "  flex-direction: column;\n",
       "}\n",
       "\n",
       "#sk-container-id-3 div.sk-parallel-item:first-child::after {\n",
       "  align-self: flex-end;\n",
       "  width: 50%;\n",
       "}\n",
       "\n",
       "#sk-container-id-3 div.sk-parallel-item:last-child::after {\n",
       "  align-self: flex-start;\n",
       "  width: 50%;\n",
       "}\n",
       "\n",
       "#sk-container-id-3 div.sk-parallel-item:only-child::after {\n",
       "  width: 0;\n",
       "}\n",
       "\n",
       "/* Serial-specific style estimator block */\n",
       "\n",
       "#sk-container-id-3 div.sk-serial {\n",
       "  display: flex;\n",
       "  flex-direction: column;\n",
       "  align-items: center;\n",
       "  background-color: var(--sklearn-color-background);\n",
       "  padding-right: 1em;\n",
       "  padding-left: 1em;\n",
       "}\n",
       "\n",
       "\n",
       "/* Toggleable style: style used for estimator/Pipeline/ColumnTransformer box that is\n",
       "clickable and can be expanded/collapsed.\n",
       "- Pipeline and ColumnTransformer use this feature and define the default style\n",
       "- Estimators will overwrite some part of the style using the `sk-estimator` class\n",
       "*/\n",
       "\n",
       "/* Pipeline and ColumnTransformer style (default) */\n",
       "\n",
       "#sk-container-id-3 div.sk-toggleable {\n",
       "  /* Default theme specific background. It is overwritten whether we have a\n",
       "  specific estimator or a Pipeline/ColumnTransformer */\n",
       "  background-color: var(--sklearn-color-background);\n",
       "}\n",
       "\n",
       "/* Toggleable label */\n",
       "#sk-container-id-3 label.sk-toggleable__label {\n",
       "  cursor: pointer;\n",
       "  display: flex;\n",
       "  width: 100%;\n",
       "  margin-bottom: 0;\n",
       "  padding: 0.5em;\n",
       "  box-sizing: border-box;\n",
       "  text-align: center;\n",
       "  align-items: start;\n",
       "  justify-content: space-between;\n",
       "  gap: 0.5em;\n",
       "}\n",
       "\n",
       "#sk-container-id-3 label.sk-toggleable__label .caption {\n",
       "  font-size: 0.6rem;\n",
       "  font-weight: lighter;\n",
       "  color: var(--sklearn-color-text-muted);\n",
       "}\n",
       "\n",
       "#sk-container-id-3 label.sk-toggleable__label-arrow:before {\n",
       "  /* Arrow on the left of the label */\n",
       "  content: \"▸\";\n",
       "  float: left;\n",
       "  margin-right: 0.25em;\n",
       "  color: var(--sklearn-color-icon);\n",
       "}\n",
       "\n",
       "#sk-container-id-3 label.sk-toggleable__label-arrow:hover:before {\n",
       "  color: var(--sklearn-color-text);\n",
       "}\n",
       "\n",
       "/* Toggleable content - dropdown */\n",
       "\n",
       "#sk-container-id-3 div.sk-toggleable__content {\n",
       "  max-height: 0;\n",
       "  max-width: 0;\n",
       "  overflow: hidden;\n",
       "  text-align: left;\n",
       "  /* unfitted */\n",
       "  background-color: var(--sklearn-color-unfitted-level-0);\n",
       "}\n",
       "\n",
       "#sk-container-id-3 div.sk-toggleable__content.fitted {\n",
       "  /* fitted */\n",
       "  background-color: var(--sklearn-color-fitted-level-0);\n",
       "}\n",
       "\n",
       "#sk-container-id-3 div.sk-toggleable__content pre {\n",
       "  margin: 0.2em;\n",
       "  border-radius: 0.25em;\n",
       "  color: var(--sklearn-color-text);\n",
       "  /* unfitted */\n",
       "  background-color: var(--sklearn-color-unfitted-level-0);\n",
       "}\n",
       "\n",
       "#sk-container-id-3 div.sk-toggleable__content.fitted pre {\n",
       "  /* unfitted */\n",
       "  background-color: var(--sklearn-color-fitted-level-0);\n",
       "}\n",
       "\n",
       "#sk-container-id-3 input.sk-toggleable__control:checked~div.sk-toggleable__content {\n",
       "  /* Expand drop-down */\n",
       "  max-height: 200px;\n",
       "  max-width: 100%;\n",
       "  overflow: auto;\n",
       "}\n",
       "\n",
       "#sk-container-id-3 input.sk-toggleable__control:checked~label.sk-toggleable__label-arrow:before {\n",
       "  content: \"▾\";\n",
       "}\n",
       "\n",
       "/* Pipeline/ColumnTransformer-specific style */\n",
       "\n",
       "#sk-container-id-3 div.sk-label input.sk-toggleable__control:checked~label.sk-toggleable__label {\n",
       "  color: var(--sklearn-color-text);\n",
       "  background-color: var(--sklearn-color-unfitted-level-2);\n",
       "}\n",
       "\n",
       "#sk-container-id-3 div.sk-label.fitted input.sk-toggleable__control:checked~label.sk-toggleable__label {\n",
       "  background-color: var(--sklearn-color-fitted-level-2);\n",
       "}\n",
       "\n",
       "/* Estimator-specific style */\n",
       "\n",
       "/* Colorize estimator box */\n",
       "#sk-container-id-3 div.sk-estimator input.sk-toggleable__control:checked~label.sk-toggleable__label {\n",
       "  /* unfitted */\n",
       "  background-color: var(--sklearn-color-unfitted-level-2);\n",
       "}\n",
       "\n",
       "#sk-container-id-3 div.sk-estimator.fitted input.sk-toggleable__control:checked~label.sk-toggleable__label {\n",
       "  /* fitted */\n",
       "  background-color: var(--sklearn-color-fitted-level-2);\n",
       "}\n",
       "\n",
       "#sk-container-id-3 div.sk-label label.sk-toggleable__label,\n",
       "#sk-container-id-3 div.sk-label label {\n",
       "  /* The background is the default theme color */\n",
       "  color: var(--sklearn-color-text-on-default-background);\n",
       "}\n",
       "\n",
       "/* On hover, darken the color of the background */\n",
       "#sk-container-id-3 div.sk-label:hover label.sk-toggleable__label {\n",
       "  color: var(--sklearn-color-text);\n",
       "  background-color: var(--sklearn-color-unfitted-level-2);\n",
       "}\n",
       "\n",
       "/* Label box, darken color on hover, fitted */\n",
       "#sk-container-id-3 div.sk-label.fitted:hover label.sk-toggleable__label.fitted {\n",
       "  color: var(--sklearn-color-text);\n",
       "  background-color: var(--sklearn-color-fitted-level-2);\n",
       "}\n",
       "\n",
       "/* Estimator label */\n",
       "\n",
       "#sk-container-id-3 div.sk-label label {\n",
       "  font-family: monospace;\n",
       "  font-weight: bold;\n",
       "  display: inline-block;\n",
       "  line-height: 1.2em;\n",
       "}\n",
       "\n",
       "#sk-container-id-3 div.sk-label-container {\n",
       "  text-align: center;\n",
       "}\n",
       "\n",
       "/* Estimator-specific */\n",
       "#sk-container-id-3 div.sk-estimator {\n",
       "  font-family: monospace;\n",
       "  border: 1px dotted var(--sklearn-color-border-box);\n",
       "  border-radius: 0.25em;\n",
       "  box-sizing: border-box;\n",
       "  margin-bottom: 0.5em;\n",
       "  /* unfitted */\n",
       "  background-color: var(--sklearn-color-unfitted-level-0);\n",
       "}\n",
       "\n",
       "#sk-container-id-3 div.sk-estimator.fitted {\n",
       "  /* fitted */\n",
       "  background-color: var(--sklearn-color-fitted-level-0);\n",
       "}\n",
       "\n",
       "/* on hover */\n",
       "#sk-container-id-3 div.sk-estimator:hover {\n",
       "  /* unfitted */\n",
       "  background-color: var(--sklearn-color-unfitted-level-2);\n",
       "}\n",
       "\n",
       "#sk-container-id-3 div.sk-estimator.fitted:hover {\n",
       "  /* fitted */\n",
       "  background-color: var(--sklearn-color-fitted-level-2);\n",
       "}\n",
       "\n",
       "/* Specification for estimator info (e.g. \"i\" and \"?\") */\n",
       "\n",
       "/* Common style for \"i\" and \"?\" */\n",
       "\n",
       ".sk-estimator-doc-link,\n",
       "a:link.sk-estimator-doc-link,\n",
       "a:visited.sk-estimator-doc-link {\n",
       "  float: right;\n",
       "  font-size: smaller;\n",
       "  line-height: 1em;\n",
       "  font-family: monospace;\n",
       "  background-color: var(--sklearn-color-background);\n",
       "  border-radius: 1em;\n",
       "  height: 1em;\n",
       "  width: 1em;\n",
       "  text-decoration: none !important;\n",
       "  margin-left: 0.5em;\n",
       "  text-align: center;\n",
       "  /* unfitted */\n",
       "  border: var(--sklearn-color-unfitted-level-1) 1pt solid;\n",
       "  color: var(--sklearn-color-unfitted-level-1);\n",
       "}\n",
       "\n",
       ".sk-estimator-doc-link.fitted,\n",
       "a:link.sk-estimator-doc-link.fitted,\n",
       "a:visited.sk-estimator-doc-link.fitted {\n",
       "  /* fitted */\n",
       "  border: var(--sklearn-color-fitted-level-1) 1pt solid;\n",
       "  color: var(--sklearn-color-fitted-level-1);\n",
       "}\n",
       "\n",
       "/* On hover */\n",
       "div.sk-estimator:hover .sk-estimator-doc-link:hover,\n",
       ".sk-estimator-doc-link:hover,\n",
       "div.sk-label-container:hover .sk-estimator-doc-link:hover,\n",
       ".sk-estimator-doc-link:hover {\n",
       "  /* unfitted */\n",
       "  background-color: var(--sklearn-color-unfitted-level-3);\n",
       "  color: var(--sklearn-color-background);\n",
       "  text-decoration: none;\n",
       "}\n",
       "\n",
       "div.sk-estimator.fitted:hover .sk-estimator-doc-link.fitted:hover,\n",
       ".sk-estimator-doc-link.fitted:hover,\n",
       "div.sk-label-container:hover .sk-estimator-doc-link.fitted:hover,\n",
       ".sk-estimator-doc-link.fitted:hover {\n",
       "  /* fitted */\n",
       "  background-color: var(--sklearn-color-fitted-level-3);\n",
       "  color: var(--sklearn-color-background);\n",
       "  text-decoration: none;\n",
       "}\n",
       "\n",
       "/* Span, style for the box shown on hovering the info icon */\n",
       ".sk-estimator-doc-link span {\n",
       "  display: none;\n",
       "  z-index: 9999;\n",
       "  position: relative;\n",
       "  font-weight: normal;\n",
       "  right: .2ex;\n",
       "  padding: .5ex;\n",
       "  margin: .5ex;\n",
       "  width: min-content;\n",
       "  min-width: 20ex;\n",
       "  max-width: 50ex;\n",
       "  color: var(--sklearn-color-text);\n",
       "  box-shadow: 2pt 2pt 4pt #999;\n",
       "  /* unfitted */\n",
       "  background: var(--sklearn-color-unfitted-level-0);\n",
       "  border: .5pt solid var(--sklearn-color-unfitted-level-3);\n",
       "}\n",
       "\n",
       ".sk-estimator-doc-link.fitted span {\n",
       "  /* fitted */\n",
       "  background: var(--sklearn-color-fitted-level-0);\n",
       "  border: var(--sklearn-color-fitted-level-3);\n",
       "}\n",
       "\n",
       ".sk-estimator-doc-link:hover span {\n",
       "  display: block;\n",
       "}\n",
       "\n",
       "/* \"?\"-specific style due to the `<a>` HTML tag */\n",
       "\n",
       "#sk-container-id-3 a.estimator_doc_link {\n",
       "  float: right;\n",
       "  font-size: 1rem;\n",
       "  line-height: 1em;\n",
       "  font-family: monospace;\n",
       "  background-color: var(--sklearn-color-background);\n",
       "  border-radius: 1rem;\n",
       "  height: 1rem;\n",
       "  width: 1rem;\n",
       "  text-decoration: none;\n",
       "  /* unfitted */\n",
       "  color: var(--sklearn-color-unfitted-level-1);\n",
       "  border: var(--sklearn-color-unfitted-level-1) 1pt solid;\n",
       "}\n",
       "\n",
       "#sk-container-id-3 a.estimator_doc_link.fitted {\n",
       "  /* fitted */\n",
       "  border: var(--sklearn-color-fitted-level-1) 1pt solid;\n",
       "  color: var(--sklearn-color-fitted-level-1);\n",
       "}\n",
       "\n",
       "/* On hover */\n",
       "#sk-container-id-3 a.estimator_doc_link:hover {\n",
       "  /* unfitted */\n",
       "  background-color: var(--sklearn-color-unfitted-level-3);\n",
       "  color: var(--sklearn-color-background);\n",
       "  text-decoration: none;\n",
       "}\n",
       "\n",
       "#sk-container-id-3 a.estimator_doc_link.fitted:hover {\n",
       "  /* fitted */\n",
       "  background-color: var(--sklearn-color-fitted-level-3);\n",
       "}\n",
       "</style><div id=\"sk-container-id-3\" class=\"sk-top-container\"><div class=\"sk-text-repr-fallback\"><pre>Pipeline(steps=[(&#x27;scaler&#x27;, StandardScaler()), (&#x27;select_kbest&#x27;, SelectKBest()),\n",
       "                (&#x27;pca&#x27;, PCA(n_components=5)),\n",
       "                (&#x27;isolation_forest&#x27;, IsolationForest(random_state=42))])</pre><b>In a Jupyter environment, please rerun this cell to show the HTML representation or trust the notebook. <br />On GitHub, the HTML representation is unable to render, please try loading this page with nbviewer.org.</b></div><div class=\"sk-container\" hidden><div class=\"sk-item sk-dashed-wrapped\"><div class=\"sk-label-container\"><div class=\"sk-label fitted sk-toggleable\"><input class=\"sk-toggleable__control sk-hidden--visually\" id=\"sk-estimator-id-11\" type=\"checkbox\" ><label for=\"sk-estimator-id-11\" class=\"sk-toggleable__label fitted sk-toggleable__label-arrow\"><div><div>Pipeline</div></div><div><a class=\"sk-estimator-doc-link fitted\" rel=\"noreferrer\" target=\"_blank\" href=\"https://scikit-learn.org/1.6/modules/generated/sklearn.pipeline.Pipeline.html\">?<span>Documentation for Pipeline</span></a><span class=\"sk-estimator-doc-link fitted\">i<span>Fitted</span></span></div></label><div class=\"sk-toggleable__content fitted\"><pre>Pipeline(steps=[(&#x27;scaler&#x27;, StandardScaler()), (&#x27;select_kbest&#x27;, SelectKBest()),\n",
       "                (&#x27;pca&#x27;, PCA(n_components=5)),\n",
       "                (&#x27;isolation_forest&#x27;, IsolationForest(random_state=42))])</pre></div> </div></div><div class=\"sk-serial\"><div class=\"sk-item\"><div class=\"sk-estimator fitted sk-toggleable\"><input class=\"sk-toggleable__control sk-hidden--visually\" id=\"sk-estimator-id-12\" type=\"checkbox\" ><label for=\"sk-estimator-id-12\" class=\"sk-toggleable__label fitted sk-toggleable__label-arrow\"><div><div>StandardScaler</div></div><div><a class=\"sk-estimator-doc-link fitted\" rel=\"noreferrer\" target=\"_blank\" href=\"https://scikit-learn.org/1.6/modules/generated/sklearn.preprocessing.StandardScaler.html\">?<span>Documentation for StandardScaler</span></a></div></label><div class=\"sk-toggleable__content fitted\"><pre>StandardScaler()</pre></div> </div></div><div class=\"sk-item\"><div class=\"sk-estimator fitted sk-toggleable\"><input class=\"sk-toggleable__control sk-hidden--visually\" id=\"sk-estimator-id-13\" type=\"checkbox\" ><label for=\"sk-estimator-id-13\" class=\"sk-toggleable__label fitted sk-toggleable__label-arrow\"><div><div>SelectKBest</div></div><div><a class=\"sk-estimator-doc-link fitted\" rel=\"noreferrer\" target=\"_blank\" href=\"https://scikit-learn.org/1.6/modules/generated/sklearn.feature_selection.SelectKBest.html\">?<span>Documentation for SelectKBest</span></a></div></label><div class=\"sk-toggleable__content fitted\"><pre>SelectKBest()</pre></div> </div></div><div class=\"sk-item\"><div class=\"sk-estimator fitted sk-toggleable\"><input class=\"sk-toggleable__control sk-hidden--visually\" id=\"sk-estimator-id-14\" type=\"checkbox\" ><label for=\"sk-estimator-id-14\" class=\"sk-toggleable__label fitted sk-toggleable__label-arrow\"><div><div>PCA</div></div><div><a class=\"sk-estimator-doc-link fitted\" rel=\"noreferrer\" target=\"_blank\" href=\"https://scikit-learn.org/1.6/modules/generated/sklearn.decomposition.PCA.html\">?<span>Documentation for PCA</span></a></div></label><div class=\"sk-toggleable__content fitted\"><pre>PCA(n_components=5)</pre></div> </div></div><div class=\"sk-item\"><div class=\"sk-estimator fitted sk-toggleable\"><input class=\"sk-toggleable__control sk-hidden--visually\" id=\"sk-estimator-id-15\" type=\"checkbox\" ><label for=\"sk-estimator-id-15\" class=\"sk-toggleable__label fitted sk-toggleable__label-arrow\"><div><div>IsolationForest</div></div><div><a class=\"sk-estimator-doc-link fitted\" rel=\"noreferrer\" target=\"_blank\" href=\"https://scikit-learn.org/1.6/modules/generated/sklearn.ensemble.IsolationForest.html\">?<span>Documentation for IsolationForest</span></a></div></label><div class=\"sk-toggleable__content fitted\"><pre>IsolationForest(random_state=42)</pre></div> </div></div></div></div></div></div>"
      ],
      "text/plain": [
       "Pipeline(steps=[('scaler', StandardScaler()), ('select_kbest', SelectKBest()),\n",
       "                ('pca', PCA(n_components=5)),\n",
       "                ('isolation_forest', IsolationForest(random_state=42))])"
      ]
     },
     "execution_count": 65,
     "metadata": {},
     "output_type": "execute_result"
    }
   ],
   "source": [
    "# Define the model pipeline\n",
    "model_pipeline = Pipeline([\n",
    "    ('scaler', StandardScaler()),\n",
    "    ('select_kbest', SelectKBest(score_func=f_classif, k=10)),\n",
    "    ('pca', PCA(n_components=5)),\n",
    "    ('isolation_forest', IsolationForest(random_state=42))\n",
    "])\n",
    "\n",
    "model_pipeline.fit(X_train, y_train)"
   ]
  },
  {
   "cell_type": "markdown",
   "id": "b78bf769",
   "metadata": {},
   "source": [
    "## 2. Isolation Forest"
   ]
  },
  {
   "cell_type": "markdown",
   "id": "f65edcb5",
   "metadata": {},
   "source": [
    "### 2.1 Find Best Parameters"
   ]
  },
  {
   "cell_type": "markdown",
   "id": "fad16195",
   "metadata": {},
   "source": [
    "#### Bayesian Optimization with Optuna"
   ]
  },
  {
   "cell_type": "code",
   "execution_count": null,
   "id": "6ce5d0f9",
   "metadata": {},
   "outputs": [],
   "source": [
    "def objective(trial):\n",
    "    n_estimators = trial.suggest_int('n_estimators', 100, 300)\n",
    "    max_samples = trial.suggest_categorical('max_samples', ['auto', 0.8])\n",
    "    contamination = trial.suggest_float('contamination', 0.001, 0.02)\n",
    "    max_features = trial.suggest_categorical('max_features', [1.0, 0.8])\n",
    "\n",
    "    pipeline = Pipeline([\n",
    "        ('scaler', StandardScaler()),\n",
    "        ('select_kbest', SelectKBest(score_func=f_classif, k=15)),\n",
    "        ('pca', PCA(n_components=8)),\n",
    "        ('isolation_forest', IsolationForest(\n",
    "            n_estimators=n_estimators,\n",
    "            max_samples=max_samples,\n",
    "            contamination=contamination,\n",
    "            max_features=max_features,\n",
    "            random_state=42\n",
    "        ))\n",
    "    ])\n",
    "\n",
    "    # Train on train set\n",
    "    pipeline.fit(X_train, y_train)\n",
    "    # Predict on validation set\n",
    "    y_pred = pipeline.predict(X_val)\n",
    "    # IsolationForest: -1 = anomaly, 1 = normal\n",
    "    y_pred_bin = (y_pred == -1).astype(int)\n",
    "\n",
    "    print(\"y_val unique:\", np.unique(y_val))\n",
    "    print(\"y_pred_bin unique:\", np.unique(y_pred_bin))\n",
    "\n",
    "     # Calculate metrics\n",
    "    f1 = f1_score(y_val, y_pred_bin, average='binary')\n",
    "    recall = recall_score(y_val, y_pred_bin, average='binary')\n",
    "    precision = precision_score(y_val, y_pred_bin, average='binary')\n",
    "    pr_auc = average_precision_score(y_val, y_pred_bin)\n",
    "    kappa = cohen_kappa_score(y_val, y_pred_bin)\n",
    "\n",
    "    # Log metrics to Optuna\n",
    "    trial.set_user_attr(\"recall\", recall)\n",
    "    trial.set_user_attr(\"precision\", precision)\n",
    "    trial.set_user_attr(\"pr_auc\", pr_auc)\n",
    "    trial.set_user_attr(\"kappa\", kappa)    # Print metrics (optional)\n",
    "    print(f\"F1: {f1:.3f}, Recall: {recall:.3f}, Precision: {precision:.3f}, PR-AUC: {pr_auc:.3f}, Kappa: {kappa:.3f}\")\n",
    "\n",
    "    # Return precision score (เน้น Precision สูง)\n",
    "    return precision_score(y_val, y_pred_bin, average='binary', zero_division=0)"
   ]
  },
  {
   "cell_type": "code",
   "execution_count": null,
   "id": "c800372b",
   "metadata": {},
   "outputs": [
    {
     "name": "stderr",
     "output_type": "stream",
     "text": [
      "[I 2025-07-31 00:53:54,341] A new study created in memory with name: no-name-ef40e523-6e59-40bd-8202-baf46ac3caa1\n"
     ]
    },
    {
     "name": "stdout",
     "output_type": "stream",
     "text": [
      "y_val unique: [0 1]\n",
      "y_pred_bin unique: [0 1]\n",
      "F1: 0.007, Recall: 0.005, Precision: 0.012, PR-AUC: 0.006, Kappa: 0.003\n"
     ]
    },
    {
     "name": "stderr",
     "output_type": "stream",
     "text": [
      "[I 2025-07-31 00:55:51,405] Trial 0 finished with value: 0.011864406779661017 and parameters: {'n_estimators': 275, 'max_samples': 0.8, 'contamination': 0.002083759490112102, 'max_features': 1.0}. Best is trial 0 with value: 0.011864406779661017.\n",
      "[I 2025-07-31 00:56:01,974] Trial 1 finished with value: 0.00907617504051864 and parameters: {'n_estimators': 150, 'max_samples': 'auto', 'contamination': 0.0118393261792878, 'max_features': 1.0}. Best is trial 0 with value: 0.011864406779661017.\n",
      "[I 2025-07-31 00:56:01,974] Trial 1 finished with value: 0.00907617504051864 and parameters: {'n_estimators': 150, 'max_samples': 'auto', 'contamination': 0.0118393261792878, 'max_features': 1.0}. Best is trial 0 with value: 0.011864406779661017.\n"
     ]
    },
    {
     "name": "stdout",
     "output_type": "stream",
     "text": [
      "y_val unique: [0 1]\n",
      "y_pred_bin unique: [0 1]\n",
      "F1: 0.012, Recall: 0.019, Precision: 0.009, PR-AUC: 0.006, Kappa: 0.004\n",
      "y_val unique: [0 1]\n",
      "y_pred_bin unique: [0 1]\n",
      "F1: 0.007, Recall: 0.005, Precision: 0.012, PR-AUC: 0.006, Kappa: 0.004\n",
      "y_val unique: [0 1]\n",
      "y_pred_bin unique: [0 1]\n",
      "F1: 0.007, Recall: 0.005, Precision: 0.012, PR-AUC: 0.006, Kappa: 0.004\n"
     ]
    },
    {
     "name": "stderr",
     "output_type": "stream",
     "text": [
      "[I 2025-07-31 00:57:20,550] Trial 2 finished with value: 0.012345679012345678 and parameters: {'n_estimators': 195, 'max_samples': 0.8, 'contamination': 0.0020118012368547595, 'max_features': 1.0}. Best is trial 2 with value: 0.012345679012345678.\n"
     ]
    },
    {
     "name": "stdout",
     "output_type": "stream",
     "text": [
      "y_val unique: [0 1]\n",
      "y_pred_bin unique: [0 1]\n",
      "F1: 0.104, Recall: 0.182, Precision: 0.072, PR-AUC: 0.018, Kappa: 0.096\n"
     ]
    },
    {
     "name": "stderr",
     "output_type": "stream",
     "text": [
      "[I 2025-07-31 00:58:18,111] Trial 3 finished with value: 0.07235621521335807 and parameters: {'n_estimators': 133, 'max_samples': 0.8, 'contamination': 0.0141253652611487, 'max_features': 1.0}. Best is trial 3 with value: 0.07235621521335807.\n",
      "[I 2025-07-31 00:58:38,101] Trial 4 finished with value: 0.034518396031417944 and parameters: {'n_estimators': 231, 'max_samples': 'auto', 'contamination': 0.01830554750300652, 'max_features': 0.8}. Best is trial 3 with value: 0.07235621521335807.\n",
      "[I 2025-07-31 00:58:38,101] Trial 4 finished with value: 0.034518396031417944 and parameters: {'n_estimators': 231, 'max_samples': 'auto', 'contamination': 0.01830554750300652, 'max_features': 0.8}. Best is trial 3 with value: 0.07235621521335807.\n"
     ]
    },
    {
     "name": "stdout",
     "output_type": "stream",
     "text": [
      "y_val unique: [0 1]\n",
      "y_pred_bin unique: [0 1]\n",
      "F1: 0.053, Recall: 0.111, Precision: 0.035, PR-AUC: 0.009, Kappa: 0.044\n"
     ]
    },
    {
     "name": "stderr",
     "output_type": "stream",
     "text": [
      "[I 2025-07-31 00:58:52,933] Trial 5 finished with value: 0.0019011406844106464 and parameters: {'n_estimators': 225, 'max_samples': 'auto', 'contamination': 0.001913010612395345, 'max_features': 1.0}. Best is trial 3 with value: 0.07235621521335807.\n"
     ]
    },
    {
     "name": "stdout",
     "output_type": "stream",
     "text": [
      "y_val unique: [0 1]\n",
      "y_pred_bin unique: [0 1]\n",
      "F1: 0.001, Recall: 0.001, Precision: 0.002, PR-AUC: 0.006, Kappa: -0.002\n"
     ]
    },
    {
     "name": "stderr",
     "output_type": "stream",
     "text": [
      "[I 2025-07-31 00:59:15,280] Trial 6 finished with value: 0.037665886026541764 and parameters: {'n_estimators': 269, 'max_samples': 'auto', 'contamination': 0.019398804017827682, 'max_features': 0.8}. Best is trial 3 with value: 0.07235621521335807.\n"
     ]
    },
    {
     "name": "stdout",
     "output_type": "stream",
     "text": [
      "y_val unique: [0 1]\n",
      "y_pred_bin unique: [0 1]\n",
      "F1: 0.058, Recall: 0.128, Precision: 0.038, PR-AUC: 0.010, Kappa: 0.050\n",
      "y_val unique: [0 1]\n",
      "y_pred_bin unique: [0 1]\n",
      "y_val unique: [0 1]\n",
      "y_pred_bin unique: [0 1]\n",
      "F1: 0.107, Recall: 0.231, Precision: 0.069, PR-AUC: 0.021, Kappa: 0.099\n",
      "F1: 0.107, Recall: 0.231, Precision: 0.069, PR-AUC: 0.021, Kappa: 0.099\n"
     ]
    },
    {
     "name": "stderr",
     "output_type": "stream",
     "text": [
      "[I 2025-07-31 01:01:24,493] Trial 7 finished with value: 0.06948338005606729 and parameters: {'n_estimators': 287, 'max_samples': 0.8, 'contamination': 0.018831257362705398, 'max_features': 0.8}. Best is trial 3 with value: 0.07235621521335807.\n",
      "[I 2025-07-31 01:02:16,167] Trial 8 finished with value: 0.07387247278382582 and parameters: {'n_estimators': 120, 'max_samples': 0.8, 'contamination': 0.019291556166861984, 'max_features': 0.8}. Best is trial 8 with value: 0.07387247278382582.\n",
      "[I 2025-07-31 01:02:16,167] Trial 8 finished with value: 0.07387247278382582 and parameters: {'n_estimators': 120, 'max_samples': 0.8, 'contamination': 0.019291556166861984, 'max_features': 0.8}. Best is trial 8 with value: 0.07387247278382582.\n"
     ]
    },
    {
     "name": "stdout",
     "output_type": "stream",
     "text": [
      "y_val unique: [0 1]\n",
      "y_pred_bin unique: [0 1]\n",
      "F1: 0.114, Recall: 0.253, Precision: 0.074, PR-AUC: 0.023, Kappa: 0.106\n"
     ]
    },
    {
     "name": "stderr",
     "output_type": "stream",
     "text": [
      "[I 2025-07-31 01:02:31,236] Trial 9 finished with value: 0.004649000464900047 and parameters: {'n_estimators': 225, 'max_samples': 'auto', 'contamination': 0.008001571952946453, 'max_features': 1.0}. Best is trial 8 with value: 0.07387247278382582.\n"
     ]
    },
    {
     "name": "stdout",
     "output_type": "stream",
     "text": [
      "y_val unique: [0 1]\n",
      "y_pred_bin unique: [0 1]\n",
      "F1: 0.005, Recall: 0.007, Precision: 0.005, PR-AUC: 0.006, Kappa: -0.001\n"
     ]
    },
    {
     "name": "stderr",
     "output_type": "stream",
     "text": [
      "[I 2025-07-31 01:03:13,183] Trial 10 finished with value: 0.0420997920997921 and parameters: {'n_estimators': 104, 'max_samples': 0.8, 'contamination': 0.007018359647393899, 'max_features': 0.8}. Best is trial 8 with value: 0.07387247278382582.\n"
     ]
    },
    {
     "name": "stdout",
     "output_type": "stream",
     "text": [
      "y_val unique: [0 1]\n",
      "y_pred_bin unique: [0 1]\n",
      "F1: 0.047, Recall: 0.054, Precision: 0.042, PR-AUC: 0.008, Kappa: 0.041\n"
     ]
    },
    {
     "name": "stderr",
     "output_type": "stream",
     "text": [
      "[I 2025-07-31 01:03:53,964] Trial 11 finished with value: 0.07003298655163664 and parameters: {'n_estimators': 101, 'max_samples': 0.8, 'contamination': 0.014866455569538207, 'max_features': 0.8}. Best is trial 8 with value: 0.07387247278382582.\n"
     ]
    },
    {
     "name": "stdout",
     "output_type": "stream",
     "text": [
      "y_val unique: [0 1]\n",
      "y_pred_bin unique: [0 1]\n",
      "F1: 0.101, Recall: 0.184, Precision: 0.070, PR-AUC: 0.018, Kappa: 0.094\n"
     ]
    },
    {
     "name": "stderr",
     "output_type": "stream",
     "text": [
      "[I 2025-07-31 01:04:55,607] Trial 12 finished with value: 0.06417395916202599 and parameters: {'n_estimators': 144, 'max_samples': 0.8, 'contamination': 0.014259075307464711, 'max_features': 0.8}. Best is trial 8 with value: 0.07387247278382582.\n"
     ]
    },
    {
     "name": "stdout",
     "output_type": "stream",
     "text": [
      "y_val unique: [0 1]\n",
      "y_pred_bin unique: [0 1]\n",
      "F1: 0.092, Recall: 0.161, Precision: 0.064, PR-AUC: 0.015, Kappa: 0.084\n"
     ]
    },
    {
     "name": "stderr",
     "output_type": "stream",
     "text": [
      "[I 2025-07-31 01:05:59,005] Trial 13 finished with value: 0.07119821384271893 and parameters: {'n_estimators': 153, 'max_samples': 0.8, 'contamination': 0.015050567401049637, 'max_features': 1.0}. Best is trial 8 with value: 0.07387247278382582.\n"
     ]
    },
    {
     "name": "stdout",
     "output_type": "stream",
     "text": [
      "y_val unique: [0 1]\n",
      "y_pred_bin unique: [0 1]\n",
      "F1: 0.104, Recall: 0.191, Precision: 0.071, PR-AUC: 0.018, Kappa: 0.096\n"
     ]
    },
    {
     "name": "stderr",
     "output_type": "stream",
     "text": [
      "[I 2025-07-31 01:06:50,922] Trial 14 finished with value: 0.07446083995459706 and parameters: {'n_estimators': 129, 'max_samples': 0.8, 'contamination': 0.016462988285317382, 'max_features': 1.0}. Best is trial 14 with value: 0.07446083995459706.\n"
     ]
    },
    {
     "name": "stdout",
     "output_type": "stream",
     "text": [
      "y_val unique: [0 1]\n",
      "y_pred_bin unique: [0 1]\n",
      "F1: 0.111, Recall: 0.218, Precision: 0.074, PR-AUC: 0.021, Kappa: 0.103\n",
      "y_val unique: [0 1]\n",
      "y_pred_bin unique: [0 1]\n",
      "F1: 0.095, Recall: 0.188, Precision: 0.064, PR-AUC: 0.017, Kappa: 0.088\n",
      "y_val unique: [0 1]\n",
      "y_pred_bin unique: [0 1]\n",
      "F1: 0.095, Recall: 0.188, Precision: 0.064, PR-AUC: 0.017, Kappa: 0.088\n"
     ]
    },
    {
     "name": "stderr",
     "output_type": "stream",
     "text": [
      "[I 2025-07-31 01:08:03,805] Trial 15 finished with value: 0.06394035246272028 and parameters: {'n_estimators': 182, 'max_samples': 0.8, 'contamination': 0.01683336028033008, 'max_features': 0.8}. Best is trial 14 with value: 0.07446083995459706.\n"
     ]
    },
    {
     "name": "stdout",
     "output_type": "stream",
     "text": [
      "y_val unique: [0 1]\n",
      "y_pred_bin unique: [0 1]\n",
      "F1: 0.083, Recall: 0.125, Precision: 0.062, PR-AUC: 0.013, Kappa: 0.076\n"
     ]
    },
    {
     "name": "stderr",
     "output_type": "stream",
     "text": [
      "[I 2025-07-31 01:08:52,567] Trial 16 finished with value: 0.06237491661107405 and parameters: {'n_estimators': 121, 'max_samples': 0.8, 'contamination': 0.01120570125949815, 'max_features': 1.0}. Best is trial 14 with value: 0.07446083995459706.\n"
     ]
    },
    {
     "name": "stdout",
     "output_type": "stream",
     "text": [
      "y_val unique: [0 1]\n",
      "y_pred_bin unique: [0 1]\n",
      "F1: 0.096, Recall: 0.191, Precision: 0.065, PR-AUC: 0.017, Kappa: 0.089\n"
     ]
    },
    {
     "name": "stderr",
     "output_type": "stream",
     "text": [
      "[I 2025-07-31 01:10:06,147] Trial 17 finished with value: 0.06450887839964037 and parameters: {'n_estimators': 178, 'max_samples': 0.8, 'contamination': 0.016845241097773037, 'max_features': 0.8}. Best is trial 14 with value: 0.07446083995459706.\n"
     ]
    },
    {
     "name": "stdout",
     "output_type": "stream",
     "text": [
      "y_val unique: [0 1]\n",
      "y_pred_bin unique: [0 1]\n",
      "F1: 0.119, Recall: 0.270, Precision: 0.076, PR-AUC: 0.025, Kappa: 0.111\n"
     ]
    },
    {
     "name": "stderr",
     "output_type": "stream",
     "text": [
      "[I 2025-07-31 01:11:15,479] Trial 18 finished with value: 0.07595884003741815 and parameters: {'n_estimators': 167, 'max_samples': 0.8, 'contamination': 0.01987540528044732, 'max_features': 1.0}. Best is trial 18 with value: 0.07595884003741815.\n"
     ]
    },
    {
     "name": "stdout",
     "output_type": "stream",
     "text": [
      "y_val unique: [0 1]\n",
      "y_pred_bin unique: [0 1]\n",
      "F1: 0.067, Recall: 0.089, Precision: 0.054, PR-AUC: 0.010, Kappa: 0.061\n"
     ]
    },
    {
     "name": "stderr",
     "output_type": "stream",
     "text": [
      "[I 2025-07-31 01:12:20,077] Trial 19 finished with value: 0.054285714285714284 and parameters: {'n_estimators': 164, 'max_samples': 0.8, 'contamination': 0.008996863532893364, 'max_features': 1.0}. Best is trial 18 with value: 0.07595884003741815.\n"
     ]
    },
    {
     "name": "stdout",
     "output_type": "stream",
     "text": [
      "y_val unique: [0 1]\n",
      "y_pred_bin unique: [0 1]\n",
      "F1: 0.120, Recall: 0.243, Precision: 0.080, PR-AUC: 0.024, Kappa: 0.113\n"
     ]
    },
    {
     "name": "stderr",
     "output_type": "stream",
     "text": [
      "[I 2025-07-31 01:13:42,375] Trial 20 finished with value: 0.07993867717915024 and parameters: {'n_estimators': 200, 'max_samples': 0.8, 'contamination': 0.017057801900498885, 'max_features': 1.0}. Best is trial 20 with value: 0.07993867717915024.\n"
     ]
    },
    {
     "name": "stdout",
     "output_type": "stream",
     "text": [
      "y_val unique: [0 1]\n",
      "y_pred_bin unique: [0 1]\n",
      "F1: 0.120, Recall: 0.241, Precision: 0.080, PR-AUC: 0.024, Kappa: 0.112\n"
     ]
    },
    {
     "name": "stderr",
     "output_type": "stream",
     "text": [
      "[I 2025-07-31 01:15:06,462] Trial 21 finished with value: 0.0800530738611234 and parameters: {'n_estimators': 207, 'max_samples': 0.8, 'contamination': 0.016931890250176312, 'max_features': 1.0}. Best is trial 21 with value: 0.0800530738611234.\n"
     ]
    },
    {
     "name": "stdout",
     "output_type": "stream",
     "text": [
      "y_val unique: [0 1]\n",
      "y_pred_bin unique: [0 1]\n",
      "F1: 0.103, Recall: 0.170, Precision: 0.074, PR-AUC: 0.017, Kappa: 0.096\n"
     ]
    },
    {
     "name": "stderr",
     "output_type": "stream",
     "text": [
      "[I 2025-07-31 01:16:35,269] Trial 22 finished with value: 0.07412790697674419 and parameters: {'n_estimators': 211, 'max_samples': 0.8, 'contamination': 0.012830083731886684, 'max_features': 1.0}. Best is trial 21 with value: 0.0800530738611234.\n"
     ]
    },
    {
     "name": "stdout",
     "output_type": "stream",
     "text": [
      "y_val unique: [0 1]\n",
      "y_pred_bin unique: [0 1]\n",
      "F1: 0.117, Recall: 0.240, Precision: 0.077, PR-AUC: 0.023, Kappa: 0.109\n"
     ]
    },
    {
     "name": "stderr",
     "output_type": "stream",
     "text": [
      "[I 2025-07-31 01:18:11,388] Trial 23 finished with value: 0.07702154896522295 and parameters: {'n_estimators': 242, 'max_samples': 0.8, 'contamination': 0.01760832735662971, 'max_features': 1.0}. Best is trial 21 with value: 0.0800530738611234.\n"
     ]
    },
    {
     "name": "stdout",
     "output_type": "stream",
     "text": [
      "y_val unique: [0 1]\n",
      "y_pred_bin unique: [0 1]\n",
      "F1: 0.116, Recall: 0.232, Precision: 0.077, PR-AUC: 0.022, Kappa: 0.108\n"
     ]
    },
    {
     "name": "stderr",
     "output_type": "stream",
     "text": [
      "[I 2025-07-31 01:19:51,853] Trial 24 finished with value: 0.07700794351279788 and parameters: {'n_estimators': 251, 'max_samples': 0.8, 'contamination': 0.017027656582174866, 'max_features': 1.0}. Best is trial 21 with value: 0.0800530738611234.\n"
     ]
    },
    {
     "name": "stdout",
     "output_type": "stream",
     "text": [
      "y_val unique: [0 1]\n",
      "y_pred_bin unique: [0 1]\n",
      "F1: 0.096, Recall: 0.160, Precision: 0.069, PR-AUC: 0.016, Kappa: 0.089\n"
     ]
    },
    {
     "name": "stderr",
     "output_type": "stream",
     "text": [
      "[I 2025-07-31 01:21:32,760] Trial 25 finished with value: 0.0685127033970882 and parameters: {'n_estimators': 245, 'max_samples': 0.8, 'contamination': 0.013110467844458504, 'max_features': 1.0}. Best is trial 21 with value: 0.0800530738611234.\n",
      "[I 2025-07-31 01:21:46,325] Trial 26 finished with value: 0.004208754208754209 and parameters: {'n_estimators': 196, 'max_samples': 'auto', 'contamination': 0.004357598746941505, 'max_features': 1.0}. Best is trial 21 with value: 0.0800530738611234.\n",
      "[I 2025-07-31 01:21:46,325] Trial 26 finished with value: 0.004208754208754209 and parameters: {'n_estimators': 196, 'max_samples': 'auto', 'contamination': 0.004357598746941505, 'max_features': 1.0}. Best is trial 21 with value: 0.0800530738611234.\n"
     ]
    },
    {
     "name": "stdout",
     "output_type": "stream",
     "text": [
      "y_val unique: [0 1]\n",
      "y_pred_bin unique: [0 1]\n",
      "F1: 0.004, Recall: 0.003, Precision: 0.004, PR-AUC: 0.006, Kappa: -0.001\n",
      "y_val unique: [0 1]\n",
      "y_pred_bin unique: [0 1]\n",
      "F1: 0.118, Recall: 0.227, Precision: 0.080, PR-AUC: 0.023, Kappa: 0.111\n",
      "y_val unique: [0 1]\n",
      "y_pred_bin unique: [0 1]\n",
      "F1: 0.118, Recall: 0.227, Precision: 0.080, PR-AUC: 0.023, Kappa: 0.111\n"
     ]
    },
    {
     "name": "stderr",
     "output_type": "stream",
     "text": [
      "[I 2025-07-31 01:23:10,136] Trial 27 finished with value: 0.08015984955336154 and parameters: {'n_estimators': 209, 'max_samples': 0.8, 'contamination': 0.015956923367186935, 'max_features': 1.0}. Best is trial 27 with value: 0.08015984955336154.\n"
     ]
    },
    {
     "name": "stdout",
     "output_type": "stream",
     "text": [
      "y_val unique: [0 1]\n",
      "y_pred_bin unique: [0 1]\n",
      "F1: 0.119, Recall: 0.223, Precision: 0.081, PR-AUC: 0.023, Kappa: 0.111\n"
     ]
    },
    {
     "name": "stderr",
     "output_type": "stream",
     "text": [
      "[I 2025-07-31 01:24:35,958] Trial 28 finished with value: 0.08095698405026583 and parameters: {'n_estimators': 210, 'max_samples': 0.8, 'contamination': 0.01557460076830542, 'max_features': 1.0}. Best is trial 28 with value: 0.08095698405026583.\n"
     ]
    },
    {
     "name": "stdout",
     "output_type": "stream",
     "text": [
      "y_val unique: [0 1]\n",
      "y_pred_bin unique: [0 1]\n",
      "F1: 0.083, Recall: 0.117, Precision: 0.064, PR-AUC: 0.013, Kappa: 0.076\n"
     ]
    },
    {
     "name": "stderr",
     "output_type": "stream",
     "text": [
      "[I 2025-07-31 01:26:05,090] Trial 29 finished with value: 0.06418672501823487 and parameters: {'n_estimators': 212, 'max_samples': 0.8, 'contamination': 0.010122426755894316, 'max_features': 1.0}. Best is trial 28 with value: 0.08095698405026583.\n",
      "[I 2025-07-31 01:27:29,381] Trial 30 finished with value: 0.08022922636103152 and parameters: {'n_estimators': 214, 'max_samples': 0.8, 'contamination': 0.015738630292373032, 'max_features': 1.0}. Best is trial 28 with value: 0.08095698405026583.\n",
      "[I 2025-07-31 01:27:29,381] Trial 30 finished with value: 0.08022922636103152 and parameters: {'n_estimators': 214, 'max_samples': 0.8, 'contamination': 0.015738630292373032, 'max_features': 1.0}. Best is trial 28 with value: 0.08095698405026583.\n"
     ]
    },
    {
     "name": "stdout",
     "output_type": "stream",
     "text": [
      "y_val unique: [0 1]\n",
      "y_pred_bin unique: [0 1]\n",
      "F1: 0.118, Recall: 0.224, Precision: 0.080, PR-AUC: 0.022, Kappa: 0.111\n",
      "y_val unique: [0 1]\n",
      "y_pred_bin unique: [0 1]\n",
      "F1: 0.117, Recall: 0.222, Precision: 0.080, PR-AUC: 0.022, Kappa: 0.110\n",
      "y_val unique: [0 1]\n",
      "y_pred_bin unique: [0 1]\n",
      "F1: 0.117, Recall: 0.222, Precision: 0.080, PR-AUC: 0.022, Kappa: 0.110\n"
     ]
    },
    {
     "name": "stderr",
     "output_type": "stream",
     "text": [
      "[I 2025-07-31 01:28:53,488] Trial 31 finished with value: 0.07963757749165475 and parameters: {'n_estimators': 212, 'max_samples': 0.8, 'contamination': 0.015733555805048254, 'max_features': 1.0}. Best is trial 28 with value: 0.08095698405026583.\n"
     ]
    },
    {
     "name": "stdout",
     "output_type": "stream",
     "text": [
      "y_val unique: [0 1]\n",
      "y_pred_bin unique: [0 1]\n",
      "F1: 0.094, Recall: 0.155, Precision: 0.068, PR-AUC: 0.015, Kappa: 0.087\n"
     ]
    },
    {
     "name": "stderr",
     "output_type": "stream",
     "text": [
      "[I 2025-07-31 01:30:42,321] Trial 32 finished with value: 0.06761462565293093 and parameters: {'n_estimators': 263, 'max_samples': 0.8, 'contamination': 0.012970302523076734, 'max_features': 1.0}. Best is trial 28 with value: 0.08095698405026583.\n",
      "[I 2025-07-31 01:31:53,744] Trial 33 finished with value: 0.08048722235490804 and parameters: {'n_estimators': 180, 'max_samples': 0.8, 'contamination': 0.015699294129315235, 'max_features': 1.0}. Best is trial 28 with value: 0.08095698405026583.\n",
      "[I 2025-07-31 01:31:53,744] Trial 33 finished with value: 0.08048722235490804 and parameters: {'n_estimators': 180, 'max_samples': 0.8, 'contamination': 0.015699294129315235, 'max_features': 1.0}. Best is trial 28 with value: 0.08095698405026583.\n"
     ]
    },
    {
     "name": "stdout",
     "output_type": "stream",
     "text": [
      "y_val unique: [0 1]\n",
      "y_pred_bin unique: [0 1]\n",
      "F1: 0.118, Recall: 0.224, Precision: 0.080, PR-AUC: 0.023, Kappa: 0.111\n",
      "y_val unique: [0 1]\n",
      "y_pred_bin unique: [0 1]\n",
      "F1: 0.117, Recall: 0.218, Precision: 0.080, PR-AUC: 0.022, Kappa: 0.110\n",
      "y_val unique: [0 1]\n",
      "y_pred_bin unique: [0 1]\n",
      "F1: 0.117, Recall: 0.218, Precision: 0.080, PR-AUC: 0.022, Kappa: 0.110\n"
     ]
    },
    {
     "name": "stderr",
     "output_type": "stream",
     "text": [
      "[I 2025-07-31 01:33:07,935] Trial 34 finished with value: 0.08021521154316459 and parameters: {'n_estimators': 186, 'max_samples': 0.8, 'contamination': 0.015304259717463593, 'max_features': 1.0}. Best is trial 28 with value: 0.08095698405026583.\n",
      "[I 2025-07-31 01:33:19,868] Trial 35 finished with value: 0.006603773584905661 and parameters: {'n_estimators': 174, 'max_samples': 'auto', 'contamination': 0.012198765796053041, 'max_features': 1.0}. Best is trial 28 with value: 0.08095698405026583.\n",
      "[I 2025-07-31 01:33:19,868] Trial 35 finished with value: 0.006603773584905661 and parameters: {'n_estimators': 174, 'max_samples': 'auto', 'contamination': 0.012198765796053041, 'max_features': 1.0}. Best is trial 28 with value: 0.08095698405026583.\n"
     ]
    },
    {
     "name": "stdout",
     "output_type": "stream",
     "text": [
      "y_val unique: [0 1]\n",
      "y_pred_bin unique: [0 1]\n",
      "F1: 0.009, Recall: 0.014, Precision: 0.007, PR-AUC: 0.006, Kappa: 0.001\n",
      "y_val unique: [0 1]\n",
      "y_pred_bin unique: [0 1]\n",
      "F1: 0.110, Recall: 0.191, Precision: 0.077, PR-AUC: 0.019, Kappa: 0.102\n",
      "y_val unique: [0 1]\n",
      "y_pred_bin unique: [0 1]\n",
      "F1: 0.110, Recall: 0.191, Precision: 0.077, PR-AUC: 0.019, Kappa: 0.102\n"
     ]
    },
    {
     "name": "stderr",
     "output_type": "stream",
     "text": [
      "[I 2025-07-31 01:34:35,129] Trial 36 finished with value: 0.0770883695944131 and parameters: {'n_estimators': 189, 'max_samples': 0.8, 'contamination': 0.013903564608384336, 'max_features': 1.0}. Best is trial 28 with value: 0.08095698405026583.\n",
      "[I 2025-07-31 01:34:48,187] Trial 37 finished with value: 0.010837229069273268 and parameters: {'n_estimators': 187, 'max_samples': 'auto', 'contamination': 0.018105234239487143, 'max_features': 1.0}. Best is trial 28 with value: 0.08095698405026583.\n",
      "[I 2025-07-31 01:34:48,187] Trial 37 finished with value: 0.010837229069273268 and parameters: {'n_estimators': 187, 'max_samples': 'auto', 'contamination': 0.018105234239487143, 'max_features': 1.0}. Best is trial 28 with value: 0.08095698405026583.\n"
     ]
    },
    {
     "name": "stdout",
     "output_type": "stream",
     "text": [
      "y_val unique: [0 1]\n",
      "y_pred_bin unique: [0 1]\n",
      "F1: 0.016, Recall: 0.034, Precision: 0.011, PR-AUC: 0.006, Kappa: 0.008\n",
      "y_val unique: [0 1]\n",
      "y_pred_bin unique: [0 1]\n",
      "F1: 0.111, Recall: 0.204, Precision: 0.076, PR-AUC: 0.020, Kappa: 0.103\n",
      "y_val unique: [0 1]\n",
      "y_pred_bin unique: [0 1]\n",
      "F1: 0.111, Recall: 0.204, Precision: 0.076, PR-AUC: 0.020, Kappa: 0.103\n"
     ]
    },
    {
     "name": "stderr",
     "output_type": "stream",
     "text": [
      "[I 2025-07-31 01:36:24,258] Trial 38 finished with value: 0.07615976184569585 and parameters: {'n_estimators': 232, 'max_samples': 0.8, 'contamination': 0.015214357857667178, 'max_features': 1.0}. Best is trial 28 with value: 0.08095698405026583.\n"
     ]
    },
    {
     "name": "stdout",
     "output_type": "stream",
     "text": [
      "y_val unique: [0 1]\n",
      "y_pred_bin unique: [0 1]\n",
      "F1: 0.098, Recall: 0.170, Precision: 0.069, PR-AUC: 0.016, Kappa: 0.090\n"
     ]
    },
    {
     "name": "stderr",
     "output_type": "stream",
     "text": [
      "[I 2025-07-31 01:37:26,688] Trial 39 finished with value: 0.06854082998661312 and parameters: {'n_estimators': 157, 'max_samples': 0.8, 'contamination': 0.013975270005251852, 'max_features': 1.0}. Best is trial 28 with value: 0.08095698405026583.\n",
      "[I 2025-07-31 01:37:42,656] Trial 40 finished with value: 0.007352941176470588 and parameters: {'n_estimators': 224, 'max_samples': 'auto', 'contamination': 0.01075542817040373, 'max_features': 1.0}. Best is trial 28 with value: 0.08095698405026583.\n",
      "[I 2025-07-31 01:37:42,656] Trial 40 finished with value: 0.007352941176470588 and parameters: {'n_estimators': 224, 'max_samples': 'auto', 'contamination': 0.01075542817040373, 'max_features': 1.0}. Best is trial 28 with value: 0.08095698405026583.\n"
     ]
    },
    {
     "name": "stdout",
     "output_type": "stream",
     "text": [
      "y_val unique: [0 1]\n",
      "y_pred_bin unique: [0 1]\n",
      "F1: 0.010, Recall: 0.014, Precision: 0.007, PR-AUC: 0.006, Kappa: 0.002\n",
      "y_val unique: [0 1]\n",
      "y_pred_bin unique: [0 1]\n",
      "F1: 0.115, Recall: 0.215, Precision: 0.079, PR-AUC: 0.021, Kappa: 0.108\n",
      "y_val unique: [0 1]\n",
      "y_pred_bin unique: [0 1]\n",
      "F1: 0.115, Recall: 0.215, Precision: 0.079, PR-AUC: 0.021, Kappa: 0.108\n"
     ]
    },
    {
     "name": "stderr",
     "output_type": "stream",
     "text": [
      "[I 2025-07-31 01:39:02,779] Trial 41 finished with value: 0.07878048780487805 and parameters: {'n_estimators': 202, 'max_samples': 0.8, 'contamination': 0.015379186786177786, 'max_features': 1.0}. Best is trial 28 with value: 0.08095698405026583.\n"
     ]
    },
    {
     "name": "stdout",
     "output_type": "stream",
     "text": [
      "y_val unique: [0 1]\n",
      "y_pred_bin unique: [0 1]\n"
     ]
    },
    {
     "name": "stderr",
     "output_type": "stream",
     "text": [
      "[I 2025-07-31 01:40:29,656] Trial 42 finished with value: 0.0794425087108014 and parameters: {'n_estimators': 218, 'max_samples': 0.8, 'contamination': 0.016133248238333685, 'max_features': 1.0}. Best is trial 28 with value: 0.08095698405026583.\n"
     ]
    },
    {
     "name": "stdout",
     "output_type": "stream",
     "text": [
      "F1: 0.118, Recall: 0.228, Precision: 0.079, PR-AUC: 0.023, Kappa: 0.110\n"
     ]
    },
    {
     "name": "stderr",
     "output_type": "stream",
     "text": [
      "[I 2025-07-31 01:41:48,735] Trial 43 finished with value: 0.07790396493325363 and parameters: {'n_estimators': 191, 'max_samples': 0.8, 'contamination': 0.018716565011301492, 'max_features': 1.0}. Best is trial 28 with value: 0.08095698405026583.\n"
     ]
    },
    {
     "name": "stdout",
     "output_type": "stream",
     "text": [
      "y_val unique: [0 1]\n",
      "y_pred_bin unique: [0 1]\n",
      "F1: 0.120, Recall: 0.260, Precision: 0.078, PR-AUC: 0.025, Kappa: 0.112\n"
     ]
    },
    {
     "name": "stderr",
     "output_type": "stream",
     "text": [
      "[I 2025-07-31 01:42:56,492] Trial 44 finished with value: 0.07883902840675175 and parameters: {'n_estimators': 172, 'max_samples': 0.8, 'contamination': 0.018138305386622356, 'max_features': 1.0}. Best is trial 28 with value: 0.08095698405026583.\n"
     ]
    },
    {
     "name": "stdout",
     "output_type": "stream",
     "text": [
      "y_val unique: [0 1]\n",
      "y_pred_bin unique: [0 1]\n",
      "F1: 0.120, Recall: 0.255, Precision: 0.079, PR-AUC: 0.024, Kappa: 0.113\n",
      "y_val unique: [0 1]\n",
      "y_pred_bin unique: [0 1]\n",
      "F1: 0.111, Recall: 0.198, Precision: 0.077, PR-AUC: 0.020, Kappa: 0.103\n",
      "y_val unique: [0 1]\n",
      "y_pred_bin unique: [0 1]\n",
      "F1: 0.111, Recall: 0.198, Precision: 0.077, PR-AUC: 0.020, Kappa: 0.103\n"
     ]
    },
    {
     "name": "stderr",
     "output_type": "stream",
     "text": [
      "[I 2025-07-31 01:44:14,932] Trial 45 finished with value: 0.07688325135904737 and parameters: {'n_estimators': 199, 'max_samples': 0.8, 'contamination': 0.01448671779307786, 'max_features': 1.0}. Best is trial 28 with value: 0.08095698405026583.\n"
     ]
    },
    {
     "name": "stdout",
     "output_type": "stream",
     "text": [
      "y_val unique: [0 1]\n",
      "y_pred_bin unique: [0 1]\n"
     ]
    },
    {
     "name": "stderr",
     "output_type": "stream",
     "text": [
      "[I 2025-07-31 01:45:50,326] Trial 46 finished with value: 0.07904106337526703 and parameters: {'n_estimators': 234, 'max_samples': 0.8, 'contamination': 0.01577128438091928, 'max_features': 1.0}. Best is trial 28 with value: 0.08095698405026583.\n"
     ]
    },
    {
     "name": "stdout",
     "output_type": "stream",
     "text": [
      "F1: 0.117, Recall: 0.222, Precision: 0.079, PR-AUC: 0.022, Kappa: 0.109\n"
     ]
    },
    {
     "name": "stderr",
     "output_type": "stream",
     "text": [
      "[I 2025-07-31 01:46:48,470] Trial 47 finished with value: 0.06518332811031025 and parameters: {'n_estimators': 144, 'max_samples': 0.8, 'contamination': 0.011910335202549385, 'max_features': 1.0}. Best is trial 28 with value: 0.08095698405026583.\n"
     ]
    },
    {
     "name": "stdout",
     "output_type": "stream",
     "text": [
      "y_val unique: [0 1]\n",
      "y_pred_bin unique: [0 1]\n",
      "F1: 0.089, Recall: 0.138, Precision: 0.065, PR-AUC: 0.014, Kappa: 0.081\n"
     ]
    },
    {
     "name": "stderr",
     "output_type": "stream",
     "text": [
      "[I 2025-07-31 01:47:06,799] Trial 48 finished with value: 0.02686817800167926 and parameters: {'n_estimators': 218, 'max_samples': 'auto', 'contamination': 0.01364651273242239, 'max_features': 0.8}. Best is trial 28 with value: 0.08095698405026583.\n"
     ]
    },
    {
     "name": "stdout",
     "output_type": "stream",
     "text": [
      "y_val unique: [0 1]\n",
      "y_pred_bin unique: [0 1]\n",
      "F1: 0.038, Recall: 0.064, Precision: 0.027, PR-AUC: 0.007, Kappa: 0.030\n",
      "y_val unique: [0 1]\n",
      "y_pred_bin unique: [0 1]\n",
      "F1: 0.029, Recall: 0.027, Precision: 0.031, PR-AUC: 0.006, Kappa: 0.024\n",
      "y_val unique: [0 1]\n",
      "y_pred_bin unique: [0 1]\n",
      "F1: 0.029, Recall: 0.027, Precision: 0.031, PR-AUC: 0.006, Kappa: 0.024\n"
     ]
    },
    {
     "name": "stderr",
     "output_type": "stream",
     "text": [
      "[I 2025-07-31 01:48:57,253] Trial 49 finished with value: 0.030688622754491017 and parameters: {'n_estimators': 284, 'max_samples': 0.8, 'contamination': 0.004901731572806281, 'max_features': 1.0}. Best is trial 28 with value: 0.08095698405026583.\n",
      "[I 2025-07-31 01:50:10,685] Trial 50 finished with value: 0.08029661016949152 and parameters: {'n_estimators': 181, 'max_samples': 0.8, 'contamination': 0.01765067311832211, 'max_features': 1.0}. Best is trial 28 with value: 0.08095698405026583.\n",
      "[I 2025-07-31 01:50:10,685] Trial 50 finished with value: 0.08029661016949152 and parameters: {'n_estimators': 181, 'max_samples': 0.8, 'contamination': 0.01765067311832211, 'max_features': 1.0}. Best is trial 28 with value: 0.08095698405026583.\n"
     ]
    },
    {
     "name": "stdout",
     "output_type": "stream",
     "text": [
      "y_val unique: [0 1]\n",
      "y_pred_bin unique: [0 1]\n",
      "F1: 0.122, Recall: 0.252, Precision: 0.080, PR-AUC: 0.025, Kappa: 0.114\n"
     ]
    },
    {
     "name": "stderr",
     "output_type": "stream",
     "text": [
      "[I 2025-07-31 01:51:26,732] Trial 51 finished with value: 0.08161372594481799 and parameters: {'n_estimators': 184, 'max_samples': 0.8, 'contamination': 0.01619968709546915, 'max_features': 1.0}. Best is trial 51 with value: 0.08161372594481799.\n"
     ]
    },
    {
     "name": "stdout",
     "output_type": "stream",
     "text": [
      "y_val unique: [0 1]\n",
      "y_pred_bin unique: [0 1]\n",
      "F1: 0.121, Recall: 0.234, Precision: 0.082, PR-AUC: 0.024, Kappa: 0.113\n",
      "y_val unique: [0 1]\n",
      "y_pred_bin unique: [0 1]\n",
      "y_val unique: [0 1]\n",
      "y_pred_bin unique: [0 1]\n"
     ]
    },
    {
     "name": "stderr",
     "output_type": "stream",
     "text": [
      "[I 2025-07-31 01:52:39,598] Trial 52 finished with value: 0.07977147693609818 and parameters: {'n_estimators': 184, 'max_samples': 0.8, 'contamination': 0.017712935914955562, 'max_features': 1.0}. Best is trial 51 with value: 0.08161372594481799.\n"
     ]
    },
    {
     "name": "stdout",
     "output_type": "stream",
     "text": [
      "F1: 0.121, Recall: 0.251, Precision: 0.080, PR-AUC: 0.024, Kappa: 0.113\n"
     ]
    },
    {
     "name": "stderr",
     "output_type": "stream",
     "text": [
      "[I 2025-07-31 01:53:43,069] Trial 53 finished with value: 0.07571649883810999 and parameters: {'n_estimators': 157, 'max_samples': 0.8, 'contamination': 0.01913069857885804, 'max_features': 1.0}. Best is trial 51 with value: 0.08161372594481799.\n"
     ]
    },
    {
     "name": "stdout",
     "output_type": "stream",
     "text": [
      "y_val unique: [0 1]\n",
      "y_pred_bin unique: [0 1]\n",
      "F1: 0.117, Recall: 0.260, Precision: 0.076, PR-AUC: 0.024, Kappa: 0.109\n"
     ]
    },
    {
     "name": "stderr",
     "output_type": "stream",
     "text": [
      "[I 2025-07-31 01:54:55,353] Trial 54 finished with value: 0.05952380952380952 and parameters: {'n_estimators': 180, 'max_samples': 0.8, 'contamination': 0.014580608753752961, 'max_features': 0.8}. Best is trial 51 with value: 0.08161372594481799.\n"
     ]
    },
    {
     "name": "stdout",
     "output_type": "stream",
     "text": [
      "y_val unique: [0 1]\n",
      "y_pred_bin unique: [0 1]\n",
      "F1: 0.086, Recall: 0.153, Precision: 0.060, PR-AUC: 0.014, Kappa: 0.078\n"
     ]
    },
    {
     "name": "stderr",
     "output_type": "stream",
     "text": [
      "[I 2025-07-31 01:56:04,006] Trial 55 finished with value: 0.07886870544952863 and parameters: {'n_estimators': 167, 'max_samples': 0.8, 'contamination': 0.016314845877564346, 'max_features': 1.0}. Best is trial 51 with value: 0.08161372594481799.\n"
     ]
    },
    {
     "name": "stdout",
     "output_type": "stream",
     "text": [
      "y_val unique: [0 1]\n",
      "y_pred_bin unique: [0 1]\n",
      "F1: 0.117, Recall: 0.228, Precision: 0.079, PR-AUC: 0.022, Kappa: 0.110\n"
     ]
    },
    {
     "name": "stderr",
     "output_type": "stream",
     "text": [
      "[I 2025-07-31 01:57:20,038] Trial 56 finished with value: 0.07976114310087438 and parameters: {'n_estimators': 194, 'max_samples': 0.8, 'contamination': 0.01752337013005501, 'max_features': 1.0}. Best is trial 51 with value: 0.08161372594481799.\n"
     ]
    },
    {
     "name": "stdout",
     "output_type": "stream",
     "text": [
      "y_val unique: [0 1]\n",
      "y_pred_bin unique: [0 1]\n",
      "F1: 0.121, Recall: 0.249, Precision: 0.080, PR-AUC: 0.024, Kappa: 0.113\n",
      "y_val unique: [0 1]\n",
      "y_pred_bin unique: [0 1]\n",
      "F1: 0.104, Recall: 0.188, Precision: 0.072, PR-AUC: 0.018, Kappa: 0.096\n",
      "y_val unique: [0 1]\n",
      "y_pred_bin unique: [0 1]\n",
      "F1: 0.104, Recall: 0.188, Precision: 0.072, PR-AUC: 0.018, Kappa: 0.096\n"
     ]
    },
    {
     "name": "stderr",
     "output_type": "stream",
     "text": [
      "[I 2025-07-31 01:59:18,665] Trial 57 finished with value: 0.07166371233223601 and parameters: {'n_estimators': 300, 'max_samples': 0.8, 'contamination': 0.014941094466848076, 'max_features': 1.0}. Best is trial 51 with value: 0.08161372594481799.\n",
      "[I 2025-07-31 02:00:15,756] Trial 58 finished with value: 0.06717627982395181 and parameters: {'n_estimators': 143, 'max_samples': 0.8, 'contamination': 0.016420370215021234, 'max_features': 0.8}. Best is trial 51 with value: 0.08161372594481799.\n",
      "[I 2025-07-31 02:00:15,756] Trial 58 finished with value: 0.06717627982395181 and parameters: {'n_estimators': 143, 'max_samples': 0.8, 'contamination': 0.016420370215021234, 'max_features': 0.8}. Best is trial 51 with value: 0.08161372594481799.\n"
     ]
    },
    {
     "name": "stdout",
     "output_type": "stream",
     "text": [
      "y_val unique: [0 1]\n",
      "y_pred_bin unique: [0 1]\n",
      "F1: 0.100, Recall: 0.193, Precision: 0.067, PR-AUC: 0.018, Kappa: 0.092\n"
     ]
    },
    {
     "name": "stderr",
     "output_type": "stream",
     "text": [
      "[I 2025-07-31 02:01:27,538] Trial 59 finished with value: 0.07760711398544867 and parameters: {'n_estimators': 176, 'max_samples': 0.8, 'contamination': 0.018415211300970725, 'max_features': 1.0}. Best is trial 51 with value: 0.08161372594481799.\n"
     ]
    },
    {
     "name": "stdout",
     "output_type": "stream",
     "text": [
      "y_val unique: [0 1]\n",
      "y_pred_bin unique: [0 1]\n",
      "F1: 0.119, Recall: 0.256, Precision: 0.078, PR-AUC: 0.024, Kappa: 0.111\n",
      "y_val unique: [0 1]\n",
      "y_pred_bin unique: [0 1]\n",
      "F1: 0.118, Recall: 0.270, Precision: 0.076, PR-AUC: 0.025, Kappa: 0.110\n",
      "y_val unique: [0 1]\n",
      "y_pred_bin unique: [0 1]\n",
      "F1: 0.118, Recall: 0.270, Precision: 0.076, PR-AUC: 0.025, Kappa: 0.110\n"
     ]
    },
    {
     "name": "stderr",
     "output_type": "stream",
     "text": [
      "[I 2025-07-31 02:02:32,555] Trial 60 finished with value: 0.07551743427186276 and parameters: {'n_estimators': 163, 'max_samples': 0.8, 'contamination': 0.019878961028357737, 'max_features': 1.0}. Best is trial 51 with value: 0.08161372594481799.\n",
      "[I 2025-07-31 02:03:54,944] Trial 61 finished with value: 0.08113828786453434 and parameters: {'n_estimators': 205, 'max_samples': 0.8, 'contamination': 0.015957655478621942, 'max_features': 1.0}. Best is trial 51 with value: 0.08161372594481799.\n",
      "[I 2025-07-31 02:03:54,944] Trial 61 finished with value: 0.08113828786453434 and parameters: {'n_estimators': 205, 'max_samples': 0.8, 'contamination': 0.015957655478621942, 'max_features': 1.0}. Best is trial 51 with value: 0.08161372594481799.\n"
     ]
    },
    {
     "name": "stdout",
     "output_type": "stream",
     "text": [
      "y_val unique: [0 1]\n",
      "y_pred_bin unique: [0 1]\n",
      "F1: 0.120, Recall: 0.230, Precision: 0.081, PR-AUC: 0.023, Kappa: 0.112\n"
     ]
    },
    {
     "name": "stderr",
     "output_type": "stream",
     "text": [
      "[I 2025-07-31 02:05:17,014] Trial 62 finished with value: 0.07896995708154507 and parameters: {'n_estimators': 203, 'max_samples': 0.8, 'contamination': 0.017445611347675926, 'max_features': 1.0}. Best is trial 51 with value: 0.08161372594481799.\n"
     ]
    },
    {
     "name": "stdout",
     "output_type": "stream",
     "text": [
      "y_val unique: [0 1]\n",
      "y_pred_bin unique: [0 1]\n",
      "F1: 0.119, Recall: 0.245, Precision: 0.079, PR-AUC: 0.024, Kappa: 0.112\n"
     ]
    },
    {
     "name": "stderr",
     "output_type": "stream",
     "text": [
      "[I 2025-07-31 02:06:45,885] Trial 63 finished with value: 0.07931034482758621 and parameters: {'n_estimators': 219, 'max_samples': 0.8, 'contamination': 0.01527141017896606, 'max_features': 1.0}. Best is trial 51 with value: 0.08161372594481799.\n"
     ]
    },
    {
     "name": "stdout",
     "output_type": "stream",
     "text": [
      "y_val unique: [0 1]\n",
      "y_pred_bin unique: [0 1]\n",
      "F1: 0.116, Recall: 0.214, Precision: 0.079, PR-AUC: 0.022, Kappa: 0.108\n"
     ]
    },
    {
     "name": "stderr",
     "output_type": "stream",
     "text": [
      "[I 2025-07-31 02:08:02,631] Trial 64 finished with value: 0.07737104825291181 and parameters: {'n_estimators': 184, 'max_samples': 0.8, 'contamination': 0.013525259761113427, 'max_features': 1.0}. Best is trial 51 with value: 0.08161372594481799.\n"
     ]
    },
    {
     "name": "stdout",
     "output_type": "stream",
     "text": [
      "y_val unique: [0 1]\n",
      "y_pred_bin unique: [0 1]\n",
      "F1: 0.109, Recall: 0.186, Precision: 0.077, PR-AUC: 0.019, Kappa: 0.102\n",
      "y_val unique: [0 1]\n",
      "y_pred_bin unique: [0 1]\n",
      "F1: 0.121, Recall: 0.239, Precision: 0.081, PR-AUC: 0.024, Kappa: 0.113\n",
      "y_val unique: [0 1]\n",
      "y_pred_bin unique: [0 1]\n",
      "F1: 0.121, Recall: 0.239, Precision: 0.081, PR-AUC: 0.024, Kappa: 0.113\n"
     ]
    },
    {
     "name": "stderr",
     "output_type": "stream",
     "text": [
      "[I 2025-07-31 02:09:23,793] Trial 65 finished with value: 0.08076490438695164 and parameters: {'n_estimators': 204, 'max_samples': 0.8, 'contamination': 0.016572625691555282, 'max_features': 1.0}. Best is trial 51 with value: 0.08161372594481799.\n",
      "[I 2025-07-31 02:10:46,223] Trial 66 finished with value: 0.08047827086686594 and parameters: {'n_estimators': 207, 'max_samples': 0.8, 'contamination': 0.016265297701812887, 'max_features': 1.0}. Best is trial 51 with value: 0.08161372594481799.\n",
      "[I 2025-07-31 02:10:46,223] Trial 66 finished with value: 0.08047827086686594 and parameters: {'n_estimators': 207, 'max_samples': 0.8, 'contamination': 0.016265297701812887, 'max_features': 1.0}. Best is trial 51 with value: 0.08161372594481799.\n"
     ]
    },
    {
     "name": "stdout",
     "output_type": "stream",
     "text": [
      "y_val unique: [0 1]\n",
      "y_pred_bin unique: [0 1]\n",
      "F1: 0.120, Recall: 0.233, Precision: 0.080, PR-AUC: 0.023, Kappa: 0.112\n",
      "y_val unique: [0 1]\n",
      "y_pred_bin unique: [0 1]\n",
      "F1: 0.014, Recall: 0.028, Precision: 0.010, PR-AUC: 0.006, Kappa: 0.006\n",
      "y_val unique: [0 1]\n",
      "y_pred_bin unique: [0 1]\n",
      "F1: 0.014, Recall: 0.028, Precision: 0.010, PR-AUC: 0.006, Kappa: 0.006\n"
     ]
    },
    {
     "name": "stderr",
     "output_type": "stream",
     "text": [
      "[I 2025-07-31 02:11:00,025] Trial 67 finished with value: 0.009602194787379973 and parameters: {'n_estimators': 204, 'max_samples': 'auto', 'contamination': 0.01679353276173398, 'max_features': 1.0}. Best is trial 51 with value: 0.08161372594481799.\n"
     ]
    },
    {
     "name": "stdout",
     "output_type": "stream",
     "text": [
      "y_val unique: [0 1]\n",
      "y_pred_bin unique: [0 1]\n",
      "F1: 0.122, Recall: 0.270, Precision: 0.079, PR-AUC: 0.025, Kappa: 0.114\n"
     ]
    },
    {
     "name": "stderr",
     "output_type": "stream",
     "text": [
      "[I 2025-07-31 02:12:19,497] Trial 68 finished with value: 0.07865604971839192 and parameters: {'n_estimators': 195, 'max_samples': 0.8, 'contamination': 0.019226302533123626, 'max_features': 1.0}. Best is trial 51 with value: 0.08161372594481799.\n",
      "[I 2025-07-31 02:13:51,102] Trial 69 finished with value: 0.06780035335689046 and parameters: {'n_estimators': 223, 'max_samples': 0.8, 'contamination': 0.017122854196519124, 'max_features': 0.8}. Best is trial 51 with value: 0.08161372594481799.\n",
      "[I 2025-07-31 02:13:51,102] Trial 69 finished with value: 0.06780035335689046 and parameters: {'n_estimators': 223, 'max_samples': 0.8, 'contamination': 0.017122854196519124, 'max_features': 0.8}. Best is trial 51 with value: 0.08161372594481799.\n"
     ]
    },
    {
     "name": "stdout",
     "output_type": "stream",
     "text": [
      "y_val unique: [0 1]\n",
      "y_pred_bin unique: [0 1]\n",
      "F1: 0.102, Recall: 0.204, Precision: 0.068, PR-AUC: 0.018, Kappa: 0.094\n"
     ]
    },
    {
     "name": "stderr",
     "output_type": "stream",
     "text": [
      "[I 2025-07-31 02:15:23,197] Trial 70 finished with value: 0.07976490344248531 and parameters: {'n_estimators': 229, 'max_samples': 0.8, 'contamination': 0.017894446179514523, 'max_features': 1.0}. Best is trial 51 with value: 0.08161372594481799.\n"
     ]
    },
    {
     "name": "stdout",
     "output_type": "stream",
     "text": [
      "y_val unique: [0 1]\n",
      "y_pred_bin unique: [0 1]\n",
      "F1: 0.121, Recall: 0.253, Precision: 0.080, PR-AUC: 0.025, Kappa: 0.113\n"
     ]
    },
    {
     "name": "stderr",
     "output_type": "stream",
     "text": [
      "[I 2025-07-31 02:16:49,316] Trial 71 finished with value: 0.07960199004975124 and parameters: {'n_estimators': 213, 'max_samples': 0.8, 'contamination': 0.015820655163273557, 'max_features': 1.0}. Best is trial 51 with value: 0.08161372594481799.\n"
     ]
    },
    {
     "name": "stdout",
     "output_type": "stream",
     "text": [
      "y_val unique: [0 1]\n",
      "y_pred_bin unique: [0 1]\n",
      "F1: 0.117, Recall: 0.224, Precision: 0.080, PR-AUC: 0.022, Kappa: 0.110\n"
     ]
    },
    {
     "name": "stderr",
     "output_type": "stream",
     "text": [
      "[I 2025-07-31 02:18:11,800] Trial 72 finished with value: 0.08038949275362318 and parameters: {'n_estimators': 207, 'max_samples': 0.8, 'contamination': 0.016504023111460823, 'max_features': 1.0}. Best is trial 51 with value: 0.08161372594481799.\n"
     ]
    },
    {
     "name": "stdout",
     "output_type": "stream",
     "text": [
      "y_val unique: [0 1]\n",
      "y_pred_bin unique: [0 1]\n",
      "F1: 0.120, Recall: 0.236, Precision: 0.080, PR-AUC: 0.023, Kappa: 0.112\n"
     ]
    },
    {
     "name": "stderr",
     "output_type": "stream",
     "text": [
      "[I 2025-07-31 02:19:34,712] Trial 73 finished with value: 0.07979086155944533 and parameters: {'n_estimators': 208, 'max_samples': 0.8, 'contamination': 0.01644377000798768, 'max_features': 1.0}. Best is trial 51 with value: 0.08161372594481799.\n"
     ]
    },
    {
     "name": "stdout",
     "output_type": "stream",
     "text": [
      "y_val unique: [0 1]\n",
      "y_pred_bin unique: [0 1]\n",
      "F1: 0.119, Recall: 0.234, Precision: 0.080, PR-AUC: 0.023, Kappa: 0.111\n"
     ]
    },
    {
     "name": "stderr",
     "output_type": "stream",
     "text": [
      "[I 2025-07-31 02:20:51,113] Trial 74 finished with value: 0.07789855072463768 and parameters: {'n_estimators': 191, 'max_samples': 0.8, 'contamination': 0.014456277782362026, 'max_features': 1.0}. Best is trial 51 with value: 0.08161372594481799.\n"
     ]
    },
    {
     "name": "stdout",
     "output_type": "stream",
     "text": [
      "y_val unique: [0 1]\n",
      "y_pred_bin unique: [0 1]\n",
      "F1: 0.112, Recall: 0.200, Precision: 0.078, PR-AUC: 0.020, Kappa: 0.105\n"
     ]
    },
    {
     "name": "stderr",
     "output_type": "stream",
     "text": [
      "[I 2025-07-31 02:22:11,758] Trial 75 finished with value: 0.08008898776418243 and parameters: {'n_estimators': 198, 'max_samples': 0.8, 'contamination': 0.016775962292097414, 'max_features': 1.0}. Best is trial 51 with value: 0.08161372594481799.\n"
     ]
    },
    {
     "name": "stdout",
     "output_type": "stream",
     "text": [
      "y_val unique: [0 1]\n",
      "y_pred_bin unique: [0 1]\n",
      "F1: 0.120, Recall: 0.240, Precision: 0.080, PR-AUC: 0.024, Kappa: 0.112\n"
     ]
    },
    {
     "name": "stderr",
     "output_type": "stream",
     "text": [
      "[I 2025-07-31 02:23:32,797] Trial 76 finished with value: 0.079037111334002 and parameters: {'n_estimators': 205, 'max_samples': 0.8, 'contamination': 0.018688015266977463, 'max_features': 1.0}. Best is trial 51 with value: 0.08161372594481799.\n"
     ]
    },
    {
     "name": "stdout",
     "output_type": "stream",
     "text": [
      "y_val unique: [0 1]\n",
      "y_pred_bin unique: [0 1]\n",
      "F1: 0.121, Recall: 0.262, Precision: 0.079, PR-AUC: 0.025, Kappa: 0.114\n"
     ]
    },
    {
     "name": "stderr",
     "output_type": "stream",
     "text": [
      "[I 2025-07-31 02:24:41,120] Trial 77 finished with value: 0.08063464464246903 and parameters: {'n_estimators': 169, 'max_samples': 0.8, 'contamination': 0.017203740192072894, 'max_features': 1.0}. Best is trial 51 with value: 0.08161372594481799.\n"
     ]
    },
    {
     "name": "stdout",
     "output_type": "stream",
     "text": [
      "y_val unique: [0 1]\n",
      "y_pred_bin unique: [0 1]\n",
      "F1: 0.122, Recall: 0.247, Precision: 0.081, PR-AUC: 0.024, Kappa: 0.114\n"
     ]
    },
    {
     "name": "stderr",
     "output_type": "stream",
     "text": [
      "[I 2025-07-31 02:24:57,099] Trial 78 finished with value: 0.011174636174636175 and parameters: {'n_estimators': 238, 'max_samples': 'auto', 'contamination': 0.014826302193372052, 'max_features': 1.0}. Best is trial 51 with value: 0.08161372594481799.\n"
     ]
    },
    {
     "name": "stdout",
     "output_type": "stream",
     "text": [
      "y_val unique: [0 1]\n",
      "y_pred_bin unique: [0 1]\n",
      "F1: 0.016, Recall: 0.029, Precision: 0.011, PR-AUC: 0.006, Kappa: 0.008\n"
     ]
    },
    {
     "name": "stderr",
     "output_type": "stream",
     "text": [
      "[I 2025-07-31 02:26:07,220] Trial 79 finished with value: 0.07973982172970369 and parameters: {'n_estimators': 172, 'max_samples': 0.8, 'contamination': 0.015516510379437442, 'max_features': 1.0}. Best is trial 51 with value: 0.08161372594481799.\n"
     ]
    },
    {
     "name": "stdout",
     "output_type": "stream",
     "text": [
      "y_val unique: [0 1]\n",
      "y_pred_bin unique: [0 1]\n",
      "F1: 0.117, Recall: 0.220, Precision: 0.080, PR-AUC: 0.022, Kappa: 0.110\n"
     ]
    },
    {
     "name": "stderr",
     "output_type": "stream",
     "text": [
      "[I 2025-07-31 02:27:26,175] Trial 80 finished with value: 0.003215434083601286 and parameters: {'n_estimators': 191, 'max_samples': 0.8, 'contamination': 0.0011341923984570217, 'max_features': 1.0}. Best is trial 51 with value: 0.08161372594481799.\n"
     ]
    },
    {
     "name": "stdout",
     "output_type": "stream",
     "text": [
      "y_val unique: [0 1]\n",
      "y_pred_bin unique: [0 1]\n",
      "F1: 0.001, Recall: 0.001, Precision: 0.003, PR-AUC: 0.006, Kappa: -0.001\n"
     ]
    },
    {
     "name": "stderr",
     "output_type": "stream",
     "text": [
      "[I 2025-07-31 02:28:36,202] Trial 81 finished with value: 0.08037825059101655 and parameters: {'n_estimators': 175, 'max_samples': 0.8, 'contamination': 0.01743196330544513, 'max_features': 1.0}. Best is trial 51 with value: 0.08161372594481799.\n"
     ]
    },
    {
     "name": "stdout",
     "output_type": "stream",
     "text": [
      "y_val unique: [0 1]\n",
      "y_pred_bin unique: [0 1]\n",
      "F1: 0.122, Recall: 0.249, Precision: 0.080, PR-AUC: 0.024, Kappa: 0.114\n"
     ]
    },
    {
     "name": "stderr",
     "output_type": "stream",
     "text": [
      "[I 2025-07-31 02:29:43,829] Trial 82 finished with value: 0.07821486082355647 and parameters: {'n_estimators': 165, 'max_samples': 0.8, 'contamination': 0.016250971413964026, 'max_features': 1.0}. Best is trial 51 with value: 0.08161372594481799.\n"
     ]
    },
    {
     "name": "stdout",
     "output_type": "stream",
     "text": [
      "y_val unique: [0 1]\n",
      "y_pred_bin unique: [0 1]\n",
      "F1: 0.116, Recall: 0.226, Precision: 0.078, PR-AUC: 0.022, Kappa: 0.109\n",
      "y_val unique: [0 1]\n",
      "y_pred_bin unique: [0 1]\n",
      "F1: 0.121, Recall: 0.244, Precision: 0.080, PR-AUC: 0.024, Kappa: 0.113\n",
      "y_val unique: [0 1]\n",
      "y_pred_bin unique: [0 1]\n",
      "F1: 0.121, Recall: 0.244, Precision: 0.080, PR-AUC: 0.024, Kappa: 0.113\n"
     ]
    },
    {
     "name": "stderr",
     "output_type": "stream",
     "text": [
      "[I 2025-07-31 02:30:55,057] Trial 83 finished with value: 0.07997385051209414 and parameters: {'n_estimators': 177, 'max_samples': 0.8, 'contamination': 0.017175234146600573, 'max_features': 1.0}. Best is trial 51 with value: 0.08161372594481799.\n"
     ]
    },
    {
     "name": "stdout",
     "output_type": "stream",
     "text": [
      "y_val unique: [0 1]\n",
      "y_pred_bin unique: [0 1]\n"
     ]
    },
    {
     "name": "stderr",
     "output_type": "stream",
     "text": [
      "[I 2025-07-31 02:32:01,192] Trial 84 finished with value: 0.07659660468876314 and parameters: {'n_estimators': 159, 'max_samples': 0.8, 'contamination': 0.018370350953102972, 'max_features': 1.0}. Best is trial 51 with value: 0.08161372594481799.\n"
     ]
    },
    {
     "name": "stdout",
     "output_type": "stream",
     "text": [
      "F1: 0.118, Recall: 0.252, Precision: 0.077, PR-AUC: 0.024, Kappa: 0.110\n"
     ]
    },
    {
     "name": "stderr",
     "output_type": "stream",
     "text": [
      "[I 2025-07-31 02:33:09,197] Trial 85 finished with value: 0.0811049723756906 and parameters: {'n_estimators': 170, 'max_samples': 0.8, 'contamination': 0.016875181731476743, 'max_features': 1.0}. Best is trial 51 with value: 0.08161372594481799.\n"
     ]
    },
    {
     "name": "stdout",
     "output_type": "stream",
     "text": [
      "y_val unique: [0 1]\n",
      "y_pred_bin unique: [0 1]\n",
      "F1: 0.122, Recall: 0.244, Precision: 0.081, PR-AUC: 0.024, Kappa: 0.114\n"
     ]
    },
    {
     "name": "stderr",
     "output_type": "stream",
     "text": [
      "[I 2025-07-31 02:34:10,895] Trial 86 finished with value: 0.05297757153905646 and parameters: {'n_estimators': 152, 'max_samples': 0.8, 'contamination': 0.009480028537162927, 'max_features': 1.0}. Best is trial 51 with value: 0.08161372594481799.\n"
     ]
    },
    {
     "name": "stdout",
     "output_type": "stream",
     "text": [
      "y_val unique: [0 1]\n",
      "y_pred_bin unique: [0 1]\n",
      "F1: 0.067, Recall: 0.091, Precision: 0.053, PR-AUC: 0.010, Kappa: 0.060\n"
     ]
    },
    {
     "name": "stderr",
     "output_type": "stream",
     "text": [
      "[I 2025-07-31 02:35:18,522] Trial 87 finished with value: 0.0800376647834275 and parameters: {'n_estimators': 170, 'max_samples': 0.8, 'contamination': 0.015943923435298414, 'max_features': 1.0}. Best is trial 51 with value: 0.08161372594481799.\n"
     ]
    },
    {
     "name": "stdout",
     "output_type": "stream",
     "text": [
      "y_val unique: [0 1]\n",
      "y_pred_bin unique: [0 1]\n",
      "F1: 0.118, Recall: 0.226, Precision: 0.080, PR-AUC: 0.023, Kappa: 0.111\n",
      "y_val unique: [0 1]\n",
      "y_pred_bin unique: [0 1]\n",
      "y_val unique: [0 1]\n",
      "y_pred_bin unique: [0 1]\n",
      "F1: 0.084, Recall: 0.135, Precision: 0.061, PR-AUC: 0.013, Kappa: 0.076\n",
      "F1: 0.084, Recall: 0.135, Precision: 0.061, PR-AUC: 0.013, Kappa: 0.076\n"
     ]
    },
    {
     "name": "stderr",
     "output_type": "stream",
     "text": [
      "[I 2025-07-31 02:36:38,943] Trial 88 finished with value: 0.060669456066945605 and parameters: {'n_estimators': 200, 'max_samples': 0.8, 'contamination': 0.012629701765513587, 'max_features': 0.8}. Best is trial 51 with value: 0.08161372594481799.\n"
     ]
    },
    {
     "name": "stdout",
     "output_type": "stream",
     "text": [
      "y_val unique: [0 1]\n",
      "y_pred_bin unique: [0 1]\n",
      "F1: 0.119, Recall: 0.236, Precision: 0.080, PR-AUC: 0.023, Kappa: 0.111\n"
     ]
    },
    {
     "name": "stderr",
     "output_type": "stream",
     "text": [
      "[I 2025-07-31 02:38:07,300] Trial 89 finished with value: 0.07960422756914774 and parameters: {'n_estimators': 216, 'max_samples': 0.8, 'contamination': 0.016600718283187738, 'max_features': 1.0}. Best is trial 51 with value: 0.08161372594481799.\n"
     ]
    },
    {
     "name": "stdout",
     "output_type": "stream",
     "text": [
      "y_val unique: [0 1]\n",
      "y_pred_bin unique: [0 1]\n",
      "F1: 0.013, Recall: 0.024, Precision: 0.009, PR-AUC: 0.006, Kappa: 0.005\n"
     ]
    },
    {
     "name": "stderr",
     "output_type": "stream",
     "text": [
      "[I 2025-07-31 02:38:21,407] Trial 90 finished with value: 0.009266409266409266 and parameters: {'n_estimators': 208, 'max_samples': 'auto', 'contamination': 0.014965223259412245, 'max_features': 1.0}. Best is trial 51 with value: 0.08161372594481799.\n"
     ]
    },
    {
     "name": "stdout",
     "output_type": "stream",
     "text": [
      "y_val unique: [0 1]\n",
      "y_pred_bin unique: [0 1]\n",
      "F1: 0.121, Recall: 0.246, Precision: 0.080, PR-AUC: 0.024, Kappa: 0.113\n"
     ]
    },
    {
     "name": "stderr",
     "output_type": "stream",
     "text": [
      "[I 2025-07-31 02:39:37,961] Trial 91 finished with value: 0.07983556901774123 and parameters: {'n_estimators': 186, 'max_samples': 0.8, 'contamination': 0.01728584041252911, 'max_features': 1.0}. Best is trial 51 with value: 0.08161372594481799.\n",
      "[I 2025-07-31 02:40:55,476] Trial 92 finished with value: 0.08026131591227252 and parameters: {'n_estimators': 194, 'max_samples': 0.8, 'contamination': 0.016066666270499196, 'max_features': 1.0}. Best is trial 51 with value: 0.08161372594481799.\n",
      "[I 2025-07-31 02:40:55,476] Trial 92 finished with value: 0.08026131591227252 and parameters: {'n_estimators': 194, 'max_samples': 0.8, 'contamination': 0.016066666270499196, 'max_features': 1.0}. Best is trial 51 with value: 0.08161372594481799.\n"
     ]
    },
    {
     "name": "stdout",
     "output_type": "stream",
     "text": [
      "y_val unique: [0 1]\n",
      "y_pred_bin unique: [0 1]\n",
      "F1: 0.119, Recall: 0.229, Precision: 0.080, PR-AUC: 0.023, Kappa: 0.111\n",
      "y_val unique: [0 1]\n",
      "y_pred_bin unique: [0 1]\n",
      "F1: 0.121, Recall: 0.254, Precision: 0.079, PR-AUC: 0.024, Kappa: 0.113\n",
      "y_val unique: [0 1]\n",
      "y_pred_bin unique: [0 1]\n",
      "F1: 0.121, Recall: 0.254, Precision: 0.079, PR-AUC: 0.024, Kappa: 0.113\n"
     ]
    },
    {
     "name": "stderr",
     "output_type": "stream",
     "text": [
      "[I 2025-07-31 02:42:09,651] Trial 93 finished with value: 0.07927590511860175 and parameters: {'n_estimators': 180, 'max_samples': 0.8, 'contamination': 0.017951239534260605, 'max_features': 1.0}. Best is trial 51 with value: 0.08161372594481799.\n",
      "[I 2025-07-31 02:43:09,335] Trial 94 finished with value: 0.03691275167785235 and parameters: {'n_estimators': 148, 'max_samples': 0.8, 'contamination': 0.006562999819794692, 'max_features': 1.0}. Best is trial 51 with value: 0.08161372594481799.\n",
      "[I 2025-07-31 02:43:09,335] Trial 94 finished with value: 0.03691275167785235 and parameters: {'n_estimators': 148, 'max_samples': 0.8, 'contamination': 0.006562999819794692, 'max_features': 1.0}. Best is trial 51 with value: 0.08161372594481799.\n"
     ]
    },
    {
     "name": "stdout",
     "output_type": "stream",
     "text": [
      "y_val unique: [0 1]\n",
      "y_pred_bin unique: [0 1]\n",
      "F1: 0.040, Recall: 0.044, Precision: 0.037, PR-AUC: 0.007, Kappa: 0.034\n",
      "y_val unique: [0 1]\n",
      "y_pred_bin unique: [0 1]\n",
      "F1: 0.112, Recall: 0.210, Precision: 0.077, PR-AUC: 0.021, Kappa: 0.105\n",
      "y_val unique: [0 1]\n",
      "y_pred_bin unique: [0 1]\n",
      "F1: 0.112, Recall: 0.210, Precision: 0.077, PR-AUC: 0.021, Kappa: 0.105\n"
     ]
    },
    {
     "name": "stderr",
     "output_type": "stream",
     "text": [
      "[I 2025-07-31 02:44:14,699] Trial 95 finished with value: 0.07651331719128329 and parameters: {'n_estimators': 161, 'max_samples': 0.8, 'contamination': 0.015480500126387235, 'max_features': 1.0}. Best is trial 51 with value: 0.08161372594481799.\n",
      "[I 2025-07-31 02:45:22,675] Trial 96 finished with value: 0.0807850296668188 and parameters: {'n_estimators': 170, 'max_samples': 0.8, 'contamination': 0.016386552401031325, 'max_features': 1.0}. Best is trial 51 with value: 0.08161372594481799.\n",
      "[I 2025-07-31 02:45:22,675] Trial 96 finished with value: 0.0807850296668188 and parameters: {'n_estimators': 170, 'max_samples': 0.8, 'contamination': 0.016386552401031325, 'max_features': 1.0}. Best is trial 51 with value: 0.08161372594481799.\n"
     ]
    },
    {
     "name": "stdout",
     "output_type": "stream",
     "text": [
      "y_val unique: [0 1]\n",
      "y_pred_bin unique: [0 1]\n",
      "F1: 0.120, Recall: 0.236, Precision: 0.081, PR-AUC: 0.023, Kappa: 0.113\n"
     ]
    },
    {
     "name": "stderr",
     "output_type": "stream",
     "text": [
      "[I 2025-07-31 02:46:52,323] Trial 97 finished with value: 0.07550158394931362 and parameters: {'n_estimators': 222, 'max_samples': 0.8, 'contamination': 0.0142689795612148, 'max_features': 1.0}. Best is trial 51 with value: 0.08161372594481799.\n"
     ]
    },
    {
     "name": "stdout",
     "output_type": "stream",
     "text": [
      "y_val unique: [0 1]\n",
      "y_pred_bin unique: [0 1]\n",
      "F1: 0.108, Recall: 0.190, Precision: 0.076, PR-AUC: 0.019, Kappa: 0.101\n"
     ]
    },
    {
     "name": "stderr",
     "output_type": "stream",
     "text": [
      "[I 2025-07-31 02:47:47,104] Trial 98 finished with value: 0.0747538048343778 and parameters: {'n_estimators': 135, 'max_samples': 0.8, 'contamination': 0.01667004533682378, 'max_features': 1.0}. Best is trial 51 with value: 0.08161372594481799.\n"
     ]
    },
    {
     "name": "stdout",
     "output_type": "stream",
     "text": [
      "y_val unique: [0 1]\n",
      "y_pred_bin unique: [0 1]\n",
      "F1: 0.112, Recall: 0.222, Precision: 0.075, PR-AUC: 0.021, Kappa: 0.104\n",
      "y_val unique: [0 1]\n",
      "y_pred_bin unique: [0 1]\n",
      "F1: 0.119, Recall: 0.232, Precision: 0.080, PR-AUC: 0.023, Kappa: 0.112\n",
      "y_val unique: [0 1]\n",
      "y_pred_bin unique: [0 1]\n",
      "F1: 0.119, Recall: 0.232, Precision: 0.080, PR-AUC: 0.023, Kappa: 0.112\n"
     ]
    },
    {
     "name": "stderr",
     "output_type": "stream",
     "text": [
      "[I 2025-07-31 02:49:03,496] Trial 99 finished with value: 0.0804252368846776 and parameters: {'n_estimators': 188, 'max_samples': 0.8, 'contamination': 0.01613921786251025, 'max_features': 1.0}. Best is trial 51 with value: 0.08161372594481799.\n"
     ]
    },
    {
     "name": "stdout",
     "output_type": "stream",
     "text": [
      "Best params from Optuna (Precision-focused): {'n_estimators': 184, 'max_samples': 0.8, 'contamination': 0.01619968709546915, 'max_features': 1.0}\n",
      "Best Precision Score: 0.08161372594481799\n"
     ]
    }
   ],
   "source": [
    "# Run Optuna for High Precision\n",
    "study = optuna.create_study(direction='maximize')\n",
    "study.optimize(objective, n_trials=100)\n",
    "\n",
    "print(\"Best params from Optuna (Precision-focused):\", study.best_params)\n",
    "print(\"Best Precision Score:\", study.best_value)"
   ]
  },
  {
   "cell_type": "markdown",
   "id": "ebd0b50f",
   "metadata": {},
   "source": [
    "#### Advanced: Custom Threshold for Maximum Precision\n",
    "\n",
    "ใช้ decision_function เพื่อหา threshold ที่ให้ Precision สูงสุด"
   ]
  },
  {
   "cell_type": "code",
   "execution_count": null,
   "id": "64d00e3d",
   "metadata": {},
   "outputs": [
    {
     "name": "stdout",
     "output_type": "stream",
     "text": [
      "Optimizing threshold for maximum precision...\n",
      "Testing different thresholds for maximum precision:\n",
      "------------------------------------------------------------\n",
      "Threshold: -0.0351, Precision: 0.3526, Recall: 0.6092\n",
      "Threshold: -0.0054, Precision: 0.2270, Recall: 0.7843\n",
      "Testing different thresholds for maximum precision:\n",
      "------------------------------------------------------------\n",
      "Threshold: -0.0351, Precision: 0.3526, Recall: 0.6092\n",
      "Threshold: -0.0054, Precision: 0.2270, Recall: 0.7843\n",
      "Threshold: 0.0090, Precision: 0.1814, Recall: 0.9401\n",
      "Threshold: 0.0190, Precision: 0.1447, Recall: 1.0000\n",
      "Threshold: 0.0263, Precision: 0.1158, Recall: 1.0000\n",
      "Threshold: 0.0090, Precision: 0.1814, Recall: 0.9401\n",
      "Threshold: 0.0190, Precision: 0.1447, Recall: 1.0000\n",
      "Threshold: 0.0263, Precision: 0.1158, Recall: 1.0000\n",
      "Threshold: 0.0316, Precision: 0.0965, Recall: 1.0000\n",
      "Threshold: 0.0357, Precision: 0.0827, Recall: 1.0000\n",
      "Threshold: 0.0389, Precision: 0.0724, Recall: 1.0000\n",
      "Threshold: 0.0316, Precision: 0.0965, Recall: 1.0000\n",
      "Threshold: 0.0357, Precision: 0.0827, Recall: 1.0000\n",
      "Threshold: 0.0389, Precision: 0.0724, Recall: 1.0000\n",
      "Threshold: 0.0417, Precision: 0.0643, Recall: 1.0000\n",
      "Threshold: 0.0441, Precision: 0.0579, Recall: 1.0000\n",
      "Threshold: 0.0462, Precision: 0.0526, Recall: 1.0000\n",
      "Threshold: 0.0417, Precision: 0.0643, Recall: 1.0000\n",
      "Threshold: 0.0441, Precision: 0.0579, Recall: 1.0000\n",
      "Threshold: 0.0462, Precision: 0.0526, Recall: 1.0000\n",
      "Threshold: 0.0483, Precision: 0.0482, Recall: 1.0000\n",
      "Threshold: 0.0502, Precision: 0.0445, Recall: 1.0000\n",
      "Threshold: 0.0518, Precision: 0.0413, Recall: 1.0000\n",
      "Threshold: 0.0483, Precision: 0.0482, Recall: 1.0000\n",
      "Threshold: 0.0502, Precision: 0.0445, Recall: 1.0000\n",
      "Threshold: 0.0518, Precision: 0.0413, Recall: 1.0000\n",
      "Threshold: 0.0534, Precision: 0.0386, Recall: 1.0000\n",
      "Threshold: 0.0550, Precision: 0.0362, Recall: 1.0000\n",
      "Threshold: 0.0564, Precision: 0.0341, Recall: 1.0000\n",
      "Threshold: 0.0534, Precision: 0.0386, Recall: 1.0000\n",
      "Threshold: 0.0550, Precision: 0.0362, Recall: 1.0000\n",
      "Threshold: 0.0564, Precision: 0.0341, Recall: 1.0000\n",
      "Threshold: 0.0579, Precision: 0.0322, Recall: 1.0000\n",
      "Threshold: 0.0591, Precision: 0.0305, Recall: 1.0000\n",
      "\n",
      "============================================================\n",
      "OPTIMAL THRESHOLD FOR MAXIMUM PRECISION:\n",
      "============================================================\n",
      "Threshold: -0.0351\n",
      "Maximum Precision: 0.3526\n",
      "Recall at Max Precision: 0.6092\n",
      "============================================================\n",
      "Threshold: 0.0579, Precision: 0.0322, Recall: 1.0000\n",
      "Threshold: 0.0591, Precision: 0.0305, Recall: 1.0000\n",
      "\n",
      "============================================================\n",
      "OPTIMAL THRESHOLD FOR MAXIMUM PRECISION:\n",
      "============================================================\n",
      "Threshold: -0.0351\n",
      "Maximum Precision: 0.3526\n",
      "Recall at Max Precision: 0.6092\n",
      "============================================================\n"
     ]
    }
   ],
   "source": [
    "# Advanced Precision Optimization using Custom Threshold\n",
    "def optimize_precision_threshold(pipeline, X_val, y_val, min_recall=0.1):\n",
    "    \"\"\"\n",
    "    หา threshold ที่ให้ Precision สูงสุด โดยที่ Recall ไม่ต่ำเกินไป\n",
    "    \"\"\"\n",
    "    # Get anomaly scores\n",
    "    scores = pipeline.decision_function(X_val)\n",
    "\n",
    "    best_precision = 0\n",
    "    best_threshold = 0\n",
    "    best_recall = 0\n",
    "\n",
    "    # Test different thresholds (lower threshold = more conservative = higher precision)\n",
    "    thresholds = np.percentile(scores, range(1, 20))  # Test 1st to 19th percentile\n",
    "\n",
    "    print(\"Testing different thresholds for maximum precision:\")\n",
    "    print(\"-\" * 60)\n",
    "\n",
    "    for threshold in thresholds:\n",
    "        y_pred_threshold = (scores <= threshold).astype(int)\n",
    "\n",
    "        if np.sum(y_pred_threshold) > 0:  # มี predictions\n",
    "            precision = precision_score(y_val, y_pred_threshold, zero_division=0)\n",
    "            recall = recall_score(y_val, y_pred_threshold, zero_division=0)\n",
    "\n",
    "            # เลือก threshold ที่ให้ Precision สูงสุด และ Recall ไม่ต่ำเกินไป\n",
    "            if precision > best_precision and recall >= min_recall:\n",
    "                best_precision = precision\n",
    "                best_threshold = threshold\n",
    "                best_recall = recall\n",
    "\n",
    "            print(f\"Threshold: {threshold:.4f}, Precision: {precision:.4f}, Recall: {recall:.4f}\")\n",
    "\n",
    "    return best_threshold, best_precision, best_recall\n",
    "\n",
    "# Apply custom threshold optimization after best_pipeline is fitted\n",
    "if 'best_pipeline' in locals():\n",
    "    print(\"Optimizing threshold for maximum precision...\")\n",
    "    best_threshold, max_precision, recall_at_max_precision = optimize_precision_threshold(\n",
    "        best_pipeline, X_val, y_val, min_recall=0.05\n",
    "    )\n",
    "\n",
    "    print(f\"\\n{'='*60}\")\n",
    "    print(f\"OPTIMAL THRESHOLD FOR MAXIMUM PRECISION:\")\n",
    "    print(f\"{'='*60}\")\n",
    "    print(f\"Threshold: {best_threshold:.4f}\")\n",
    "    print(f\"Maximum Precision: {max_precision:.4f}\")\n",
    "    print(f\"Recall at Max Precision: {recall_at_max_precision:.4f}\")\n",
    "    print(f\"{'='*60}\")\n",
    "else:\n",
    "    print(\"Run the Optuna optimization first to create best_pipeline\")"
   ]
  },
  {
   "cell_type": "code",
   "execution_count": 69,
   "id": "26171a4d",
   "metadata": {},
   "outputs": [],
   "source": [
    "# สร้าง pipeline ด้วย best params (optimized for Precision)\n",
    "best_params = study.best_params\n",
    "best_pipeline = Pipeline([\n",
    "    ('scaler', StandardScaler()),\n",
    "    ('select_kbest', SelectKBest(score_func=f_classif, k=15)),  # เพิ่มเป็น 15\n",
    "    ('pca', PCA(n_components=8)),  # เพิ่มเป็น 8\n",
    "    ('isolation_forest', IsolationForest(\n",
    "        n_estimators=best_params['n_estimators'],\n",
    "        max_samples=best_params['max_samples'],\n",
    "        contamination=best_params['contamination'],\n",
    "        max_features=best_params['max_features'],\n",
    "        random_state=42\n",
    "    ))\n",
    "])"
   ]
  },
  {
   "cell_type": "code",
   "execution_count": 70,
   "id": "6368eae6",
   "metadata": {},
   "outputs": [
    {
     "data": {
      "text/html": [
       "<style>#sk-container-id-4 {\n",
       "  /* Definition of color scheme common for light and dark mode */\n",
       "  --sklearn-color-text: #000;\n",
       "  --sklearn-color-text-muted: #666;\n",
       "  --sklearn-color-line: gray;\n",
       "  /* Definition of color scheme for unfitted estimators */\n",
       "  --sklearn-color-unfitted-level-0: #fff5e6;\n",
       "  --sklearn-color-unfitted-level-1: #f6e4d2;\n",
       "  --sklearn-color-unfitted-level-2: #ffe0b3;\n",
       "  --sklearn-color-unfitted-level-3: chocolate;\n",
       "  /* Definition of color scheme for fitted estimators */\n",
       "  --sklearn-color-fitted-level-0: #f0f8ff;\n",
       "  --sklearn-color-fitted-level-1: #d4ebff;\n",
       "  --sklearn-color-fitted-level-2: #b3dbfd;\n",
       "  --sklearn-color-fitted-level-3: cornflowerblue;\n",
       "\n",
       "  /* Specific color for light theme */\n",
       "  --sklearn-color-text-on-default-background: var(--sg-text-color, var(--theme-code-foreground, var(--jp-content-font-color1, black)));\n",
       "  --sklearn-color-background: var(--sg-background-color, var(--theme-background, var(--jp-layout-color0, white)));\n",
       "  --sklearn-color-border-box: var(--sg-text-color, var(--theme-code-foreground, var(--jp-content-font-color1, black)));\n",
       "  --sklearn-color-icon: #696969;\n",
       "\n",
       "  @media (prefers-color-scheme: dark) {\n",
       "    /* Redefinition of color scheme for dark theme */\n",
       "    --sklearn-color-text-on-default-background: var(--sg-text-color, var(--theme-code-foreground, var(--jp-content-font-color1, white)));\n",
       "    --sklearn-color-background: var(--sg-background-color, var(--theme-background, var(--jp-layout-color0, #111)));\n",
       "    --sklearn-color-border-box: var(--sg-text-color, var(--theme-code-foreground, var(--jp-content-font-color1, white)));\n",
       "    --sklearn-color-icon: #878787;\n",
       "  }\n",
       "}\n",
       "\n",
       "#sk-container-id-4 {\n",
       "  color: var(--sklearn-color-text);\n",
       "}\n",
       "\n",
       "#sk-container-id-4 pre {\n",
       "  padding: 0;\n",
       "}\n",
       "\n",
       "#sk-container-id-4 input.sk-hidden--visually {\n",
       "  border: 0;\n",
       "  clip: rect(1px 1px 1px 1px);\n",
       "  clip: rect(1px, 1px, 1px, 1px);\n",
       "  height: 1px;\n",
       "  margin: -1px;\n",
       "  overflow: hidden;\n",
       "  padding: 0;\n",
       "  position: absolute;\n",
       "  width: 1px;\n",
       "}\n",
       "\n",
       "#sk-container-id-4 div.sk-dashed-wrapped {\n",
       "  border: 1px dashed var(--sklearn-color-line);\n",
       "  margin: 0 0.4em 0.5em 0.4em;\n",
       "  box-sizing: border-box;\n",
       "  padding-bottom: 0.4em;\n",
       "  background-color: var(--sklearn-color-background);\n",
       "}\n",
       "\n",
       "#sk-container-id-4 div.sk-container {\n",
       "  /* jupyter's `normalize.less` sets `[hidden] { display: none; }`\n",
       "     but bootstrap.min.css set `[hidden] { display: none !important; }`\n",
       "     so we also need the `!important` here to be able to override the\n",
       "     default hidden behavior on the sphinx rendered scikit-learn.org.\n",
       "     See: https://github.com/scikit-learn/scikit-learn/issues/21755 */\n",
       "  display: inline-block !important;\n",
       "  position: relative;\n",
       "}\n",
       "\n",
       "#sk-container-id-4 div.sk-text-repr-fallback {\n",
       "  display: none;\n",
       "}\n",
       "\n",
       "div.sk-parallel-item,\n",
       "div.sk-serial,\n",
       "div.sk-item {\n",
       "  /* draw centered vertical line to link estimators */\n",
       "  background-image: linear-gradient(var(--sklearn-color-text-on-default-background), var(--sklearn-color-text-on-default-background));\n",
       "  background-size: 2px 100%;\n",
       "  background-repeat: no-repeat;\n",
       "  background-position: center center;\n",
       "}\n",
       "\n",
       "/* Parallel-specific style estimator block */\n",
       "\n",
       "#sk-container-id-4 div.sk-parallel-item::after {\n",
       "  content: \"\";\n",
       "  width: 100%;\n",
       "  border-bottom: 2px solid var(--sklearn-color-text-on-default-background);\n",
       "  flex-grow: 1;\n",
       "}\n",
       "\n",
       "#sk-container-id-4 div.sk-parallel {\n",
       "  display: flex;\n",
       "  align-items: stretch;\n",
       "  justify-content: center;\n",
       "  background-color: var(--sklearn-color-background);\n",
       "  position: relative;\n",
       "}\n",
       "\n",
       "#sk-container-id-4 div.sk-parallel-item {\n",
       "  display: flex;\n",
       "  flex-direction: column;\n",
       "}\n",
       "\n",
       "#sk-container-id-4 div.sk-parallel-item:first-child::after {\n",
       "  align-self: flex-end;\n",
       "  width: 50%;\n",
       "}\n",
       "\n",
       "#sk-container-id-4 div.sk-parallel-item:last-child::after {\n",
       "  align-self: flex-start;\n",
       "  width: 50%;\n",
       "}\n",
       "\n",
       "#sk-container-id-4 div.sk-parallel-item:only-child::after {\n",
       "  width: 0;\n",
       "}\n",
       "\n",
       "/* Serial-specific style estimator block */\n",
       "\n",
       "#sk-container-id-4 div.sk-serial {\n",
       "  display: flex;\n",
       "  flex-direction: column;\n",
       "  align-items: center;\n",
       "  background-color: var(--sklearn-color-background);\n",
       "  padding-right: 1em;\n",
       "  padding-left: 1em;\n",
       "}\n",
       "\n",
       "\n",
       "/* Toggleable style: style used for estimator/Pipeline/ColumnTransformer box that is\n",
       "clickable and can be expanded/collapsed.\n",
       "- Pipeline and ColumnTransformer use this feature and define the default style\n",
       "- Estimators will overwrite some part of the style using the `sk-estimator` class\n",
       "*/\n",
       "\n",
       "/* Pipeline and ColumnTransformer style (default) */\n",
       "\n",
       "#sk-container-id-4 div.sk-toggleable {\n",
       "  /* Default theme specific background. It is overwritten whether we have a\n",
       "  specific estimator or a Pipeline/ColumnTransformer */\n",
       "  background-color: var(--sklearn-color-background);\n",
       "}\n",
       "\n",
       "/* Toggleable label */\n",
       "#sk-container-id-4 label.sk-toggleable__label {\n",
       "  cursor: pointer;\n",
       "  display: flex;\n",
       "  width: 100%;\n",
       "  margin-bottom: 0;\n",
       "  padding: 0.5em;\n",
       "  box-sizing: border-box;\n",
       "  text-align: center;\n",
       "  align-items: start;\n",
       "  justify-content: space-between;\n",
       "  gap: 0.5em;\n",
       "}\n",
       "\n",
       "#sk-container-id-4 label.sk-toggleable__label .caption {\n",
       "  font-size: 0.6rem;\n",
       "  font-weight: lighter;\n",
       "  color: var(--sklearn-color-text-muted);\n",
       "}\n",
       "\n",
       "#sk-container-id-4 label.sk-toggleable__label-arrow:before {\n",
       "  /* Arrow on the left of the label */\n",
       "  content: \"▸\";\n",
       "  float: left;\n",
       "  margin-right: 0.25em;\n",
       "  color: var(--sklearn-color-icon);\n",
       "}\n",
       "\n",
       "#sk-container-id-4 label.sk-toggleable__label-arrow:hover:before {\n",
       "  color: var(--sklearn-color-text);\n",
       "}\n",
       "\n",
       "/* Toggleable content - dropdown */\n",
       "\n",
       "#sk-container-id-4 div.sk-toggleable__content {\n",
       "  max-height: 0;\n",
       "  max-width: 0;\n",
       "  overflow: hidden;\n",
       "  text-align: left;\n",
       "  /* unfitted */\n",
       "  background-color: var(--sklearn-color-unfitted-level-0);\n",
       "}\n",
       "\n",
       "#sk-container-id-4 div.sk-toggleable__content.fitted {\n",
       "  /* fitted */\n",
       "  background-color: var(--sklearn-color-fitted-level-0);\n",
       "}\n",
       "\n",
       "#sk-container-id-4 div.sk-toggleable__content pre {\n",
       "  margin: 0.2em;\n",
       "  border-radius: 0.25em;\n",
       "  color: var(--sklearn-color-text);\n",
       "  /* unfitted */\n",
       "  background-color: var(--sklearn-color-unfitted-level-0);\n",
       "}\n",
       "\n",
       "#sk-container-id-4 div.sk-toggleable__content.fitted pre {\n",
       "  /* unfitted */\n",
       "  background-color: var(--sklearn-color-fitted-level-0);\n",
       "}\n",
       "\n",
       "#sk-container-id-4 input.sk-toggleable__control:checked~div.sk-toggleable__content {\n",
       "  /* Expand drop-down */\n",
       "  max-height: 200px;\n",
       "  max-width: 100%;\n",
       "  overflow: auto;\n",
       "}\n",
       "\n",
       "#sk-container-id-4 input.sk-toggleable__control:checked~label.sk-toggleable__label-arrow:before {\n",
       "  content: \"▾\";\n",
       "}\n",
       "\n",
       "/* Pipeline/ColumnTransformer-specific style */\n",
       "\n",
       "#sk-container-id-4 div.sk-label input.sk-toggleable__control:checked~label.sk-toggleable__label {\n",
       "  color: var(--sklearn-color-text);\n",
       "  background-color: var(--sklearn-color-unfitted-level-2);\n",
       "}\n",
       "\n",
       "#sk-container-id-4 div.sk-label.fitted input.sk-toggleable__control:checked~label.sk-toggleable__label {\n",
       "  background-color: var(--sklearn-color-fitted-level-2);\n",
       "}\n",
       "\n",
       "/* Estimator-specific style */\n",
       "\n",
       "/* Colorize estimator box */\n",
       "#sk-container-id-4 div.sk-estimator input.sk-toggleable__control:checked~label.sk-toggleable__label {\n",
       "  /* unfitted */\n",
       "  background-color: var(--sklearn-color-unfitted-level-2);\n",
       "}\n",
       "\n",
       "#sk-container-id-4 div.sk-estimator.fitted input.sk-toggleable__control:checked~label.sk-toggleable__label {\n",
       "  /* fitted */\n",
       "  background-color: var(--sklearn-color-fitted-level-2);\n",
       "}\n",
       "\n",
       "#sk-container-id-4 div.sk-label label.sk-toggleable__label,\n",
       "#sk-container-id-4 div.sk-label label {\n",
       "  /* The background is the default theme color */\n",
       "  color: var(--sklearn-color-text-on-default-background);\n",
       "}\n",
       "\n",
       "/* On hover, darken the color of the background */\n",
       "#sk-container-id-4 div.sk-label:hover label.sk-toggleable__label {\n",
       "  color: var(--sklearn-color-text);\n",
       "  background-color: var(--sklearn-color-unfitted-level-2);\n",
       "}\n",
       "\n",
       "/* Label box, darken color on hover, fitted */\n",
       "#sk-container-id-4 div.sk-label.fitted:hover label.sk-toggleable__label.fitted {\n",
       "  color: var(--sklearn-color-text);\n",
       "  background-color: var(--sklearn-color-fitted-level-2);\n",
       "}\n",
       "\n",
       "/* Estimator label */\n",
       "\n",
       "#sk-container-id-4 div.sk-label label {\n",
       "  font-family: monospace;\n",
       "  font-weight: bold;\n",
       "  display: inline-block;\n",
       "  line-height: 1.2em;\n",
       "}\n",
       "\n",
       "#sk-container-id-4 div.sk-label-container {\n",
       "  text-align: center;\n",
       "}\n",
       "\n",
       "/* Estimator-specific */\n",
       "#sk-container-id-4 div.sk-estimator {\n",
       "  font-family: monospace;\n",
       "  border: 1px dotted var(--sklearn-color-border-box);\n",
       "  border-radius: 0.25em;\n",
       "  box-sizing: border-box;\n",
       "  margin-bottom: 0.5em;\n",
       "  /* unfitted */\n",
       "  background-color: var(--sklearn-color-unfitted-level-0);\n",
       "}\n",
       "\n",
       "#sk-container-id-4 div.sk-estimator.fitted {\n",
       "  /* fitted */\n",
       "  background-color: var(--sklearn-color-fitted-level-0);\n",
       "}\n",
       "\n",
       "/* on hover */\n",
       "#sk-container-id-4 div.sk-estimator:hover {\n",
       "  /* unfitted */\n",
       "  background-color: var(--sklearn-color-unfitted-level-2);\n",
       "}\n",
       "\n",
       "#sk-container-id-4 div.sk-estimator.fitted:hover {\n",
       "  /* fitted */\n",
       "  background-color: var(--sklearn-color-fitted-level-2);\n",
       "}\n",
       "\n",
       "/* Specification for estimator info (e.g. \"i\" and \"?\") */\n",
       "\n",
       "/* Common style for \"i\" and \"?\" */\n",
       "\n",
       ".sk-estimator-doc-link,\n",
       "a:link.sk-estimator-doc-link,\n",
       "a:visited.sk-estimator-doc-link {\n",
       "  float: right;\n",
       "  font-size: smaller;\n",
       "  line-height: 1em;\n",
       "  font-family: monospace;\n",
       "  background-color: var(--sklearn-color-background);\n",
       "  border-radius: 1em;\n",
       "  height: 1em;\n",
       "  width: 1em;\n",
       "  text-decoration: none !important;\n",
       "  margin-left: 0.5em;\n",
       "  text-align: center;\n",
       "  /* unfitted */\n",
       "  border: var(--sklearn-color-unfitted-level-1) 1pt solid;\n",
       "  color: var(--sklearn-color-unfitted-level-1);\n",
       "}\n",
       "\n",
       ".sk-estimator-doc-link.fitted,\n",
       "a:link.sk-estimator-doc-link.fitted,\n",
       "a:visited.sk-estimator-doc-link.fitted {\n",
       "  /* fitted */\n",
       "  border: var(--sklearn-color-fitted-level-1) 1pt solid;\n",
       "  color: var(--sklearn-color-fitted-level-1);\n",
       "}\n",
       "\n",
       "/* On hover */\n",
       "div.sk-estimator:hover .sk-estimator-doc-link:hover,\n",
       ".sk-estimator-doc-link:hover,\n",
       "div.sk-label-container:hover .sk-estimator-doc-link:hover,\n",
       ".sk-estimator-doc-link:hover {\n",
       "  /* unfitted */\n",
       "  background-color: var(--sklearn-color-unfitted-level-3);\n",
       "  color: var(--sklearn-color-background);\n",
       "  text-decoration: none;\n",
       "}\n",
       "\n",
       "div.sk-estimator.fitted:hover .sk-estimator-doc-link.fitted:hover,\n",
       ".sk-estimator-doc-link.fitted:hover,\n",
       "div.sk-label-container:hover .sk-estimator-doc-link.fitted:hover,\n",
       ".sk-estimator-doc-link.fitted:hover {\n",
       "  /* fitted */\n",
       "  background-color: var(--sklearn-color-fitted-level-3);\n",
       "  color: var(--sklearn-color-background);\n",
       "  text-decoration: none;\n",
       "}\n",
       "\n",
       "/* Span, style for the box shown on hovering the info icon */\n",
       ".sk-estimator-doc-link span {\n",
       "  display: none;\n",
       "  z-index: 9999;\n",
       "  position: relative;\n",
       "  font-weight: normal;\n",
       "  right: .2ex;\n",
       "  padding: .5ex;\n",
       "  margin: .5ex;\n",
       "  width: min-content;\n",
       "  min-width: 20ex;\n",
       "  max-width: 50ex;\n",
       "  color: var(--sklearn-color-text);\n",
       "  box-shadow: 2pt 2pt 4pt #999;\n",
       "  /* unfitted */\n",
       "  background: var(--sklearn-color-unfitted-level-0);\n",
       "  border: .5pt solid var(--sklearn-color-unfitted-level-3);\n",
       "}\n",
       "\n",
       ".sk-estimator-doc-link.fitted span {\n",
       "  /* fitted */\n",
       "  background: var(--sklearn-color-fitted-level-0);\n",
       "  border: var(--sklearn-color-fitted-level-3);\n",
       "}\n",
       "\n",
       ".sk-estimator-doc-link:hover span {\n",
       "  display: block;\n",
       "}\n",
       "\n",
       "/* \"?\"-specific style due to the `<a>` HTML tag */\n",
       "\n",
       "#sk-container-id-4 a.estimator_doc_link {\n",
       "  float: right;\n",
       "  font-size: 1rem;\n",
       "  line-height: 1em;\n",
       "  font-family: monospace;\n",
       "  background-color: var(--sklearn-color-background);\n",
       "  border-radius: 1rem;\n",
       "  height: 1rem;\n",
       "  width: 1rem;\n",
       "  text-decoration: none;\n",
       "  /* unfitted */\n",
       "  color: var(--sklearn-color-unfitted-level-1);\n",
       "  border: var(--sklearn-color-unfitted-level-1) 1pt solid;\n",
       "}\n",
       "\n",
       "#sk-container-id-4 a.estimator_doc_link.fitted {\n",
       "  /* fitted */\n",
       "  border: var(--sklearn-color-fitted-level-1) 1pt solid;\n",
       "  color: var(--sklearn-color-fitted-level-1);\n",
       "}\n",
       "\n",
       "/* On hover */\n",
       "#sk-container-id-4 a.estimator_doc_link:hover {\n",
       "  /* unfitted */\n",
       "  background-color: var(--sklearn-color-unfitted-level-3);\n",
       "  color: var(--sklearn-color-background);\n",
       "  text-decoration: none;\n",
       "}\n",
       "\n",
       "#sk-container-id-4 a.estimator_doc_link.fitted:hover {\n",
       "  /* fitted */\n",
       "  background-color: var(--sklearn-color-fitted-level-3);\n",
       "}\n",
       "</style><div id=\"sk-container-id-4\" class=\"sk-top-container\"><div class=\"sk-text-repr-fallback\"><pre>Pipeline(steps=[(&#x27;scaler&#x27;, StandardScaler()),\n",
       "                (&#x27;select_kbest&#x27;, SelectKBest(k=15)),\n",
       "                (&#x27;pca&#x27;, PCA(n_components=8)),\n",
       "                (&#x27;isolation_forest&#x27;,\n",
       "                 IsolationForest(contamination=0.01619968709546915,\n",
       "                                 max_samples=0.8, n_estimators=184,\n",
       "                                 random_state=42))])</pre><b>In a Jupyter environment, please rerun this cell to show the HTML representation or trust the notebook. <br />On GitHub, the HTML representation is unable to render, please try loading this page with nbviewer.org.</b></div><div class=\"sk-container\" hidden><div class=\"sk-item sk-dashed-wrapped\"><div class=\"sk-label-container\"><div class=\"sk-label fitted sk-toggleable\"><input class=\"sk-toggleable__control sk-hidden--visually\" id=\"sk-estimator-id-16\" type=\"checkbox\" ><label for=\"sk-estimator-id-16\" class=\"sk-toggleable__label fitted sk-toggleable__label-arrow\"><div><div>Pipeline</div></div><div><a class=\"sk-estimator-doc-link fitted\" rel=\"noreferrer\" target=\"_blank\" href=\"https://scikit-learn.org/1.6/modules/generated/sklearn.pipeline.Pipeline.html\">?<span>Documentation for Pipeline</span></a><span class=\"sk-estimator-doc-link fitted\">i<span>Fitted</span></span></div></label><div class=\"sk-toggleable__content fitted\"><pre>Pipeline(steps=[(&#x27;scaler&#x27;, StandardScaler()),\n",
       "                (&#x27;select_kbest&#x27;, SelectKBest(k=15)),\n",
       "                (&#x27;pca&#x27;, PCA(n_components=8)),\n",
       "                (&#x27;isolation_forest&#x27;,\n",
       "                 IsolationForest(contamination=0.01619968709546915,\n",
       "                                 max_samples=0.8, n_estimators=184,\n",
       "                                 random_state=42))])</pre></div> </div></div><div class=\"sk-serial\"><div class=\"sk-item\"><div class=\"sk-estimator fitted sk-toggleable\"><input class=\"sk-toggleable__control sk-hidden--visually\" id=\"sk-estimator-id-17\" type=\"checkbox\" ><label for=\"sk-estimator-id-17\" class=\"sk-toggleable__label fitted sk-toggleable__label-arrow\"><div><div>StandardScaler</div></div><div><a class=\"sk-estimator-doc-link fitted\" rel=\"noreferrer\" target=\"_blank\" href=\"https://scikit-learn.org/1.6/modules/generated/sklearn.preprocessing.StandardScaler.html\">?<span>Documentation for StandardScaler</span></a></div></label><div class=\"sk-toggleable__content fitted\"><pre>StandardScaler()</pre></div> </div></div><div class=\"sk-item\"><div class=\"sk-estimator fitted sk-toggleable\"><input class=\"sk-toggleable__control sk-hidden--visually\" id=\"sk-estimator-id-18\" type=\"checkbox\" ><label for=\"sk-estimator-id-18\" class=\"sk-toggleable__label fitted sk-toggleable__label-arrow\"><div><div>SelectKBest</div></div><div><a class=\"sk-estimator-doc-link fitted\" rel=\"noreferrer\" target=\"_blank\" href=\"https://scikit-learn.org/1.6/modules/generated/sklearn.feature_selection.SelectKBest.html\">?<span>Documentation for SelectKBest</span></a></div></label><div class=\"sk-toggleable__content fitted\"><pre>SelectKBest(k=15)</pre></div> </div></div><div class=\"sk-item\"><div class=\"sk-estimator fitted sk-toggleable\"><input class=\"sk-toggleable__control sk-hidden--visually\" id=\"sk-estimator-id-19\" type=\"checkbox\" ><label for=\"sk-estimator-id-19\" class=\"sk-toggleable__label fitted sk-toggleable__label-arrow\"><div><div>PCA</div></div><div><a class=\"sk-estimator-doc-link fitted\" rel=\"noreferrer\" target=\"_blank\" href=\"https://scikit-learn.org/1.6/modules/generated/sklearn.decomposition.PCA.html\">?<span>Documentation for PCA</span></a></div></label><div class=\"sk-toggleable__content fitted\"><pre>PCA(n_components=8)</pre></div> </div></div><div class=\"sk-item\"><div class=\"sk-estimator fitted sk-toggleable\"><input class=\"sk-toggleable__control sk-hidden--visually\" id=\"sk-estimator-id-20\" type=\"checkbox\" ><label for=\"sk-estimator-id-20\" class=\"sk-toggleable__label fitted sk-toggleable__label-arrow\"><div><div>IsolationForest</div></div><div><a class=\"sk-estimator-doc-link fitted\" rel=\"noreferrer\" target=\"_blank\" href=\"https://scikit-learn.org/1.6/modules/generated/sklearn.ensemble.IsolationForest.html\">?<span>Documentation for IsolationForest</span></a></div></label><div class=\"sk-toggleable__content fitted\"><pre>IsolationForest(contamination=0.01619968709546915, max_samples=0.8,\n",
       "                n_estimators=184, random_state=42)</pre></div> </div></div></div></div></div></div>"
      ],
      "text/plain": [
       "Pipeline(steps=[('scaler', StandardScaler()),\n",
       "                ('select_kbest', SelectKBest(k=15)),\n",
       "                ('pca', PCA(n_components=8)),\n",
       "                ('isolation_forest',\n",
       "                 IsolationForest(contamination=0.01619968709546915,\n",
       "                                 max_samples=0.8, n_estimators=184,\n",
       "                                 random_state=42))])"
      ]
     },
     "execution_count": 70,
     "metadata": {},
     "output_type": "execute_result"
    }
   ],
   "source": [
    "X_trainval = pd.concat([X_train, X_val], axis=0)\n",
    "y_trainval = pd.concat([y_train, y_val], axis=0)\n",
    "best_pipeline.fit(X_trainval, y_trainval)"
   ]
  },
  {
   "cell_type": "code",
   "execution_count": 71,
   "id": "7bc3d287",
   "metadata": {},
   "outputs": [
    {
     "name": "stdout",
     "output_type": "stream",
     "text": [
      "Best Optuna Parameters (Precision-focused): {'n_estimators': 184, 'max_samples': 0.8, 'contamination': 0.01619968709546915, 'max_features': 1.0}\n",
      "Best Optuna Precision Score: 0.08161372594481799\n",
      "Best Optuna ROC AUC: 0.9340755349877317\n"
     ]
    }
   ],
   "source": [
    "# Evaluate on test set for final results\n",
    "y_pred_final = best_pipeline.predict(X_test)\n",
    "y_pred_final_binary = (y_pred_final == -1).astype(int)\n",
    "\n",
    "# --- Display Optuna Results (Precision-focused) ---\n",
    "print(\"Best Optuna Parameters (Precision-focused):\", best_params)\n",
    "print(\"Best Optuna Precision Score:\", study.best_value)\n",
    "print(\"Best Optuna ROC AUC:\", roc_auc_score(y_test, y_pred_final_binary))"
   ]
  },
  {
   "cell_type": "markdown",
   "id": "981c7ef7",
   "metadata": {},
   "source": [
    "### 2.2 Evaluate and Compare The Results"
   ]
  },
  {
   "cell_type": "markdown",
   "id": "e08248d2",
   "metadata": {},
   "source": [
    "Classification Report"
   ]
  },
  {
   "cell_type": "code",
   "execution_count": 72,
   "id": "6a3f4565",
   "metadata": {},
   "outputs": [
    {
     "name": "stdout",
     "output_type": "stream",
     "text": [
      "              precision    recall  f1-score   support\n",
      "\n",
      "           0       1.00      0.99      0.99    128788\n",
      "           1       0.30      0.88      0.45       750\n",
      "\n",
      "    accuracy                           0.99    129538\n",
      "   macro avg       0.65      0.93      0.72    129538\n",
      "weighted avg       1.00      0.99      0.99    129538\n",
      "\n"
     ]
    }
   ],
   "source": [
    "# Evaluate on test set\n",
    "y_pred = best_pipeline.predict(X_test)\n",
    "y_pred = (y_pred == -1).astype(int)\n",
    "print(classification_report(y_test, y_pred))"
   ]
  },
  {
   "cell_type": "markdown",
   "id": "e0285e67",
   "metadata": {},
   "source": [
    "Confusion Matrix"
   ]
  },
  {
   "cell_type": "code",
   "execution_count": 73,
   "id": "9ccbe7de",
   "metadata": {},
   "outputs": [
    {
     "data": {
      "image/png": "[encoded data removed]",
      "text/plain": [
       "<Figure size 600x500 with 2 Axes>"
      ]
     },
     "metadata": {},
     "output_type": "display_data"
    }
   ],
   "source": [
    "# Predicted values and true values for confusion matrix for Optuna (Bayesian Optimization)\n",
    "y_true = y_test\n",
    "y_pred_optuna = (best_pipeline.predict(X_test) == -1).astype(int)\n",
    "\n",
    "# Build confusion matrix\n",
    "cm_optuna = confusion_matrix(y_true, y_pred_optuna)\n",
    "labels = ['Normal (0)', 'Fraud (1)']\n",
    "\n",
    "# plot confusion matrix\n",
    "plt.figure(figsize=(6, 5))\n",
    "sns.heatmap(cm_optuna, annot=True, fmt='d', cmap='Blues', xticklabels=labels, yticklabels=labels)\n",
    "\n",
    "plt.title('Confusion Matrix - Isolation Forest (Bayesian Optimization)')\n",
    "plt.xlabel('Predicted Label')\n",
    "plt.ylabel('True Label')\n",
    "plt.tight_layout()\n",
    "plt.show()"
   ]
  },
  {
   "cell_type": "code",
   "execution_count": 74,
   "id": "cd631da5",
   "metadata": {},
   "outputs": [
    {
     "data": {
      "text/html": [
       "<div>\n",
       "<style scoped>\n",
       "    .dataframe tbody tr th:only-of-type {\n",
       "        vertical-align: middle;\n",
       "    }\n",
       "\n",
       "    .dataframe tbody tr th {\n",
       "        vertical-align: top;\n",
       "    }\n",
       "\n",
       "    .dataframe thead th {\n",
       "        text-align: right;\n",
       "    }\n",
       "</style>\n",
       "<table border=\"1\" class=\"dataframe\">\n",
       "  <thead>\n",
       "    <tr style=\"text-align: right;\">\n",
       "      <th></th>\n",
       "      <th>Method</th>\n",
       "      <th>Precision</th>\n",
       "      <th>Recall</th>\n",
       "      <th>F1-Score</th>\n",
       "      <th>ROC-AUC</th>\n",
       "      <th>Cohen Kappa</th>\n",
       "    </tr>\n",
       "  </thead>\n",
       "  <tbody>\n",
       "    <tr>\n",
       "      <th>0</th>\n",
       "      <td>Optuna</td>\n",
       "      <td>0.301921</td>\n",
       "      <td>0.88</td>\n",
       "      <td>0.449591</td>\n",
       "      <td>0.934076</td>\n",
       "      <td>0.444805</td>\n",
       "    </tr>\n",
       "  </tbody>\n",
       "</table>\n",
       "</div>"
      ],
      "text/plain": [
       "   Method  Precision  Recall  F1-Score   ROC-AUC  Cohen Kappa\n",
       "0  Optuna   0.301921    0.88  0.449591  0.934076     0.444805"
      ]
     },
     "metadata": {},
     "output_type": "display_data"
    }
   ],
   "source": [
    "metrics = {\n",
    "    \"Method\": [\"Optuna\"],\n",
    "    \"Precision\": [\n",
    "        precision_score(y_test, y_pred_optuna)\n",
    "    ],\n",
    "    \"Recall\": [\n",
    "        recall_score(y_test, y_pred_optuna)\n",
    "    ],\n",
    "    \"F1-Score\": [\n",
    "        f1_score(y_test, y_pred_optuna)\n",
    "    ],\n",
    "    \"ROC-AUC\": [\n",
    "        roc_auc_score(y_test, y_pred_optuna)\n",
    "    ],\n",
    "    \"Cohen Kappa\": [\n",
    "        cohen_kappa_score(y_test, y_pred_optuna)\n",
    "    ]\n",
    "}\n",
    "\n",
    "df_metrics = pd.DataFrame(metrics)\n",
    "display(df_metrics)"
   ]
  },
  {
   "cell_type": "markdown",
   "id": "fc548050",
   "metadata": {},
   "source": [
    "ROC Curve"
   ]
  },
  {
   "cell_type": "code",
   "execution_count": 75,
   "id": "3b2824f9",
   "metadata": {},
   "outputs": [
    {
     "data": {
      "image/png": "[encoded data removed]",
      "text/plain": [
       "<Figure size 800x600 with 1 Axes>"
      ]
     },
     "metadata": {},
     "output_type": "display_data"
    }
   ],
   "source": [
    "# --- Display ROC Curve ---\n",
    "y_score = best_pipeline.decision_function(X_test)\n",
    "\n",
    "# Build ROC curve\n",
    "fpr, tpr, thresholds = roc_curve(y_test, -y_score)\n",
    "roc_auc = auc(fpr, tpr)\n",
    "\n",
    "plt.figure(figsize=(8, 6))\n",
    "plt.plot(fpr, tpr, color='skyblue', lw=2, label=f'Isolation Forest (AUC = {roc_auc:.2f})')\n",
    "plt.plot([0, 1], [0, 1], 'k--', lw=1, label='Random')\n",
    "plt.xlabel('False Positive Rate')\n",
    "plt.ylabel('True Positive Rate')\n",
    "plt.title('ROC Curve - Isolation Forest (Optuna)')\n",
    "plt.legend(loc='lower right')\n",
    "plt.grid(True)\n",
    "plt.tight_layout()\n",
    "plt.show()"
   ]
  },
  {
   "cell_type": "markdown",
   "id": "52a9890d",
   "metadata": {},
   "source": [
    "Precision-Recall Curve"
   ]
  },
  {
   "cell_type": "code",
   "execution_count": null,
   "id": "eb941a04",
   "metadata": {},
   "outputs": [
    {
     "data": {
      "image/png": "[encoded data removed]",
      "text/plain": [
       "<Figure size 800x600 with 1 Axes>"
      ]
     },
     "metadata": {},
     "output_type": "display_data"
    }
   ],
   "source": [
    "# --- Display Precision-Recall Curve ---\n",
    "y_score = best_pipeline.decision_function(X_test)\n",
    "\n",
    "# Precision-Recall curve\n",
    "precision, recall, thresholds = precision_recall_curve(y_test, -y_score)\n",
    "pr_auc = average_precision_score(y_test, -y_score)\n",
    "\n",
    "plt.figure(figsize=(8, 6))\n",
    "plt.plot(recall, precision, color='skyblue', lw=2, label=f'PR AUC = {pr_auc:.2f}')\n",
    "plt.xlabel('Recall')\n",
    "plt.ylabel('Precision')\n",
    "plt.title('Precision-Recall Curve - Isolation Forest (Optuna)')\n",
    "plt.legend(loc='lower left')\n",
    "plt.grid(True)"
   ]
  },
  {
   "cell_type": "markdown",
   "id": "a3910246",
   "metadata": {},
   "source": [
    "Metrics Comparison"
   ]
  },
  {
   "cell_type": "code",
   "execution_count": 77,
   "id": "520016d9",
   "metadata": {},
   "outputs": [
    {
     "data": {
      "image/png": "[encoded data removed]",
      "text/plain": [
       "<Figure size 1200x600 with 1 Axes>"
      ]
     },
     "metadata": {},
     "output_type": "display_data"
    }
   ],
   "source": [
    "# --- Display Metrics Comparison ---\n",
    "plt.figure(figsize=(12, 6))\n",
    "\n",
    "df_melt = df_metrics.melt(id_vars=\"Method\", var_name=\"Metric\", value_name=\"Score\")\n",
    "ax = sns.barplot(data=df_melt, x=\"Metric\", y=\"Score\", hue=\"Method\", palette=[\"skyblue\"])\n",
    "\n",
    "# Annotate the bars with their values\n",
    "for p in ax.patches:\n",
    "    height = p.get_height()\n",
    "    if not np.isnan(height):\n",
    "        ax.text(\n",
    "            p.get_x() + p.get_width() / 2.,\n",
    "            height + 0.01,\n",
    "            f'{height:.2f}',\n",
    "            ha=\"center\", va=\"bottom\"\n",
    "        )\n",
    "\n",
    "plt.title(\"Performance Comparison\", fontsize=14)\n",
    "plt.ylabel(\"Score\")\n",
    "plt.ylim(0, 1.05)\n",
    "plt.legend(\n",
    "    title=\"Method\",\n",
    "    loc='upper center',\n",
    "    bbox_to_anchor=(0.5, -0.15),\n",
    "    ncol=3,\n",
    "    frameon=False\n",
    ")\n",
    "plt.tight_layout()\n",
    "plt.grid(False)\n",
    "plt.show()"
   ]
  },
  {
   "cell_type": "markdown",
   "id": "4c3b0ffe",
   "metadata": {},
   "source": [
    "Overfitting Plot"
   ]
  },
  {
   "cell_type": "code",
   "execution_count": 78,
   "id": "0af1ab0b",
   "metadata": {},
   "outputs": [
    {
     "data": {
      "image/png": "[encoded data removed]",
      "text/plain": [
       "<Figure size 800x600 with 1 Axes>"
      ]
     },
     "metadata": {},
     "output_type": "display_data"
    }
   ],
   "source": [
    "# --- Calculate metrics for train set ---\n",
    "y_pred_train = (best_pipeline.predict(X_trainval) == -1).astype(int)\n",
    "train_f1 = f1_score(y_trainval, y_pred_train)\n",
    "train_recall = recall_score(y_trainval, y_pred_train)\n",
    "train_precision = precision_score(y_trainval, y_pred_train)\n",
    "\n",
    "# --- Calculate metrics for test set ---\n",
    "y_pred_test = (best_pipeline.predict(X_test) == -1).astype(int)\n",
    "test_f1 = f1_score(y_test, y_pred_test)\n",
    "test_recall = recall_score(y_test, y_pred_test)\n",
    "test_precision = precision_score(y_test, y_pred_test)\n",
    "\n",
    "# --- Prepare DataFrame for plotting ---\n",
    "df_overfit = pd.DataFrame({\n",
    "    \"Metric\": [\"F1-Score\", \"Recall\", \"Precision\"],\n",
    "    \"Train\": [train_f1, train_recall, train_precision],\n",
    "    \"Test\": [test_f1, test_recall, test_precision]\n",
    "})\n",
    "\n",
    "df_overfit = df_overfit.melt(id_vars=\"Metric\", var_name=\"Set\", value_name=\"Score\")\n",
    "\n",
    "# --- Plot ---\n",
    "plt.figure(figsize=(8, 6))\n",
    "ax = sns.barplot(data=df_overfit, x=\"Metric\", y=\"Score\", hue=\"Set\", palette=[\"skyblue\", \"salmon\"])\n",
    "for p in ax.patches:\n",
    "    height = p.get_height()\n",
    "    if not np.isnan(height):\n",
    "        ax.text(\n",
    "            p.get_x() + p.get_width() / 2.,\n",
    "            height + 0.01,\n",
    "            f'{height:.2f}',\n",
    "            ha=\"center\", va=\"bottom\"\n",
    "        )\n",
    "plt.title(\"Train vs Test Metrics (Overfitting Check)\")\n",
    "plt.ylim(0, 1.05)\n",
    "plt.ylabel(\"Score\")\n",
    "plt.tight_layout()\n",
    "plt.grid(False)\n",
    "plt.show()"
   ]
  },
  {
   "cell_type": "markdown",
   "id": "e803793f",
   "metadata": {},
   "source": [
    "### 2.3 Save Model"
   ]
  },
  {
   "cell_type": "code",
   "execution_count": 79,
   "id": "104379f0",
   "metadata": {},
   "outputs": [
    {
     "data": {
      "text/plain": [
       "['IsolationForest_with_params_general_split.joblib']"
      ]
     },
     "execution_count": 79,
     "metadata": {},
     "output_type": "execute_result"
    }
   ],
   "source": [
    "# 1. Save full pipeline with all preprocessing steps (Precision-optimized)\n",
    "full_pipeline = Pipeline([\n",
    "    ('scaler', StandardScaler()),\n",
    "    ('select_kbest', SelectKBest(score_func=f_classif, k=15)),  # เพิ่มเป็น 15\n",
    "    ('pca', PCA(n_components=8)),  # เพิ่มเป็น 8\n",
    "    ('isolation_forest', IsolationForest(**best_params, random_state=42))\n",
    "])\n",
    "\n",
    "# Prepare data for fitting\n",
    "X = df_all.drop(['first', 'last', 'street', 'trans_date_trans_time', 'dob', 'trans_num', 'dob', 'is_fraud'], axis=1)\n",
    "y = df_all['is_fraud']\n",
    "\n",
    "# Fit and save pipeline\n",
    "full_pipeline.fit(X, y)\n",
    "joblib.dump(full_pipeline, \"full_pipeline_isolation_forest_general_split.joblib\")\n",
    "\n",
    "# 2. Save best parameters\n",
    "with open(\"params_IsolationForest_fromOptuna_general_split.json\", \"w\") as f:\n",
    "    json.dump(best_params, f)\n",
    "\n",
    "# 3. Save model with parameters\n",
    "save_dict = {\n",
    "    \"pipeline\": full_pipeline,\n",
    "    \"params\": best_params\n",
    "}\n",
    "joblib.dump(save_dict, \"IsolationForest_with_params_general_split.joblib\")"
   ]
  },
  {
   "cell_type": "markdown",
   "id": "42f30010",
   "metadata": {},
   "source": [
    "# Model Testing"
   ]
  },
  {
   "cell_type": "code",
   "execution_count": 80,
   "id": "f63ba8e0",
   "metadata": {},
   "outputs": [],
   "source": [
    "df = pd.read_csv(\"/Users/thanyalak/Desktop/y_lims/DADS4/9000_IS_FraudDetection/repos/Credit_Card_Fraud_Detection/data/fraudTest_cleaned.csv\", index_col=0)\n",
    "loaded_pipeline = joblib.load(\"/Users/thanyalak/Desktop/y_lims/DADS4/9000_IS_FraudDetection/repos/Credit_Card_Fraud_Detection/ml_training/single_sequential_version/models/AnomalyDetection/general_split/full_pipeline_isolation_forest_general_split.joblib\")"
   ]
  },
  {
   "cell_type": "code",
   "execution_count": 81,
   "id": "b561f3fb",
   "metadata": {},
   "outputs": [],
   "source": [
    "# Random sample for testing\n",
    "# sample_df = df.sample(n=50, random_state=42).copy()\n",
    "sample_df = df.sample(100).copy()\n",
    "X_sample = sample_df.drop(['first', 'last', 'street', 'trans_date_trans_time', 'dob', 'trans_num', 'dob', 'is_fraud'], axis=1)"
   ]
  },
  {
   "cell_type": "code",
   "execution_count": 82,
   "id": "a6fdba5d",
   "metadata": {},
   "outputs": [],
   "source": [
    "predictions = loaded_pipeline.predict(X_sample)\n",
    "predicted_result = (predictions == -1).astype(int) # 1 = fraud, 0 = normal"
   ]
  },
  {
   "cell_type": "code",
   "execution_count": 83,
   "id": "35f2c4df",
   "metadata": {},
   "outputs": [
    {
     "data": {
      "text/html": [
       "<div>\n",
       "<style scoped>\n",
       "    .dataframe tbody tr th:only-of-type {\n",
       "        vertical-align: middle;\n",
       "    }\n",
       "\n",
       "    .dataframe tbody tr th {\n",
       "        vertical-align: top;\n",
       "    }\n",
       "\n",
       "    .dataframe thead th {\n",
       "        text-align: right;\n",
       "    }\n",
       "</style>\n",
       "<table border=\"1\" class=\"dataframe\">\n",
       "  <thead>\n",
       "    <tr style=\"text-align: right;\">\n",
       "      <th></th>\n",
       "      <th>trans_date_trans_time</th>\n",
       "      <th>trans_num</th>\n",
       "      <th>cc_num</th>\n",
       "      <th>first</th>\n",
       "      <th>last</th>\n",
       "      <th>merchant</th>\n",
       "      <th>amt</th>\n",
       "      <th>is_fraud</th>\n",
       "      <th>predicted_result</th>\n",
       "      <th>fraud_probability</th>\n",
       "    </tr>\n",
       "  </thead>\n",
       "  <tbody>\n",
       "    <tr>\n",
       "      <th>0</th>\n",
       "      <td>2020-10-18 19:04:11</td>\n",
       "      <td>686f53426732240dc07b6b61e24f024d</td>\n",
       "      <td>581686439828</td>\n",
       "      <td>Larry</td>\n",
       "      <td>House</td>\n",
       "      <td>400</td>\n",
       "      <td>53.26</td>\n",
       "      <td>0</td>\n",
       "      <td>0</td>\n",
       "      <td>0.042742</td>\n",
       "    </tr>\n",
       "    <tr>\n",
       "      <th>1</th>\n",
       "      <td>2020-12-07 06:44:40</td>\n",
       "      <td>b0d8cd95e5b33d7cb822d43206eda698</td>\n",
       "      <td>568279015842</td>\n",
       "      <td>Micheal</td>\n",
       "      <td>Hernandez</td>\n",
       "      <td>443</td>\n",
       "      <td>102.74</td>\n",
       "      <td>0</td>\n",
       "      <td>0</td>\n",
       "      <td>0.549420</td>\n",
       "    </tr>\n",
       "    <tr>\n",
       "      <th>2</th>\n",
       "      <td>2020-10-12 14:31:40</td>\n",
       "      <td>c355757751e29a4cf85176e9f9568b7a</td>\n",
       "      <td>6011367958204270</td>\n",
       "      <td>Tammy</td>\n",
       "      <td>Ayers</td>\n",
       "      <td>22</td>\n",
       "      <td>65.88</td>\n",
       "      <td>0</td>\n",
       "      <td>0</td>\n",
       "      <td>0.098352</td>\n",
       "    </tr>\n",
       "    <tr>\n",
       "      <th>3</th>\n",
       "      <td>2020-12-01 01:00:54</td>\n",
       "      <td>c8c5bb4d8d17c92b13d436893a6c34c6</td>\n",
       "      <td>3529597810116815</td>\n",
       "      <td>Pamela</td>\n",
       "      <td>Curtis</td>\n",
       "      <td>475</td>\n",
       "      <td>5.30</td>\n",
       "      <td>0</td>\n",
       "      <td>0</td>\n",
       "      <td>0.365718</td>\n",
       "    </tr>\n",
       "    <tr>\n",
       "      <th>4</th>\n",
       "      <td>2020-09-01 00:44:05</td>\n",
       "      <td>9248086a58506a7f0e56ee2243d3d444</td>\n",
       "      <td>6011148190095209</td>\n",
       "      <td>Terri</td>\n",
       "      <td>Bailey</td>\n",
       "      <td>534</td>\n",
       "      <td>40.97</td>\n",
       "      <td>0</td>\n",
       "      <td>0</td>\n",
       "      <td>0.103099</td>\n",
       "    </tr>\n",
       "    <tr>\n",
       "      <th>...</th>\n",
       "      <td>...</td>\n",
       "      <td>...</td>\n",
       "      <td>...</td>\n",
       "      <td>...</td>\n",
       "      <td>...</td>\n",
       "      <td>...</td>\n",
       "      <td>...</td>\n",
       "      <td>...</td>\n",
       "      <td>...</td>\n",
       "      <td>...</td>\n",
       "    </tr>\n",
       "    <tr>\n",
       "      <th>95</th>\n",
       "      <td>2020-08-18 11:41:28</td>\n",
       "      <td>bf30b62ce2c85b4e1fa36654eca2bc04</td>\n",
       "      <td>3553629419254918</td>\n",
       "      <td>Sharon</td>\n",
       "      <td>Johnson</td>\n",
       "      <td>336</td>\n",
       "      <td>68.58</td>\n",
       "      <td>0</td>\n",
       "      <td>0</td>\n",
       "      <td>0.484414</td>\n",
       "    </tr>\n",
       "    <tr>\n",
       "      <th>96</th>\n",
       "      <td>2020-07-11 22:00:50</td>\n",
       "      <td>158d598056ec29b4aa90f5a6bdde47a8</td>\n",
       "      <td>3546674063249004</td>\n",
       "      <td>Jordan</td>\n",
       "      <td>May</td>\n",
       "      <td>482</td>\n",
       "      <td>27.13</td>\n",
       "      <td>0</td>\n",
       "      <td>0</td>\n",
       "      <td>0.653193</td>\n",
       "    </tr>\n",
       "    <tr>\n",
       "      <th>97</th>\n",
       "      <td>2020-07-31 03:37:39</td>\n",
       "      <td>1323b9554a4125fb4f0f487aa36d36d4</td>\n",
       "      <td>4099707841315751</td>\n",
       "      <td>James</td>\n",
       "      <td>Stephens</td>\n",
       "      <td>47</td>\n",
       "      <td>52.65</td>\n",
       "      <td>0</td>\n",
       "      <td>0</td>\n",
       "      <td>0.049613</td>\n",
       "    </tr>\n",
       "    <tr>\n",
       "      <th>98</th>\n",
       "      <td>2020-12-30 14:49:48</td>\n",
       "      <td>e7cc7a2df94f66ebe557d92bca884f69</td>\n",
       "      <td>213113028819344</td>\n",
       "      <td>Melanie</td>\n",
       "      <td>Jimenez</td>\n",
       "      <td>192</td>\n",
       "      <td>29.88</td>\n",
       "      <td>0</td>\n",
       "      <td>0</td>\n",
       "      <td>0.606483</td>\n",
       "    </tr>\n",
       "    <tr>\n",
       "      <th>99</th>\n",
       "      <td>2020-10-12 22:11:46</td>\n",
       "      <td>8a9e99392ab8eb2c105920f4651f913d</td>\n",
       "      <td>3520550088202337</td>\n",
       "      <td>Micheal</td>\n",
       "      <td>Walters</td>\n",
       "      <td>312</td>\n",
       "      <td>36.14</td>\n",
       "      <td>0</td>\n",
       "      <td>0</td>\n",
       "      <td>0.240436</td>\n",
       "    </tr>\n",
       "  </tbody>\n",
       "</table>\n",
       "<p>100 rows × 10 columns</p>\n",
       "</div>"
      ],
      "text/plain": [
       "   trans_date_trans_time                         trans_num            cc_num  \\\n",
       "0    2020-10-18 19:04:11  686f53426732240dc07b6b61e24f024d      581686439828   \n",
       "1    2020-12-07 06:44:40  b0d8cd95e5b33d7cb822d43206eda698      568279015842   \n",
       "2    2020-10-12 14:31:40  c355757751e29a4cf85176e9f9568b7a  6011367958204270   \n",
       "3    2020-12-01 01:00:54  c8c5bb4d8d17c92b13d436893a6c34c6  3529597810116815   \n",
       "4    2020-09-01 00:44:05  9248086a58506a7f0e56ee2243d3d444  6011148190095209   \n",
       "..                   ...                               ...               ...   \n",
       "95   2020-08-18 11:41:28  bf30b62ce2c85b4e1fa36654eca2bc04  3553629419254918   \n",
       "96   2020-07-11 22:00:50  158d598056ec29b4aa90f5a6bdde47a8  3546674063249004   \n",
       "97   2020-07-31 03:37:39  1323b9554a4125fb4f0f487aa36d36d4  4099707841315751   \n",
       "98   2020-12-30 14:49:48  e7cc7a2df94f66ebe557d92bca884f69   213113028819344   \n",
       "99   2020-10-12 22:11:46  8a9e99392ab8eb2c105920f4651f913d  3520550088202337   \n",
       "\n",
       "      first       last  merchant     amt  is_fraud  predicted_result  \\\n",
       "0     Larry      House       400   53.26         0                 0   \n",
       "1   Micheal  Hernandez       443  102.74         0                 0   \n",
       "2     Tammy      Ayers        22   65.88         0                 0   \n",
       "3    Pamela     Curtis       475    5.30         0                 0   \n",
       "4     Terri     Bailey       534   40.97         0                 0   \n",
       "..      ...        ...       ...     ...       ...               ...   \n",
       "95   Sharon    Johnson       336   68.58         0                 0   \n",
       "96   Jordan        May       482   27.13         0                 0   \n",
       "97    James   Stephens        47   52.65         0                 0   \n",
       "98  Melanie    Jimenez       192   29.88         0                 0   \n",
       "99  Micheal    Walters       312   36.14         0                 0   \n",
       "\n",
       "    fraud_probability  \n",
       "0            0.042742  \n",
       "1            0.549420  \n",
       "2            0.098352  \n",
       "3            0.365718  \n",
       "4            0.103099  \n",
       "..                ...  \n",
       "95           0.484414  \n",
       "96           0.653193  \n",
       "97           0.049613  \n",
       "98           0.606483  \n",
       "99           0.240436  \n",
       "\n",
       "[100 rows x 10 columns]"
      ]
     },
     "metadata": {},
     "output_type": "display_data"
    }
   ],
   "source": [
    "# Calculate fraud probability (normalize anomaly score to 0-1)\n",
    "anomaly_score = loaded_pipeline.decision_function(X_sample)\n",
    "fraud_probability = (anomaly_score.max() - anomaly_score) / (anomaly_score.max() - anomaly_score.min())\n",
    "\n",
    "# Add predictions and fraud probability to sample_df\n",
    "sample_df['predicted_result'] = predicted_result\n",
    "sample_df['fraud_probability'] = fraud_probability\n",
    "\n",
    "# Select columns to display\n",
    "columns_to_show = [\n",
    "    'trans_date_trans_time', 'trans_num', 'cc_num',  'first', 'last', 'merchant', 'amt',\n",
    "    'is_fraud', 'predicted_result', 'fraud_probability'\n",
    "]\n",
    "display(sample_df[columns_to_show].reset_index(drop=True))"
   ]
  }
 ],
 "metadata": {
  "kernelspec": {
   "display_name": "Python 3",
   "language": "python",
   "name": "python3"
  },
  "language_info": {
   "codemirror_mode": {
    "name": "ipython",
    "version": 3
   },
   "file_extension": ".py",
   "mimetype": "text/x-python",
   "name": "python",
   "nbconvert_exporter": "python",
   "pygments_lexer": "ipython3",
   "version": "3.11.4"
  }
 },
 "nbformat": 4,
 "nbformat_minor": 5
}
