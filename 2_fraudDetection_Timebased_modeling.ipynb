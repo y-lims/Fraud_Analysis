{
 "cells": [
  {
   "cell_type": "markdown",
   "id": "59a81119",
   "metadata": {},
   "source": [
    "# Prerequisites"
   ]
  },
  {
   "cell_type": "markdown",
   "id": "78e85736",
   "metadata": {},
   "source": [
    "## Install Library"
   ]
  },
  {
   "cell_type": "code",
   "execution_count": 3,
   "id": "f4ba8a10",
   "metadata": {},
   "outputs": [
    {
     "name": "stdout",
     "output_type": "stream",
     "text": [
      "Requirement already satisfied: pandas<2.2.0,>=1.5.3 in /Library/Frameworks/Python.framework/Versions/3.11/lib/python3.11/site-packages (from -r requirements.txt (line 4)) (2.1.4)\n",
      "Requirement already satisfied: numpy<2.3.0,>=1.26.0 in /Library/Frameworks/Python.framework/Versions/3.11/lib/python3.11/site-packages (from -r requirements.txt (line 5)) (1.26.2)\n",
      "Requirement already satisfied: scipy<1.14.0,>=1.12.0 in /Library/Frameworks/Python.framework/Versions/3.11/lib/python3.11/site-packages (from -r requirements.txt (line 6)) (1.13.1)\n",
      "Requirement already satisfied: sqlalchemy<2.1.0,>=2.0.7 in /Library/Frameworks/Python.framework/Versions/3.11/lib/python3.11/site-packages (from -r requirements.txt (line 7)) (2.0.40)\n",
      "Requirement already satisfied: setuptools>=65.0.0 in /Library/Frameworks/Python.framework/Versions/3.11/lib/python3.11/site-packages (from -r requirements.txt (line 8)) (65.5.0)\n",
      "Requirement already satisfied: scikit-learn<1.5.0,>=1.3.0 in /Library/Frameworks/Python.framework/Versions/3.11/lib/python3.11/site-packages (from -r requirements.txt (line 11)) (1.3.2)\n",
      "Requirement already satisfied: joblib<1.3.0,>=1.2.0 in /Library/Frameworks/Python.framework/Versions/3.11/lib/python3.11/site-packages (from -r requirements.txt (line 12)) (1.2.0)\n",
      "Requirement already satisfied: matplotlib<3.8.0,>=3.7.0 in /Library/Frameworks/Python.framework/Versions/3.11/lib/python3.11/site-packages (from -r requirements.txt (line 13)) (3.7.5)\n",
      "Requirement already satisfied: seaborn<0.13.0,>=0.12.0 in /Library/Frameworks/Python.framework/Versions/3.11/lib/python3.11/site-packages (from -r requirements.txt (line 14)) (0.12.2)\n",
      "Requirement already satisfied: scikit-optimize<0.10.0,>=0.9.0 in /Library/Frameworks/Python.framework/Versions/3.11/lib/python3.11/site-packages (from -r requirements.txt (line 17)) (0.9.0)\n",
      "Requirement already satisfied: optuna<4.0.0,>=3.0.0 in /Library/Frameworks/Python.framework/Versions/3.11/lib/python3.11/site-packages (from -r requirements.txt (line 18)) (3.6.2)\n",
      "Requirement already satisfied: imblearn==0.0 in /Library/Frameworks/Python.framework/Versions/3.11/lib/python3.11/site-packages (from -r requirements.txt (line 21)) (0.0)\n",
      "Requirement already satisfied: imbalanced-learn<0.11.0,>=0.10.0 in /Library/Frameworks/Python.framework/Versions/3.11/lib/python3.11/site-packages (from -r requirements.txt (line 22)) (0.10.1)\n",
      "Requirement already satisfied: python-dateutil==2.8.2 in /Users/thanyalak/Library/Python/3.11/lib/python/site-packages (from -r requirements.txt (line 25)) (2.8.2)\n",
      "Requirement already satisfied: pytz>=2022.7.1 in /Library/Frameworks/Python.framework/Versions/3.11/lib/python3.11/site-packages (from -r requirements.txt (line 26)) (2023.3.post1)\n",
      "Requirement already satisfied: geopy<2.4.0,>=2.3.0 in /Library/Frameworks/Python.framework/Versions/3.11/lib/python3.11/site-packages (from -r requirements.txt (line 29)) (2.3.0)\n",
      "Requirement already satisfied: plotly<5.19.0,>=5.9.0 in /Library/Frameworks/Python.framework/Versions/3.11/lib/python3.11/site-packages (from -r requirements.txt (line 32)) (5.18.0)\n",
      "Requirement already satisfied: virtualenv<21.0.0,>=20.17.1 in /Library/Frameworks/Python.framework/Versions/3.11/lib/python3.11/site-packages (from -r requirements.txt (line 35)) (20.30.0)\n",
      "Requirement already satisfied: six>=1.5 in /Users/thanyalak/Library/Python/3.11/lib/python/site-packages (from python-dateutil==2.8.2->-r requirements.txt (line 25)) (1.16.0)\n",
      "Requirement already satisfied: tzdata>=2022.1 in /Library/Frameworks/Python.framework/Versions/3.11/lib/python3.11/site-packages (from pandas<2.2.0,>=1.5.3->-r requirements.txt (line 4)) (2023.3)\n",
      "Requirement already satisfied: typing-extensions>=4.6.0 in /Library/Frameworks/Python.framework/Versions/3.11/lib/python3.11/site-packages (from sqlalchemy<2.1.0,>=2.0.7->-r requirements.txt (line 7)) (4.12.2)\n",
      "Requirement already satisfied: threadpoolctl>=2.0.0 in /Library/Frameworks/Python.framework/Versions/3.11/lib/python3.11/site-packages (from scikit-learn<1.5.0,>=1.3.0->-r requirements.txt (line 11)) (3.2.0)\n",
      "Requirement already satisfied: contourpy>=1.0.1 in /Library/Frameworks/Python.framework/Versions/3.11/lib/python3.11/site-packages (from matplotlib<3.8.0,>=3.7.0->-r requirements.txt (line 13)) (1.2.0)\n",
      "Requirement already satisfied: cycler>=0.10 in /Library/Frameworks/Python.framework/Versions/3.11/lib/python3.11/site-packages (from matplotlib<3.8.0,>=3.7.0->-r requirements.txt (line 13)) (0.12.1)\n",
      "Requirement already satisfied: fonttools>=4.22.0 in /Library/Frameworks/Python.framework/Versions/3.11/lib/python3.11/site-packages (from matplotlib<3.8.0,>=3.7.0->-r requirements.txt (line 13)) (4.47.0)\n",
      "Requirement already satisfied: kiwisolver>=1.0.1 in /Library/Frameworks/Python.framework/Versions/3.11/lib/python3.11/site-packages (from matplotlib<3.8.0,>=3.7.0->-r requirements.txt (line 13)) (1.4.5)\n",
      "Requirement already satisfied: packaging>=20.0 in /Users/thanyalak/Library/Python/3.11/lib/python/site-packages (from matplotlib<3.8.0,>=3.7.0->-r requirements.txt (line 13)) (23.2)\n",
      "Requirement already satisfied: pillow>=6.2.0 in /Library/Frameworks/Python.framework/Versions/3.11/lib/python3.11/site-packages (from matplotlib<3.8.0,>=3.7.0->-r requirements.txt (line 13)) (10.1.0)\n",
      "Requirement already satisfied: pyparsing>=2.3.1 in /Library/Frameworks/Python.framework/Versions/3.11/lib/python3.11/site-packages (from matplotlib<3.8.0,>=3.7.0->-r requirements.txt (line 13)) (3.1.1)\n",
      "Requirement already satisfied: pyaml>=16.9 in /Library/Frameworks/Python.framework/Versions/3.11/lib/python3.11/site-packages (from scikit-optimize<0.10.0,>=0.9.0->-r requirements.txt (line 17)) (25.1.0)\n",
      "Requirement already satisfied: alembic>=1.5.0 in /Library/Frameworks/Python.framework/Versions/3.11/lib/python3.11/site-packages (from optuna<4.0.0,>=3.0.0->-r requirements.txt (line 18)) (1.15.2)\n",
      "Requirement already satisfied: colorlog in /Library/Frameworks/Python.framework/Versions/3.11/lib/python3.11/site-packages (from optuna<4.0.0,>=3.0.0->-r requirements.txt (line 18)) (6.9.0)\n",
      "Requirement already satisfied: tqdm in /Library/Frameworks/Python.framework/Versions/3.11/lib/python3.11/site-packages (from optuna<4.0.0,>=3.0.0->-r requirements.txt (line 18)) (4.67.1)\n",
      "Requirement already satisfied: PyYAML in /Library/Frameworks/Python.framework/Versions/3.11/lib/python3.11/site-packages (from optuna<4.0.0,>=3.0.0->-r requirements.txt (line 18)) (6.0.2)\n",
      "Requirement already satisfied: geographiclib<3,>=1.52 in /Library/Frameworks/Python.framework/Versions/3.11/lib/python3.11/site-packages (from geopy<2.4.0,>=2.3.0->-r requirements.txt (line 29)) (2.0)\n",
      "Requirement already satisfied: tenacity>=6.2.0 in /Library/Frameworks/Python.framework/Versions/3.11/lib/python3.11/site-packages (from plotly<5.19.0,>=5.9.0->-r requirements.txt (line 32)) (9.0.0)\n",
      "Requirement already satisfied: distlib<1,>=0.3.7 in /Library/Frameworks/Python.framework/Versions/3.11/lib/python3.11/site-packages (from virtualenv<21.0.0,>=20.17.1->-r requirements.txt (line 35)) (0.3.9)\n",
      "Requirement already satisfied: filelock<4,>=3.12.2 in /Library/Frameworks/Python.framework/Versions/3.11/lib/python3.11/site-packages (from virtualenv<21.0.0,>=20.17.1->-r requirements.txt (line 35)) (3.16.1)\n",
      "Requirement already satisfied: platformdirs<5,>=3.9.1 in /Users/thanyalak/Library/Python/3.11/lib/python/site-packages (from virtualenv<21.0.0,>=20.17.1->-r requirements.txt (line 35)) (4.1.0)\n",
      "Requirement already satisfied: Mako in /Library/Frameworks/Python.framework/Versions/3.11/lib/python3.11/site-packages (from alembic>=1.5.0->optuna<4.0.0,>=3.0.0->-r requirements.txt (line 18)) (1.3.10)\n",
      "Requirement already satisfied: MarkupSafe>=0.9.2 in /Library/Frameworks/Python.framework/Versions/3.11/lib/python3.11/site-packages (from Mako->alembic>=1.5.0->optuna<4.0.0,>=3.0.0->-r requirements.txt (line 18)) (3.0.2)\n",
      "\n",
      "\u001b[1m[\u001b[0m\u001b[34;49mnotice\u001b[0m\u001b[1;39;49m]\u001b[0m\u001b[39;49m A new release of pip is available: \u001b[0m\u001b[31;49m25.0.1\u001b[0m\u001b[39;49m -> \u001b[0m\u001b[32;49m25.1.1\u001b[0m\n",
      "\u001b[1m[\u001b[0m\u001b[34;49mnotice\u001b[0m\u001b[1;39;49m]\u001b[0m\u001b[39;49m To update, run: \u001b[0m\u001b[32;49mpython3.11 -m pip install --upgrade pip\u001b[0m\n",
      "Note: you may need to restart the kernel to use updated packages.\n"
     ]
    }
   ],
   "source": [
    "# for python 3.12.3\n",
    "%pip install -r requirements.txt"
   ]
  },
  {
   "cell_type": "markdown",
   "id": "5efeed67",
   "metadata": {},
   "source": [
    "## Import Library"
   ]
  },
  {
   "cell_type": "code",
   "execution_count": 48,
   "id": "34dccf6e",
   "metadata": {},
   "outputs": [],
   "source": [
    "## Import Library\n",
    "import pandas as pd\n",
    "import numpy as np\n",
    "import matplotlib.pyplot as plt\n",
    "import plotly.graph_objects as go\n",
    "from plotly.subplots import make_subplots\n",
    "import seaborn as sns\n",
    "import datetime as dt\n",
    "from tqdm import tqdm\n",
    "import optuna\n",
    "from scipy.stats import randint, uniform\n",
    "from skopt import BayesSearchCV\n",
    "from scipy.stats import skew, normaltest, zscore\n",
    "from geopy.distance import geodesic\n",
    "from sklearn.pipeline import Pipeline\n",
    "from sklearn.preprocessing import LabelEncoder, StandardScaler\n",
    "from sklearn.feature_selection import SelectKBest, f_classif\n",
    "from sklearn.decomposition import PCA\n",
    "from sklearn.model_selection import ParameterGrid, RandomizedSearchCV, ParameterSampler, GridSearchCV\n",
    "from sklearn.ensemble import IsolationForest\n",
    "from sklearn.metrics import classification_report, make_scorer, f1_score, precision_score, recall_score, roc_auc_score\n",
    "from sklearn.metrics import roc_curve, auc, confusion_matrix, precision_recall_curve, ConfusionMatrixDisplay, average_precision_score, cohen_kappa_score\n",
    "from sklearn.model_selection import train_test_split\n",
    "from sklearn.utils import resample\n",
    "import json\n",
    "import joblib\n",
    "import warnings\n",
    "warnings.filterwarnings(\"ignore\")"
   ]
  },
  {
   "cell_type": "markdown",
   "id": "3b7f0f7e",
   "metadata": {},
   "source": [
    "## Read Data"
   ]
  },
  {
   "cell_type": "code",
   "execution_count": null,
   "id": "bfa75988",
   "metadata": {},
   "outputs": [],
   "source": [
    "df = pd.read_csv(\"/Users/thanyalak/Desktop/y_lims/DADS4/9000_IS_FraudDetection/repos/Credit_Card_Fraud_Detection/data/fraudTrain_cleaned.csv\", index_col=0)"
   ]
  },
  {
   "cell_type": "code",
   "execution_count": 6,
   "id": "cdd2f7f7",
   "metadata": {},
   "outputs": [],
   "source": [
    "# Convert trans_date_trans_time to datetime\n",
    "df['trans_date_trans_time'] = pd.to_datetime(df['trans_date_trans_time'])"
   ]
  },
  {
   "cell_type": "code",
   "execution_count": 7,
   "id": "703c162d",
   "metadata": {},
   "outputs": [
    {
     "data": {
      "text/html": [
       "<div>\n",
       "<style scoped>\n",
       "    .dataframe tbody tr th:only-of-type {\n",
       "        vertical-align: middle;\n",
       "    }\n",
       "\n",
       "    .dataframe tbody tr th {\n",
       "        vertical-align: top;\n",
       "    }\n",
       "\n",
       "    .dataframe thead th {\n",
       "        text-align: right;\n",
       "    }\n",
       "</style>\n",
       "<table border=\"1\" class=\"dataframe\">\n",
       "  <thead>\n",
       "    <tr style=\"text-align: right;\">\n",
       "      <th></th>\n",
       "      <th>trans_date_trans_time</th>\n",
       "      <th>cc_num</th>\n",
       "      <th>merchant</th>\n",
       "      <th>amt</th>\n",
       "      <th>first</th>\n",
       "      <th>last</th>\n",
       "      <th>gender</th>\n",
       "      <th>street</th>\n",
       "      <th>city</th>\n",
       "      <th>state</th>\n",
       "      <th>...</th>\n",
       "      <th>category_health_fitness</th>\n",
       "      <th>category_home</th>\n",
       "      <th>category_kids_pets</th>\n",
       "      <th>category_misc_net</th>\n",
       "      <th>category_misc_pos</th>\n",
       "      <th>category_personal_care</th>\n",
       "      <th>category_shopping_net</th>\n",
       "      <th>category_shopping_pos</th>\n",
       "      <th>category_travel</th>\n",
       "      <th>distance</th>\n",
       "    </tr>\n",
       "    <tr>\n",
       "      <th>Unnamed: 0</th>\n",
       "      <th></th>\n",
       "      <th></th>\n",
       "      <th></th>\n",
       "      <th></th>\n",
       "      <th></th>\n",
       "      <th></th>\n",
       "      <th></th>\n",
       "      <th></th>\n",
       "      <th></th>\n",
       "      <th></th>\n",
       "      <th></th>\n",
       "      <th></th>\n",
       "      <th></th>\n",
       "      <th></th>\n",
       "      <th></th>\n",
       "      <th></th>\n",
       "      <th></th>\n",
       "      <th></th>\n",
       "      <th></th>\n",
       "      <th></th>\n",
       "      <th></th>\n",
       "    </tr>\n",
       "  </thead>\n",
       "  <tbody>\n",
       "    <tr>\n",
       "      <th>0</th>\n",
       "      <td>2019-01-01 00:00:18</td>\n",
       "      <td>2703186189652095</td>\n",
       "      <td>514</td>\n",
       "      <td>4.97</td>\n",
       "      <td>Jennifer</td>\n",
       "      <td>Banks</td>\n",
       "      <td>0</td>\n",
       "      <td>561 Perry Cove</td>\n",
       "      <td>526</td>\n",
       "      <td>27</td>\n",
       "      <td>...</td>\n",
       "      <td>0</td>\n",
       "      <td>0</td>\n",
       "      <td>0</td>\n",
       "      <td>1</td>\n",
       "      <td>0</td>\n",
       "      <td>0</td>\n",
       "      <td>0</td>\n",
       "      <td>0</td>\n",
       "      <td>0</td>\n",
       "      <td>78.773821</td>\n",
       "    </tr>\n",
       "    <tr>\n",
       "      <th>1</th>\n",
       "      <td>2019-01-01 00:00:44</td>\n",
       "      <td>630423337322</td>\n",
       "      <td>241</td>\n",
       "      <td>107.23</td>\n",
       "      <td>Stephanie</td>\n",
       "      <td>Gill</td>\n",
       "      <td>0</td>\n",
       "      <td>43039 Riley Greens Suite 393</td>\n",
       "      <td>612</td>\n",
       "      <td>47</td>\n",
       "      <td>...</td>\n",
       "      <td>0</td>\n",
       "      <td>0</td>\n",
       "      <td>0</td>\n",
       "      <td>0</td>\n",
       "      <td>0</td>\n",
       "      <td>0</td>\n",
       "      <td>0</td>\n",
       "      <td>0</td>\n",
       "      <td>0</td>\n",
       "      <td>30.216618</td>\n",
       "    </tr>\n",
       "    <tr>\n",
       "      <th>2</th>\n",
       "      <td>2019-01-01 00:00:51</td>\n",
       "      <td>38859492057661</td>\n",
       "      <td>390</td>\n",
       "      <td>220.11</td>\n",
       "      <td>Edward</td>\n",
       "      <td>Sanchez</td>\n",
       "      <td>1</td>\n",
       "      <td>594 White Dale Suite 530</td>\n",
       "      <td>468</td>\n",
       "      <td>13</td>\n",
       "      <td>...</td>\n",
       "      <td>0</td>\n",
       "      <td>0</td>\n",
       "      <td>0</td>\n",
       "      <td>0</td>\n",
       "      <td>0</td>\n",
       "      <td>0</td>\n",
       "      <td>0</td>\n",
       "      <td>0</td>\n",
       "      <td>0</td>\n",
       "      <td>108.102912</td>\n",
       "    </tr>\n",
       "    <tr>\n",
       "      <th>3</th>\n",
       "      <td>2019-01-01 00:01:16</td>\n",
       "      <td>3534093764340240</td>\n",
       "      <td>360</td>\n",
       "      <td>45.00</td>\n",
       "      <td>Jeremy</td>\n",
       "      <td>White</td>\n",
       "      <td>1</td>\n",
       "      <td>9443 Cynthia Court Apt. 038</td>\n",
       "      <td>84</td>\n",
       "      <td>26</td>\n",
       "      <td>...</td>\n",
       "      <td>0</td>\n",
       "      <td>0</td>\n",
       "      <td>0</td>\n",
       "      <td>0</td>\n",
       "      <td>0</td>\n",
       "      <td>0</td>\n",
       "      <td>0</td>\n",
       "      <td>0</td>\n",
       "      <td>0</td>\n",
       "      <td>95.685115</td>\n",
       "    </tr>\n",
       "    <tr>\n",
       "      <th>4</th>\n",
       "      <td>2019-01-01 00:03:06</td>\n",
       "      <td>375534208663984</td>\n",
       "      <td>297</td>\n",
       "      <td>41.96</td>\n",
       "      <td>Tyler</td>\n",
       "      <td>Garcia</td>\n",
       "      <td>1</td>\n",
       "      <td>408 Bradley Rest</td>\n",
       "      <td>216</td>\n",
       "      <td>45</td>\n",
       "      <td>...</td>\n",
       "      <td>0</td>\n",
       "      <td>0</td>\n",
       "      <td>0</td>\n",
       "      <td>0</td>\n",
       "      <td>1</td>\n",
       "      <td>0</td>\n",
       "      <td>0</td>\n",
       "      <td>0</td>\n",
       "      <td>0</td>\n",
       "      <td>77.702395</td>\n",
       "    </tr>\n",
       "  </tbody>\n",
       "</table>\n",
       "<p>5 rows × 48 columns</p>\n",
       "</div>"
      ],
      "text/plain": [
       "           trans_date_trans_time            cc_num  merchant     amt  \\\n",
       "Unnamed: 0                                                             \n",
       "0            2019-01-01 00:00:18  2703186189652095       514    4.97   \n",
       "1            2019-01-01 00:00:44      630423337322       241  107.23   \n",
       "2            2019-01-01 00:00:51    38859492057661       390  220.11   \n",
       "3            2019-01-01 00:01:16  3534093764340240       360   45.00   \n",
       "4            2019-01-01 00:03:06   375534208663984       297   41.96   \n",
       "\n",
       "                first     last  gender                        street  city  \\\n",
       "Unnamed: 0                                                                   \n",
       "0            Jennifer    Banks       0                561 Perry Cove   526   \n",
       "1           Stephanie     Gill       0  43039 Riley Greens Suite 393   612   \n",
       "2              Edward  Sanchez       1      594 White Dale Suite 530   468   \n",
       "3              Jeremy    White       1   9443 Cynthia Court Apt. 038    84   \n",
       "4               Tyler   Garcia       1              408 Bradley Rest   216   \n",
       "\n",
       "            state  ...  category_health_fitness  category_home  \\\n",
       "Unnamed: 0         ...                                           \n",
       "0              27  ...                        0              0   \n",
       "1              47  ...                        0              0   \n",
       "2              13  ...                        0              0   \n",
       "3              26  ...                        0              0   \n",
       "4              45  ...                        0              0   \n",
       "\n",
       "            category_kids_pets  category_misc_net  category_misc_pos  \\\n",
       "Unnamed: 0                                                             \n",
       "0                            0                  1                  0   \n",
       "1                            0                  0                  0   \n",
       "2                            0                  0                  0   \n",
       "3                            0                  0                  0   \n",
       "4                            0                  0                  1   \n",
       "\n",
       "           category_personal_care category_shopping_net  \\\n",
       "Unnamed: 0                                                \n",
       "0                               0                     0   \n",
       "1                               0                     0   \n",
       "2                               0                     0   \n",
       "3                               0                     0   \n",
       "4                               0                     0   \n",
       "\n",
       "            category_shopping_pos  category_travel    distance  \n",
       "Unnamed: 0                                                      \n",
       "0                               0                0   78.773821  \n",
       "1                               0                0   30.216618  \n",
       "2                               0                0  108.102912  \n",
       "3                               0                0   95.685115  \n",
       "4                               0                0   77.702395  \n",
       "\n",
       "[5 rows x 48 columns]"
      ]
     },
     "execution_count": 7,
     "metadata": {},
     "output_type": "execute_result"
    }
   ],
   "source": [
    "df.head()"
   ]
  },
  {
   "cell_type": "code",
   "execution_count": 8,
   "id": "574c959e",
   "metadata": {},
   "outputs": [
    {
     "data": {
      "text/plain": [
       "Index(['trans_date_trans_time', 'cc_num', 'merchant', 'amt', 'first', 'last',\n",
       "       'gender', 'street', 'city', 'state', 'zip', 'lat', 'long', 'city_pop',\n",
       "       'job', 'dob', 'trans_num', 'unix_time', 'merch_lat', 'merch_long',\n",
       "       'is_fraud', 'age', 'hour', 'day', 'month', 'year', 'is_weekend',\n",
       "       'is_weekday', 'time_diff', 'diff_days', 'diff_hours', 'diff_minutes',\n",
       "       'diff_seconds', 'category_entertainment', 'category_food_dining',\n",
       "       'category_gas_transport', 'category_grocery_net',\n",
       "       'category_grocery_pos', 'category_health_fitness', 'category_home',\n",
       "       'category_kids_pets', 'category_misc_net', 'category_misc_pos',\n",
       "       'category_personal_care', 'category_shopping_net',\n",
       "       'category_shopping_pos', 'category_travel', 'distance'],\n",
       "      dtype='object')"
      ]
     },
     "execution_count": 8,
     "metadata": {},
     "output_type": "execute_result"
    }
   ],
   "source": [
    "df.columns"
   ]
  },
  {
   "cell_type": "code",
   "execution_count": 9,
   "id": "74447aac",
   "metadata": {},
   "outputs": [
    {
     "data": {
      "text/plain": [
       "trans_date_trans_time      datetime64[ns]\n",
       "cc_num                              int64\n",
       "merchant                            int64\n",
       "amt                               float64\n",
       "first                              object\n",
       "last                               object\n",
       "gender                              int64\n",
       "street                             object\n",
       "city                                int64\n",
       "state                               int64\n",
       "zip                                 int64\n",
       "lat                               float64\n",
       "long                              float64\n",
       "city_pop                            int64\n",
       "job                                 int64\n",
       "dob                                object\n",
       "trans_num                          object\n",
       "unix_time                           int64\n",
       "merch_lat                         float64\n",
       "merch_long                        float64\n",
       "is_fraud                            int64\n",
       "age                                 int64\n",
       "hour                                int64\n",
       "day                                 int64\n",
       "month                               int64\n",
       "year                                int64\n",
       "is_weekend                          int64\n",
       "is_weekday                          int64\n",
       "time_diff                           int64\n",
       "diff_days                           int64\n",
       "diff_hours                          int64\n",
       "diff_minutes                        int64\n",
       "diff_seconds                        int64\n",
       "category_entertainment              int64\n",
       "category_food_dining                int64\n",
       "category_gas_transport              int64\n",
       "category_grocery_net                int64\n",
       "category_grocery_pos                int64\n",
       "category_health_fitness             int64\n",
       "category_home                       int64\n",
       "category_kids_pets                  int64\n",
       "category_misc_net                   int64\n",
       "category_misc_pos                   int64\n",
       "category_personal_care              int64\n",
       "category_shopping_net               int64\n",
       "category_shopping_pos               int64\n",
       "category_travel                     int64\n",
       "distance                          float64\n",
       "dtype: object"
      ]
     },
     "execution_count": 9,
     "metadata": {},
     "output_type": "execute_result"
    }
   ],
   "source": [
    "df.dtypes"
   ]
  },
  {
   "cell_type": "code",
   "execution_count": 10,
   "id": "93284af9",
   "metadata": {},
   "outputs": [
    {
     "data": {
      "text/plain": [
       "trans_date_trans_time      0\n",
       "cc_num                     0\n",
       "merchant                   0\n",
       "amt                        0\n",
       "first                      0\n",
       "last                       0\n",
       "gender                     0\n",
       "street                     0\n",
       "city                       0\n",
       "state                      0\n",
       "zip                        0\n",
       "lat                        0\n",
       "long                       0\n",
       "city_pop                   0\n",
       "job                        0\n",
       "dob                        0\n",
       "trans_num                  0\n",
       "unix_time                  0\n",
       "merch_lat                  0\n",
       "merch_long                 0\n",
       "is_fraud                   0\n",
       "age                        0\n",
       "hour                       0\n",
       "day                        0\n",
       "month                      0\n",
       "year                       0\n",
       "is_weekend                 0\n",
       "is_weekday                 0\n",
       "time_diff                  0\n",
       "diff_days                  0\n",
       "diff_hours                 0\n",
       "diff_minutes               0\n",
       "diff_seconds               0\n",
       "category_entertainment     0\n",
       "category_food_dining       0\n",
       "category_gas_transport     0\n",
       "category_grocery_net       0\n",
       "category_grocery_pos       0\n",
       "category_health_fitness    0\n",
       "category_home              0\n",
       "category_kids_pets         0\n",
       "category_misc_net          0\n",
       "category_misc_pos          0\n",
       "category_personal_care     0\n",
       "category_shopping_net      0\n",
       "category_shopping_pos      0\n",
       "category_travel            0\n",
       "distance                   0\n",
       "dtype: int64"
      ]
     },
     "execution_count": 10,
     "metadata": {},
     "output_type": "execute_result"
    }
   ],
   "source": [
    "df.isnull().sum()"
   ]
  },
  {
   "cell_type": "code",
   "execution_count": 11,
   "id": "2f909065",
   "metadata": {},
   "outputs": [],
   "source": [
    "df_all = df.copy()\n",
    "\n",
    "# Time-based split\n",
    "split_time = df_all['trans_date_trans_time'].quantile(0.8)\n",
    "df_train = df_all[df_all['trans_date_trans_time'] < split_time]\n",
    "df_test = df_all[df_all['trans_date_trans_time'] >= split_time]\n",
    "\n",
    "split_time_val = df_train['trans_date_trans_time'].quantile(0.8)\n",
    "df_train_final = df_train[df_train['trans_date_trans_time'] < split_time_val]\n",
    "df_val = df_train[df_train['trans_date_trans_time'] >= split_time_val]"
   ]
  },
  {
   "cell_type": "code",
   "execution_count": 12,
   "id": "7ddac62d",
   "metadata": {},
   "outputs": [
    {
     "data": {
      "text/plain": [
       "((829872, 48), (207468, 48), (259335, 48))"
      ]
     },
     "execution_count": 12,
     "metadata": {},
     "output_type": "execute_result"
    }
   ],
   "source": [
    "df_train_final.shape, df_val.shape, df_test.shape"
   ]
  },
  {
   "cell_type": "markdown",
   "id": "eb717220",
   "metadata": {},
   "source": [
    "# Model Pipeline"
   ]
  },
  {
   "cell_type": "markdown",
   "id": "49e67891",
   "metadata": {},
   "source": [
    "## 1. Features"
   ]
  },
  {
   "cell_type": "markdown",
   "id": "86d83ea1",
   "metadata": {},
   "source": [
    "### 1.1 Split Features and Target"
   ]
  },
  {
   "cell_type": "code",
   "execution_count": 13,
   "id": "d369f376",
   "metadata": {},
   "outputs": [],
   "source": [
    "columns_to_exclude = ['first', 'last', 'street', 'trans_date_trans_time', 'dob', 'trans_num']\n",
    "\n",
    "# Train\n",
    "X_train = df_train_final.drop(columns_to_exclude, axis=1)\n",
    "y_train = df_train_final[\"is_fraud\"]\n",
    "\n",
    "# Validation\n",
    "X_val = df_val.drop(columns_to_exclude, axis=1)\n",
    "y_val = df_val[\"is_fraud\"]\n",
    "\n",
    "# Test\n",
    "X_test = df_test.drop(columns_to_exclude, axis=1)\n",
    "y_test = df_test[\"is_fraud\"]"
   ]
  },
  {
   "cell_type": "markdown",
   "id": "9d21a0c2",
   "metadata": {},
   "source": [
    "### 1.2 Feature Scaling"
   ]
  },
  {
   "cell_type": "code",
   "execution_count": 14,
   "id": "e5cf8f21",
   "metadata": {},
   "outputs": [],
   "source": [
    "# Scaling\n",
    "scaler = StandardScaler()\n",
    "X_train_scaled = scaler.fit_transform(X_train)\n",
    "X_val_scaled = scaler.transform(X_val)\n",
    "X_test_scaled = scaler.transform(X_test)"
   ]
  },
  {
   "cell_type": "markdown",
   "id": "e290415e",
   "metadata": {},
   "source": [
    "### 1.3 Feature Selection"
   ]
  },
  {
   "cell_type": "code",
   "execution_count": 15,
   "id": "2398a1ee",
   "metadata": {},
   "outputs": [],
   "source": [
    "# 1st: Select K Best (Find the 10 best features)\n",
    "# Feature selection\n",
    "selector = SelectKBest(score_func=f_classif, k=10)\n",
    "X_train_selected = selector.fit_transform(X_train_scaled, y_train)\n",
    "X_val_selected = selector.transform(X_val_scaled)\n",
    "X_test_selected = selector.transform(X_test_scaled)"
   ]
  },
  {
   "cell_type": "markdown",
   "id": "b72f0a56",
   "metadata": {},
   "source": [
    "Result from SelectKBest"
   ]
  },
  {
   "cell_type": "code",
   "execution_count": 16,
   "id": "5ea93e90",
   "metadata": {},
   "outputs": [
    {
     "name": "stdout",
     "output_type": "stream",
     "text": [
      "Selected Features: Index(['amt', 'is_fraud', 'time_diff', 'diff_hours', 'diff_seconds',\n",
      "       'category_food_dining', 'category_grocery_pos', 'category_home',\n",
      "       'category_misc_net', 'category_shopping_net'],\n",
      "      dtype='object')\n"
     ]
    }
   ],
   "source": [
    "# List the selected features from SelectKBest\n",
    "selected_features = selector.get_support(indices=True)\n",
    "selected_feature_names = X_train.columns[selected_features]\n",
    "print(\"Selected Features:\", selected_feature_names)"
   ]
  },
  {
   "cell_type": "code",
   "execution_count": 17,
   "id": "6c5b3670",
   "metadata": {},
   "outputs": [],
   "source": [
    "# 2nd: PCA (Dimensionality Reduction)\n",
    "pca = PCA(n_components=5)\n",
    "X_train_pca = pca.fit_transform(X_train_selected)\n",
    "X_val_pca = pca.transform(X_val_selected)\n",
    "X_test_pca = pca.transform(X_test_selected)"
   ]
  },
  {
   "cell_type": "code",
   "execution_count": 18,
   "id": "2b9236a2",
   "metadata": {},
   "outputs": [
    {
     "data": {
      "text/html": [
       "<style>#sk-container-id-1 {color: black;}#sk-container-id-1 pre{padding: 0;}#sk-container-id-1 div.sk-toggleable {background-color: white;}#sk-container-id-1 label.sk-toggleable__label {cursor: pointer;display: block;width: 100%;margin-bottom: 0;padding: 0.3em;box-sizing: border-box;text-align: center;}#sk-container-id-1 label.sk-toggleable__label-arrow:before {content: \"▸\";float: left;margin-right: 0.25em;color: #696969;}#sk-container-id-1 label.sk-toggleable__label-arrow:hover:before {color: black;}#sk-container-id-1 div.sk-estimator:hover label.sk-toggleable__label-arrow:before {color: black;}#sk-container-id-1 div.sk-toggleable__content {max-height: 0;max-width: 0;overflow: hidden;text-align: left;background-color: #f0f8ff;}#sk-container-id-1 div.sk-toggleable__content pre {margin: 0.2em;color: black;border-radius: 0.25em;background-color: #f0f8ff;}#sk-container-id-1 input.sk-toggleable__control:checked~div.sk-toggleable__content {max-height: 200px;max-width: 100%;overflow: auto;}#sk-container-id-1 input.sk-toggleable__control:checked~label.sk-toggleable__label-arrow:before {content: \"▾\";}#sk-container-id-1 div.sk-estimator input.sk-toggleable__control:checked~label.sk-toggleable__label {background-color: #d4ebff;}#sk-container-id-1 div.sk-label input.sk-toggleable__control:checked~label.sk-toggleable__label {background-color: #d4ebff;}#sk-container-id-1 input.sk-hidden--visually {border: 0;clip: rect(1px 1px 1px 1px);clip: rect(1px, 1px, 1px, 1px);height: 1px;margin: -1px;overflow: hidden;padding: 0;position: absolute;width: 1px;}#sk-container-id-1 div.sk-estimator {font-family: monospace;background-color: #f0f8ff;border: 1px dotted black;border-radius: 0.25em;box-sizing: border-box;margin-bottom: 0.5em;}#sk-container-id-1 div.sk-estimator:hover {background-color: #d4ebff;}#sk-container-id-1 div.sk-parallel-item::after {content: \"\";width: 100%;border-bottom: 1px solid gray;flex-grow: 1;}#sk-container-id-1 div.sk-label:hover label.sk-toggleable__label {background-color: #d4ebff;}#sk-container-id-1 div.sk-serial::before {content: \"\";position: absolute;border-left: 1px solid gray;box-sizing: border-box;top: 0;bottom: 0;left: 50%;z-index: 0;}#sk-container-id-1 div.sk-serial {display: flex;flex-direction: column;align-items: center;background-color: white;padding-right: 0.2em;padding-left: 0.2em;position: relative;}#sk-container-id-1 div.sk-item {position: relative;z-index: 1;}#sk-container-id-1 div.sk-parallel {display: flex;align-items: stretch;justify-content: center;background-color: white;position: relative;}#sk-container-id-1 div.sk-item::before, #sk-container-id-1 div.sk-parallel-item::before {content: \"\";position: absolute;border-left: 1px solid gray;box-sizing: border-box;top: 0;bottom: 0;left: 50%;z-index: -1;}#sk-container-id-1 div.sk-parallel-item {display: flex;flex-direction: column;z-index: 1;position: relative;background-color: white;}#sk-container-id-1 div.sk-parallel-item:first-child::after {align-self: flex-end;width: 50%;}#sk-container-id-1 div.sk-parallel-item:last-child::after {align-self: flex-start;width: 50%;}#sk-container-id-1 div.sk-parallel-item:only-child::after {width: 0;}#sk-container-id-1 div.sk-dashed-wrapped {border: 1px dashed gray;margin: 0 0.4em 0.5em 0.4em;box-sizing: border-box;padding-bottom: 0.4em;background-color: white;}#sk-container-id-1 div.sk-label label {font-family: monospace;font-weight: bold;display: inline-block;line-height: 1.2em;}#sk-container-id-1 div.sk-label-container {text-align: center;}#sk-container-id-1 div.sk-container {/* jupyter's `normalize.less` sets `[hidden] { display: none; }` but bootstrap.min.css set `[hidden] { display: none !important; }` so we also need the `!important` here to be able to override the default hidden behavior on the sphinx rendered scikit-learn.org. See: https://github.com/scikit-learn/scikit-learn/issues/21755 */display: inline-block !important;position: relative;}#sk-container-id-1 div.sk-text-repr-fallback {display: none;}</style><div id=\"sk-container-id-1\" class=\"sk-top-container\"><div class=\"sk-text-repr-fallback\"><pre>Pipeline(steps=[(&#x27;scaler&#x27;, StandardScaler()), (&#x27;select_kbest&#x27;, SelectKBest()),\n",
       "                (&#x27;pca&#x27;, PCA(n_components=5)),\n",
       "                (&#x27;isolation_forest&#x27;, IsolationForest(random_state=42))])</pre><b>In a Jupyter environment, please rerun this cell to show the HTML representation or trust the notebook. <br />On GitHub, the HTML representation is unable to render, please try loading this page with nbviewer.org.</b></div><div class=\"sk-container\" hidden><div class=\"sk-item sk-dashed-wrapped\"><div class=\"sk-label-container\"><div class=\"sk-label sk-toggleable\"><input class=\"sk-toggleable__control sk-hidden--visually\" id=\"sk-estimator-id-1\" type=\"checkbox\" ><label for=\"sk-estimator-id-1\" class=\"sk-toggleable__label sk-toggleable__label-arrow\">Pipeline</label><div class=\"sk-toggleable__content\"><pre>Pipeline(steps=[(&#x27;scaler&#x27;, StandardScaler()), (&#x27;select_kbest&#x27;, SelectKBest()),\n",
       "                (&#x27;pca&#x27;, PCA(n_components=5)),\n",
       "                (&#x27;isolation_forest&#x27;, IsolationForest(random_state=42))])</pre></div></div></div><div class=\"sk-serial\"><div class=\"sk-item\"><div class=\"sk-estimator sk-toggleable\"><input class=\"sk-toggleable__control sk-hidden--visually\" id=\"sk-estimator-id-2\" type=\"checkbox\" ><label for=\"sk-estimator-id-2\" class=\"sk-toggleable__label sk-toggleable__label-arrow\">StandardScaler</label><div class=\"sk-toggleable__content\"><pre>StandardScaler()</pre></div></div></div><div class=\"sk-item\"><div class=\"sk-estimator sk-toggleable\"><input class=\"sk-toggleable__control sk-hidden--visually\" id=\"sk-estimator-id-3\" type=\"checkbox\" ><label for=\"sk-estimator-id-3\" class=\"sk-toggleable__label sk-toggleable__label-arrow\">SelectKBest</label><div class=\"sk-toggleable__content\"><pre>SelectKBest()</pre></div></div></div><div class=\"sk-item\"><div class=\"sk-estimator sk-toggleable\"><input class=\"sk-toggleable__control sk-hidden--visually\" id=\"sk-estimator-id-4\" type=\"checkbox\" ><label for=\"sk-estimator-id-4\" class=\"sk-toggleable__label sk-toggleable__label-arrow\">PCA</label><div class=\"sk-toggleable__content\"><pre>PCA(n_components=5)</pre></div></div></div><div class=\"sk-item\"><div class=\"sk-estimator sk-toggleable\"><input class=\"sk-toggleable__control sk-hidden--visually\" id=\"sk-estimator-id-5\" type=\"checkbox\" ><label for=\"sk-estimator-id-5\" class=\"sk-toggleable__label sk-toggleable__label-arrow\">IsolationForest</label><div class=\"sk-toggleable__content\"><pre>IsolationForest(random_state=42)</pre></div></div></div></div></div></div></div>"
      ],
      "text/plain": [
       "Pipeline(steps=[('scaler', StandardScaler()), ('select_kbest', SelectKBest()),\n",
       "                ('pca', PCA(n_components=5)),\n",
       "                ('isolation_forest', IsolationForest(random_state=42))])"
      ]
     },
     "execution_count": 18,
     "metadata": {},
     "output_type": "execute_result"
    }
   ],
   "source": [
    "# Define the model pipeline\n",
    "model_pipeline = Pipeline([\n",
    "    ('scaler', StandardScaler()),\n",
    "    ('select_kbest', SelectKBest(score_func=f_classif, k=10)),\n",
    "    ('pca', PCA(n_components=5)),\n",
    "    ('isolation_forest', IsolationForest(random_state=42))\n",
    "])\n",
    "\n",
    "model_pipeline.fit(X_train, y_train)"
   ]
  },
  {
   "cell_type": "markdown",
   "id": "b78bf769",
   "metadata": {},
   "source": [
    "## 2. Isolation Forest"
   ]
  },
  {
   "cell_type": "markdown",
   "id": "f65edcb5",
   "metadata": {},
   "source": [
    "### 2.1 Find Best Parameters"
   ]
  },
  {
   "cell_type": "markdown",
   "id": "fad16195",
   "metadata": {},
   "source": [
    "#### Bayesian Optimization with Optuna"
   ]
  },
  {
   "cell_type": "code",
   "execution_count": null,
   "id": "6ce5d0f9",
   "metadata": {},
   "outputs": [],
   "source": [
    "def objective(trial):\n",
    "    n_estimators = trial.suggest_int('n_estimators', 100, 300)\n",
    "    max_samples = trial.suggest_categorical('max_samples', ['auto', 0.8])\n",
    "    contamination = trial.suggest_float('contamination', 0.001, 0.05)\n",
    "    max_features = trial.suggest_categorical('max_features', [1.0, 0.8])\n",
    "\n",
    "    pipeline = Pipeline([\n",
    "        ('scaler', StandardScaler()),\n",
    "        ('select_kbest', SelectKBest(score_func=f_classif, k=10)),\n",
    "        ('pca', PCA(n_components=5)),\n",
    "        ('isolation_forest', IsolationForest(\n",
    "            n_estimators=n_estimators,\n",
    "            max_samples=max_samples,\n",
    "            contamination=contamination,\n",
    "            max_features=max_features,\n",
    "            random_state=42\n",
    "        ))\n",
    "    ])\n",
    "\n",
    "    # Train on train set\n",
    "    pipeline.fit(X_train, y_train)\n",
    "    # Predict on validation set\n",
    "    y_pred = pipeline.predict(X_val)\n",
    "    # IsolationForest: -1 = anomaly, 1 = normal\n",
    "    y_pred_bin = (y_pred == -1).astype(int)\n",
    "\n",
    "    print(\"y_val unique:\", np.unique(y_val))\n",
    "    print(\"y_pred_bin unique:\", np.unique(y_pred_bin))\n",
    "\n",
    "     # Calculate metrics\n",
    "    f1 = f1_score(y_val, y_pred_bin, average='binary')\n",
    "    recall = recall_score(y_val, y_pred_bin, average='binary')\n",
    "    precision = precision_score(y_val, y_pred_bin, average='binary')\n",
    "    pr_auc = average_precision_score(y_val, y_pred_bin)\n",
    "    kappa = cohen_kappa_score(y_val, y_pred_bin)\n",
    "\n",
    "    # Log metrics to Optuna\n",
    "    trial.set_user_attr(\"recall\", recall)\n",
    "    trial.set_user_attr(\"precision\", precision)\n",
    "    trial.set_user_attr(\"pr_auc\", pr_auc)\n",
    "    trial.set_user_attr(\"kappa\", kappa)\n",
    "\n",
    "    # Print metrics (optional)\n",
    "    print(f\"F1: {f1:.3f}, Recall: {recall:.3f}, Precision: {precision:.3f}, PR-AUC: {pr_auc:.3f}, Kappa: {kappa:.3f}\")\n",
    "    \n",
    "    # Return f1 score\n",
    "    return f1_score(y_val, y_pred_bin, average='binary')"
   ]
  },
  {
   "cell_type": "code",
   "execution_count": 28,
   "id": "c800372b",
   "metadata": {},
   "outputs": [
    {
     "name": "stderr",
     "output_type": "stream",
     "text": [
      "[I 2025-07-06 09:51:38,222] A new study created in memory with name: no-name-6ae0b37a-25f8-41c0-b312-f18e3d9ef08e\n"
     ]
    },
    {
     "name": "stdout",
     "output_type": "stream",
     "text": [
      "y_val unique: [0 1]\n",
      "y_pred_bin unique: [0 1]\n",
      "F1: 0.217, Recall: 1.000, Precision: 0.122, PR-AUC: 0.122, Kappa: 0.210\n"
     ]
    },
    {
     "name": "stderr",
     "output_type": "stream",
     "text": [
      "[I 2025-07-06 09:53:31,851] Trial 0 finished with value: 0.21747608877333086 and parameters: {'n_estimators': 300, 'max_samples': 0.8, 'contamination': 0.04406098715066176, 'max_features': 1.0}. Best is trial 0 with value: 0.21747608877333086.\n"
     ]
    },
    {
     "name": "stdout",
     "output_type": "stream",
     "text": [
      "y_val unique: [0 1]\n",
      "y_pred_bin unique: [0 1]\n"
     ]
    },
    {
     "name": "stderr",
     "output_type": "stream",
     "text": [
      "[I 2025-07-06 09:53:44,970] Trial 1 finished with value: 0.7531461761858664 and parameters: {'n_estimators': 139, 'max_samples': 'auto', 'contamination': 0.009102493611393491, 'max_features': 0.8}. Best is trial 1 with value: 0.7531461761858664.\n"
     ]
    },
    {
     "name": "stdout",
     "output_type": "stream",
     "text": [
      "F1: 0.753, Recall: 0.997, Precision: 0.605, PR-AUC: 0.603, Kappa: 0.751\n",
      "y_val unique: [0 1]\n",
      "y_pred_bin unique: [0 1]\n"
     ]
    },
    {
     "name": "stderr",
     "output_type": "stream",
     "text": [
      "[I 2025-07-06 09:53:56,471] Trial 2 finished with value: 0.5433874709976798 and parameters: {'n_estimators': 127, 'max_samples': 'auto', 'contamination': 0.014617557324742094, 'max_features': 1.0}. Best is trial 1 with value: 0.7531461761858664.\n"
     ]
    },
    {
     "name": "stdout",
     "output_type": "stream",
     "text": [
      "F1: 0.543, Recall: 1.000, Precision: 0.373, PR-AUC: 0.373, Kappa: 0.540\n",
      "y_val unique: [0 1]\n",
      "y_pred_bin unique: [0 1]\n",
      "F1: 0.343, Recall: 0.787, Precision: 0.219, PR-AUC: 0.173, Kappa: 0.337\n"
     ]
    },
    {
     "name": "stderr",
     "output_type": "stream",
     "text": [
      "[I 2025-07-06 09:54:59,697] Trial 3 finished with value: 0.34263392857142855 and parameters: {'n_estimators': 163, 'max_samples': 0.8, 'contamination': 0.01864517895581237, 'max_features': 1.0}. Best is trial 1 with value: 0.7531461761858664.\n"
     ]
    },
    {
     "name": "stdout",
     "output_type": "stream",
     "text": [
      "y_val unique: [0 1]\n",
      "y_pred_bin unique: [0 1]\n",
      "F1: 0.227, Recall: 0.168, Precision: 0.348, PR-AUC: 0.063, Kappa: 0.224\n"
     ]
    },
    {
     "name": "stderr",
     "output_type": "stream",
     "text": [
      "[I 2025-07-06 09:56:39,615] Trial 4 finished with value: 0.2268278641335636 and parameters: {'n_estimators': 264, 'max_samples': 0.8, 'contamination': 0.0021410453535901466, 'max_features': 1.0}. Best is trial 1 with value: 0.7531461761858664.\n"
     ]
    },
    {
     "name": "stdout",
     "output_type": "stream",
     "text": [
      "y_val unique: [0 1]\n",
      "y_pred_bin unique: [0 1]\n",
      "F1: 0.201, Recall: 1.000, Precision: 0.112, PR-AUC: 0.112, Kappa: 0.192\n"
     ]
    },
    {
     "name": "stderr",
     "output_type": "stream",
     "text": [
      "[I 2025-07-06 09:57:47,955] Trial 5 finished with value: 0.20066832319424213 and parameters: {'n_estimators': 176, 'max_samples': 0.8, 'contamination': 0.04853614230992086, 'max_features': 0.8}. Best is trial 1 with value: 0.7531461761858664.\n"
     ]
    },
    {
     "name": "stdout",
     "output_type": "stream",
     "text": [
      "y_val unique: [0 1]\n",
      "y_pred_bin unique: [0 1]\n"
     ]
    },
    {
     "name": "stderr",
     "output_type": "stream",
     "text": [
      "[I 2025-07-06 09:57:59,679] Trial 6 finished with value: 0.5390103567318757 and parameters: {'n_estimators': 107, 'max_samples': 'auto', 'contamination': 0.014809012997646726, 'max_features': 0.8}. Best is trial 1 with value: 0.7531461761858664.\n"
     ]
    },
    {
     "name": "stdout",
     "output_type": "stream",
     "text": [
      "F1: 0.539, Recall: 1.000, Precision: 0.369, PR-AUC: 0.369, Kappa: 0.535\n",
      "y_val unique: [0 1]\n",
      "y_pred_bin unique: [0 1]\n"
     ]
    },
    {
     "name": "stderr",
     "output_type": "stream",
     "text": [
      "[I 2025-07-06 09:58:11,030] Trial 7 finished with value: 0.3690807799442897 and parameters: {'n_estimators': 102, 'max_samples': 'auto', 'contamination': 0.0011984688582353366, 'max_features': 0.8}. Best is trial 1 with value: 0.7531461761858664.\n"
     ]
    },
    {
     "name": "stdout",
     "output_type": "stream",
     "text": [
      "F1: 0.369, Recall: 0.226, Precision: 1.000, PR-AUC: 0.231, Kappa: 0.368\n",
      "y_val unique: [0 1]\n",
      "y_pred_bin unique: [0 1]\n",
      "F1: 0.392, Recall: 0.471, Precision: 0.335, PR-AUC: 0.161, Kappa: 0.388\n"
     ]
    },
    {
     "name": "stderr",
     "output_type": "stream",
     "text": [
      "[I 2025-07-06 09:59:38,714] Trial 8 finished with value: 0.39161336176261546 and parameters: {'n_estimators': 230, 'max_samples': 0.8, 'contamination': 0.00660051898855619, 'max_features': 0.8}. Best is trial 1 with value: 0.7531461761858664.\n"
     ]
    },
    {
     "name": "stdout",
     "output_type": "stream",
     "text": [
      "y_val unique: [0 1]\n",
      "y_pred_bin unique: [0 1]\n"
     ]
    },
    {
     "name": "stderr",
     "output_type": "stream",
     "text": [
      "[I 2025-07-06 09:59:50,719] Trial 9 finished with value: 0.25758908930928287 and parameters: {'n_estimators': 133, 'max_samples': 'auto', 'contamination': 0.037678092604514296, 'max_features': 1.0}. Best is trial 1 with value: 0.7531461761858664.\n"
     ]
    },
    {
     "name": "stdout",
     "output_type": "stream",
     "text": [
      "F1: 0.258, Recall: 1.000, Precision: 0.148, PR-AUC: 0.148, Kappa: 0.250\n",
      "y_val unique: [0 1]\n",
      "y_pred_bin unique: [0 1]\n"
     ]
    },
    {
     "name": "stderr",
     "output_type": "stream",
     "text": [
      "[I 2025-07-06 10:00:08,091] Trial 10 finished with value: 0.325730180806676 and parameters: {'n_estimators': 208, 'max_samples': 'auto', 'contamination': 0.028421431904777413, 'max_features': 0.8}. Best is trial 1 with value: 0.7531461761858664.\n"
     ]
    },
    {
     "name": "stdout",
     "output_type": "stream",
     "text": [
      "F1: 0.326, Recall: 1.000, Precision: 0.195, PR-AUC: 0.195, Kappa: 0.319\n",
      "y_val unique: [0 1]\n",
      "y_pred_bin unique: [0 1]\n"
     ]
    },
    {
     "name": "stderr",
     "output_type": "stream",
     "text": [
      "[I 2025-07-06 10:00:20,925] Trial 11 finished with value: 0.5609580838323354 and parameters: {'n_estimators': 146, 'max_samples': 'auto', 'contamination': 0.014072378527933917, 'max_features': 1.0}. Best is trial 1 with value: 0.7531461761858664.\n"
     ]
    },
    {
     "name": "stdout",
     "output_type": "stream",
     "text": [
      "F1: 0.561, Recall: 1.000, Precision: 0.390, PR-AUC: 0.390, Kappa: 0.557\n",
      "y_val unique: [0 1]\n",
      "y_pred_bin unique: [0 1]\n"
     ]
    },
    {
     "name": "stderr",
     "output_type": "stream",
     "text": [
      "[I 2025-07-06 10:00:35,910] Trial 12 finished with value: 0.35207456404088994 and parameters: {'n_estimators': 160, 'max_samples': 'auto', 'contamination': 0.025658413908890326, 'max_features': 0.8}. Best is trial 1 with value: 0.7531461761858664.\n"
     ]
    },
    {
     "name": "stdout",
     "output_type": "stream",
     "text": [
      "F1: 0.352, Recall: 1.000, Precision: 0.214, PR-AUC: 0.214, Kappa: 0.346\n",
      "y_val unique: [0 1]\n",
      "y_pred_bin unique: [0 1]\n"
     ]
    },
    {
     "name": "stderr",
     "output_type": "stream",
     "text": [
      "[I 2025-07-06 10:00:48,215] Trial 13 finished with value: 0.7271033840422229 and parameters: {'n_estimators': 143, 'max_samples': 'auto', 'contamination': 0.009703462400299335, 'max_features': 1.0}. Best is trial 1 with value: 0.7531461761858664.\n"
     ]
    },
    {
     "name": "stdout",
     "output_type": "stream",
     "text": [
      "F1: 0.727, Recall: 1.000, Precision: 0.571, PR-AUC: 0.571, Kappa: 0.725\n",
      "y_val unique: [0 1]\n",
      "y_pred_bin unique: [0 1]\n"
     ]
    },
    {
     "name": "stderr",
     "output_type": "stream",
     "text": [
      "[I 2025-07-06 10:01:04,997] Trial 14 finished with value: 0.7370744010088273 and parameters: {'n_estimators': 196, 'max_samples': 'auto', 'contamination': 0.009437805025769387, 'max_features': 0.8}. Best is trial 1 with value: 0.7531461761858664.\n"
     ]
    },
    {
     "name": "stdout",
     "output_type": "stream",
     "text": [
      "F1: 0.737, Recall: 0.998, Precision: 0.584, PR-AUC: 0.583, Kappa: 0.735\n",
      "y_val unique: [0 1]\n",
      "y_pred_bin unique: [0 1]\n"
     ]
    },
    {
     "name": "stderr",
     "output_type": "stream",
     "text": [
      "[I 2025-07-06 10:01:24,027] Trial 15 finished with value: 0.40922593045605454 and parameters: {'n_estimators': 214, 'max_samples': 'auto', 'contamination': 0.021461825720121515, 'max_features': 0.8}. Best is trial 1 with value: 0.7531461761858664.\n"
     ]
    },
    {
     "name": "stdout",
     "output_type": "stream",
     "text": [
      "F1: 0.409, Recall: 1.000, Precision: 0.257, PR-AUC: 0.257, Kappa: 0.404\n",
      "y_val unique: [0 1]\n",
      "y_pred_bin unique: [0 1]\n"
     ]
    },
    {
     "name": "stderr",
     "output_type": "stream",
     "text": [
      "[I 2025-07-06 10:01:40,664] Trial 16 finished with value: 0.3033678756476684 and parameters: {'n_estimators': 190, 'max_samples': 'auto', 'contamination': 0.031237594501108416, 'max_features': 0.8}. Best is trial 1 with value: 0.7531461761858664.\n"
     ]
    },
    {
     "name": "stdout",
     "output_type": "stream",
     "text": [
      "F1: 0.303, Recall: 1.000, Precision: 0.179, PR-AUC: 0.179, Kappa: 0.297\n",
      "y_val unique: [0 1]\n",
      "y_pred_bin unique: [0 1]\n"
     ]
    },
    {
     "name": "stderr",
     "output_type": "stream",
     "text": [
      "[I 2025-07-06 10:02:00,461] Trial 17 finished with value: 0.7695852534562212 and parameters: {'n_estimators': 243, 'max_samples': 'auto', 'contamination': 0.008775778833936838, 'max_features': 0.8}. Best is trial 17 with value: 0.7695852534562212.\n"
     ]
    },
    {
     "name": "stdout",
     "output_type": "stream",
     "text": [
      "F1: 0.770, Recall: 0.998, Precision: 0.626, PR-AUC: 0.625, Kappa: 0.768\n",
      "y_val unique: [0 1]\n",
      "y_pred_bin unique: [0 1]\n"
     ]
    },
    {
     "name": "stderr",
     "output_type": "stream",
     "text": [
      "[I 2025-07-06 10:02:21,121] Trial 18 finished with value: 0.4227436823104693 and parameters: {'n_estimators': 248, 'max_samples': 'auto', 'contamination': 0.02054922604803562, 'max_features': 0.8}. Best is trial 17 with value: 0.7695852534562212.\n"
     ]
    },
    {
     "name": "stdout",
     "output_type": "stream",
     "text": [
      "F1: 0.423, Recall: 1.000, Precision: 0.268, PR-AUC: 0.268, Kappa: 0.418\n",
      "y_val unique: [0 1]\n",
      "y_pred_bin unique: [0 1]\n"
     ]
    },
    {
     "name": "stderr",
     "output_type": "stream",
     "text": [
      "[I 2025-07-06 10:02:43,023] Trial 19 finished with value: 0.8243757934828607 and parameters: {'n_estimators': 272, 'max_samples': 'auto', 'contamination': 0.005627303369906337, 'max_features': 0.8}. Best is trial 19 with value: 0.8243757934828607.\n"
     ]
    },
    {
     "name": "stdout",
     "output_type": "stream",
     "text": [
      "F1: 0.824, Recall: 0.832, Precision: 0.817, PR-AUC: 0.681, Kappa: 0.823\n",
      "y_val unique: [0 1]\n",
      "y_pred_bin unique: [0 1]\n"
     ]
    },
    {
     "name": "stderr",
     "output_type": "stream",
     "text": [
      "[I 2025-07-06 10:03:05,432] Trial 20 finished with value: 0.8289855072463769 and parameters: {'n_estimators': 284, 'max_samples': 'auto', 'contamination': 0.005878427403175337, 'max_features': 0.8}. Best is trial 20 with value: 0.8289855072463769.\n"
     ]
    },
    {
     "name": "stdout",
     "output_type": "stream",
     "text": [
      "F1: 0.829, Recall: 0.855, Precision: 0.805, PR-AUC: 0.689, Kappa: 0.828\n",
      "y_val unique: [0 1]\n",
      "y_pred_bin unique: [0 1]\n"
     ]
    },
    {
     "name": "stderr",
     "output_type": "stream",
     "text": [
      "[I 2025-07-06 10:03:29,676] Trial 21 finished with value: 0.707040866568193 and parameters: {'n_estimators': 286, 'max_samples': 'auto', 'contamination': 0.0039161556491750325, 'max_features': 0.8}. Best is trial 20 with value: 0.8289855072463769.\n"
     ]
    },
    {
     "name": "stdout",
     "output_type": "stream",
     "text": [
      "F1: 0.707, Recall: 0.613, Precision: 0.835, PR-AUC: 0.514, Kappa: 0.706\n",
      "y_val unique: [0 1]\n",
      "y_pred_bin unique: [0 1]\n",
      "F1: 0.840, Recall: 0.904, Precision: 0.785, PR-AUC: 0.710, Kappa: 0.839\n"
     ]
    },
    {
     "name": "stderr",
     "output_type": "stream",
     "text": [
      "[I 2025-07-06 10:03:50,901] Trial 22 finished with value: 0.8403494837172358 and parameters: {'n_estimators': 257, 'max_samples': 'auto', 'contamination': 0.0063208478530821285, 'max_features': 0.8}. Best is trial 22 with value: 0.8403494837172358.\n"
     ]
    },
    {
     "name": "stdout",
     "output_type": "stream",
     "text": [
      "y_val unique: [0 1]\n",
      "y_pred_bin unique: [0 1]\n"
     ]
    },
    {
     "name": "stderr",
     "output_type": "stream",
     "text": [
      "[I 2025-07-06 10:04:13,145] Trial 23 finished with value: 0.8194622279129321 and parameters: {'n_estimators': 270, 'max_samples': 'auto', 'contamination': 0.005546375598257097, 'max_features': 0.8}. Best is trial 22 with value: 0.8403494837172358.\n"
     ]
    },
    {
     "name": "stdout",
     "output_type": "stream",
     "text": [
      "F1: 0.819, Recall: 0.820, Precision: 0.819, PR-AUC: 0.673, Kappa: 0.818\n",
      "y_val unique: [0 1]\n",
      "y_pred_bin unique: [0 1]\n"
     ]
    },
    {
     "name": "stderr",
     "output_type": "stream",
     "text": [
      "[I 2025-07-06 10:04:34,650] Trial 24 finished with value: 0.5765632693254554 and parameters: {'n_estimators': 263, 'max_samples': 'auto', 'contamination': 0.013559274741876973, 'max_features': 0.8}. Best is trial 22 with value: 0.8403494837172358.\n"
     ]
    },
    {
     "name": "stdout",
     "output_type": "stream",
     "text": [
      "F1: 0.577, Recall: 1.000, Precision: 0.405, PR-AUC: 0.405, Kappa: 0.573\n",
      "y_val unique: [0 1]\n",
      "y_pred_bin unique: [0 1]\n"
     ]
    },
    {
     "name": "stderr",
     "output_type": "stream",
     "text": [
      "[I 2025-07-06 10:04:57,057] Trial 25 finished with value: 0.8213193534294451 and parameters: {'n_estimators': 280, 'max_samples': 'auto', 'contamination': 0.005299283226755299, 'max_features': 0.8}. Best is trial 22 with value: 0.8403494837172358.\n"
     ]
    },
    {
     "name": "stdout",
     "output_type": "stream",
     "text": [
      "F1: 0.821, Recall: 0.803, Precision: 0.841, PR-AUC: 0.676, Kappa: 0.820\n",
      "y_val unique: [0 1]\n",
      "y_pred_bin unique: [0 1]\n",
      "F1: 0.348, Recall: 0.776, Precision: 0.224, PR-AUC: 0.175, Kappa: 0.342\n"
     ]
    },
    {
     "name": "stderr",
     "output_type": "stream",
     "text": [
      "[I 2025-07-06 10:06:49,006] Trial 26 finished with value: 0.34820915533422714 and parameters: {'n_estimators': 294, 'max_samples': 0.8, 'contamination': 0.017909444449009767, 'max_features': 0.8}. Best is trial 22 with value: 0.8403494837172358.\n"
     ]
    },
    {
     "name": "stdout",
     "output_type": "stream",
     "text": [
      "y_val unique: [0 1]\n",
      "y_pred_bin unique: [0 1]\n"
     ]
    },
    {
     "name": "stderr",
     "output_type": "stream",
     "text": [
      "[I 2025-07-06 10:07:10,387] Trial 27 finished with value: 0.6217148924873905 and parameters: {'n_estimators': 245, 'max_samples': 'auto', 'contamination': 0.012183792857325551, 'max_features': 0.8}. Best is trial 22 with value: 0.8403494837172358.\n"
     ]
    },
    {
     "name": "stdout",
     "output_type": "stream",
     "text": [
      "F1: 0.622, Recall: 1.000, Precision: 0.451, PR-AUC: 0.451, Kappa: 0.619\n",
      "y_val unique: [0 1]\n",
      "y_pred_bin unique: [0 1]\n"
     ]
    },
    {
     "name": "stderr",
     "output_type": "stream",
     "text": [
      "[I 2025-07-06 10:07:32,360] Trial 28 finished with value: 0.2752379833117875 and parameters: {'n_estimators': 276, 'max_samples': 'auto', 'contamination': 0.03506722557082772, 'max_features': 0.8}. Best is trial 22 with value: 0.8403494837172358.\n"
     ]
    },
    {
     "name": "stdout",
     "output_type": "stream",
     "text": [
      "F1: 0.275, Recall: 1.000, Precision: 0.160, PR-AUC: 0.160, Kappa: 0.268\n",
      "y_val unique: [0 1]\n",
      "y_pred_bin unique: [0 1]\n"
     ]
    },
    {
     "name": "stderr",
     "output_type": "stream",
     "text": [
      "[I 2025-07-06 10:09:26,126] Trial 29 finished with value: 0.3078585765014667 and parameters: {'n_estimators': 298, 'max_samples': 0.8, 'contamination': 0.02392667838140136, 'max_features': 0.8}. Best is trial 22 with value: 0.8403494837172358.\n"
     ]
    },
    {
     "name": "stdout",
     "output_type": "stream",
     "text": [
      "F1: 0.308, Recall: 0.851, Precision: 0.188, PR-AUC: 0.161, Kappa: 0.301\n",
      "y_val unique: [0 1]\n",
      "y_pred_bin unique: [0 1]\n"
     ]
    },
    {
     "name": "stderr",
     "output_type": "stream",
     "text": [
      "[I 2025-07-06 10:09:44,638] Trial 30 finished with value: 0.2334064181781941 and parameters: {'n_estimators': 227, 'max_samples': 'auto', 'contamination': 0.04229552016827242, 'max_features': 0.8}. Best is trial 22 with value: 0.8403494837172358.\n"
     ]
    },
    {
     "name": "stdout",
     "output_type": "stream",
     "text": [
      "F1: 0.233, Recall: 1.000, Precision: 0.132, PR-AUC: 0.132, Kappa: 0.226\n",
      "y_val unique: [0 1]\n",
      "y_pred_bin unique: [0 1]\n"
     ]
    },
    {
     "name": "stderr",
     "output_type": "stream",
     "text": [
      "[I 2025-07-06 10:10:06,055] Trial 31 finished with value: 0.7781851512373968 and parameters: {'n_estimators': 280, 'max_samples': 'auto', 'contamination': 0.004908108259423766, 'max_features': 0.8}. Best is trial 22 with value: 0.8403494837172358.\n"
     ]
    },
    {
     "name": "stdout",
     "output_type": "stream",
     "text": [
      "F1: 0.778, Recall: 0.725, Precision: 0.840, PR-AUC: 0.610, Kappa: 0.777\n",
      "y_val unique: [0 1]\n",
      "y_pred_bin unique: [0 1]\n"
     ]
    },
    {
     "name": "stderr",
     "output_type": "stream",
     "text": [
      "[I 2025-07-06 10:10:26,722] Trial 32 finished with value: 0.3316725978647687 and parameters: {'n_estimators': 259, 'max_samples': 'auto', 'contamination': 0.0011579290304221546, 'max_features': 0.8}. Best is trial 22 with value: 0.8403494837172358.\n"
     ]
    },
    {
     "name": "stdout",
     "output_type": "stream",
     "text": [
      "F1: 0.332, Recall: 0.199, Precision: 0.996, PR-AUC: 0.203, Kappa: 0.330\n",
      "y_val unique: [0 1]\n",
      "y_pred_bin unique: [0 1]\n"
     ]
    },
    {
     "name": "stderr",
     "output_type": "stream",
     "text": [
      "[I 2025-07-06 10:10:48,705] Trial 33 finished with value: 0.8448150833937635 and parameters: {'n_estimators': 286, 'max_samples': 'auto', 'contamination': 0.007540881258086388, 'max_features': 0.8}. Best is trial 33 with value: 0.8448150833937635.\n"
     ]
    },
    {
     "name": "stdout",
     "output_type": "stream",
     "text": [
      "F1: 0.845, Recall: 0.995, Precision: 0.734, PR-AUC: 0.730, Kappa: 0.844\n",
      "y_val unique: [0 1]\n",
      "y_pred_bin unique: [0 1]\n"
     ]
    },
    {
     "name": "stderr",
     "output_type": "stream",
     "text": [
      "[I 2025-07-06 10:11:12,679] Trial 34 finished with value: 0.8053830227743273 and parameters: {'n_estimators': 300, 'max_samples': 'auto', 'contamination': 0.008111973438068097, 'max_features': 0.8}. Best is trial 33 with value: 0.8448150833937635.\n"
     ]
    },
    {
     "name": "stdout",
     "output_type": "stream",
     "text": [
      "F1: 0.805, Recall: 0.997, Precision: 0.676, PR-AUC: 0.673, Kappa: 0.804\n",
      "y_val unique: [0 1]\n",
      "y_pred_bin unique: [0 1]\n"
     ]
    },
    {
     "name": "stderr",
     "output_type": "stream",
     "text": [
      "[I 2025-07-06 10:11:33,755] Trial 35 finished with value: 0.6878120411160059 and parameters: {'n_estimators': 290, 'max_samples': 'auto', 'contamination': 0.010452679968389222, 'max_features': 1.0}. Best is trial 33 with value: 0.8448150833937635.\n"
     ]
    },
    {
     "name": "stdout",
     "output_type": "stream",
     "text": [
      "F1: 0.688, Recall: 1.000, Precision: 0.524, PR-AUC: 0.524, Kappa: 0.685\n",
      "y_val unique: [0 1]\n",
      "y_pred_bin unique: [0 1]\n",
      "F1: 0.421, Recall: 0.697, Precision: 0.301, PR-AUC: 0.212, Kappa: 0.416\n"
     ]
    },
    {
     "name": "stderr",
     "output_type": "stream",
     "text": [
      "[I 2025-07-06 10:13:08,188] Trial 36 finished with value: 0.4207269914926527 and parameters: {'n_estimators': 253, 'max_samples': 0.8, 'contamination': 0.011637338917108686, 'max_features': 0.8}. Best is trial 33 with value: 0.8448150833937635.\n"
     ]
    },
    {
     "name": "stdout",
     "output_type": "stream",
     "text": [
      "y_val unique: [0 1]\n",
      "y_pred_bin unique: [0 1]\n"
     ]
    },
    {
     "name": "stderr",
     "output_type": "stream",
     "text": [
      "[I 2025-07-06 10:13:26,811] Trial 37 finished with value: 0.7115484205075091 and parameters: {'n_estimators': 233, 'max_samples': 'auto', 'contamination': 0.003564301300655222, 'max_features': 1.0}. Best is trial 33 with value: 0.8448150833937635.\n"
     ]
    },
    {
     "name": "stdout",
     "output_type": "stream",
     "text": [
      "F1: 0.712, Recall: 0.587, Precision: 0.904, PR-AUC: 0.533, Kappa: 0.710\n",
      "y_val unique: [0 1]\n",
      "y_pred_bin unique: [0 1]\n"
     ]
    },
    {
     "name": "stderr",
     "output_type": "stream",
     "text": [
      "[I 2025-07-06 10:13:47,930] Trial 38 finished with value: 0.48771345272803 and parameters: {'n_estimators': 270, 'max_samples': 'auto', 'contamination': 0.017099475711579423, 'max_features': 0.8}. Best is trial 33 with value: 0.8448150833937635.\n"
     ]
    },
    {
     "name": "stdout",
     "output_type": "stream",
     "text": [
      "F1: 0.488, Recall: 1.000, Precision: 0.323, PR-AUC: 0.323, Kappa: 0.483\n",
      "y_val unique: [0 1]\n",
      "y_pred_bin unique: [0 1]\n",
      "F1: 0.392, Recall: 0.496, Precision: 0.325, PR-AUC: 0.164, Kappa: 0.388\n"
     ]
    },
    {
     "name": "stderr",
     "output_type": "stream",
     "text": [
      "[I 2025-07-06 10:15:35,582] Trial 39 finished with value: 0.392434988179669 and parameters: {'n_estimators': 285, 'max_samples': 0.8, 'contamination': 0.007177997524004346, 'max_features': 0.8}. Best is trial 33 with value: 0.8448150833937635.\n"
     ]
    },
    {
     "name": "stdout",
     "output_type": "stream",
     "text": [
      "y_val unique: [0 1]\n",
      "y_pred_bin unique: [0 1]\n"
     ]
    },
    {
     "name": "stderr",
     "output_type": "stream",
     "text": [
      "[I 2025-07-06 10:15:57,315] Trial 40 finished with value: 0.524641577060932 and parameters: {'n_estimators': 271, 'max_samples': 'auto', 'contamination': 0.015529682970265867, 'max_features': 0.8}. Best is trial 33 with value: 0.8448150833937635.\n"
     ]
    },
    {
     "name": "stdout",
     "output_type": "stream",
     "text": [
      "F1: 0.525, Recall: 1.000, Precision: 0.356, PR-AUC: 0.356, Kappa: 0.521\n",
      "y_val unique: [0 1]\n",
      "y_pred_bin unique: [0 1]\n"
     ]
    },
    {
     "name": "stderr",
     "output_type": "stream",
     "text": [
      "[I 2025-07-06 10:16:19,272] Trial 41 finished with value: 0.8257736328952946 and parameters: {'n_estimators': 278, 'max_samples': 'auto', 'contamination': 0.005616346262903058, 'max_features': 0.8}. Best is trial 33 with value: 0.8448150833937635.\n"
     ]
    },
    {
     "name": "stdout",
     "output_type": "stream",
     "text": [
      "F1: 0.826, Recall: 0.832, Precision: 0.820, PR-AUC: 0.683, Kappa: 0.825\n",
      "y_val unique: [0 1]\n",
      "y_pred_bin unique: [0 1]\n"
     ]
    },
    {
     "name": "stderr",
     "output_type": "stream",
     "text": [
      "[I 2025-07-06 10:16:40,301] Trial 42 finished with value: 0.6380789022298456 and parameters: {'n_estimators': 258, 'max_samples': 'auto', 'contamination': 0.0027238431174957823, 'max_features': 0.8}. Best is trial 33 with value: 0.8448150833937635.\n"
     ]
    },
    {
     "name": "stdout",
     "output_type": "stream",
     "text": [
      "F1: 0.638, Recall: 0.477, Precision: 0.965, PR-AUC: 0.463, Kappa: 0.637\n",
      "y_val unique: [0 1]\n",
      "y_pred_bin unique: [0 1]\n",
      "F1: 0.841, Recall: 0.890, Precision: 0.797, PR-AUC: 0.710, Kappa: 0.840\n"
     ]
    },
    {
     "name": "stderr",
     "output_type": "stream",
     "text": [
      "[I 2025-07-06 10:17:02,411] Trial 43 finished with value: 0.841000807102502 and parameters: {'n_estimators': 288, 'max_samples': 'auto', 'contamination': 0.006213256508122541, 'max_features': 0.8}. Best is trial 33 with value: 0.8448150833937635.\n"
     ]
    },
    {
     "name": "stdout",
     "output_type": "stream",
     "text": [
      "y_val unique: [0 1]\n",
      "y_pred_bin unique: [0 1]\n"
     ]
    },
    {
     "name": "stderr",
     "output_type": "stream",
     "text": [
      "[I 2025-07-06 10:17:24,719] Trial 44 finished with value: 0.8315488936473948 and parameters: {'n_estimators': 289, 'max_samples': 'auto', 'contamination': 0.007706298021520329, 'max_features': 0.8}. Best is trial 33 with value: 0.8448150833937635.\n"
     ]
    },
    {
     "name": "stdout",
     "output_type": "stream",
     "text": [
      "F1: 0.832, Recall: 0.995, Precision: 0.714, PR-AUC: 0.711, Kappa: 0.830\n",
      "y_val unique: [0 1]\n",
      "y_pred_bin unique: [0 1]\n"
     ]
    },
    {
     "name": "stderr",
     "output_type": "stream",
     "text": [
      "[I 2025-07-06 10:17:45,678] Trial 45 finished with value: 0.6460689655172414 and parameters: {'n_estimators': 290, 'max_samples': 'auto', 'contamination': 0.011414845932874012, 'max_features': 1.0}. Best is trial 33 with value: 0.8448150833937635.\n"
     ]
    },
    {
     "name": "stdout",
     "output_type": "stream",
     "text": [
      "F1: 0.646, Recall: 1.000, Precision: 0.477, PR-AUC: 0.477, Kappa: 0.643\n",
      "y_val unique: [0 1]\n",
      "y_pred_bin unique: [0 1]\n"
     ]
    },
    {
     "name": "stderr",
     "output_type": "stream",
     "text": [
      "[I 2025-07-06 10:18:09,355] Trial 46 finished with value: 0.8306595365418894 and parameters: {'n_estimators': 299, 'max_samples': 'auto', 'contamination': 0.007731449580311238, 'max_features': 0.8}. Best is trial 33 with value: 0.8448150833937635.\n"
     ]
    },
    {
     "name": "stdout",
     "output_type": "stream",
     "text": [
      "F1: 0.831, Recall: 0.995, Precision: 0.713, PR-AUC: 0.709, Kappa: 0.830\n",
      "y_val unique: [0 1]\n",
      "y_pred_bin unique: [0 1]\n",
      "F1: 0.413, Recall: 0.570, Precision: 0.324, PR-AUC: 0.187, Kappa: 0.409\n"
     ]
    },
    {
     "name": "stderr",
     "output_type": "stream",
     "text": [
      "[I 2025-07-06 10:20:01,912] Trial 47 finished with value: 0.41298299845440495 and parameters: {'n_estimators': 298, 'max_samples': 0.8, 'contamination': 0.00847791134122219, 'max_features': 0.8}. Best is trial 33 with value: 0.8448150833937635.\n"
     ]
    },
    {
     "name": "stdout",
     "output_type": "stream",
     "text": [
      "y_val unique: [0 1]\n",
      "y_pred_bin unique: [0 1]\n"
     ]
    },
    {
     "name": "stderr",
     "output_type": "stream",
     "text": [
      "[I 2025-07-06 10:20:23,156] Trial 48 finished with value: 0.5293851717902351 and parameters: {'n_estimators': 291, 'max_samples': 'auto', 'contamination': 0.01517913081757033, 'max_features': 1.0}. Best is trial 33 with value: 0.8448150833937635.\n"
     ]
    },
    {
     "name": "stdout",
     "output_type": "stream",
     "text": [
      "F1: 0.529, Recall: 1.000, Precision: 0.360, PR-AUC: 0.360, Kappa: 0.525\n",
      "y_val unique: [0 1]\n",
      "y_pred_bin unique: [0 1]\n"
     ]
    },
    {
     "name": "stderr",
     "output_type": "stream",
     "text": [
      "[I 2025-07-06 10:20:44,067] Trial 49 finished with value: 0.6070502851218248 and parameters: {'n_estimators': 265, 'max_samples': 'auto', 'contamination': 0.012576299942233887, 'max_features': 0.8}. Best is trial 33 with value: 0.8448150833937635.\n"
     ]
    },
    {
     "name": "stdout",
     "output_type": "stream",
     "text": [
      "F1: 0.607, Recall: 1.000, Precision: 0.436, PR-AUC: 0.436, Kappa: 0.604\n",
      "Best params from Optuna: {'n_estimators': 286, 'max_samples': 'auto', 'contamination': 0.007540881258086388, 'max_features': 0.8}\n"
     ]
    }
   ],
   "source": [
    "# Run Optuna\n",
    "study = optuna.create_study(direction='maximize')\n",
    "study.optimize(objective, n_trials=50)\n",
    "\n",
    "print(\"Best params from Optuna:\", study.best_params)"
   ]
  },
  {
   "cell_type": "code",
   "execution_count": 30,
   "id": "26171a4d",
   "metadata": {},
   "outputs": [],
   "source": [
    "# สร้าง pipeline ด้วย best params และ train บน train+val\n",
    "best_params = study.best_params\n",
    "best_pipeline = Pipeline([\n",
    "    ('scaler', StandardScaler()),\n",
    "    ('select_kbest', SelectKBest(score_func=f_classif, k=10)),\n",
    "    ('pca', PCA(n_components=5)),\n",
    "    ('isolation_forest', IsolationForest(\n",
    "        n_estimators=best_params['n_estimators'],\n",
    "        max_samples=best_params['max_samples'],\n",
    "        contamination=best_params['contamination'],\n",
    "        max_features=best_params['max_features'],\n",
    "        random_state=42\n",
    "    ))\n",
    "])"
   ]
  },
  {
   "cell_type": "code",
   "execution_count": 31,
   "id": "6368eae6",
   "metadata": {},
   "outputs": [
    {
     "data": {
      "text/html": [
       "<style>#sk-container-id-2 {color: black;}#sk-container-id-2 pre{padding: 0;}#sk-container-id-2 div.sk-toggleable {background-color: white;}#sk-container-id-2 label.sk-toggleable__label {cursor: pointer;display: block;width: 100%;margin-bottom: 0;padding: 0.3em;box-sizing: border-box;text-align: center;}#sk-container-id-2 label.sk-toggleable__label-arrow:before {content: \"▸\";float: left;margin-right: 0.25em;color: #696969;}#sk-container-id-2 label.sk-toggleable__label-arrow:hover:before {color: black;}#sk-container-id-2 div.sk-estimator:hover label.sk-toggleable__label-arrow:before {color: black;}#sk-container-id-2 div.sk-toggleable__content {max-height: 0;max-width: 0;overflow: hidden;text-align: left;background-color: #f0f8ff;}#sk-container-id-2 div.sk-toggleable__content pre {margin: 0.2em;color: black;border-radius: 0.25em;background-color: #f0f8ff;}#sk-container-id-2 input.sk-toggleable__control:checked~div.sk-toggleable__content {max-height: 200px;max-width: 100%;overflow: auto;}#sk-container-id-2 input.sk-toggleable__control:checked~label.sk-toggleable__label-arrow:before {content: \"▾\";}#sk-container-id-2 div.sk-estimator input.sk-toggleable__control:checked~label.sk-toggleable__label {background-color: #d4ebff;}#sk-container-id-2 div.sk-label input.sk-toggleable__control:checked~label.sk-toggleable__label {background-color: #d4ebff;}#sk-container-id-2 input.sk-hidden--visually {border: 0;clip: rect(1px 1px 1px 1px);clip: rect(1px, 1px, 1px, 1px);height: 1px;margin: -1px;overflow: hidden;padding: 0;position: absolute;width: 1px;}#sk-container-id-2 div.sk-estimator {font-family: monospace;background-color: #f0f8ff;border: 1px dotted black;border-radius: 0.25em;box-sizing: border-box;margin-bottom: 0.5em;}#sk-container-id-2 div.sk-estimator:hover {background-color: #d4ebff;}#sk-container-id-2 div.sk-parallel-item::after {content: \"\";width: 100%;border-bottom: 1px solid gray;flex-grow: 1;}#sk-container-id-2 div.sk-label:hover label.sk-toggleable__label {background-color: #d4ebff;}#sk-container-id-2 div.sk-serial::before {content: \"\";position: absolute;border-left: 1px solid gray;box-sizing: border-box;top: 0;bottom: 0;left: 50%;z-index: 0;}#sk-container-id-2 div.sk-serial {display: flex;flex-direction: column;align-items: center;background-color: white;padding-right: 0.2em;padding-left: 0.2em;position: relative;}#sk-container-id-2 div.sk-item {position: relative;z-index: 1;}#sk-container-id-2 div.sk-parallel {display: flex;align-items: stretch;justify-content: center;background-color: white;position: relative;}#sk-container-id-2 div.sk-item::before, #sk-container-id-2 div.sk-parallel-item::before {content: \"\";position: absolute;border-left: 1px solid gray;box-sizing: border-box;top: 0;bottom: 0;left: 50%;z-index: -1;}#sk-container-id-2 div.sk-parallel-item {display: flex;flex-direction: column;z-index: 1;position: relative;background-color: white;}#sk-container-id-2 div.sk-parallel-item:first-child::after {align-self: flex-end;width: 50%;}#sk-container-id-2 div.sk-parallel-item:last-child::after {align-self: flex-start;width: 50%;}#sk-container-id-2 div.sk-parallel-item:only-child::after {width: 0;}#sk-container-id-2 div.sk-dashed-wrapped {border: 1px dashed gray;margin: 0 0.4em 0.5em 0.4em;box-sizing: border-box;padding-bottom: 0.4em;background-color: white;}#sk-container-id-2 div.sk-label label {font-family: monospace;font-weight: bold;display: inline-block;line-height: 1.2em;}#sk-container-id-2 div.sk-label-container {text-align: center;}#sk-container-id-2 div.sk-container {/* jupyter's `normalize.less` sets `[hidden] { display: none; }` but bootstrap.min.css set `[hidden] { display: none !important; }` so we also need the `!important` here to be able to override the default hidden behavior on the sphinx rendered scikit-learn.org. See: https://github.com/scikit-learn/scikit-learn/issues/21755 */display: inline-block !important;position: relative;}#sk-container-id-2 div.sk-text-repr-fallback {display: none;}</style><div id=\"sk-container-id-2\" class=\"sk-top-container\"><div class=\"sk-text-repr-fallback\"><pre>Pipeline(steps=[(&#x27;scaler&#x27;, StandardScaler()), (&#x27;select_kbest&#x27;, SelectKBest()),\n",
       "                (&#x27;pca&#x27;, PCA(n_components=5)),\n",
       "                (&#x27;isolation_forest&#x27;,\n",
       "                 IsolationForest(contamination=0.007540881258086388,\n",
       "                                 max_features=0.8, n_estimators=286,\n",
       "                                 random_state=42))])</pre><b>In a Jupyter environment, please rerun this cell to show the HTML representation or trust the notebook. <br />On GitHub, the HTML representation is unable to render, please try loading this page with nbviewer.org.</b></div><div class=\"sk-container\" hidden><div class=\"sk-item sk-dashed-wrapped\"><div class=\"sk-label-container\"><div class=\"sk-label sk-toggleable\"><input class=\"sk-toggleable__control sk-hidden--visually\" id=\"sk-estimator-id-6\" type=\"checkbox\" ><label for=\"sk-estimator-id-6\" class=\"sk-toggleable__label sk-toggleable__label-arrow\">Pipeline</label><div class=\"sk-toggleable__content\"><pre>Pipeline(steps=[(&#x27;scaler&#x27;, StandardScaler()), (&#x27;select_kbest&#x27;, SelectKBest()),\n",
       "                (&#x27;pca&#x27;, PCA(n_components=5)),\n",
       "                (&#x27;isolation_forest&#x27;,\n",
       "                 IsolationForest(contamination=0.007540881258086388,\n",
       "                                 max_features=0.8, n_estimators=286,\n",
       "                                 random_state=42))])</pre></div></div></div><div class=\"sk-serial\"><div class=\"sk-item\"><div class=\"sk-estimator sk-toggleable\"><input class=\"sk-toggleable__control sk-hidden--visually\" id=\"sk-estimator-id-7\" type=\"checkbox\" ><label for=\"sk-estimator-id-7\" class=\"sk-toggleable__label sk-toggleable__label-arrow\">StandardScaler</label><div class=\"sk-toggleable__content\"><pre>StandardScaler()</pre></div></div></div><div class=\"sk-item\"><div class=\"sk-estimator sk-toggleable\"><input class=\"sk-toggleable__control sk-hidden--visually\" id=\"sk-estimator-id-8\" type=\"checkbox\" ><label for=\"sk-estimator-id-8\" class=\"sk-toggleable__label sk-toggleable__label-arrow\">SelectKBest</label><div class=\"sk-toggleable__content\"><pre>SelectKBest()</pre></div></div></div><div class=\"sk-item\"><div class=\"sk-estimator sk-toggleable\"><input class=\"sk-toggleable__control sk-hidden--visually\" id=\"sk-estimator-id-9\" type=\"checkbox\" ><label for=\"sk-estimator-id-9\" class=\"sk-toggleable__label sk-toggleable__label-arrow\">PCA</label><div class=\"sk-toggleable__content\"><pre>PCA(n_components=5)</pre></div></div></div><div class=\"sk-item\"><div class=\"sk-estimator sk-toggleable\"><input class=\"sk-toggleable__control sk-hidden--visually\" id=\"sk-estimator-id-10\" type=\"checkbox\" ><label for=\"sk-estimator-id-10\" class=\"sk-toggleable__label sk-toggleable__label-arrow\">IsolationForest</label><div class=\"sk-toggleable__content\"><pre>IsolationForest(contamination=0.007540881258086388, max_features=0.8,\n",
       "                n_estimators=286, random_state=42)</pre></div></div></div></div></div></div></div>"
      ],
      "text/plain": [
       "Pipeline(steps=[('scaler', StandardScaler()), ('select_kbest', SelectKBest()),\n",
       "                ('pca', PCA(n_components=5)),\n",
       "                ('isolation_forest',\n",
       "                 IsolationForest(contamination=0.007540881258086388,\n",
       "                                 max_features=0.8, n_estimators=286,\n",
       "                                 random_state=42))])"
      ]
     },
     "execution_count": 31,
     "metadata": {},
     "output_type": "execute_result"
    }
   ],
   "source": [
    "X_trainval = pd.concat([X_train, X_val], axis=0)\n",
    "y_trainval = pd.concat([y_train, y_val], axis=0)\n",
    "best_pipeline.fit(X_trainval, y_trainval)"
   ]
  },
  {
   "cell_type": "code",
   "execution_count": 73,
   "id": "7bc3d287",
   "metadata": {},
   "outputs": [
    {
     "name": "stdout",
     "output_type": "stream",
     "text": [
      "Best Optuna Parameters: {'n_estimators': 286, 'max_samples': 'auto', 'contamination': 0.007540881258086388, 'max_features': 0.8}\n",
      "Best Optuna F1 Score: 0.8448150833937635\n",
      "Best Optuna ROC AUC: 0.9713601040400872\n"
     ]
    }
   ],
   "source": [
    "# --- Display Optuna Results ---\n",
    "print(\"Best Optuna Parameters:\", best_params)\n",
    "print(\"Best Optuna F1 Score:\", study.best_value)\n",
    "print(\"Best Optuna ROC AUC:\", roc_auc_score(y_test, y_pred))"
   ]
  },
  {
   "cell_type": "markdown",
   "id": "981c7ef7",
   "metadata": {},
   "source": [
    "### 2.2 Evaluate and Compare The Results"
   ]
  },
  {
   "cell_type": "markdown",
   "id": "e08248d2",
   "metadata": {},
   "source": [
    "Classification Report"
   ]
  },
  {
   "cell_type": "code",
   "execution_count": 32,
   "id": "6a3f4565",
   "metadata": {},
   "outputs": [
    {
     "name": "stdout",
     "output_type": "stream",
     "text": [
      "              precision    recall  f1-score   support\n",
      "\n",
      "           0       1.00      1.00      1.00    257797\n",
      "           1       0.74      0.94      0.83      1538\n",
      "\n",
      "    accuracy                           1.00    259335\n",
      "   macro avg       0.87      0.97      0.91    259335\n",
      "weighted avg       1.00      1.00      1.00    259335\n",
      "\n"
     ]
    }
   ],
   "source": [
    "# Evaluate on test set\n",
    "y_pred = best_pipeline.predict(X_test)\n",
    "y_pred = (y_pred == -1).astype(int)\n",
    "print(classification_report(y_test, y_pred))"
   ]
  },
  {
   "cell_type": "markdown",
   "id": "e0285e67",
   "metadata": {},
   "source": [
    "Confusion Matrix"
   ]
  },
  {
   "cell_type": "code",
   "execution_count": 35,
   "id": "9ccbe7de",
   "metadata": {},
   "outputs": [
    {
     "data": {
      "image/png": "[encoded data removed]",
      "text/plain": [
       "<Figure size 600x500 with 2 Axes>"
      ]
     },
     "metadata": {},
     "output_type": "display_data"
    }
   ],
   "source": [
    "# Predicted values and true values for confusion matrix for Optuna (Bayesian Optimization)\n",
    "y_true = y_test\n",
    "y_pred_optuna = (best_pipeline.predict(X_test) == -1).astype(int)\n",
    "\n",
    "# Build confusion matrix\n",
    "cm_optuna = confusion_matrix(y_true, y_pred_optuna)\n",
    "labels = ['Normal (0)', 'Fraud (1)']\n",
    "\n",
    "# plot confusion matrix\n",
    "plt.figure(figsize=(6, 5))\n",
    "sns.heatmap(cm_optuna, annot=True, fmt='d', cmap='Blues', xticklabels=labels, yticklabels=labels)\n",
    "\n",
    "plt.title('Confusion Matrix - Isolation Forest (Bayesian Optimization)')\n",
    "plt.xlabel('Predicted Label')\n",
    "plt.ylabel('True Label')\n",
    "plt.tight_layout()\n",
    "plt.show()"
   ]
  },
  {
   "cell_type": "code",
   "execution_count": 71,
   "id": "cd631da5",
   "metadata": {},
   "outputs": [
    {
     "data": {
      "text/html": [
       "<div>\n",
       "<style scoped>\n",
       "    .dataframe tbody tr th:only-of-type {\n",
       "        vertical-align: middle;\n",
       "    }\n",
       "\n",
       "    .dataframe tbody tr th {\n",
       "        vertical-align: top;\n",
       "    }\n",
       "\n",
       "    .dataframe thead th {\n",
       "        text-align: right;\n",
       "    }\n",
       "</style>\n",
       "<table border=\"1\" class=\"dataframe\">\n",
       "  <thead>\n",
       "    <tr style=\"text-align: right;\">\n",
       "      <th></th>\n",
       "      <th>Method</th>\n",
       "      <th>Precision</th>\n",
       "      <th>Recall</th>\n",
       "      <th>F1-Score</th>\n",
       "      <th>ROC-AUC</th>\n",
       "      <th>Cohen Kappa</th>\n",
       "    </tr>\n",
       "  </thead>\n",
       "  <tbody>\n",
       "    <tr>\n",
       "      <th>0</th>\n",
       "      <td>Optuna</td>\n",
       "      <td>0.736815</td>\n",
       "      <td>0.944733</td>\n",
       "      <td>0.82792</td>\n",
       "      <td>0.97136</td>\n",
       "      <td>0.826766</td>\n",
       "    </tr>\n",
       "  </tbody>\n",
       "</table>\n",
       "</div>"
      ],
      "text/plain": [
       "   Method  Precision    Recall  F1-Score  ROC-AUC  Cohen Kappa\n",
       "0  Optuna   0.736815  0.944733   0.82792  0.97136     0.826766"
      ]
     },
     "metadata": {},
     "output_type": "display_data"
    }
   ],
   "source": [
    "metrics = {\n",
    "    \"Method\": [\"Optuna\"],\n",
    "    \"Precision\": [\n",
    "        precision_score(y_test, y_pred_optuna)\n",
    "    ],\n",
    "    \"Recall\": [\n",
    "        recall_score(y_test, y_pred_optuna)\n",
    "    ],\n",
    "    \"F1-Score\": [\n",
    "        f1_score(y_test, y_pred_optuna)\n",
    "    ],\n",
    "    \"ROC-AUC\": [\n",
    "        roc_auc_score(y_test, y_pred_optuna)\n",
    "    ],\n",
    "    \"Cohen Kappa\": [\n",
    "        cohen_kappa_score(y_test, y_pred_optuna)\n",
    "    ]\n",
    "}\n",
    "\n",
    "df_metrics = pd.DataFrame(metrics)\n",
    "display(df_metrics)"
   ]
  },
  {
   "cell_type": "markdown",
   "id": "fc548050",
   "metadata": {},
   "source": [
    "ROC Curve"
   ]
  },
  {
   "cell_type": "code",
   "execution_count": 47,
   "id": "3b2824f9",
   "metadata": {},
   "outputs": [
    {
     "data": {
      "image/png": "[encoded data removed]",
      "text/plain": [
       "<Figure size 800x600 with 1 Axes>"
      ]
     },
     "metadata": {},
     "output_type": "display_data"
    }
   ],
   "source": [
    "# --- Display ROC Curve ---\n",
    "y_score = best_pipeline.decision_function(X_test)\n",
    "\n",
    "# Build ROC curve\n",
    "fpr, tpr, thresholds = roc_curve(y_test, -y_score)\n",
    "roc_auc = auc(fpr, tpr)\n",
    "\n",
    "plt.figure(figsize=(8, 6))\n",
    "plt.plot(fpr, tpr, color='skyblue', lw=2, label=f'Isolation Forest (AUC = {roc_auc:.2f})')\n",
    "plt.plot([0, 1], [0, 1], 'k--', lw=1, label='Random')\n",
    "plt.xlabel('False Positive Rate')\n",
    "plt.ylabel('True Positive Rate')\n",
    "plt.title('ROC Curve - Isolation Forest (Optuna)')\n",
    "plt.legend(loc='lower right')\n",
    "plt.grid(True)\n",
    "plt.tight_layout()\n",
    "plt.show()"
   ]
  },
  {
   "cell_type": "markdown",
   "id": "52a9890d",
   "metadata": {},
   "source": [
    "Precision-Recall Curve"
   ]
  },
  {
   "cell_type": "code",
   "execution_count": 49,
   "id": "eb941a04",
   "metadata": {},
   "outputs": [
    {
     "data": {
      "image/png": "[encoded data removed]",
      "text/plain": [
       "<Figure size 800x600 with 1 Axes>"
      ]
     },
     "metadata": {},
     "output_type": "display_data"
    }
   ],
   "source": [
    "# --- Display Precision-Recall Curve ---\n",
    "y_score = best_pipeline.decision_function(X_test)\n",
    "\n",
    "# สร้าง Precision-Recall curve\n",
    "precision, recall, thresholds = precision_recall_curve(y_test, -y_score)\n",
    "pr_auc = average_precision_score(y_test, -y_score)\n",
    "\n",
    "plt.figure(figsize=(8, 6))\n",
    "plt.plot(recall, precision, color='skyblue', lw=2, label=f'PR AUC = {pr_auc:.2f}')\n",
    "plt.xlabel('Recall')\n",
    "plt.ylabel('Precision')\n",
    "plt.title('Precision-Recall Curve - Isolation Forest (Optuna)')\n",
    "plt.legend(loc='lower left')\n",
    "plt.grid(True)"
   ]
  },
  {
   "cell_type": "markdown",
   "id": "a3910246",
   "metadata": {},
   "source": [
    "Metrics Comparison"
   ]
  },
  {
   "cell_type": "code",
   "execution_count": 72,
   "id": "520016d9",
   "metadata": {},
   "outputs": [
    {
     "data": {
      "image/png": "[encoded data removed]",
      "text/plain": [
       "<Figure size 1200x600 with 1 Axes>"
      ]
     },
     "metadata": {},
     "output_type": "display_data"
    }
   ],
   "source": [
    "# --- Display Metrics Comparison ---\n",
    "plt.figure(figsize=(12, 6))\n",
    "\n",
    "df_melt = df_metrics.melt(id_vars=\"Method\", var_name=\"Metric\", value_name=\"Score\")\n",
    "ax = sns.barplot(data=df_melt, x=\"Metric\", y=\"Score\", hue=\"Method\", palette=[\"skyblue\"])\n",
    "\n",
    "# Annotate the bars with their values\n",
    "for p in ax.patches:\n",
    "    height = p.get_height()\n",
    "    if not np.isnan(height):\n",
    "        ax.text(\n",
    "            p.get_x() + p.get_width() / 2.,\n",
    "            height + 0.01,\n",
    "            f'{height:.2f}',\n",
    "            ha=\"center\", va=\"bottom\"\n",
    "        )\n",
    "\n",
    "plt.title(\"Performance Comparison\", fontsize=14)\n",
    "plt.ylabel(\"Score\")\n",
    "plt.ylim(0, 1.05)\n",
    "plt.legend(\n",
    "    title=\"Method\",\n",
    "    loc='upper center',\n",
    "    bbox_to_anchor=(0.5, -0.15),\n",
    "    ncol=3,\n",
    "    frameon=False\n",
    ")\n",
    "plt.tight_layout()\n",
    "plt.grid(False)\n",
    "plt.show()"
   ]
  },
  {
   "cell_type": "markdown",
   "id": "4c3b0ffe",
   "metadata": {},
   "source": [
    "Overfitting Plot"
   ]
  },
  {
   "cell_type": "code",
   "execution_count": 75,
   "id": "0af1ab0b",
   "metadata": {},
   "outputs": [
    {
     "data": {
      "image/png": "[encoded data removed]",
      "text/plain": [
       "<Figure size 800x600 with 1 Axes>"
      ]
     },
     "metadata": {},
     "output_type": "display_data"
    }
   ],
   "source": [
    "# --- Calculate metrics for train set ---\n",
    "y_pred_train = (best_pipeline.predict(X_trainval) == -1).astype(int)\n",
    "train_f1 = f1_score(y_trainval, y_pred_train)\n",
    "train_recall = recall_score(y_trainval, y_pred_train)\n",
    "train_precision = precision_score(y_trainval, y_pred_train)\n",
    "\n",
    "# --- Calculate metrics for test set ---\n",
    "y_pred_test = (best_pipeline.predict(X_test) == -1).astype(int)\n",
    "test_f1 = f1_score(y_test, y_pred_test)\n",
    "test_recall = recall_score(y_test, y_pred_test)\n",
    "test_precision = precision_score(y_test, y_pred_test)\n",
    "\n",
    "# --- Prepare DataFrame for plotting ---\n",
    "df_overfit = pd.DataFrame({\n",
    "    \"Metric\": [\"F1-Score\", \"Recall\", \"Precision\"],\n",
    "    \"Train\": [train_f1, train_recall, train_precision],\n",
    "    \"Test\": [test_f1, test_recall, test_precision]\n",
    "})\n",
    "\n",
    "df_overfit = df_overfit.melt(id_vars=\"Metric\", var_name=\"Set\", value_name=\"Score\")\n",
    "\n",
    "# --- Plot ---\n",
    "plt.figure(figsize=(8, 6))\n",
    "ax = sns.barplot(data=df_overfit, x=\"Metric\", y=\"Score\", hue=\"Set\", palette=[\"skyblue\", \"salmon\"])\n",
    "for p in ax.patches:\n",
    "    height = p.get_height()\n",
    "    if not np.isnan(height):\n",
    "        ax.text(\n",
    "            p.get_x() + p.get_width() / 2.,\n",
    "            height + 0.01,\n",
    "            f'{height:.2f}',\n",
    "            ha=\"center\", va=\"bottom\"\n",
    "        )\n",
    "plt.title(\"Train vs Test Metrics (Overfitting Check)\")\n",
    "plt.ylim(0, 1.05)\n",
    "plt.ylabel(\"Score\")\n",
    "plt.tight_layout()\n",
    "plt.grid(False)\n",
    "plt.show()"
   ]
  },
  {
   "cell_type": "markdown",
   "id": "e803793f",
   "metadata": {},
   "source": [
    "### 2.3 Save Model"
   ]
  },
  {
   "cell_type": "code",
   "execution_count": 50,
   "id": "104379f0",
   "metadata": {},
   "outputs": [
    {
     "data": {
      "text/plain": [
       "['IsolationForest_with_params.joblib']"
      ]
     },
     "execution_count": 50,
     "metadata": {},
     "output_type": "execute_result"
    }
   ],
   "source": [
    "# 1. Save full pipeline with all preprocessing steps\n",
    "full_pipeline = Pipeline([\n",
    "    ('scaler', StandardScaler()),\n",
    "    ('select_kbest', SelectKBest(score_func=f_classif, k=10)),\n",
    "    ('pca', PCA(n_components=5)),\n",
    "    ('isolation_forest', IsolationForest(**best_params, random_state=42))\n",
    "])\n",
    "\n",
    "# Prepare data for fitting\n",
    "X = df_train.drop(['first', 'last', 'street', 'trans_date_trans_time', 'dob', 'trans_num', 'dob', 'is_fraud'], axis=1)\n",
    "y = df_train['is_fraud']\n",
    "\n",
    "# Fit and save pipeline\n",
    "full_pipeline.fit(X, y)\n",
    "joblib.dump(full_pipeline, \"full_pipeline_isolation_forest.joblib\")\n",
    "\n",
    "# 2. Save best parameters\n",
    "with open(\"params_IsolationForest_fromOptuna.json\", \"w\") as f:\n",
    "    json.dump(best_params, f)\n",
    "\n",
    "# 3. Save model with parameters\n",
    "save_dict = {\n",
    "    \"pipeline\": full_pipeline,\n",
    "    \"params\": best_params\n",
    "}\n",
    "joblib.dump(save_dict, \"IsolationForest_with_params.joblib\")"
   ]
  },
  {
   "cell_type": "markdown",
   "id": "42f30010",
   "metadata": {},
   "source": [
    "# Model Testing"
   ]
  },
  {
   "cell_type": "code",
   "execution_count": 54,
   "id": "f63ba8e0",
   "metadata": {},
   "outputs": [],
   "source": [
    "df = pd.read_csv(\"/Users/thanyalak/Desktop/y_lims/DADS4/9000_IS_FraudDetection/repos/Credit_Card_Fraud_Detection/data/fraudTest_cleaned.csv\", index_col=0)\n",
    "loaded_pipeline = joblib.load(\"/Users/thanyalak/Desktop/y_lims/DADS4/9000_IS_FraudDetection/repos/Credit_Card_Fraud_Detection/ml_training/single_sequential_version/models/AnomalyDetection/full_pipeline_isolation_forest.joblib\")"
   ]
  },
  {
   "cell_type": "code",
   "execution_count": 57,
   "id": "b561f3fb",
   "metadata": {},
   "outputs": [],
   "source": [
    "# Random sample for testing\n",
    "# sample_df = df.sample(n=50, random_state=42).copy()\n",
    "sample_df = df.sample(100).copy()\n",
    "X_sample = sample_df.drop(['first', 'last', 'street', 'trans_date_trans_time', 'dob', 'trans_num', 'dob', 'is_fraud'], axis=1)"
   ]
  },
  {
   "cell_type": "code",
   "execution_count": 68,
   "id": "a6fdba5d",
   "metadata": {},
   "outputs": [],
   "source": [
    "predictions = loaded_pipeline.predict(X_sample)\n",
    "predicted_result = (predictions == -1).astype(int) # 1 = fraud, 0 = normal"
   ]
  },
  {
   "cell_type": "code",
   "execution_count": 70,
   "id": "35f2c4df",
   "metadata": {},
   "outputs": [
    {
     "data": {
      "text/html": [
       "<div>\n",
       "<style scoped>\n",
       "    .dataframe tbody tr th:only-of-type {\n",
       "        vertical-align: middle;\n",
       "    }\n",
       "\n",
       "    .dataframe tbody tr th {\n",
       "        vertical-align: top;\n",
       "    }\n",
       "\n",
       "    .dataframe thead th {\n",
       "        text-align: right;\n",
       "    }\n",
       "</style>\n",
       "<table border=\"1\" class=\"dataframe\">\n",
       "  <thead>\n",
       "    <tr style=\"text-align: right;\">\n",
       "      <th></th>\n",
       "      <th>trans_date_trans_time</th>\n",
       "      <th>trans_num</th>\n",
       "      <th>cc_num</th>\n",
       "      <th>first</th>\n",
       "      <th>last</th>\n",
       "      <th>merchant</th>\n",
       "      <th>amt</th>\n",
       "      <th>is_fraud</th>\n",
       "      <th>predicted_result</th>\n",
       "      <th>fraud_probability</th>\n",
       "    </tr>\n",
       "  </thead>\n",
       "  <tbody>\n",
       "    <tr>\n",
       "      <th>0</th>\n",
       "      <td>2020-12-05 20:52:33</td>\n",
       "      <td>77ce4befdc50ac2e2784f27c7080a55a</td>\n",
       "      <td>3538520143479972</td>\n",
       "      <td>Cassandra</td>\n",
       "      <td>Nunez</td>\n",
       "      <td>15</td>\n",
       "      <td>4.39</td>\n",
       "      <td>0</td>\n",
       "      <td>0</td>\n",
       "      <td>0.646545</td>\n",
       "    </tr>\n",
       "    <tr>\n",
       "      <th>1</th>\n",
       "      <td>2020-07-14 18:02:37</td>\n",
       "      <td>9c5128b9bf3f2261243e96c591ce60b3</td>\n",
       "      <td>3565423334076143</td>\n",
       "      <td>Nathan</td>\n",
       "      <td>Thomas</td>\n",
       "      <td>455</td>\n",
       "      <td>171.79</td>\n",
       "      <td>0</td>\n",
       "      <td>0</td>\n",
       "      <td>0.213439</td>\n",
       "    </tr>\n",
       "    <tr>\n",
       "      <th>2</th>\n",
       "      <td>2020-12-11 03:01:27</td>\n",
       "      <td>36c1ada0e02efac9950960dad8953251</td>\n",
       "      <td>371284424780634</td>\n",
       "      <td>Jeremy</td>\n",
       "      <td>Moore</td>\n",
       "      <td>534</td>\n",
       "      <td>110.38</td>\n",
       "      <td>0</td>\n",
       "      <td>0</td>\n",
       "      <td>0.084545</td>\n",
       "    </tr>\n",
       "    <tr>\n",
       "      <th>3</th>\n",
       "      <td>2020-08-18 04:40:17</td>\n",
       "      <td>790839164fb8e8a99f315c17ab0e84a6</td>\n",
       "      <td>6528911529051375</td>\n",
       "      <td>Diane</td>\n",
       "      <td>Smith</td>\n",
       "      <td>20</td>\n",
       "      <td>111.82</td>\n",
       "      <td>0</td>\n",
       "      <td>0</td>\n",
       "      <td>0.476328</td>\n",
       "    </tr>\n",
       "    <tr>\n",
       "      <th>4</th>\n",
       "      <td>2020-06-30 15:40:56</td>\n",
       "      <td>fd51fc06b70e8c1fddd6e4c54d6d90ee</td>\n",
       "      <td>343464013864032</td>\n",
       "      <td>Jodi</td>\n",
       "      <td>Foster</td>\n",
       "      <td>667</td>\n",
       "      <td>153.27</td>\n",
       "      <td>0</td>\n",
       "      <td>0</td>\n",
       "      <td>0.203193</td>\n",
       "    </tr>\n",
       "    <tr>\n",
       "      <th>...</th>\n",
       "      <td>...</td>\n",
       "      <td>...</td>\n",
       "      <td>...</td>\n",
       "      <td>...</td>\n",
       "      <td>...</td>\n",
       "      <td>...</td>\n",
       "      <td>...</td>\n",
       "      <td>...</td>\n",
       "      <td>...</td>\n",
       "      <td>...</td>\n",
       "    </tr>\n",
       "    <tr>\n",
       "      <th>95</th>\n",
       "      <td>2020-10-09 14:51:39</td>\n",
       "      <td>5a33b43f16bc1737775979146b9c8359</td>\n",
       "      <td>372509258176510</td>\n",
       "      <td>Kristen</td>\n",
       "      <td>Hanson</td>\n",
       "      <td>540</td>\n",
       "      <td>10.04</td>\n",
       "      <td>0</td>\n",
       "      <td>0</td>\n",
       "      <td>0.663250</td>\n",
       "    </tr>\n",
       "    <tr>\n",
       "      <th>96</th>\n",
       "      <td>2020-07-28 13:28:25</td>\n",
       "      <td>bf505e529f73bb1d4904d4941f5900cd</td>\n",
       "      <td>3589255887819806</td>\n",
       "      <td>David</td>\n",
       "      <td>Miller</td>\n",
       "      <td>132</td>\n",
       "      <td>77.29</td>\n",
       "      <td>0</td>\n",
       "      <td>0</td>\n",
       "      <td>0.546352</td>\n",
       "    </tr>\n",
       "    <tr>\n",
       "      <th>97</th>\n",
       "      <td>2020-06-24 01:15:42</td>\n",
       "      <td>28ca69ab61e48441f28dbb31a22dc355</td>\n",
       "      <td>3552581383553463</td>\n",
       "      <td>Jonathan</td>\n",
       "      <td>Castro</td>\n",
       "      <td>133</td>\n",
       "      <td>7.06</td>\n",
       "      <td>0</td>\n",
       "      <td>0</td>\n",
       "      <td>0.049093</td>\n",
       "    </tr>\n",
       "    <tr>\n",
       "      <th>98</th>\n",
       "      <td>2020-09-07 12:05:41</td>\n",
       "      <td>ef35e5492be49804c6de7cd966d38247</td>\n",
       "      <td>3541160328600277</td>\n",
       "      <td>Jason</td>\n",
       "      <td>Singh</td>\n",
       "      <td>581</td>\n",
       "      <td>36.81</td>\n",
       "      <td>0</td>\n",
       "      <td>0</td>\n",
       "      <td>0.614996</td>\n",
       "    </tr>\n",
       "    <tr>\n",
       "      <th>99</th>\n",
       "      <td>2020-07-22 03:30:54</td>\n",
       "      <td>58b160963ce67ba771ba04e01d80f2d2</td>\n",
       "      <td>4586260469584</td>\n",
       "      <td>Melody</td>\n",
       "      <td>Thompson</td>\n",
       "      <td>157</td>\n",
       "      <td>56.22</td>\n",
       "      <td>0</td>\n",
       "      <td>0</td>\n",
       "      <td>0.000000</td>\n",
       "    </tr>\n",
       "  </tbody>\n",
       "</table>\n",
       "<p>100 rows × 10 columns</p>\n",
       "</div>"
      ],
      "text/plain": [
       "   trans_date_trans_time                         trans_num            cc_num  \\\n",
       "0    2020-12-05 20:52:33  77ce4befdc50ac2e2784f27c7080a55a  3538520143479972   \n",
       "1    2020-07-14 18:02:37  9c5128b9bf3f2261243e96c591ce60b3  3565423334076143   \n",
       "2    2020-12-11 03:01:27  36c1ada0e02efac9950960dad8953251   371284424780634   \n",
       "3    2020-08-18 04:40:17  790839164fb8e8a99f315c17ab0e84a6  6528911529051375   \n",
       "4    2020-06-30 15:40:56  fd51fc06b70e8c1fddd6e4c54d6d90ee   343464013864032   \n",
       "..                   ...                               ...               ...   \n",
       "95   2020-10-09 14:51:39  5a33b43f16bc1737775979146b9c8359   372509258176510   \n",
       "96   2020-07-28 13:28:25  bf505e529f73bb1d4904d4941f5900cd  3589255887819806   \n",
       "97   2020-06-24 01:15:42  28ca69ab61e48441f28dbb31a22dc355  3552581383553463   \n",
       "98   2020-09-07 12:05:41  ef35e5492be49804c6de7cd966d38247  3541160328600277   \n",
       "99   2020-07-22 03:30:54  58b160963ce67ba771ba04e01d80f2d2     4586260469584   \n",
       "\n",
       "        first      last  merchant     amt  is_fraud  predicted_result  \\\n",
       "0   Cassandra     Nunez        15    4.39         0                 0   \n",
       "1      Nathan    Thomas       455  171.79         0                 0   \n",
       "2      Jeremy     Moore       534  110.38         0                 0   \n",
       "3       Diane     Smith        20  111.82         0                 0   \n",
       "4        Jodi    Foster       667  153.27         0                 0   \n",
       "..        ...       ...       ...     ...       ...               ...   \n",
       "95    Kristen    Hanson       540   10.04         0                 0   \n",
       "96      David    Miller       132   77.29         0                 0   \n",
       "97   Jonathan    Castro       133    7.06         0                 0   \n",
       "98      Jason     Singh       581   36.81         0                 0   \n",
       "99     Melody  Thompson       157   56.22         0                 0   \n",
       "\n",
       "    fraud_probability  \n",
       "0            0.646545  \n",
       "1            0.213439  \n",
       "2            0.084545  \n",
       "3            0.476328  \n",
       "4            0.203193  \n",
       "..                ...  \n",
       "95           0.663250  \n",
       "96           0.546352  \n",
       "97           0.049093  \n",
       "98           0.614996  \n",
       "99           0.000000  \n",
       "\n",
       "[100 rows x 10 columns]"
      ]
     },
     "metadata": {},
     "output_type": "display_data"
    }
   ],
   "source": [
    "# Calculate fraud probability (normalize anomaly score to 0-1)\n",
    "anomaly_score = loaded_pipeline.decision_function(X_sample)\n",
    "fraud_probability = (anomaly_score.max() - anomaly_score) / (anomaly_score.max() - anomaly_score.min())\n",
    "\n",
    "# Add predictions and fraud probability to sample_df\n",
    "sample_df['predicted_result'] = predicted_result\n",
    "sample_df['fraud_probability'] = fraud_probability\n",
    "\n",
    "# Select columns to display\n",
    "columns_to_show = [\n",
    "    'trans_date_trans_time', 'trans_num', 'cc_num',  'first', 'last', 'merchant', 'amt',\n",
    "    'is_fraud', 'predicted_result', 'fraud_probability'\n",
    "]\n",
    "display(sample_df[columns_to_show].reset_index(drop=True))"
   ]
  }
 ],
 "metadata": {
  "kernelspec": {
   "display_name": "Python 3",
   "language": "python",
   "name": "python3"
  },
  "language_info": {
   "codemirror_mode": {
    "name": "ipython",
    "version": 3
   },
   "file_extension": ".py",
   "mimetype": "text/x-python",
   "name": "python",
   "nbconvert_exporter": "python",
   "pygments_lexer": "ipython3",
   "version": "3.11.4"
  }
 },
 "nbformat": 4,
 "nbformat_minor": 5
}
